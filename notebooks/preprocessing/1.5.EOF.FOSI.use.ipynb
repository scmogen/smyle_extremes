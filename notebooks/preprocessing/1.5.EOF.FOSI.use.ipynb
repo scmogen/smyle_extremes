{
 "cells": [
  {
   "cell_type": "markdown",
   "id": "f4de49e7-6c45-4d98-bbf7-ac611218646d",
   "metadata": {},
   "source": [
    "# EOF analysis of Eq. Pac. in CESM SMYLE FOSI"
   ]
  },
  {
   "cell_type": "code",
   "execution_count": null,
   "id": "6c704b0a-e55e-4098-a37a-67fa641d4d2c",
   "metadata": {},
   "outputs": [],
   "source": [
    "### GENERAL SETUP\n",
    "%matplotlib inline  \n",
    "# this enables plotting within notebook\n",
    "\n",
    "#import modules\n",
    "import numpy as np\n",
    "import pandas as pd\n",
    "import matplotlib.pyplot as plt\n",
    "import xarray as xr\n",
    "import numpy as np   # basic math library  you will type np.$STUFF  e.g., np.cos(1)\n",
    "import numpy.linalg as LA\n",
    "from matplotlib.gridspec import GridSpec\n",
    "import timeit\n",
    "import cartopy.crs as ccrs\n",
    "import datetime\n",
    "import scipy.stats as stats # imports stats functions https://docs.scipy.org/doc/scipy/reference/stats.html\n",
    "import cartopy.feature as cfeature"
   ]
  },
  {
   "cell_type": "code",
   "execution_count": null,
   "id": "9a8f820f-b032-4867-9d7d-748b6ff3106f",
   "metadata": {},
   "outputs": [],
   "source": [
    "var = \"omega_residual\"\n",
    "depth = \"surface\"\n",
    "time = \"monthly\"\n",
    "\n",
    "# open the data!\n",
    "ds = xr.open_dataset('/glade/work/smogen/SMYLE-extremes/FOSI/'+ var +'.' + time + '.' + depth + '.detrend.regrid.nc')[var]\n",
    "ds['time'] = pd.date_range(\"1958-01\", \"2020-12\", freq=\"MS\")\n",
    "\n",
    "# ds = 10**(- ds)\n",
    "# var = 'H'\n",
    "# center this bad boy on the Pacific\n",
    "ds = ds.roll(lon=180,roll_coords=True)\n",
    "ds['lon'] = np.arange(0.5,360.5,1)"
   ]
  },
  {
   "cell_type": "code",
   "execution_count": null,
   "id": "be13362f-4c75-4925-9de3-24bd26a0cead",
   "metadata": {},
   "outputs": [],
   "source": [
    "# select the equatorial pacific\n",
    "ds = ds.sel(lat=slice(-30,30),lon=slice(140,280))\n",
    "\n",
    "# remove zeroes from the continent\n",
    "# ds = ds.where(ds > 0)"
   ]
  },
  {
   "cell_type": "code",
   "execution_count": null,
   "id": "aea8f81d-d2f0-499d-8410-1e674ff9fcd7",
   "metadata": {},
   "outputs": [],
   "source": [
    "f, ax = plt.subplots(1,2,figsize=(12,3),subplot_kw=dict(projection=ccrs.PlateCarree(central_longitude=180)))\n",
    "\n",
    "ds.mean('time').plot(ax = ax[0],cmap='Reds_r',transform = ccrs.PlateCarree())\n",
    "ax[0].set_title('Mean State: ' + var)\n",
    "ax[0].add_feature(cfeature.LAND, color='k', zorder=3)\n",
    "\n",
    "ds.std('time').plot(ax = ax[1],transform = ccrs.PlateCarree())\n",
    "ax[1].set_title('Temporal Standard Deviation: ' + var)\n",
    "ax[1].add_feature(cfeature.LAND, color='k', zorder=3)\n",
    "\n",
    "# f.savefig('./figures_variance/' + var + '.mean.std.pdf')"
   ]
  },
  {
   "cell_type": "code",
   "execution_count": null,
   "id": "f2f60642-b68b-43bc-beeb-ecdfcd2f2a78",
   "metadata": {},
   "outputs": [],
   "source": [
    "# remove the seasonal cycle\n",
    "clim = ds.groupby('time.month').mean()\n",
    "ds_anom = ds.groupby('time.month') - clim"
   ]
  },
  {
   "cell_type": "code",
   "execution_count": null,
   "id": "cacfab66-faf8-485e-ba05-6a5c10d9ee67",
   "metadata": {},
   "outputs": [],
   "source": [
    "# replace NaNs with zero!\n",
    "ds_anom = ds_anom.where(np.isnan(ds_anom) == False, 0)"
   ]
  },
  {
   "cell_type": "code",
   "execution_count": null,
   "id": "75bf5099-f5fb-4b1f-9477-401133206572",
   "metadata": {},
   "outputs": [],
   "source": [
    "ds_anom_std = ds_anom / ds_anom.std('time')"
   ]
  },
  {
   "cell_type": "code",
   "execution_count": null,
   "id": "5aa5e1cb-2d61-4c58-ba2b-42c6a727f2e3",
   "metadata": {},
   "outputs": [],
   "source": [
    "ds_anom_std = ds_anom_std.where(np.isnan(ds_anom_std) == False, 0)"
   ]
  },
  {
   "cell_type": "code",
   "execution_count": null,
   "id": "d49ad92e-95f3-4c6c-bf88-9a030eb8b251",
   "metadata": {},
   "outputs": [],
   "source": [
    "time, lon, lat = ds_anom.time, ds_anom.lon, ds_anom.lat"
   ]
  },
  {
   "cell_type": "code",
   "execution_count": null,
   "id": "ec6b8628-d1c1-4f52-a08f-14adecafae26",
   "metadata": {},
   "outputs": [],
   "source": [
    "# Prep data\n",
    "# Y_stand = standardized data, dimensioned (time,location)\n",
    "# Y = original data, dimensioned (time,location)\n",
    "# everything below in the code assumes that you have Y_stand, Y defined as above\n",
    "\n",
    "#flatten the lat,lon in the array so that you have an array dimensioned (time,location)\n",
    "a,b,c = np.shape(ds_anom.values)  ## have axis sizes for later (a, b, c)\n",
    "Y_stand = ds_anom_std.values.reshape(a, b*c);\n",
    "Y = ds_anom.values.reshape(a, b*c);\n",
    "print(a,b,c)\n",
    "print(np.shape(Y_stand))\n",
    "print(np.shape(Y))"
   ]
  },
  {
   "cell_type": "code",
   "execution_count": null,
   "id": "d1e23a57-21a4-4020-84fe-bd87966db57a",
   "metadata": {},
   "outputs": [],
   "source": [
    "# plot the standardized and original time series for one location -- Look at your data!!\n",
    "f=plt.figure(figsize=(16,4))\n",
    "gs=GridSpec(1,2)\n",
    "plt.subplot(gs[0,0]);\n",
    "plt.plot(Y_stand[:,4012],label='standardized',color='black');\n",
    "plt.legend();\n",
    "plt.subplot(gs[0,1]);\n",
    "plt.plot(ds.values.reshape(a,b*c)[:,4012],label='original',color='red');\n",
    "plt.legend();"
   ]
  },
  {
   "cell_type": "code",
   "execution_count": null,
   "id": "f3ad8ed4-6d44-4cb3-b90d-ac539e7d6d94",
   "metadata": {},
   "outputs": [],
   "source": [
    "# Calculate EOFs\n",
    "start_time = timeit.default_timer()\n",
    "u,s,v=LA.svd(Y_stand)  ## Barnes Chapter 3 Equation (65)\n",
    "elapsed = timeit.default_timer() - start_time\n",
    "print('Time elapsed in LA SVD method: ',elapsed,' seconds')"
   ]
  },
  {
   "cell_type": "markdown",
   "id": "44243445-ae38-42b0-b1c1-820bc482418b",
   "metadata": {
    "tags": []
   },
   "source": [
    "### What percent of variance is explained by the top 5 EOFs?"
   ]
  },
  {
   "cell_type": "code",
   "execution_count": null,
   "id": "3c7a5f2b-4433-4930-af05-46f782c6866d",
   "metadata": {},
   "outputs": [],
   "source": [
    "Nstar = np.size(Y_stand,axis = 0) ## assume all data is independent (not a great assumption, how do we do better?)\n",
    "print(Nstar)\n",
    "###  could for example - find the effective sample size using the average of all data\n",
    "###  Caution: Use the data that went into the EOF analysis for this calculation, not the original data...\n",
    "tseries=np.nanmean(np.nanmean(ds_anom_std,axis=2),axis=1)  ## warning from land nans, ignore it!\n",
    "print(np.shape(tseries))\n",
    "sigma=np.std(tseries)  ## calculate the standard deviation\n",
    "mean=np.mean(tseries)  ## calculate the mean\n",
    "N=len(tseries)         ## calculate the length of the timeseries\n",
    "lag=1\n",
    "t1_m=tseries[0:-1*lag]-mean\n",
    "t2_m=tseries[lag:]-mean\n",
    "alpha=np.correlate(t1_m,t2_m,mode='valid')/(N-lag)/(sigma**2)"
   ]
  },
  {
   "cell_type": "code",
   "execution_count": null,
   "id": "8f62d81e-a298-4e98-ad04-08d9d4fc4b9f",
   "metadata": {},
   "outputs": [],
   "source": [
    "# convert eigenvalues to percent variance explained\n",
    "pve2 = 100.*np.abs(s**2)/np.sum(np.abs(s**2))\n",
    "##print(pve2[0:10]-pve[0:10])\n",
    "\n",
    "f=plt.figure()\n",
    "plt.plot(np.arange(1,len(pve2)+1),pve2,label='svd')\n",
    "plt.ylim([1,50])\n",
    "plt.xlim([0.9,10])\n",
    "plt.ylabel('Percent Variance Explained')\n",
    "plt.xlabel('Eigenvalue')\n",
    "plt.legend()\n",
    "\n",
    "Nstar = np.size(Y_stand,axis = 0) ## assume all data is independent (not a great assumption, how do we do better?)\n",
    "print(Nstar)\n",
    "\n",
    "Nstar=np.round((1-alpha)/(1+alpha)*N,0)\n",
    "eb = pve2*np.sqrt(2./Nstar)  ## North 1982, Barnes Chapter 3 Equation 80\n",
    "plt.errorbar(np.arange(1,np.size(pve2)+1.),pve2,yerr = eb/2, xerr = None, linewidth = 1, color = 'black');\n",
    "\n",
    "f.savefig('./figures_variance/' + var + '.variance.explained.pdf')"
   ]
  },
  {
   "cell_type": "code",
   "execution_count": null,
   "id": "bab7e2f3-de77-4017-a2ff-6c7b229dee1b",
   "metadata": {},
   "outputs": [],
   "source": [
    "for i in range(1,11):\n",
    "    print('With ' + str(i) + ' EOFs, this is how much variance is explained: ' + str(np.round(np.sum(pve2[0:i]),3)))"
   ]
  },
  {
   "cell_type": "markdown",
   "id": "9091c2a6-d7f5-440a-b625-360c1ba91728",
   "metadata": {
    "tags": []
   },
   "source": [
    "## plot in physical units"
   ]
  },
  {
   "cell_type": "code",
   "execution_count": null,
   "id": "4cef251c-3c56-4e81-b344-7fcbca1bc574",
   "metadata": {},
   "outputs": [],
   "source": [
    "# Nino3.4\n",
    "ds = xr.open_dataset('/glade/work/smogen/SMYLE-extremes/FOSI/TEMP.monthly.surface.regrid.nc')['TEMP']\n",
    "ds['time'] = pd.date_range(\"1958-01\", \"2020-12\", freq=\"MS\")\n",
    "ds = ds.sel(lat=slice(-5,5),lon=slice(210 - 360,270 - 360))\n",
    "ds = ds.weighted(np.cos(np.deg2rad(ds.lat))).mean(dim=('lat','lon'))\n",
    "ds = ds.groupby('time.month') - ds.groupby('time.month').mean()"
   ]
  },
  {
   "cell_type": "code",
   "execution_count": null,
   "id": "cd998003-6e2e-4ad9-bb5c-30535982edcf",
   "metadata": {},
   "outputs": [],
   "source": [
    "eof_num = 1\n",
    "e1_svd = (v[eof_num-1,:]).reshape(b,c)\n",
    "z1_svd = u[:,eof_num-1]*(s[eof_num-1]); z1_svd = (z1_svd-np.mean(z1_svd))/np.std(z1_svd)  \n",
    "\n",
    "d1 = (1./np.size(Y,axis=0))*np.dot(np.transpose(z1_svd),Y)   ## Barnes Chapter 3 Equation (79)\n",
    "d1plot = d1.reshape(b,c)  ### this is the reshaped eigenvector to plot"
   ]
  },
  {
   "cell_type": "code",
   "execution_count": null,
   "id": "59a12521-4c62-42c2-bb2c-cb4f36658caf",
   "metadata": {
    "tags": []
   },
   "outputs": [],
   "source": [
    "i = 0\n",
    "eof_num = i + 1\n",
    "z1_svd1 = u[:,eof_num-1]*(s[eof_num-1]); z1_svd1 = (z1_svd1-np.mean(z1_svd1))/np.std(z1_svd1) \n",
    "d1 = (1./np.size(Y,axis=0))*np.dot(np.transpose(z1_svd1),Y)   ## Barnes Chapter 3 Equation (79)\n",
    "d1plot1 = d1.reshape(b,c)  ### this is the reshaped eigenvector to plo\n",
    "\n",
    "eof_num = i + 2\n",
    "z1_svd2 = u[:,eof_num-1]*(s[eof_num-1]); z1_svd2 = (z1_svd2-np.mean(z1_svd2))/np.std(z1_svd2) \n",
    "d1 = (1./np.size(Y,axis=0))*np.dot(np.transpose(z1_svd2),Y)   ## Barnes Chapter 3 Equation (79)\n",
    "d1plot2 = d1.reshape(b,c)  ### this is the reshaped eigenvector to plo\n",
    "\n",
    "eof_num = i + 3\n",
    "z1_svd3 = u[:,eof_num-1]*(s[eof_num-1]); z1_svd3 = (z1_svd3-np.mean(z1_svd3))/np.std(z1_svd3) \n",
    "d1 = (1./np.size(Y,axis=0))*np.dot(np.transpose(z1_svd3),Y)   ## Barnes Chapter 3 Equation (79)\n",
    "d1plot3 = d1.reshape(b,c)  ### this is the reshaped eigenvector to plo\n",
    "\n",
    "eof_num = i + 4\n",
    "z1_svd4 = u[:,eof_num-1]*(s[eof_num-1]); z1_svd4 = (z1_svd4-np.mean(z1_svd4))/np.std(z1_svd4) \n",
    "d1 = (1./np.size(Y,axis=0))*np.dot(np.transpose(z1_svd4),Y)   ## Barnes Chapter 3 Equation (79)\n",
    "d1plot4 = d1.reshape(b,c)  ### this is the reshaped eigenvector to plo\n",
    "\n",
    "eof_num = i + 5\n",
    "z1_svd5 = u[:,eof_num-1]*(s[eof_num-1]); z1_svd5 = (z1_svd5-np.mean(z1_svd5))/np.std(z1_svd5) \n",
    "d1 = (1./np.size(Y,axis=0))*np.dot(np.transpose(z1_svd5),Y)   ## Barnes Chapter 3 Equation (79)\n",
    "d1plot5 = d1.reshape(b,c)  ### this is the reshaped eigenvector to plo\n",
    "\n",
    "tmp = xr.DataArray([z1_svd1,z1_svd2,z1_svd3,z1_svd4,z1_svd5],dims=['number','time'])\n",
    "tmp['number'] = tmp['number'] + 1; tmp['time'] = ds['time']\n",
    "tmp.to_netcdf('./eof/' + var + '.principal_components.detrend.nc')\n",
    "\n",
    "tmp_eof = xr.DataArray([d1plot1,d1plot2,d1plot3,d1plot4,d1plot5],dims=['number','lat', 'lon'])\n",
    "tmp_eof['number'] = tmp_eof['number'] + 1; tmp_eof['lon'] = lon; tmp_eof['lat'] = lat\n",
    "tmp_eof.to_netcdf('./eof/' + var + '.EOFs.detrend.nc')\n"
   ]
  },
  {
   "cell_type": "code",
   "execution_count": null,
   "id": "743f8b19-8d32-418d-9a68-fa626c85cfa1",
   "metadata": {},
   "outputs": [],
   "source": [
    "plt.plot(z1_svd1)\n",
    "plt.plot(z1_svd2)"
   ]
  }
 ],
 "metadata": {
  "kernelspec": {
   "display_name": "Python [conda env:.conda-smyle-analysis-2]",
   "language": "python",
   "name": "conda-env-.conda-smyle-analysis-2-py"
  },
  "language_info": {
   "codemirror_mode": {
    "name": "ipython",
    "version": 3
   },
   "file_extension": ".py",
   "mimetype": "text/x-python",
   "name": "python",
   "nbconvert_exporter": "python",
   "pygments_lexer": "ipython3",
   "version": "3.8.0"
  }
 },
 "nbformat": 4,
 "nbformat_minor": 5
}
