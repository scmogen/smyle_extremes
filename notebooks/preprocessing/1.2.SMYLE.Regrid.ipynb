{
 "cells": [
  {
   "cell_type": "markdown",
   "id": "e4446dc9-c96e-4b62-a515-c7b2ecce78b4",
   "metadata": {},
   "source": [
    "# 1.2: Regrid CESM-SMYLE with xESMF"
   ]
  },
  {
   "cell_type": "code",
   "execution_count": null,
   "id": "8f096300-94a2-41c7-a791-27692ac85c8d",
   "metadata": {},
   "outputs": [],
   "source": [
    "# packages\n",
    "%load_ext autoreload\n",
    "%autoreload 2\n",
    "import xarray as xr \n",
    "import numpy as np  \n",
    "import cftime\n",
    "import copy\n",
    "import scipy.stats\n",
    "from scipy import signal\n",
    "from functools import partial\n",
    "import glob\n",
    "import dask\n",
    "import pandas as pd\n",
    "import matplotlib.pyplot as plt\n",
    "%matplotlib inline\n",
    "\n",
    "# SMYLE Utility functions\n",
    "from SMYLEutils import io_utils as io\n",
    "from SMYLEutils import calendar_utils as cal\n",
    "from SMYLEutils import stat_utils as stat"
   ]
  },
  {
   "cell_type": "markdown",
   "id": "e0659c73-62c7-47fb-92d2-78730873377a",
   "metadata": {},
   "source": [
    "## select data ofinterest"
   ]
  },
  {
   "cell_type": "code",
   "execution_count": null,
   "id": "3cced954-7eb2-45e9-8b93-4f2b75fa0bcb",
   "metadata": {},
   "outputs": [],
   "source": [
    "var = 'co3_sat_arag' # 'omega_arag', 'PH', 'pCO2SURF', 'DIC', 'SALT', 'TEMP', 'ALK', 'pH_3D', 'photoC_TOT_zint_100m'\n",
    "init = '11' # '02','05', '08', '11'\n",
    "depth = 'surface' # '100m', '300m', '1000m'\n",
    "time = 'monthly'"
   ]
  },
  {
   "cell_type": "code",
   "execution_count": null,
   "id": "76a84794-f9a5-4644-9c89-8b0d797cb8eb",
   "metadata": {},
   "outputs": [],
   "source": [
    "# # FOSI\n",
    "# fosi = xr.open_dataset('/glade/campaign/cesm/development/espwg/SMYLE/initial_conditions/SMYLE-FOSI/ocn/proc/tseries/month_1/g.e22.GOMIPECOIAF_JRA-1p4-2018.TL319_g17.SMYLE.005.pop.h.' + var + '.030601-036812.nc')[var]\n",
    "# fosi = xr.open_dataset('/glade/work/smogen/SMYLE-extremes/FOSI/'+ var +'.monthly.surface.regrid.nc')\n",
    "# fosi = fosi.sel(z_t=0,method='nearest')"
   ]
  },
  {
   "cell_type": "code",
   "execution_count": null,
   "id": "e1f6d79d-2a14-44cf-9fcb-19328ca3076f",
   "metadata": {},
   "outputs": [],
   "source": [
    "# SMYLE\n",
    "# smyle = xr.open_dataset('/glade/derecho/scratch/smogen/SMYLE-Extreme/' + var + '.month.' + depth + '.' + init + '.nc')\n",
    "# smyle = xr.open_dataset('/glade/scratch/smogen/SMYLE-Extreme/' + var + '.monthly.' + depth + '.live11.nc')\n",
    "smyle = xr.open_dataset('/glade/derecho/scratch/smogen/SMYLE-Extreme/' + var + '.monthly.' + depth + '.live11.update.new_run.nc')"
   ]
  },
  {
   "cell_type": "code",
   "execution_count": null,
   "id": "3c2c8925-1da0-4065-888f-5a756f1eb311",
   "metadata": {},
   "outputs": [],
   "source": [
    "ds = smyle # smyle or fosi\n",
    "\n",
    "ds = ds.drop('ULONG')\n",
    "ds = ds.drop('ULAT')"
   ]
  },
  {
   "cell_type": "markdown",
   "id": "dccaf1fd-3b05-4032-870e-535daea3767a",
   "metadata": {},
   "source": [
    "## Regrid"
   ]
  },
  {
   "cell_type": "code",
   "execution_count": null,
   "id": "44df7b23-f69c-4b08-bb01-19b35654bbd6",
   "metadata": {},
   "outputs": [],
   "source": [
    "import xesmf as xe\n",
    "\n",
    "from platform import python_version\n",
    "print(xe.__version__)"
   ]
  },
  {
   "cell_type": "code",
   "execution_count": null,
   "id": "8bbc61dc-3b93-4a2b-8924-ec0981aaeb6d",
   "metadata": {},
   "outputs": [],
   "source": [
    "obs = xr.open_dataset('/glade/work/smogen/SMYLE-extremes/OceanSODA-ETHZ_GRaCER_v2021a_1982-2020.nc')"
   ]
  },
  {
   "cell_type": "code",
   "execution_count": null,
   "id": "435ed497-7132-47e6-99fd-4c350d7aafb4",
   "metadata": {},
   "outputs": [],
   "source": [
    "regridder_smyle = xe.Regridder(ds, obs, 'bilinear', periodic=True)"
   ]
  },
  {
   "cell_type": "code",
   "execution_count": null,
   "id": "326a9c83-63e3-494e-9198-ef9824253bd1",
   "metadata": {},
   "outputs": [],
   "source": [
    "regridder_smyle"
   ]
  },
  {
   "cell_type": "code",
   "execution_count": null,
   "id": "51ce4c81-db8e-40da-8165-f7d15a313e15",
   "metadata": {},
   "outputs": [],
   "source": [
    "%%time\n",
    "ds_rg = regridder_smyle(ds)"
   ]
  },
  {
   "cell_type": "code",
   "execution_count": null,
   "id": "f12dd947-39ad-46d4-95da-0c34c96885c1",
   "metadata": {},
   "outputs": [],
   "source": [
    "# size of the dataset\n",
    "print(ds_rg.nbytes / 1e9) # GB\n",
    "print(ds.nbytes / 1e9) # GB"
   ]
  },
  {
   "cell_type": "markdown",
   "id": "dea2db71-1ef5-423e-a087-8d234978366a",
   "metadata": {},
   "source": [
    "## save out the netCDF"
   ]
  },
  {
   "cell_type": "code",
   "execution_count": null,
   "id": "6c172b56-6226-4163-b5c6-0f847747b23c",
   "metadata": {},
   "outputs": [],
   "source": [
    "# ds_rg.to_netcdf('/glade/derecho/scratch/smogen/SMYLE-Extreme/'+ var +'.' + time + '.' + depth + '.' + init + '.regrid.nc')\n",
    "ds_rg.to_netcdf('/glade/derecho/scratch/smogen/SMYLE-Extreme/'+ var +'.' + time + '.' + depth + '.live11.regrid.update.new_run.nc')\n",
    "\n",
    "# ds_rg.to_netcdf('/glade/work/smogen/SMYLE-extremes/FOSI/'+ var +'.' + time + '.' + depth + '.regrid.nc')"
   ]
  }
 ],
 "metadata": {
  "kernelspec": {
   "display_name": "Python [conda env:.conda-smyle-analysis]",
   "language": "python",
   "name": "conda-env-.conda-smyle-analysis-py"
  },
  "language_info": {
   "codemirror_mode": {
    "name": "ipython",
    "version": 3
   },
   "file_extension": ".py",
   "mimetype": "text/x-python",
   "name": "python",
   "nbconvert_exporter": "python",
   "pygments_lexer": "ipython3",
   "version": "3.8.0"
  }
 },
 "nbformat": 4,
 "nbformat_minor": 5
}
