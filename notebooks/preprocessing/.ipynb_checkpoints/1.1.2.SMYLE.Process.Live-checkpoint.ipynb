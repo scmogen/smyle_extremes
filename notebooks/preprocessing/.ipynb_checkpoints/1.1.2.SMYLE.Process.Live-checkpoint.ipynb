{
 "cells": [
  {
   "cell_type": "markdown",
   "metadata": {},
   "source": [
    "# 1.1: Process SMYLE (Nov 23 initialization)"
   ]
  },
  {
   "cell_type": "code",
   "execution_count": null,
   "metadata": {},
   "outputs": [],
   "source": [
    "%load_ext autoreload\n",
    "%autoreload 2\n",
    "import xarray as xr \n",
    "import numpy as np  \n",
    "import cftime\n",
    "import copy\n",
    "import scipy.stats\n",
    "from scipy import signal\n",
    "import matplotlib.pyplot as plt\n",
    "import cartopy.crs as ccrs\n",
    "%matplotlib inline\n",
    "\n",
    "from SMYLEutils import calendar_utils as cal\n",
    "from SMYLEutils import stat_utils as stat\n",
    "from SMYLEutils import mapplot_utils as maps\n",
    "from SMYLEutils import colorbar_utils as cbars\n",
    "from SMYLEutils import io_utils as io"
   ]
  },
  {
   "cell_type": "code",
   "execution_count": null,
   "metadata": {},
   "outputs": [],
   "source": [
    "import dask\n",
    "from dask.distributed import wait\n",
    "dask.__version__"
   ]
  },
  {
   "cell_type": "markdown",
   "metadata": {
    "tags": []
   },
   "source": [
    "## Create Dask"
   ]
  },
  {
   "cell_type": "code",
   "execution_count": null,
   "metadata": {},
   "outputs": [],
   "source": [
    "cluster.close()\n",
    "client.close()"
   ]
  },
  {
   "cell_type": "code",
   "execution_count": null,
   "metadata": {},
   "outputs": [],
   "source": [
    "def get_ClusterClient():\n",
    "    import dask\n",
    "    from dask_jobqueue import PBSCluster\n",
    "    from dask.distributed import Client\n",
    "    cluster = PBSCluster(\n",
    "        cores=3,\n",
    "        memory='300GB',\n",
    "        processes=1,\n",
    "        queue='casper',\n",
    "        resource_spec='select=1:ncpus=1:mem=10GB',\n",
    "        project='p93300070',\n",
    "        walltime='05:00:00',\n",
    "        interface='mgt',)\n",
    "\n",
    "    dask.config.set({\n",
    "        'distributed.dashboard.link':\n",
    "        'https://jupyterhub.hpc.ucar.edu/stable/user/{USER}/proxy/{port}/status'\n",
    "    })\n",
    "    client = Client(cluster)\n",
    "    return cluster, client"
   ]
  },
  {
   "cell_type": "code",
   "execution_count": null,
   "metadata": {
    "scrolled": true
   },
   "outputs": [],
   "source": [
    "cluster, client = get_ClusterClient()\n",
    "cluster.scale(30)"
   ]
  },
  {
   "cell_type": "markdown",
   "metadata": {},
   "source": [
    "## Read in POP monthly data\n",
    "- The data loading steps can take ~30 minutes\n",
    "- Chosen field is returned as a dask array with leading dimensions of Y (initialization year), M (ensemble member), and L (lead month)."
   ]
  },
  {
   "cell_type": "code",
   "execution_count": null,
   "metadata": {},
   "outputs": [],
   "source": [
    "def preprocessor(ds0,nlead,field):\n",
    "    \"\"\" This preprocessor is applied on an individual timeseries file basis. Edit this appropriately\n",
    "    for a your analysis to speed up processing. \n",
    "    \"\"\"\n",
    "    ds0 = cal.time_set_mid(ds0,'time')\n",
    "    \n",
    "    # # select the depth of your choosing\n",
    "    d0 = ds0[field].sel(z_t=0,method='nearest').isel(time=slice(0, nlead))\n",
    "    # d0 = ds0[field].isel(time=slice(0, nlead))\n",
    "\n",
    "    d0 = d0.assign_coords(L=(\"time\", np.arange(d0.sizes[\"time\"])+1))\n",
    "    d0 = d0.swap_dims({\"time\": \"L\"})\n",
    "    d0 = d0.to_dataset(name=field)\n",
    "    d0 = d0.reset_coords([\"time\"])\n",
    "    d0[\"time\"] = d0.time.expand_dims(\"Y\")\n",
    "    return d0   "
   ]
  },
  {
   "cell_type": "code",
   "execution_count": null,
   "metadata": {},
   "outputs": [],
   "source": [
    "var = 'co3_sat_arag' # \n",
    "depth = 'surface'\n",
    "time = 'monthly' #"
   ]
  },
  {
   "cell_type": "markdown",
   "metadata": {
    "tags": []
   },
   "source": [
    "# November Initialization 2020-2023"
   ]
  },
  {
   "cell_type": "code",
   "execution_count": null,
   "metadata": {
    "scrolled": true,
    "tags": []
   },
   "outputs": [],
   "source": [
    "%%time\n",
    "# SMYLE-Feb CO3 data\n",
    "# process all 20 ensemble members, all start dates from 1970-2018:\n",
    "field = var\n",
    "datadir = '/glade/campaign/cesm/development/espwg/SMYLE/archive/'\n",
    "casename = 'b.e21.BSMYLE.f09_g17.????-MM.EEE'\n",
    "# casename = 'b.e21.BSMYLE.f09_g17.????-MM.EEE'\n",
    "# BSMYLE-XT-beta\n",
    "# b.e21.BSMYLE.f09_g17.2023-08.001\n",
    "filetype = '.pop.h.'\n",
    "filetemplate = datadir+casename+'/ocn/proc/tseries/month_1/'+casename+filetype+field+'.*.nc'\n",
    "ens = 20 \n",
    "nlead = 24\n",
    "firstyear = 1970\n",
    "lastyear  = 2020\n",
    "startmonth = 11\n",
    "\n",
    "chunk = {}\n",
    "smyle11 = io.get_monthly_data(filetemplate,filetype,ens,nlead,field,firstyear,lastyear,startmonth,preprocessor,chunks=chunk)\n",
    "smyle11.nbytes/1e9 #GB"
   ]
  },
  {
   "cell_type": "code",
   "execution_count": null,
   "metadata": {},
   "outputs": [],
   "source": [
    "%%time\n",
    "smyle11 = smyle11.persist()"
   ]
  },
  {
   "cell_type": "code",
   "execution_count": null,
   "metadata": {},
   "outputs": [],
   "source": [
    "%%time\n",
    "print('loading')\n",
    "smyle11_use = smyle11.load()\n",
    "smyle11_time = smyle11.time.load()\n",
    "\n",
    "print('saving')\n",
    "smyle11_use.to_netcdf('/glade/derecho/scratch/smogen/SMYLE-Extreme/'+ var +'.' + time + '.' + depth + '.live11.update.new_run.nc')\n",
    "smyle11_time.to_netcdf('/glade/derecho/scratch/smogen/SMYLE-Extreme/'+ var +'.' + time + '.live11.time.update.new_run.nc')"
   ]
  },
  {
   "cell_type": "code",
   "execution_count": null,
   "metadata": {},
   "outputs": [],
   "source": [
    "del smyle11_use"
   ]
  }
 ],
 "metadata": {
  "kernelspec": {
   "display_name": "Python 3",
   "language": "python",
   "name": "python3"
  },
  "language_info": {
   "codemirror_mode": {
    "name": "ipython",
    "version": 3
   },
   "file_extension": ".py",
   "mimetype": "text/x-python",
   "name": "python",
   "nbconvert_exporter": "python",
   "pygments_lexer": "ipython3",
   "version": "3.8.3"
  }
 },
 "nbformat": 4,
 "nbformat_minor": 5
}
