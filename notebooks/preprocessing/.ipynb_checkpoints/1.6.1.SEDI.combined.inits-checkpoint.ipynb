{
 "cells": [
  {
   "cell_type": "markdown",
   "id": "b34d8276-de99-438e-bb79-80188c459c4d",
   "metadata": {},
   "source": [
    "# SEDI Index"
   ]
  },
  {
   "cell_type": "code",
   "execution_count": null,
   "id": "f8950d83-9862-4e66-923b-57d3ed4b1bde",
   "metadata": {},
   "outputs": [],
   "source": [
    "# general use packages\n",
    "%matplotlib inline\n",
    "import matplotlib.pyplot as plt\n",
    "import xarray as xr\n",
    "import pandas as pd\n",
    "import numpy as np\n",
    "\n",
    "# packages for altering time to match up!\n",
    "import sys\n",
    "import cftime\n",
    "\n",
    "# climpred packages\n",
    "import climpred\n",
    "from climpred import HindcastEnsemble\n",
    "from climpred.tutorial import load_dataset\n",
    "from climpred.stats import rm_poly\n",
    "\n",
    "# SMYLE Utility functions\n",
    "from SMYLEutils import io_utils as io\n",
    "from SMYLEutils import calendar_utils as cal\n",
    "from SMYLEutils import stat_utils as stat"
   ]
  },
  {
   "cell_type": "code",
   "execution_count": null,
   "id": "03c89864-43a8-44d1-8570-c7e9f61dc108",
   "metadata": {},
   "outputs": [],
   "source": [
    "import sklearn.metrics as sk"
   ]
  },
  {
   "cell_type": "code",
   "execution_count": null,
   "id": "9366649b-7fe9-4093-acbc-d862a5a9f88a",
   "metadata": {},
   "outputs": [],
   "source": [
    "var = 'TEMP'\n",
    "var2 = 'TEMP'\n",
    "depth = 'surface'\n",
    "level= '0.9'"
   ]
  },
  {
   "cell_type": "code",
   "execution_count": null,
   "id": "42c13017-7b84-4395-9dac-fd6dc2bfea42",
   "metadata": {},
   "outputs": [],
   "source": [
    "smyle02 = xr.open_dataset('/glade/work/smogen/SMYLE-extremes/thresholds/'+var +  '.monthly.' + depth + '.02.binary.Rolling.full.2.nc')['binary']\n",
    "# smyle02 = xr.open_dataset('/glade/work/smogen/SMYLE-extremes/thresholds/'+var +  '.monthly.' + depth + '.02.binary.Rolling.' + level + '.nc')['binary']\n",
    "smyle02_time = xr.open_dataset('/glade/derecho/scratch/smogen/SMYLE-Extreme/'+var2+'.monthly.02.time.nc')#.sel(L=slice(1,12))\n",
    "\n",
    "smyle05 = xr.open_dataset('/glade/work/smogen/SMYLE-extremes/thresholds/'+var +  '.monthly.' + depth + '.05.binary.Rolling.full.2.nc')['binary']\n",
    "# smyle05 = xr.open_dataset('/glade/work/smogen/SMYLE-extremes/thresholds/'+var +  '.monthly.' + depth + '.05.binary.Rolling.' + level + '.nc')['binary']\n",
    "smyle05_time = xr.open_dataset('/glade/derecho/scratch/smogen/SMYLE-Extreme/'+var2+'.monthly.05.time.nc')#.sel(L=slice(1,12))\n",
    "\n",
    "smyle08 = xr.open_dataset('/glade/work/smogen/SMYLE-extremes/thresholds/'+var +  '.monthly.' + depth + '.08.binary.Rolling.full.2.nc')['binary']\n",
    "# smyle08 = xr.open_dataset('/glade/work/smogen/SMYLE-extremes/thresholds/'+var +  '.monthly.' + depth + '.08.binary.Rolling.' + level + '.nc')['binary']\n",
    "smyle08_time = xr.open_dataset('/glade/derecho/scratch/smogen/SMYLE-Extreme/'+var2+'.monthly.08.time.nc')#.sel(L=slice(1,12))\n",
    "\n",
    "smyle11 = xr.open_dataset('/glade/work/smogen/SMYLE-extremes/thresholds/'+var +  '.monthly.' + depth + '.11.binary.Rolling.full.2.nc')['binary']\n",
    "# smyle11 = xr.open_dataset('/glade/work/smogen/SMYLE-extremes/thresholds/'+var +  '.monthly.' + depth + '.11.binary.Rolling.' + level + '.nc')['binary']\n",
    "smyle11_time = xr.open_dataset('/glade/derecho/scratch/smogen/SMYLE-Extreme/'+var2+'.monthly.11.time.nc')#.sel(L=slice(1,12))"
   ]
  },
  {
   "cell_type": "code",
   "execution_count": null,
   "id": "b014fcb2-0060-4ea4-8541-3c40310376ef",
   "metadata": {},
   "outputs": [],
   "source": [
    "smyle02 = smyle02.expand_dims(\"init\"); smyle02_time  = smyle02_time.expand_dims(\"init\")\n",
    "smyle05 = smyle05.expand_dims(\"init\"); smyle05_time  = smyle05_time.expand_dims(\"init\")\n",
    "smyle08 = smyle08.expand_dims(\"init\"); smyle08_time  = smyle08_time.expand_dims(\"init\")\n",
    "smyle11 = smyle11.expand_dims(\"init\"); smyle11_time  = smyle11_time.expand_dims(\"init\")"
   ]
  },
  {
   "cell_type": "code",
   "execution_count": null,
   "id": "c2c67e27-5e5e-4cc6-a384-a729c3648ea8",
   "metadata": {},
   "outputs": [],
   "source": [
    "smyle02['init'] = ['02']; smyle02_time['init'] = ['02']\n",
    "smyle05['init'] = ['05']; smyle05_time['init'] = ['05']\n",
    "smyle08['init'] = ['08']; smyle08_time['init'] = ['08']\n",
    "smyle11['init'] = ['11']; smyle11_time['init'] = ['11']"
   ]
  },
  {
   "cell_type": "code",
   "execution_count": null,
   "id": "161e8a2e-3293-4bc2-ac4b-14c7b0361369",
   "metadata": {},
   "outputs": [],
   "source": [
    "smyle = xr.concat([smyle02,smyle05,smyle08,smyle11],'init')\n",
    "smyle_time = xr.concat([smyle02_time,smyle05_time,smyle08_time,smyle11_time],'init')"
   ]
  },
  {
   "cell_type": "code",
   "execution_count": null,
   "id": "51c16c35-9d6a-40db-bbeb-8d9f027e6d3b",
   "metadata": {},
   "outputs": [],
   "source": [
    "smyle.to_dataset(name='binary').to_netcdf('/glade/derecho/scratch/smogen/'+var +  '.monthly.' + depth + '.binary.Rolling.Combined.nc')\n",
    "smyle_time.to_netcdf('/glade/derecho/scratch/smogen/'+var +  '.monthly.' + depth + '.binary.time.Combined.nc')"
   ]
  },
  {
   "cell_type": "code",
   "execution_count": null,
   "id": "071bcbcf-9e06-436d-825d-bd13c7bf7ce7",
   "metadata": {},
   "outputs": [],
   "source": [
    "# load in observations\n",
    "obs = xr.open_dataset('/glade/work/smogen/SMYLE-extremes/' + var + '.obs.rolling.thold.Rolling.nc')"
   ]
  },
  {
   "cell_type": "markdown",
   "id": "db88b3b8-10cf-472c-bd7b-d19dd60e05cb",
   "metadata": {},
   "source": [
    "## mask land as NaNs"
   ]
  },
  {
   "cell_type": "code",
   "execution_count": null,
   "id": "7ff6a7ef-7f48-4a3f-956c-683e15ba1238",
   "metadata": {},
   "outputs": [],
   "source": [
    "ds = xr.open_dataset('/glade/work/smogen/SMYLE-extremes/OceanSODA-ETHZ_GRaCER_v2021a_1982-2020.nc')['temperature'].isel(time=0).drop('time')"
   ]
  },
  {
   "cell_type": "code",
   "execution_count": null,
   "id": "2481d1b4-cad3-4384-962a-aded6840c41a",
   "metadata": {},
   "outputs": [],
   "source": [
    "ds = ds.where(ds.lat < 65)"
   ]
  },
  {
   "cell_type": "code",
   "execution_count": null,
   "id": "6100eeeb-e841-41bc-9da4-a6f582c022fa",
   "metadata": {},
   "outputs": [],
   "source": [
    "np.isnan(ds).plot()"
   ]
  },
  {
   "cell_type": "code",
   "execution_count": null,
   "id": "63dae0d2-2537-46e3-b0bf-d07e43aa5b32",
   "metadata": {},
   "outputs": [],
   "source": [
    "obs = obs.where(np.isnan(ds) == 0, np.NaN)"
   ]
  },
  {
   "cell_type": "code",
   "execution_count": null,
   "id": "182daf80-9e28-4de8-9a15-acc7154f0a9c",
   "metadata": {},
   "outputs": [],
   "source": [
    "obs.threshold.sel(time='1997-05').plot()"
   ]
  },
  {
   "cell_type": "code",
   "execution_count": null,
   "id": "ca471916-973f-40e1-bc4e-dfe3d5e410be",
   "metadata": {},
   "outputs": [],
   "source": [
    "smyle = smyle.where(np.isnan(ds) == 0, np.NaN)"
   ]
  },
  {
   "cell_type": "code",
   "execution_count": null,
   "id": "6ff645c6-4eb1-4acc-bec1-a73c3b573ea4",
   "metadata": {},
   "outputs": [],
   "source": [
    "smyle.sel(Y=1997,M=1,L=4,init='02').plot()"
   ]
  },
  {
   "cell_type": "code",
   "execution_count": null,
   "id": "fae58609-ce2c-4f7d-a386-241e8e95a356",
   "metadata": {
    "tags": []
   },
   "outputs": [],
   "source": [
    "def sedi_index(data):\n",
    "    true_pos = (~np.isnan(data.where(data == 4))).sum(dim=('member','time'),skipna=True)\n",
    "    true_neg = (~np.isnan(data.where(data == 2))).sum(dim=('member','time'),skipna=True)\n",
    "    false_pos = (~np.isnan(data.where(data == 3))).sum(dim=('member','time'),skipna=True)\n",
    "    false_neg = (~np.isnan(data.where(data == 1))).sum(dim=('member','time'),skipna=True)\n",
    "    hit_rate = true_pos / (true_pos + false_neg)\n",
    "    # hit_rate = (~np.isnan(data.where(data == 4))).sum(dim=('member','time'),skipna=True) / ((~np.isnan(data.where(data == 4))).sum(dim=('member','time'),skipna=True) + (~np.isnan(data.where(data == 1))).sum(dim=('member','time'),skipna=True))\n",
    "    \n",
    "    # hit_rate = hit_rate# + 1e-1\n",
    "    # hit_rate.where(hit_rate == 0, hit_rate.min().values/2)\n",
    "    # if hit_rate == 0:\n",
    "    #     hit_rate = hit_rate.min()/2\n",
    "    # non_zero_min = hit_rate.where(hit_rate > 0).min()\n",
    "    # hit_rate = hit_rate.where(hit_rate > 0, non_zero_min)\n",
    "    \n",
    "    # false_rate = (~np.isnan(data.where(data == 3))).sum(dim=('member','time'),skipna=True) / ((~np.isnan(data.where(data == 3))).sum(dim=('member','time'),skipna=True) + (~np.isnan(data.where(data == 2))).sum(dim=('member','time'),skipna=True))\n",
    "    false_rate = false_pos / (false_pos + true_neg)\n",
    "    \n",
    "    # false_rate = false_rate# + 1e-1\n",
    "    # false_rate.where(false_rate == 0, false_rate.min().values/2)\n",
    "    # if false_rate == 0:\n",
    "    #     false_rate = false_rate.min()/2\n",
    "    # non_zero_min = false_rate.where(false_rate > 0).min()\n",
    "    # false_rate = false_rate.where(false_rate > 0, non_zero_min)\n",
    "\n",
    "    num = np.log10(false_rate) - np.log10(hit_rate) - (np.log10(1- false_rate)) + np.log10(1 - hit_rate)\n",
    "    denom = np.log10(false_rate) + np.log10(hit_rate) + (np.log10(1- false_rate)) + np.log10(1 - hit_rate)\n",
    "    sedi = num / denom\n",
    "    \n",
    "    # return sedi\n",
    "    return sedi, true_pos, true_neg, false_pos, false_neg"
   ]
  },
  {
   "cell_type": "code",
   "execution_count": null,
   "id": "a43f2a1c-8bd0-4e4f-a705-de11ac1cd4e4",
   "metadata": {},
   "outputs": [],
   "source": [
    "# %%time\n",
    "# results_ds, sedi_score, false_rate, hit_rate = skill(smyle,smyle_time,obs.threshold)"
   ]
  },
  {
   "cell_type": "code",
   "execution_count": null,
   "id": "11d357eb-0d34-4b84-a6b9-0f7d6071f750",
   "metadata": {},
   "outputs": [],
   "source": [
    "sedi, true_pos, true_neg, false_pos, false_neg = sedi_index(results_ds.skill)"
   ]
  },
  {
   "cell_type": "code",
   "execution_count": null,
   "id": "900c51c5-2d60-42f2-ba0a-3d4dd7c6c865",
   "metadata": {},
   "outputs": [],
   "source": [
    "false_rate = false_pos / (false_pos + true_neg)\n",
    "hit_rate = true_pos / (true_pos + false_neg)"
   ]
  },
  {
   "cell_type": "code",
   "execution_count": null,
   "id": "ce91d4cc-bc46-46b4-9ee8-6bb42d40d0fc",
   "metadata": {},
   "outputs": [],
   "source": [
    "false_rate = false_rate + 1e-1\n",
    "hit_rate = hit_rate + 1e-1"
   ]
  },
  {
   "cell_type": "code",
   "execution_count": null,
   "id": "eac10c56-5b5a-468d-9c03-8fe5d86c3212",
   "metadata": {},
   "outputs": [],
   "source": [
    "num = np.log10(false_rate) - np.log10(hit_rate) - (np.log10(1- false_rate)) + np.log10(1 - hit_rate)\n",
    "denom = np.log10(false_rate) + np.log10(hit_rate) + (np.log10(1- false_rate)) + np.log10(1 - hit_rate)"
   ]
  },
  {
   "cell_type": "code",
   "execution_count": null,
   "id": "4cd16315-d944-43f8-b2ef-a2fdf97cd24a",
   "metadata": {},
   "outputs": [],
   "source": [
    "# np.log10(hit_rate).plot()\n",
    "# plt.show()\n",
    "\n",
    "# (np.log10(1- hit_rate)).plot()\n",
    "# plt.show()\n",
    "\n",
    "# num = np.log10(false_rate) - np.log10(hit_rate) - (np.log10(1- false_rate)) + np.log10(1 - hit_rate)\n",
    "# num.plot()\n",
    "# plt.show()"
   ]
  },
  {
   "cell_type": "code",
   "execution_count": null,
   "id": "bfe08821-2311-4868-b4d2-922283ae6b46",
   "metadata": {},
   "outputs": [],
   "source": [
    "# np.log10(false_rate).plot()\n",
    "# plt.show()\n",
    "\n",
    "# (np.log10(1- false_rate)).plot()\n",
    "# plt.show()\n",
    "\n",
    "# denom = np.log10(false_rate) + np.log10(hit_rate) + (np.log10(1- false_rate)) + np.log10(1 - hit_rate)\n",
    "# denom.plot()\n",
    "# plt.show()"
   ]
  },
  {
   "cell_type": "code",
   "execution_count": null,
   "id": "06452c9c-7b82-4e86-9c4f-bde9e2f2a1c5",
   "metadata": {},
   "outputs": [],
   "source": [
    "sedi2 = num / denom\n",
    "sedi2.plot()"
   ]
  },
  {
   "cell_type": "code",
   "execution_count": null,
   "id": "a559fce5-30ed-4d41-a46d-e1ba8842663f",
   "metadata": {},
   "outputs": [],
   "source": [
    "sedi1 = num / denom\n",
    "sedi1.plot()"
   ]
  },
  {
   "cell_type": "code",
   "execution_count": null,
   "id": "bb46f731-8b60-47ae-bcfc-edb2b2824337",
   "metadata": {},
   "outputs": [],
   "source": [
    "(sedi1-sedi2).plot(vmin=0,vmax=0.1)"
   ]
  },
  {
   "cell_type": "code",
   "execution_count": null,
   "id": "b0f31076-93a5-48db-8c9f-959e404e1ff9",
   "metadata": {},
   "outputs": [],
   "source": []
  },
  {
   "cell_type": "markdown",
   "id": "5b4783f1-e71e-4bde-bee2-2d36f4751645",
   "metadata": {},
   "source": [
    "## Make a contingency table\n",
    "\n",
    "| Value      | Description |\n",
    "| ----------- | ----------- |\n",
    "| 1      | False negative       |\n",
    "| 2      | True negative       |\n",
    "| 3      | False positive       |\n",
    "| 4      | True positive       |\n"
   ]
  },
  {
   "cell_type": "code",
   "execution_count": null,
   "id": "5dd58f96-9c09-4501-840a-ac04ef87ded6",
   "metadata": {},
   "outputs": [],
   "source": [
    "def sedi_index(data):\n",
    "    hit_rate = (~np.isnan(data.where(data == 4))).sum(dim=('member','time'),skipna=True) / ((~np.isnan(data.where(data == 4))).sum(dim=('member','time'),skipna=True) + (~np.isnan(data.where(data == 1))).sum(dim=('member','time'),skipna=True))\n",
    "    hit_rate = hit_rate\n",
    "    false_rate = (~np.isnan(data.where(data == 3))).sum(dim=('member','time'),skipna=True) / ((~np.isnan(data.where(data == 3))).sum(dim=('member','time'),skipna=True) + (~np.isnan(data.where(data == 2))).sum(dim=('member','time'),skipna=True))\n",
    "    false_rate = false_rate\n",
    "    num = np.log10(false_rate) - np.log10(hit_rate) - (np.log10(1- false_rate)) + np.log10(1 - hit_rate)\n",
    "    denom = np.log10(false_rate) + np.log10(hit_rate) + (np.log10(1- false_rate)) + np.log10(1 - hit_rate)\n",
    "    sedi = num / denom\n",
    "    return sedi"
   ]
  },
  {
   "cell_type": "code",
   "execution_count": null,
   "id": "97a4c8ae-34cb-4d9b-8194-17511b313b11",
   "metadata": {},
   "outputs": [],
   "source": [
    "def skill(mod_da,mod_time,obs_da):\n",
    "    sedi_results = []\n",
    "    forecast_acc_results = []\n",
    "    bss_results = []\n",
    "    for i in range(len(mod_da.L)): #\n",
    "        \n",
    "        # select a given member of the ensemble\n",
    "        mod_da_L = mod_da.isel(L=i)\n",
    "        results = []\n",
    "        obs_range = []\n",
    "        # put everything into a contingency table (key is listed above)\n",
    "        for h in (mod_da.init):\n",
    "            mod_da_L_I = mod_da_L.sel(init=h)\n",
    "            for j in range(len(mod_da.M)):\n",
    "                ens = mod_da_L_I.isel(M=j).rename({'Y':'time'})\n",
    "            \n",
    "                ens_time_year = mod_time.sel(init=h).isel(L=i).time.dt.year.data\n",
    "                ens_time_month = mod_time.sel(init=h).isel(L=i).time.dt.month.data[0]\n",
    "                ens_ts = ens.assign_coords(time=(\"time\",ens_time_year))\n",
    "                obs_ts = obs_da.where(obs_da.time.dt.month == ens_time_month,drop=True)\n",
    "            \n",
    "                obs_ts['time'] = obs_ts['time'].dt.year\n",
    "            \n",
    "                ens_ts, obs_ts = xr.align(ens_ts, obs_ts)\n",
    "            \n",
    "                pos = (ens_ts.where(ens_ts.astype(int) == 1) + obs_ts + 2).rename('skill')\n",
    "                neg = (ens_ts.where(ens_ts.astype(int) == 0) - obs_ts + 2).rename('skill')\n",
    "                contingency = xr.merge([pos,neg])\n",
    "                contingency = contingency.expand_dims('member')\n",
    "                results.append(contingency)\n",
    "                \n",
    "                # isolate the month from observations \n",
    "                obs_ts.expand_dims('month')\n",
    "                obs_ts['month'] = ens_time_month\n",
    "                obs_range.append(obs_ts)                \n",
    "        \n",
    "        results_ds = xr.concat(results,'member')\n",
    "        \n",
    "        # do that stuff here?\n",
    "        all_pos = (~np.isnan(results_ds.skill.where(results_ds.skill > 2)))\n",
    "        obs_range_ds = xr.concat(obs_range,'month')\n",
    "        \n",
    "        # run the SEDI score function (above), as in Jacox 2022\n",
    "        sedi = sedi_index(results_ds.skill)\n",
    "        sedi_results.append(sedi)\n",
    "        \n",
    "\n",
    "        #calculate forecast accuracy as in Jacox, 2022\n",
    "        true_pos = (~np.isnan(results_ds.skill.where(results_ds.skill == 4))).sum(('time','member'))\n",
    "        true_neg = (~np.isnan(results_ds.skill.where(results_ds.skill == 2))).sum(('time','member'))\n",
    "        N = len(results_ds.time) * len(results_ds.member)\n",
    "        forecast_accuracy = (true_neg + true_pos) / N\n",
    "        forecast_acc_results.append(forecast_accuracy)\n",
    "        \n",
    "        \n",
    "        # Brier Skill Score\n",
    "        obs_range_ds = xr.concat(obs_range,'month')\n",
    "        tmp_obs_use = obs_range_ds.groupby(obs_range_ds.month).mean()\n",
    "\n",
    "        results_ds['member'] = obs_range_ds['month'].values\n",
    "        tmp_ens_use = ~np.isnan(results_ds.skill.where(results_ds.skill > 2))\n",
    "        \n",
    "        test_ens = (tmp_ens_use.groupby(tmp_ens_use.member).sum('member') / 20)\n",
    "        test_obs = tmp_obs_use.rename({'month':'member'})\n",
    "        error_sq = ((test_ens - test_obs)**2).sum(('time','member')) / (len(test_obs.time) * 4)\n",
    "        bss = 1 - (error_sq / 0.1) # 0.1 is a reference forecast\n",
    "        bss_results.append(bss)\n",
    "            \n",
    "        \n",
    "    ds = xr.concat(sedi_results,'L'); \n",
    "    ds_fa = xr.concat(forecast_acc_results,'L'); \n",
    "    ds_bss = xr.concat(bss_results,'L'); \n",
    "    \n",
    "    return  results_ds, ds, ds_fa, ds_bss"
   ]
  },
  {
   "cell_type": "code",
   "execution_count": null,
   "id": "9ff0db4a-36fc-49f8-aa94-9ec2cdef3e3b",
   "metadata": {
    "tags": []
   },
   "outputs": [],
   "source": [
    "%%time\n",
    "results_ds, sedi_score, ds_fa, ds_bss = skill(smyle,smyle_time,obs.threshold)"
   ]
  },
  {
   "cell_type": "code",
   "execution_count": null,
   "id": "84a44b81-9aa9-4208-bbb9-bd2147140dbb",
   "metadata": {
    "scrolled": true
   },
   "outputs": [],
   "source": [
    "sedi_score = sedi_score.to_dataset(name='sedi')\n",
    "ds_fa = ds_fa.to_dataset(name='fa')\n",
    "ds_bss = ds_bss.to_dataset(name='bss')"
   ]
  },
  {
   "cell_type": "code",
   "execution_count": null,
   "id": "593304c4-35f1-4338-a632-0df1df2e8488",
   "metadata": {},
   "outputs": [],
   "source": [
    "dataset = xr.merge([sedi_score,ds_fa,ds_bss],compat='override')"
   ]
  }
 ],
 "metadata": {
  "kernelspec": {
   "display_name": "Python [conda env:.conda-smyle-analysis-2]",
   "language": "python",
   "name": "conda-env-.conda-smyle-analysis-2-py"
  },
  "language_info": {
   "codemirror_mode": {
    "name": "ipython",
    "version": 3
   },
   "file_extension": ".py",
   "mimetype": "text/x-python",
   "name": "python",
   "nbconvert_exporter": "python",
   "pygments_lexer": "ipython3",
   "version": "3.8.0"
  }
 },
 "nbformat": 4,
 "nbformat_minor": 5
}
