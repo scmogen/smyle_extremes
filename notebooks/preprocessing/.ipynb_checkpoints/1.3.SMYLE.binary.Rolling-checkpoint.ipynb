{
 "cells": [
  {
   "cell_type": "markdown",
   "id": "afc85354-09d5-4fe1-8989-eec80e1c355b",
   "metadata": {},
   "source": [
    "# 1.3: Convert to extremes and binary!"
   ]
  },
  {
   "cell_type": "code",
   "execution_count": null,
   "id": "8b332361-793d-437c-9664-e39584e38a9b",
   "metadata": {},
   "outputs": [],
   "source": [
    "# general use packages\n",
    "%matplotlib inline\n",
    "import matplotlib.pyplot as plt\n",
    "import xarray as xr\n",
    "import pandas as pd\n",
    "import numpy as np\n",
    "\n",
    "# packages for altering time to match up!\n",
    "import sys\n",
    "import cftime\n",
    "\n",
    "# climpred packages\n",
    "import climpred\n",
    "from climpred import HindcastEnsemble\n",
    "from climpred.tutorial import load_dataset\n",
    "from climpred.stats import rm_poly\n",
    "\n",
    "# SMYLE Utility functions\n",
    "from SMYLEutils import io_utils as io\n",
    "from SMYLEutils import calendar_utils as cal\n",
    "from SMYLEutils import stat_utils as stat"
   ]
  },
  {
   "cell_type": "code",
   "execution_count": null,
   "id": "8425ef11-5adc-453a-b4d3-a031fee5dbdd",
   "metadata": {},
   "outputs": [],
   "source": [
    "def detrend_linear(dat, dim):\n",
    "    \"\"\" linear detrend dat along the axis dim \"\"\"\n",
    "    params = dat.polyfit(dim=dim, deg=1)\n",
    "    fit = xr.polyval(dat[dim], params.polyfit_coefficients)\n",
    "    dat = dat-fit\n",
    "    return dat"
   ]
  },
  {
   "cell_type": "code",
   "execution_count": null,
   "id": "75d10ed1-685a-4a6c-9dc2-7133094c2d1d",
   "metadata": {},
   "outputs": [],
   "source": [
    "def detrend_second(dat, dim):\n",
    "    \"\"\" linear detrend dat along the axis dim \"\"\"\n",
    "    params = dat.polyfit(dim=dim, deg=1)\n",
    "    fit = xr.polyval(dat[dim], params.polyfit_coefficients)\n",
    "    dat = dat-fit\n",
    "    return dat"
   ]
  },
  {
   "cell_type": "markdown",
   "id": "6f62ea5b-90b2-460b-8db6-dcf465b3e12d",
   "metadata": {
    "tags": []
   },
   "source": [
    "## SMYLE"
   ]
  },
  {
   "cell_type": "code",
   "execution_count": null,
   "id": "de261314-e53c-4085-a175-647898eefeeb",
   "metadata": {},
   "outputs": [],
   "source": [
    "var = 'TEMP'\n",
    "var2 = 'TEMP' # var\n",
    "depth = 'surface'\n",
    "init = '11'\n",
    "level = 0.9 # 0.1 or 0.9"
   ]
  },
  {
   "cell_type": "code",
   "execution_count": null,
   "id": "1f35bcb4-b976-4ead-87b8-6de65393b631",
   "metadata": {},
   "outputs": [],
   "source": [
    "# select dataset\n",
    "smyle = xr.open_dataset('/glade/derecho/scratch/smogen/SMYLE-Extreme/'+var + '.monthly.' + depth + '.' + init + '.regrid.nc')[var]\n",
    "smyle_time = xr.open_dataset('/glade/derecho/scratch/smogen/SMYLE-Extreme/'+var2+'.monthly.' + init + '.time.nc')\n",
    "smyle = smyle.drop('time')"
   ]
  },
  {
   "cell_type": "code",
   "execution_count": null,
   "id": "d7b1e510-99b2-4727-b715-c10bd3ee911d",
   "metadata": {},
   "outputs": [],
   "source": [
    "%%time\n",
    "# remove climatological drift from the data\n",
    "smyle_anom,smyle_clim = stat.remove_drift(smyle,smyle_time,1970,2023)"
   ]
  },
  {
   "cell_type": "code",
   "execution_count": null,
   "id": "36e4165b-e161-4079-b3ae-187f4470a028",
   "metadata": {},
   "outputs": [],
   "source": [
    "%%time\n",
    "# detrend\n",
    "# smyle_anom = detrend_linear(smyle_anom.time,'Y')\n",
    "smyle_anom = detrend_second(smyle_anom.time,'Y')"
   ]
  },
  {
   "cell_type": "code",
   "execution_count": null,
   "id": "170d43fa-4bb1-4f17-8913-eaaa30f3502b",
   "metadata": {},
   "outputs": [],
   "source": [
    "smyle_anom.isel(M=0,L=0).sel(lat=0.5,lon=-130.5).plot()"
   ]
  },
  {
   "cell_type": "markdown",
   "id": "05fb04ff-1df6-4d71-8cff-56a08b020ccc",
   "metadata": {
    "tags": []
   },
   "source": [
    "### threshold within SMYLE"
   ]
  },
  {
   "cell_type": "code",
   "execution_count": null,
   "id": "488106ec-cfbd-41e5-9553-8d2a05636470",
   "metadata": {},
   "outputs": [],
   "source": [
    "thold_data = smyle_anom.mean('M')"
   ]
  },
  {
   "cell_type": "code",
   "execution_count": null,
   "id": "9648104b-9946-4d82-a8e8-1e4cf20fb6d5",
   "metadata": {},
   "outputs": [],
   "source": [
    "print(level) # check the level before you run the code!"
   ]
  },
  {
   "cell_type": "code",
   "execution_count": null,
   "id": "87a86309-540a-439f-ad1d-f47acd25e646",
   "metadata": {
    "scrolled": true,
    "tags": []
   },
   "outputs": [],
   "source": [
    "# calculate the threshold using a rolling 3-month average\n",
    "%%time\n",
    "\n",
    "ds_thold = []\n",
    "\n",
    "# 1st through 23th month\n",
    "for i in range(0,23):\n",
    "    print(i)\n",
    "    tst = thold_data.sel(L = [thold_data.L[i - 1],thold_data.L[i],thold_data.L[i+1]]).quantile(level,dim=('L','Y'),skipna=True)\n",
    "    tst = tst.expand_dims('L')\n",
    "    ds_thold.append(tst)\n",
    "    \n",
    "# 12th month\n",
    "print('24')\n",
    "last_month = thold_data.sel(L = [thold_data.L[22],thold_data.L[23],thold_data.L[0]]).quantile(level,dim=('L','Y'),skipna=True)\n",
    "last_month = last_month.expand_dims('L')\n",
    "\n",
    "ds_thold.append(last_month)"
   ]
  },
  {
   "cell_type": "code",
   "execution_count": null,
   "id": "034f9ff1-b9e0-4674-a7d4-3a97bdf0efc8",
   "metadata": {},
   "outputs": [],
   "source": [
    "smyle_threshold = xr.concat(ds_thold,dim='L')\n",
    "\n",
    "smyle_threshold = smyle_threshold.to_dataset(name='threshold')\n",
    "smyle_threshold['L'] = smyle_threshold.L + 1"
   ]
  },
  {
   "cell_type": "code",
   "execution_count": null,
   "id": "6655a9fc-c9f3-4447-8c09-e65c629db2ec",
   "metadata": {
    "tags": []
   },
   "outputs": [],
   "source": [
    "smyle_anom.sel(Y=1997,L=11,M=3).plot()"
   ]
  },
  {
   "cell_type": "code",
   "execution_count": null,
   "id": "63a863e7-89e4-4fca-bd0e-7098ae74e409",
   "metadata": {},
   "outputs": [],
   "source": [
    "# var = 'omega_arag'\n",
    "# smyle_threshold.to_netcdf('/glade/work/smogen/SMYLE-extremes/thresholds/smyle' + init +  '.' + var + '.thold.Rolling.full.nc')\n",
    "smyle_threshold.to_netcdf('/glade/derecho/scratch/smogen/SMYLE-Extreme/thresholds/smyle' + init +  '.' + var + '.thold.Rolling.new_run2.nc')"
   ]
  },
  {
   "cell_type": "markdown",
   "id": "a78081d0-48ce-47c1-a183-10703758e414",
   "metadata": {
    "tags": []
   },
   "source": [
    "### SMYLE to a binary"
   ]
  },
  {
   "cell_type": "code",
   "execution_count": null,
   "id": "efcd37bb-588a-4384-b92c-be301ddfb3c3",
   "metadata": {},
   "outputs": [],
   "source": [
    "depth = 'surface'"
   ]
  },
  {
   "cell_type": "code",
   "execution_count": null,
   "id": "5c646d3c-7ebb-4ba3-910c-636318a4f025",
   "metadata": {},
   "outputs": [],
   "source": [
    "# smyle = xr.open_dataset('/glade/derecho/scratch/smogen/SMYLE-Extreme/'+var + '.monthly.' + depth + '.' + init + '.regrid.nc')[var]\n",
    "# smyle_time = xr.open_dataset('/glade/derecho/scratch/smogen/SMYLE-Extreme/'+var2+'.monthly.' + init + '.time.nc')\n",
    "# smyle = smyle.drop('time')\n",
    "\n",
    "smyle = xr.open_dataset('/glade/derecho/scratch/smogen/SMYLE-Extreme/'+var + '.monthly.' + depth + '.live11.regrid.update.new_run.combined.nc')[var]\n",
    "smyle_time = xr.open_dataset('/glade/derecho/scratch/smogen/SMYLE-Extreme/'+var2+'.monthly.live11.time.update.nc')\n",
    "smyle = smyle.drop('time')"
   ]
  },
  {
   "cell_type": "code",
   "execution_count": null,
   "id": "0daa399c-2532-4cda-9a91-5298f428f54f",
   "metadata": {},
   "outputs": [],
   "source": [
    "# var = 'H+'\n",
    "# thold = xr.open_dataset('/glade/work/smogen/SMYLE-extremes/thresholds/smyle' + init + '.' + var + '.thold.Rolling.full.nc')['threshold']\n",
    "thold = xr.open_dataset('/glade/derecho/scratch/smogen/SMYLE-Extreme/thresholds/smyle' + init +  '.' + var + '.thold.Rolling.new_run2.nc')['threshold']"
   ]
  },
  {
   "cell_type": "code",
   "execution_count": null,
   "id": "eb93cc0c-5c23-4458-9369-18f8a5611000",
   "metadata": {
    "tags": []
   },
   "outputs": [],
   "source": [
    "# drift correct anomalies\n",
    "smyle_anom,smyle_clim = stat.remove_drift(smyle,smyle_time,1982,2023)"
   ]
  },
  {
   "cell_type": "code",
   "execution_count": null,
   "id": "b270d2da-6f4b-465f-9cd8-86a23b208d32",
   "metadata": {},
   "outputs": [],
   "source": [
    "# detrend data\n",
    "smyle_anom = detrend_linear(smyle_anom.time,'Y')\n",
    "# smyle_anom = smyle_anom.time\n",
    "\n",
    "# smyle_anom = detrend_second(smyle_anom.time,'Y')"
   ]
  },
  {
   "cell_type": "code",
   "execution_count": null,
   "id": "84d8ef71-2c3a-4618-b528-10e562ee7644",
   "metadata": {},
   "outputs": [],
   "source": [
    "# plot the threshold at lead=0 to check on the calculations\n",
    "smyle_anom.isel(M=0,L=0).sel(lat=0.5,lon=-130.5).plot()\n",
    "# smyle_anom_detr.isel(M=0,L=0).sel(lat=0.5,lon=-130.5).plot()\n",
    "\n",
    "plt.axhline(thold.isel(L=0).sel(lat=0.5,lon=-130.5))"
   ]
  },
  {
   "cell_type": "code",
   "execution_count": null,
   "id": "183ac64f-75b0-4797-87af-92a1f3b4f34a",
   "metadata": {},
   "outputs": [],
   "source": [
    "# define extremes!\n",
    "# change the '<' and '>' depending on the threshold\n",
    "smyle_extreme = smyle_anom.where(smyle_anom > thold)"
   ]
  },
  {
   "cell_type": "code",
   "execution_count": null,
   "id": "3e983ca8-ba4a-408c-940f-8946a95b3494",
   "metadata": {},
   "outputs": [],
   "source": [
    "smyle_extreme.sel(Y=2019).sum('M').isel(L=8).plot()"
   ]
  },
  {
   "cell_type": "code",
   "execution_count": null,
   "id": "88817991-c499-4d4e-9c0a-bc0ab11a7cf3",
   "metadata": {},
   "outputs": [],
   "source": [
    "binary = ~np.isnan(smyle_extreme)\n",
    "\n",
    "binary.sum(('M','lat','lon')).plot()\n",
    "plt.show()"
   ]
  },
  {
   "cell_type": "code",
   "execution_count": null,
   "id": "2e7826ea-7ab1-448a-910d-616ad44329ac",
   "metadata": {},
   "outputs": [],
   "source": [
    "# save out the binary file!\n",
    "binary = ~np.isnan(smyle_extreme)\n",
    "\n",
    "# binary.to_dataset(name='binary').to_netcdf('/glade/work/smogen/SMYLE-extremes/thresholds/' + var +  '.monthly.' + depth + '.' + init + '.binary.Rolling.' + str(level) + '.nc')\n",
    "binary.to_dataset(name='binary').to_netcdf('/glade/work/smogen/SMYLE-extremes/thresholds/' + var +  '.monthly.' + depth + '.binary.Rolling.live11.update.detrend.new_run.nc')"
   ]
  },
  {
   "cell_type": "markdown",
   "id": "52810744-17d0-48e5-8cde-b15e6c7c7fd1",
   "metadata": {
    "tags": []
   },
   "source": [
    "## Observations"
   ]
  },
  {
   "cell_type": "code",
   "execution_count": null,
   "id": "2ce3d457-a011-442c-b69a-aa4fea689165",
   "metadata": {},
   "outputs": [],
   "source": [
    "var = 'omega_ar' # temperature, \n",
    "ds = xr.open_dataset('/glade/work/smogen/SMYLE-extremes/OceanSODA-ETHZ_GRaCER_v2021a_1982-2020.nc')[var]"
   ]
  },
  {
   "cell_type": "code",
   "execution_count": null,
   "id": "457a0c8f-5d20-4a57-9cc1-2195197904c2",
   "metadata": {},
   "outputs": [],
   "source": [
    "# remove climatology\n",
    "ds = ds.groupby('time.month') - ds.groupby('time.month').mean()\n",
    "\n",
    "# remove trend - select level of polynomial based on variable\n",
    "# ds = detrend_linear(ds,'time')\n",
    "ds = detrend_second(ds,'time')"
   ]
  },
  {
   "cell_type": "code",
   "execution_count": null,
   "id": "9123b295-2de5-4ec4-a031-514cc2e837da",
   "metadata": {},
   "outputs": [],
   "source": [
    "level= 0.1"
   ]
  },
  {
   "cell_type": "code",
   "execution_count": null,
   "id": "48e93818-6799-4e6c-85ce-152c4f97f962",
   "metadata": {},
   "outputs": [],
   "source": [
    "%%time\n",
    "\n",
    "ds_thold = []\n",
    "\n",
    "# 1st month (January, which is three month average of DJF)\n",
    "first_month = ds[(ds.time.dt.month >= 12) | (ds.time.dt.month <= 2)].quantile(level,dim='time',skipna=True)\n",
    "first_month = first_month.expand_dims('month_arr')\n",
    "ds_thold.append(first_month)\n",
    "\n",
    "# 2nd through 11th month (February to November)\n",
    "for i in range(2,12):\n",
    "    tst = ds[(ds.time.dt.month >= i) & (ds.time.dt.month <= i)].quantile(level,dim='time',skipna=True)\n",
    "    tst = tst.expand_dims('month_arr')\n",
    "    ds_thold.append(tst)\n",
    "    \n",
    "# 12th month (December, which is three month average of NDJ\n",
    "last_month = ds[(ds.time.dt.month >= 11) | (ds.time.dt.month <= 1)].quantile(level,dim='time',skipna=True)\n",
    "last_month = last_month.expand_dims('month_arr')\n",
    "ds_thold.append(last_month)"
   ]
  },
  {
   "cell_type": "code",
   "execution_count": null,
   "id": "d236d93b-3900-4585-956d-005d03f621c9",
   "metadata": {},
   "outputs": [],
   "source": [
    "threshold = xr.concat(ds_thold,dim='month_arr')"
   ]
  },
  {
   "cell_type": "code",
   "execution_count": null,
   "id": "84a5a908-58d5-42ce-95c3-17ebe02b1c6b",
   "metadata": {},
   "outputs": [],
   "source": [
    "threshold['month_arr'] = threshold.month_arr + 1"
   ]
  },
  {
   "cell_type": "code",
   "execution_count": null,
   "id": "3e950c3f-7575-42bb-851b-d4d6f94c913b",
   "metadata": {},
   "outputs": [],
   "source": [
    "# define the quantile, select extreme values, convert to binary\n",
    "ds_extreme = ds.where(ds.groupby('time.month') < threshold.rename({'month_arr':'month'}))\n",
    "ds_extreme = ~np.isnan(ds_extreme)"
   ]
  },
  {
   "cell_type": "code",
   "execution_count": null,
   "id": "d06c1641-8a6d-4296-b89d-40bd90eee4ef",
   "metadata": {},
   "outputs": [],
   "source": [
    "ds_extreme = ds_extreme.drop('month').to_dataset(name='threshold')"
   ]
  },
  {
   "cell_type": "code",
   "execution_count": null,
   "id": "11d24e7c-61d4-40b3-8c82-759b5fa2d26d",
   "metadata": {},
   "outputs": [],
   "source": [
    "ds_extreme.threshold.sum(('lat','lon')).plot()"
   ]
  },
  {
   "cell_type": "code",
   "execution_count": null,
   "id": "20dbe155-dc8a-4fd6-ac93-5a660515923c",
   "metadata": {},
   "outputs": [],
   "source": [
    "ds_extreme.threshold.sel(time='1997-12').plot()"
   ]
  },
  {
   "cell_type": "code",
   "execution_count": null,
   "id": "d3e4813e-5f13-43ae-99c4-39aed8b0cc3f",
   "metadata": {},
   "outputs": [],
   "source": [
    "# save out\n",
    "ds_extreme.to_netcdf('/glade/work/smogen/SMYLE-extremes/' + var + '.obs.rolling.thold.Rolling2.nc',mode='w')"
   ]
  }
 ],
 "metadata": {
  "kernelspec": {
   "display_name": "Python [conda env:.conda-smyle-analysis-2]",
   "language": "python",
   "name": "conda-env-.conda-smyle-analysis-2-py"
  },
  "language_info": {
   "codemirror_mode": {
    "name": "ipython",
    "version": 3
   },
   "file_extension": ".py",
   "mimetype": "text/x-python",
   "name": "python",
   "nbconvert_exporter": "python",
   "pygments_lexer": "ipython3",
   "version": "3.8.0"
  }
 },
 "nbformat": 4,
 "nbformat_minor": 5
}
