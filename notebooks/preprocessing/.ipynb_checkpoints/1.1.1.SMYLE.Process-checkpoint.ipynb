{
 "cells": [
  {
   "cell_type": "markdown",
   "id": "8f202d07-bccc-4890-a74b-69f19b5887f3",
   "metadata": {},
   "source": [
    "# 1.1: Process SMYLE"
   ]
  },
  {
   "cell_type": "code",
   "execution_count": null,
   "id": "1b487fa8-fdf4-4527-84df-cbd32ace063a",
   "metadata": {},
   "outputs": [],
   "source": [
    "%load_ext autoreload\n",
    "%autoreload 2\n",
    "import xarray as xr \n",
    "import numpy as np  \n",
    "import cftime\n",
    "import copy\n",
    "import scipy.stats\n",
    "from scipy import signal\n",
    "import matplotlib.pyplot as plt\n",
    "import cartopy.crs as ccrs\n",
    "%matplotlib inline\n",
    "\n",
    "from SMYLEutils import calendar_utils as cal\n",
    "from SMYLEutils import stat_utils as stat\n",
    "from SMYLEutils import mapplot_utils as maps\n",
    "from SMYLEutils import colorbar_utils as cbars\n",
    "from SMYLEutils import io_utils as io"
   ]
  },
  {
   "cell_type": "code",
   "execution_count": null,
   "id": "866ed971-8b5d-460b-a028-2eb88e470035",
   "metadata": {},
   "outputs": [],
   "source": [
    "import dask\n",
    "from dask.distributed import wait\n",
    "dask.__version__"
   ]
  },
  {
   "cell_type": "markdown",
   "id": "0b931c97-ff20-442f-9b82-673177962508",
   "metadata": {
    "tags": []
   },
   "source": [
    "## Create Dask"
   ]
  },
  {
   "cell_type": "code",
   "execution_count": null,
   "id": "b19bdd88-fca6-410d-94b4-3dfc90e2b6fb",
   "metadata": {},
   "outputs": [],
   "source": [
    "cluster.close()\n",
    "client.close()"
   ]
  },
  {
   "cell_type": "code",
   "execution_count": null,
   "id": "b6c50ce1-a163-4cd2-a87f-0db23ec0dd3e",
   "metadata": {},
   "outputs": [],
   "source": [
    "2"
   ]
  },
  {
   "cell_type": "code",
   "execution_count": null,
   "id": "bc8054bb-04ef-45f3-9651-721250937d2a",
   "metadata": {},
   "outputs": [],
   "source": [
    "def get_ClusterClient():\n",
    "    import dask\n",
    "    from dask_jobqueue import PBSCluster\n",
    "    from dask.distributed import Client\n",
    "    cluster = PBSCluster(\n",
    "        cores=3,\n",
    "        memory='300GB',\n",
    "        processes=1,\n",
    "        queue='casper',\n",
    "        resource_spec='select=1:ncpus=1:mem=10GB',\n",
    "        project='p93300070',\n",
    "        walltime='05:00:00',\n",
    "        interface='mgt',)\n",
    "\n",
    "    dask.config.set({\n",
    "        'distributed.dashboard.link':\n",
    "        'https://jupyterhub.hpc.ucar.edu/stable/user/{USER}/proxy/{port}/status'\n",
    "    })\n",
    "    client = Client(cluster)\n",
    "    return cluster, client"
   ]
  },
  {
   "cell_type": "code",
   "execution_count": null,
   "id": "8b0d61b5-5f68-4d17-b952-b026ebd61a4c",
   "metadata": {
    "scrolled": true
   },
   "outputs": [],
   "source": [
    "cluster, client = get_ClusterClient()\n",
    "cluster.scale(30)"
   ]
  },
  {
   "cell_type": "code",
   "execution_count": null,
   "id": "9230f584-6d26-4960-ab1d-c7907a4e270d",
   "metadata": {},
   "outputs": [],
   "source": [
    "cluster"
   ]
  },
  {
   "cell_type": "markdown",
   "id": "6a61df5a-9cdd-40b7-a2af-45e6e81dbefc",
   "metadata": {},
   "source": [
    "## Read in POP monthly data\n",
    "- The data loading steps can take ~30 minutes\n",
    "- Chosen field is returned as a dask array with leading dimensions of Y (initialization year), M (ensemble member), and L (lead month).\n",
    "- \"time\" which gives prediction verification time (centered time for a given season) is also dimensioned with (Y,L)\n"
   ]
  },
  {
   "cell_type": "code",
   "execution_count": null,
   "id": "5681e150-dd54-4fce-9572-e34ddf68741c",
   "metadata": {},
   "outputs": [],
   "source": [
    "def preprocessor(ds0,nlead,field):\n",
    "    \"\"\" This preprocessor is applied on an individual timeseries file basis. Edit this appropriately\n",
    "    for a your analysis to speed up processing. \n",
    "    \"\"\"\n",
    "    ds0 = cal.time_set_mid(ds0,'time')\n",
    "    \n",
    "    # # select the depth of your choosing (dimension name varies with variable)\n",
    "    d0 = ds0[field].sel(z_t=0,method='nearest').isel(time=slice(0, nlead))\n",
    "    # d0 = ds0[field].isel(time=slice(0, nlead))\n",
    "\n",
    "    d0 = d0.assign_coords(L=(\"time\", np.arange(d0.sizes[\"time\"])+1))\n",
    "    d0 = d0.swap_dims({\"time\": \"L\"})\n",
    "    d0 = d0.to_dataset(name=field)\n",
    "    d0 = d0.reset_coords([\"time\"])\n",
    "    d0[\"time\"] = d0.time.expand_dims(\"Y\")\n",
    "    return d0   "
   ]
  },
  {
   "cell_type": "code",
   "execution_count": null,
   "id": "2fd061a4-26d0-49a9-8a8b-850309f18c11",
   "metadata": {},
   "outputs": [],
   "source": [
    "var = 'diazChl' # variable of interest\n",
    "depth = 'surface'\n",
    "time = 'monthly' #"
   ]
  },
  {
   "cell_type": "markdown",
   "id": "afe4cc76-eecf-42fc-ad92-088f2615a361",
   "metadata": {},
   "source": [
    "## February Initialization"
   ]
  },
  {
   "cell_type": "code",
   "execution_count": null,
   "id": "da1f56fb-1e1a-4567-b376-7086ae655182",
   "metadata": {
    "tags": []
   },
   "outputs": [],
   "source": [
    "%%time\n",
    "# SMYLE-Feb CO3 data\n",
    "# process all 20 ensemble members, all start dates from 1970-2018:\n",
    "field = var\n",
    "datadir = '/glade/campaign/cesm/development/espwg/SMYLE/archive/'\n",
    "casename = 'b.e21.BSMYLE.f09_g17.????-MM.EEE'\n",
    "filetype = '.pop.h.'\n",
    "filetemplate = datadir+casename+'/ocn/proc/tseries/month_1/'+casename+filetype+field+'.*.nc'\n",
    "ens = 20 \n",
    "nlead = 24\n",
    "firstyear = 1970\n",
    "lastyear  = 2019\n",
    "startmonth = 2\n",
    "\n",
    "chunk = {}\n",
    "smyle02 = io.get_monthly_data(filetemplate,filetype,ens,nlead,field,firstyear,lastyear,startmonth,preprocessor,chunks=chunk)\n",
    "smyle02.nbytes/1e9 #GB"
   ]
  },
  {
   "cell_type": "code",
   "execution_count": null,
   "id": "5090abb3-84f0-4376-9f55-d8153ee5b450",
   "metadata": {},
   "outputs": [],
   "source": [
    "%%time\n",
    "smyle02 = smyle02.persist()"
   ]
  },
  {
   "cell_type": "code",
   "execution_count": null,
   "id": "5743a891-889e-47fa-9ff2-d1c48091cb7b",
   "metadata": {},
   "outputs": [],
   "source": [
    "%%time\n",
    "smyle02 = smyle02.load()\n",
    "smyle02_time = smyle02.time.load()\n",
    "\n",
    "smyle02.to_netcdf('/glade/derecho/scratch/smogen/SMYLE-Extreme/'+ var +'.' + time + '.' + depth + '.02.nc')\n",
    "smyle02_time.to_netcdf('/glade/derecho/scratch/smogen/SMYLE-Extreme/'+ var +'.' + time + '.02.time.nc')"
   ]
  },
  {
   "cell_type": "code",
   "execution_count": null,
   "id": "62f6f2a0-2d3a-4e18-8711-706caf34a512",
   "metadata": {},
   "outputs": [],
   "source": [
    "del smyle02, smyle02_time"
   ]
  },
  {
   "cell_type": "markdown",
   "id": "8525c324-9274-45e1-9966-aadbc34d51e7",
   "metadata": {},
   "source": [
    "## May Initialization"
   ]
  },
  {
   "cell_type": "code",
   "execution_count": null,
   "id": "cac35fb4-234a-4575-8759-6607197d730e",
   "metadata": {
    "tags": []
   },
   "outputs": [],
   "source": [
    "%%time\n",
    "# SMYLE-May CO3 data\n",
    "# process all 20 ensemble members, all start dates from 1970-2018:\n",
    "field = var\n",
    "datadir = '/glade/campaign/cesm/development/espwg/SMYLE/archive/'\n",
    "casename = 'b.e21.BSMYLE.f09_g17.????-MM.EEE'\n",
    "filetype = '.pop.h.'\n",
    "filetemplate = datadir+casename+'/ocn/proc/tseries/month_1/'+casename+filetype+field+'.*.nc'\n",
    "ens = 20 \n",
    "nlead = 24\n",
    "firstyear = 1970\n",
    "lastyear  = 2019\n",
    "startmonth = 5\n",
    "\n",
    "chunk = {}\n",
    "smyle05 = io.get_monthly_data(filetemplate,filetype,ens,nlead,field,firstyear,lastyear,startmonth,preprocessor,chunks=chunk)\n",
    "smyle05.nbytes/1e9 #GB"
   ]
  },
  {
   "cell_type": "code",
   "execution_count": null,
   "id": "3ecb5860-000f-4018-8032-1cd257ddce85",
   "metadata": {},
   "outputs": [],
   "source": [
    "%%time\n",
    "smyle05 = smyle05.persist()"
   ]
  },
  {
   "cell_type": "code",
   "execution_count": null,
   "id": "d4c8448a-ac20-4f2b-b915-140d2ffa065d",
   "metadata": {},
   "outputs": [],
   "source": [
    "%%time\n",
    "smyle05 = smyle05.load()\n",
    "smyle05_time = smyle05.time.load()\n",
    "\n",
    "smyle05.to_netcdf('/glade/derecho/scratch/smogen/SMYLE-Extreme/'+ var +'.' + time + '.' + depth + '.05.nc')\n",
    "smyle05_time.to_netcdf('/glade/derecho/scratch/smogen/SMYLE-Extreme/'+ var +'.' + time + '.05.time.nc')"
   ]
  },
  {
   "cell_type": "code",
   "execution_count": null,
   "id": "4da3e9c6-a44c-44d4-897a-0f49df1e2c9d",
   "metadata": {},
   "outputs": [],
   "source": [
    "del smyle05, smyle05_time"
   ]
  },
  {
   "cell_type": "markdown",
   "id": "d9dd56d3-b633-479b-88b4-14317020f904",
   "metadata": {},
   "source": [
    "## August Initialization"
   ]
  },
  {
   "cell_type": "code",
   "execution_count": null,
   "id": "e6732f67-550a-4ce0-86cd-e52cf1c1ac0f",
   "metadata": {
    "tags": []
   },
   "outputs": [],
   "source": [
    "%%time\n",
    "# SMYLE-May CO3 data\n",
    "# process all 20 ensemble members, all start dates from 1970-2018:\n",
    "field = var\n",
    "datadir = '/glade/campaign/cesm/development/espwg/SMYLE/archive/'\n",
    "casename = 'b.e21.BSMYLE.f09_g17.????-MM.EEE'\n",
    "filetype = '.pop.h.'\n",
    "filetemplate = datadir+casename+'/ocn/proc/tseries/month_1/'+casename+filetype+field+'.*.nc'\n",
    "ens = 20 \n",
    "nlead = 24\n",
    "firstyear = 1970\n",
    "lastyear  = 2019\n",
    "startmonth = 8\n",
    "\n",
    "chunk = {}\n",
    "smyle08 = io.get_monthly_data(filetemplate,filetype,ens,nlead,field,firstyear,lastyear,startmonth,preprocessor,chunks=chunk)\n",
    "smyle08.nbytes/1e9 #GB"
   ]
  },
  {
   "cell_type": "code",
   "execution_count": null,
   "id": "384e2bf2-e3f4-4235-a4fa-87bed6799cc1",
   "metadata": {},
   "outputs": [],
   "source": [
    "%%time\n",
    "smyle08 = smyle08.persist()"
   ]
  },
  {
   "cell_type": "code",
   "execution_count": null,
   "id": "ebc0678c-17ca-4f74-9605-42728b2bb4a1",
   "metadata": {},
   "outputs": [],
   "source": [
    "%%time\n",
    "smyle08 = smyle08.load()\n",
    "smyle08_time = smyle08.time.load()\n",
    "\n",
    "smyle08.to_netcdf('/glade/derecho/scratch/smogen/SMYLE-Extreme/'+ var +'.' + time + '.' + depth + '.08.nc')\n",
    "smyle08_time.to_netcdf('/glade/derecho/scratch/smogen/SMYLE-Extreme/'+ var +'.' + time + '.08.time.nc')"
   ]
  },
  {
   "cell_type": "code",
   "execution_count": null,
   "id": "f0f3d19e-e71e-4847-9828-1634b8a2f01b",
   "metadata": {},
   "outputs": [],
   "source": [
    "del smyle08, smyle08_time"
   ]
  },
  {
   "cell_type": "markdown",
   "id": "76e5863c-bd3b-4ac4-9029-78ebfe0961af",
   "metadata": {},
   "source": [
    "## November Initialization"
   ]
  },
  {
   "cell_type": "code",
   "execution_count": null,
   "id": "093c72de-d324-4d83-822b-7de5ad1d69e7",
   "metadata": {
    "tags": []
   },
   "outputs": [],
   "source": [
    "%%time\n",
    "# SMYLE-May CO3 data\n",
    "# process all 20 ensemble members, all start dates from 1970-2018:\n",
    "field = var\n",
    "datadir = '/glade/campaign/cesm/development/espwg/SMYLE/archive/'\n",
    "casename = 'b.e21.BSMYLE.f09_g17.????-MM.EEE'\n",
    "filetype = '.pop.h.'\n",
    "filetemplate = datadir+casename+'/ocn/proc/tseries/month_1/'+casename+filetype+field+'.*.nc'\n",
    "ens = 20 \n",
    "nlead = 24\n",
    "firstyear = 1970\n",
    "lastyear  = 2019\n",
    "startmonth = 11\n",
    "\n",
    "chunk = {}\n",
    "smyle11 = io.get_monthly_data(filetemplate,filetype,ens,nlead,field,firstyear,lastyear,startmonth,preprocessor,chunks=chunk)\n",
    "smyle11.nbytes/1e9 #GB"
   ]
  },
  {
   "cell_type": "code",
   "execution_count": null,
   "id": "09b4c556-af3a-4461-85b5-608f200d58b8",
   "metadata": {},
   "outputs": [],
   "source": [
    "%%time\n",
    "smyle11 = smyle11.persist()"
   ]
  },
  {
   "cell_type": "code",
   "execution_count": null,
   "id": "c0bcca22-15eb-4dcf-a32b-c291be630f59",
   "metadata": {},
   "outputs": [],
   "source": [
    "%%time\n",
    "smyle11 = smyle11.load()\n",
    "smyle11_time = smyle11.time.load()\n",
    "\n",
    "smyle11.to_netcdf('/glade/derecho/scratch/smogen/SMYLE-Extreme/'+ var +'.' + time + '.' + depth + '.11.nc')\n",
    "smyle11_time.to_netcdf('/glade/derecho/scratch/smogen/SMYLE-Extreme/'+ var +'.' + time + '.11.time.nc')"
   ]
  },
  {
   "cell_type": "code",
   "execution_count": null,
   "id": "bb21136c-65cd-422d-9669-2914de768136",
   "metadata": {},
   "outputs": [],
   "source": [
    "cluster.close()\n",
    "client.close()"
   ]
  }
 ],
 "metadata": {
  "kernelspec": {
   "display_name": "Python [conda env:.conda-smyle-analysis]",
   "language": "python",
   "name": "conda-env-.conda-smyle-analysis-py"
  },
  "language_info": {
   "codemirror_mode": {
    "name": "ipython",
    "version": 3
   },
   "file_extension": ".py",
   "mimetype": "text/x-python",
   "name": "python",
   "nbconvert_exporter": "python",
   "pygments_lexer": "ipython3",
   "version": "3.8.0"
  }
 },
 "nbformat": 4,
 "nbformat_minor": 5
}
