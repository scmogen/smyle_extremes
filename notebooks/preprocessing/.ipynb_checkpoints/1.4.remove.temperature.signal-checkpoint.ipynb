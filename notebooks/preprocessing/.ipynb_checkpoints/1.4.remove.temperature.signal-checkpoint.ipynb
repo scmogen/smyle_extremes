{
 "cells": [
  {
   "cell_type": "markdown",
   "id": "46abf320-4b3e-4a1f-829c-afb3690a7df7",
   "metadata": {},
   "source": [
    "# Remove temperature signal!\n",
    "fit a relationship between pH and temperature and remove it from pH"
   ]
  },
  {
   "cell_type": "code",
   "execution_count": null,
   "id": "c3fabc45-9ffa-4ae9-933f-b0f52a7bd57b",
   "metadata": {
    "tags": []
   },
   "outputs": [],
   "source": [
    "%load_ext autoreload\n",
    "%autoreload 2\n",
    "\n",
    "# install necessary packages\n",
    "\n",
    "import xarray as xr \n",
    "import numpy as np  \n",
    "import cftime\n",
    "import copy\n",
    "import scipy.stats\n",
    "from scipy import signal\n",
    "from functools import partial\n",
    "import glob\n",
    "import dask\n",
    "import matplotlib.pyplot as plt\n",
    "import pandas as pd\n",
    "%matplotlib inline\n",
    "\n",
    "import esmtools as esmtools\n",
    "\n",
    "# ! pip install PyCO2SYS\n",
    "import PyCO2SYS as pyco2"
   ]
  },
  {
   "cell_type": "code",
   "execution_count": null,
   "id": "d9b8df31-a5c3-4e3f-b1da-34e97dec1965",
   "metadata": {},
   "outputs": [],
   "source": [
    "def detrend(dat, dim, deg):\n",
    "    \"\"\" linear detrend dat along the axis dim \"\"\"\n",
    "    params = dat.polyfit(dim=dim, deg=deg)\n",
    "    fit = xr.polyval(dat[dim], params.polyfit_coefficients)\n",
    "    dat = dat-fit\n",
    "    return dat"
   ]
  },
  {
   "cell_type": "code",
   "execution_count": null,
   "id": "0dae6955-3356-46d4-be70-54a15f82d55d",
   "metadata": {},
   "outputs": [],
   "source": [
    "# # FOSI or Observations\n",
    "var = \"H\"\n",
    "depth = \"surface\"\n",
    "time = \"monthly\"\n",
    "\n",
    "# open the data!\n",
    "ds = xr.open_dataset('/glade/work/smogen/SMYLE-extremes/FOSI/'+ var +'.' + time + '.' + depth + '.regrid.nc')[var]\n",
    "ds['time'] = pd.date_range(\"1958-01\", \"2020-12\", freq=\"MS\")\n",
    "\n",
    "var = \"TEMP\"\n",
    "depth = \"surface\"\n",
    "time = \"monthly\"\n",
    "\n",
    "# open the data!\n",
    "ds_t = xr.open_dataset('/glade/work/smogen/SMYLE-extremes/FOSI/'+ var +'.' + time + '.' + depth + '.regrid.nc')[var]\n",
    "ds_t['time'] = pd.date_range(\"1958-01\", \"2020-12\", freq=\"MS\")\n",
    "\n",
    "# # Obs\n",
    "# ds = xr.open_dataset('/glade/work/smogen/SMYLE-extremes/OceanSODA-ETHZ_GRaCER_v2021a_1982-2020.nc')\n",
    "\n",
    "# ds_t = ds['temperature']\n",
    "# ds = 10**(-ds['ph_total'])"
   ]
  },
  {
   "cell_type": "code",
   "execution_count": null,
   "id": "f4f408d0-6b7c-4797-bdcf-d804647dd34a",
   "metadata": {},
   "outputs": [],
   "source": [
    "obs = xr.open_dataset('/glade/work/smogen/SMYLE-extremes/OceanSODA-ETHZ_GRaCER_v2021a_1982-2020.nc')"
   ]
  },
  {
   "cell_type": "code",
   "execution_count": null,
   "id": "bdc5aeef-b18c-4a1d-861f-32524df5c945",
   "metadata": {},
   "outputs": [],
   "source": [
    "print(obs['dic'].mean())\n",
    "print(obs['talk'].mean())\n",
    "\n",
    "print(obs['salinity'].mean())"
   ]
  },
  {
   "cell_type": "markdown",
   "id": "ba7e89af-768b-47ca-b2d4-1dec3e53c88d",
   "metadata": {},
   "source": [
    "## for running pyCO2SYS"
   ]
  },
  {
   "cell_type": "code",
   "execution_count": null,
   "id": "eb3c83c7-6e09-4567-ab0d-d96e532da290",
   "metadata": {},
   "outputs": [],
   "source": [
    "# set up background values for Alkalinity, DIC, Salinity\n",
    "\n",
    "ALK = 2280\n",
    "DIC = 2040\n",
    "SAL = 34"
   ]
  },
  {
   "cell_type": "code",
   "execution_count": null,
   "id": "22d7856b-7b32-4b71-b861-b5bc3256d98d",
   "metadata": {},
   "outputs": [],
   "source": [
    "SST_range = np.arange(0, 30, 0.1)\n",
    "s = SST_range.size;\n",
    "tmp = []\n",
    "SST_range.size\n",
    "\n",
    "for i in range (1,s):\n",
    "    A = pyco2.CO2SYS_nd(ALK,DIC,1,2,SAL,SST_range[i],SST_range[i],5,0,1,10,1);\n",
    "    #     A = pyco2.CO2SYS_nd(alk_CalCS,DIC_CalCS,1,2,sal_CalCS,SST_range[i],SST_range[i],5,0,si_CalCS,po4_CalCS,1,10,1);\n",
    "    tmp.append(A['pH'])\n",
    "\n",
    "pH_sst = np.array(tmp)\n",
    "\n",
    "pH_sst.shape\n",
    "pH_sst = 10**(-pH_sst)\n",
    "\n",
    "from scipy.stats import linregress\n",
    "\n",
    "m, b, r, p, err = linregress(SST_range[0:299],pH_sst) \n",
    "\n",
    "print(m,b)\n",
    "\n",
    "vals = m*SST_range + b"
   ]
  },
  {
   "cell_type": "code",
   "execution_count": null,
   "id": "f5bb8966-7628-4310-8616-038dde2fc231",
   "metadata": {},
   "outputs": [],
   "source": [
    "plt.plot(SST_range,vals)\n",
    "plt.plot(SST_range[0:-1],pH_sst)"
   ]
  },
  {
   "cell_type": "markdown",
   "id": "35019672-3f53-4a38-ac6f-c21903545908",
   "metadata": {},
   "source": [
    "## decompose"
   ]
  },
  {
   "cell_type": "code",
   "execution_count": null,
   "id": "7ac26da1-4916-4b29-8f46-83a36287c6c2",
   "metadata": {},
   "outputs": [],
   "source": [
    "pH_temp = ds_t * m + b"
   ]
  },
  {
   "cell_type": "code",
   "execution_count": null,
   "id": "ffbbd3ad-a531-4e18-b822-a40b984bd5e8",
   "metadata": {},
   "outputs": [],
   "source": [
    "pH_temp.isel(time=0).plot()"
   ]
  },
  {
   "cell_type": "code",
   "execution_count": null,
   "id": "c531c809-aada-4681-8a5d-9c3028b1fe17",
   "metadata": {},
   "outputs": [],
   "source": [
    "residual = ds - pH_temp"
   ]
  },
  {
   "cell_type": "code",
   "execution_count": null,
   "id": "139bb1df-c5c5-4ac6-bd09-88885367c169",
   "metadata": {},
   "outputs": [],
   "source": [
    "residual.sel(lat=0.5,lon=179.5).plot(color='r',label='residual (circulation component)')\n",
    "ds.sel(lat=0.5,lon=179.5).plot(color='k',label='original')\n",
    "pH_temp.sel(lat=0.5,lon=179.5).plot(color='purple',label='temperature component')\n",
    "\n",
    "(pH_temp + residual).sel(lat=0.5,lon=179.5).plot(color='grey',label='combined',linestyle='--')\n",
    "\n",
    "plt.legend()"
   ]
  },
  {
   "cell_type": "code",
   "execution_count": null,
   "id": "c77f3dca-ca4f-4ee9-ac59-71ead87a5fc8",
   "metadata": {},
   "outputs": [],
   "source": [
    "residual = residual.to_dataset(name = 'H_residual')\n",
    "pH_temp = pH_temp.to_dataset(name = 'H_temp')"
   ]
  },
  {
   "cell_type": "code",
   "execution_count": null,
   "id": "f40fb8e1-3e5f-4725-9848-32fa9510e167",
   "metadata": {},
   "outputs": [],
   "source": [
    "ds.to_netcdf('/glade/work/smogen/SMYLE-extremes/FOSI/H.' + time + '.' + depth + '.trend.regrid.obs.nc')\n",
    "residual.to_netcdf('/glade/work/smogen/SMYLE-extremes/FOSI/H_residual.' + time + '.' + depth + '.trend.regrid.obs.nc')\n",
    "pH_temp.to_netcdf('/glade/work/smogen/SMYLE-extremes/FOSI/H_temp.' + time + '.' + depth + '.trend.regrid.obs.nc')"
   ]
  },
  {
   "cell_type": "code",
   "execution_count": null,
   "id": "df78c50b-3962-429b-b4b8-acc16452034b",
   "metadata": {},
   "outputs": [],
   "source": []
  },
  {
   "cell_type": "code",
   "execution_count": null,
   "id": "7f53de38-cee7-428f-b1da-ff3312f6c44d",
   "metadata": {},
   "outputs": [],
   "source": []
  },
  {
   "cell_type": "code",
   "execution_count": null,
   "id": "7ac33ff4-6248-4c01-b1cc-9b6f45ff28bb",
   "metadata": {},
   "outputs": [],
   "source": []
  },
  {
   "cell_type": "code",
   "execution_count": null,
   "id": "9cd5b193-3995-4234-b8bf-88e1512b31bc",
   "metadata": {},
   "outputs": [],
   "source": []
  }
 ],
 "metadata": {
  "kernelspec": {
   "display_name": "Python [conda env:.conda-smyle-analysis-2]",
   "language": "python",
   "name": "conda-env-.conda-smyle-analysis-2-py"
  },
  "language_info": {
   "codemirror_mode": {
    "name": "ipython",
    "version": 3
   },
   "file_extension": ".py",
   "mimetype": "text/x-python",
   "name": "python",
   "nbconvert_exporter": "python",
   "pygments_lexer": "ipython3",
   "version": "3.8.0"
  }
 },
 "nbformat": 4,
 "nbformat_minor": 5
}
