{
 "cells": [
  {
   "cell_type": "markdown",
   "id": "b34d8276-de99-438e-bb79-80188c459c4d",
   "metadata": {},
   "source": [
    "# SEDI Index"
   ]
  },
  {
   "cell_type": "code",
   "execution_count": null,
   "id": "f8950d83-9862-4e66-923b-57d3ed4b1bde",
   "metadata": {},
   "outputs": [],
   "source": [
    "# general use packages\n",
    "%matplotlib inline\n",
    "import matplotlib.pyplot as plt\n",
    "import xarray as xr\n",
    "import pandas as pd\n",
    "import numpy as np\n",
    "\n",
    "# packages for altering time to match up!\n",
    "import sys\n",
    "import cftime\n",
    "\n",
    "# climpred packages\n",
    "import climpred\n",
    "from climpred import HindcastEnsemble\n",
    "from climpred.tutorial import load_dataset\n",
    "from climpred.stats import rm_poly\n",
    "\n",
    "# SMYLE Utility functions\n",
    "from SMYLEutils import io_utils as io\n",
    "from SMYLEutils import calendar_utils as cal\n",
    "from SMYLEutils import stat_utils as stat"
   ]
  },
  {
   "cell_type": "code",
   "execution_count": null,
   "id": "3f8838ac-19f3-4324-bdcb-42767e3cb2fb",
   "metadata": {},
   "outputs": [],
   "source": [
    "import random"
   ]
  },
  {
   "cell_type": "code",
   "execution_count": null,
   "id": "03c89864-43a8-44d1-8570-c7e9f61dc108",
   "metadata": {},
   "outputs": [],
   "source": [
    "import sklearn.metrics as sk"
   ]
  },
  {
   "cell_type": "code",
   "execution_count": null,
   "id": "9366649b-7fe9-4093-acbc-d862a5a9f88a",
   "metadata": {},
   "outputs": [],
   "source": [
    "var = 'TEMP'\n",
    "var2 = 'TEMP'\n",
    "depth = 'surface'"
   ]
  },
  {
   "cell_type": "code",
   "execution_count": null,
   "id": "42c13017-7b84-4395-9dac-fd6dc2bfea42",
   "metadata": {},
   "outputs": [],
   "source": [
    "smyle02 = xr.open_dataset('/glade/work/smogen/SMYLE-extremes/thresholds/'+var +  '.monthly.' + depth + '.02.binary.Rolling.full.2.nc')['binary']\n",
    "smyle02_time = xr.open_dataset('/glade/scratch/smogen/SMYLE-Extreme/'+var2+'.monthly.02.time.nc')#.sel(L=slice(1,12))\n",
    "\n",
    "smyle05 = xr.open_dataset('/glade/work/smogen/SMYLE-extremes/thresholds/'+var +  '.monthly.' + depth + '.05.binary.Rolling.full.2.nc')['binary']\n",
    "smyle05_time = xr.open_dataset('/glade/scratch/smogen/SMYLE-Extreme/'+var2+'.monthly.05.time.nc')#.sel(L=slice(1,12))\n",
    "\n",
    "smyle08 = xr.open_dataset('/glade/work/smogen/SMYLE-extremes/thresholds/'+var +  '.monthly.' + depth + '.08.binary.Rolling.full.2.nc')['binary']\n",
    "smyle08_time = xr.open_dataset('/glade/scratch/smogen/SMYLE-Extreme/'+var2+'.monthly.08.time.nc')#.sel(L=slice(1,12))\n",
    "\n",
    "smyle11 = xr.open_dataset('/glade/work/smogen/SMYLE-extremes/thresholds/'+var +  '.monthly.' + depth + '.11.binary.Rolling.full.2.nc')['binary']\n",
    "smyle11_time = xr.open_dataset('/glade/scratch/smogen/SMYLE-Extreme/'+var2+'.monthly.11.time.nc')#.sel(L=slice(1,12))"
   ]
  },
  {
   "cell_type": "code",
   "execution_count": null,
   "id": "079a9766-7efe-49d2-8cef-3ac2499bd65d",
   "metadata": {},
   "outputs": [],
   "source": [
    "if var == 'combined_oa':\n",
    "    smyle02 = ~np.isnan(smyle02)\n",
    "    smyle05 = ~np.isnan(smyle05)\n",
    "    smyle08 = ~np.isnan(smyle08)\n",
    "    smyle11 = ~np.isnan(smyle11)"
   ]
  },
  {
   "cell_type": "code",
   "execution_count": null,
   "id": "b014fcb2-0060-4ea4-8541-3c40310376ef",
   "metadata": {},
   "outputs": [],
   "source": [
    "smyle02 = smyle02.expand_dims(\"init\"); smyle02_time  = smyle02_time.expand_dims(\"init\")\n",
    "smyle05 = smyle05.expand_dims(\"init\"); smyle05_time  = smyle05_time.expand_dims(\"init\")\n",
    "smyle08 = smyle08.expand_dims(\"init\"); smyle08_time  = smyle08_time.expand_dims(\"init\")\n",
    "smyle11 = smyle11.expand_dims(\"init\"); smyle11_time  = smyle11_time.expand_dims(\"init\")"
   ]
  },
  {
   "cell_type": "code",
   "execution_count": null,
   "id": "c2c67e27-5e5e-4cc6-a384-a729c3648ea8",
   "metadata": {},
   "outputs": [],
   "source": [
    "smyle02['init'] = ['02']; smyle02_time['init'] = ['02']\n",
    "smyle05['init'] = ['05']; smyle05_time['init'] = ['05']\n",
    "smyle08['init'] = ['08']; smyle08_time['init'] = ['08']\n",
    "smyle11['init'] = ['11']; smyle11_time['init'] = ['11']"
   ]
  },
  {
   "cell_type": "code",
   "execution_count": null,
   "id": "161e8a2e-3293-4bc2-ac4b-14c7b0361369",
   "metadata": {},
   "outputs": [],
   "source": [
    "smyle = xr.concat([smyle02,smyle05,smyle08,smyle11],'init')\n",
    "smyle_time = xr.concat([smyle02_time,smyle05_time,smyle08_time,smyle11_time],'init')"
   ]
  },
  {
   "cell_type": "code",
   "execution_count": null,
   "id": "071bcbcf-9e06-436d-825d-bd13c7bf7ce7",
   "metadata": {},
   "outputs": [],
   "source": [
    "# var = 'omega_arag'\n",
    "# obs = xr.open_dataset('/glade/work/smogen/SMYLE-extremes/' + var + '.mri.rolling.thold.Rolling.nc')\n",
    "obs = xr.open_dataset('/glade/work/smogen/SMYLE-extremes/' + var + '.obs.rolling.thold.Rolling2.nc')\n",
    "# obs = xr.open_dataset('/glade/work/smogen/SMYLE-extremes/' + var2 + '.fosi.rolling.thold.Rolling.nc')\n",
    "# var = 'omega_arag'"
   ]
  },
  {
   "cell_type": "markdown",
   "id": "db88b3b8-10cf-472c-bd7b-d19dd60e05cb",
   "metadata": {},
   "source": [
    "## mask land as NaNs"
   ]
  },
  {
   "cell_type": "code",
   "execution_count": null,
   "id": "7ff6a7ef-7f48-4a3f-956c-683e15ba1238",
   "metadata": {},
   "outputs": [],
   "source": [
    "ds = xr.open_dataset('/glade/work/smogen/SMYLE-extremes/OceanSODA-ETHZ_GRaCER_v2021a_1982-2020.nc')['temperature'].isel(time=0).drop('time')"
   ]
  },
  {
   "cell_type": "code",
   "execution_count": null,
   "id": "2481d1b4-cad3-4384-962a-aded6840c41a",
   "metadata": {},
   "outputs": [],
   "source": [
    "ds = ds.where(ds.lat < 65)"
   ]
  },
  {
   "cell_type": "code",
   "execution_count": null,
   "id": "6100eeeb-e841-41bc-9da4-a6f582c022fa",
   "metadata": {},
   "outputs": [],
   "source": [
    "np.isnan(ds).plot()"
   ]
  },
  {
   "cell_type": "code",
   "execution_count": null,
   "id": "63dae0d2-2537-46e3-b0bf-d07e43aa5b32",
   "metadata": {},
   "outputs": [],
   "source": [
    "obs = obs.where(np.isnan(ds) == 0, np.NaN)"
   ]
  },
  {
   "cell_type": "code",
   "execution_count": null,
   "id": "182daf80-9e28-4de8-9a15-acc7154f0a9c",
   "metadata": {},
   "outputs": [],
   "source": [
    "obs.threshold.sel(time='1997-05').plot()"
   ]
  },
  {
   "cell_type": "code",
   "execution_count": null,
   "id": "ca471916-973f-40e1-bc4e-dfe3d5e410be",
   "metadata": {},
   "outputs": [],
   "source": [
    "smyle = smyle.where(np.isnan(ds) == 0, np.NaN)"
   ]
  },
  {
   "cell_type": "code",
   "execution_count": null,
   "id": "6ff645c6-4eb1-4acc-bec1-a73c3b573ea4",
   "metadata": {},
   "outputs": [],
   "source": [
    "smyle.sel(Y=1997,M=1,L=4,init='02').plot()"
   ]
  },
  {
   "cell_type": "markdown",
   "id": "5b4783f1-e71e-4bde-bee2-2d36f4751645",
   "metadata": {},
   "source": [
    "## Make a contingency table\n",
    "\n",
    "| Value      | Description |\n",
    "| ----------- | ----------- |\n",
    "| 1      | False negative       |\n",
    "| 2      | True negative       |\n",
    "| 3      | False positive       |\n",
    "| 4      | True positive       |\n"
   ]
  },
  {
   "cell_type": "code",
   "execution_count": null,
   "id": "5dd58f96-9c09-4501-840a-ac04ef87ded6",
   "metadata": {},
   "outputs": [],
   "source": [
    "def sedi_index(data):\n",
    "    hit_rate = (~np.isnan(data.where(data == 4))).sum(dim=('member','time'),skipna=True) / ((~np.isnan(data.where(data == 4))).sum(dim=('member','time'),skipna=True) + (~np.isnan(data.where(data == 1))).sum(dim=('member','time'),skipna=True))\n",
    "    hit_rate = hit_rate\n",
    "    false_rate = (~np.isnan(data.where(data == 3))).sum(dim=('member','time'),skipna=True) / ((~np.isnan(data.where(data == 3))).sum(dim=('member','time'),skipna=True) + (~np.isnan(data.where(data == 2))).sum(dim=('member','time'),skipna=True))\n",
    "    false_rate = false_rate\n",
    "    num = np.log10(false_rate) - np.log10(hit_rate) - (np.log10(1- false_rate)) + np.log10(1 - hit_rate)\n",
    "    denom = np.log10(false_rate) + np.log10(hit_rate) + (np.log10(1- false_rate)) + np.log10(1 - hit_rate)\n",
    "    sedi = num / denom\n",
    "    \n",
    "    return sedi"
   ]
  },
  {
   "cell_type": "code",
   "execution_count": null,
   "id": "97a4c8ae-34cb-4d9b-8194-17511b313b11",
   "metadata": {},
   "outputs": [],
   "source": [
    "def skill(mod_da,mod_time,obs_da):\n",
    "    # results = []\n",
    "    sedi_results = []\n",
    "    \n",
    "    for i in range(len(mod_da.L)):\n",
    "        # select a given member of the ensemble\n",
    "        mod_da_L = mod_da.isel(L=i)\n",
    "        results = []\n",
    "        obs_range = []\n",
    "        # put everything into a contingency table (key is listed above)\n",
    "        for h in (mod_da.init):\n",
    "            mod_da_L_I = mod_da_L.sel(init=h)\n",
    "            for j in range(6): # range(len(mod_da.M)):\n",
    "                ens = mod_da_L_I.isel(M=j).rename({'Y':'time'})\n",
    "            \n",
    "                ens_time_year = mod_time.sel(init=h).isel(L=i).time.dt.year.data\n",
    "                ens_time_month = mod_time.sel(init=h).isel(L=i).time.dt.month.data[0]\n",
    "                ens_ts = ens.assign_coords(time=(\"time\",ens_time_year))\n",
    "                obs_ts = obs_da.where(obs_da.time.dt.month == ens_time_month,drop=True)\n",
    "            \n",
    "                obs_ts['time'] = obs_ts['time'].dt.year\n",
    "            \n",
    "                ens_ts, obs_ts = xr.align(ens_ts, obs_ts)\n",
    "                \n",
    "                ## randomize the values here!\n",
    "                ens_ts_use = random.choices(ens_ts,k=len(ens_ts))\n",
    "                ens_ts_use = xr.concat(ens_ts_use,'time')\n",
    "                ens_ts_use['time'] = ens_ts['time']\n",
    "                \n",
    "                pos = (ens_ts_use.where(ens_ts_use.astype(int) == 1) + obs_ts + 2).rename('skill')\n",
    "                neg = (ens_ts_use.where(ens_ts_use.astype(int) == 0) - obs_ts + 2).rename('skill')\n",
    "                contingency = xr.merge([pos,neg])\n",
    "                contingency = contingency.expand_dims('member')\n",
    "                results.append(contingency)\n",
    "                \n",
    "                # isolate the month from observations \n",
    "                obs_ts.expand_dims('month')\n",
    "                obs_ts['month'] = ens_time_month\n",
    "                obs_range.append(obs_ts)                \n",
    "        \n",
    "        results_ds = xr.concat(results,'member')\n",
    "        \n",
    "        # run the SEDI score function (above), as in Jacox 2022\n",
    "        sedi = sedi_index(results_ds.skill)\n",
    "        sedi_results.append(sedi)            \n",
    "        \n",
    "    ds = xr.concat(sedi_results,'L'); \n",
    "    \n",
    "    return ds\n",
    "    # return ens_ts, ens_ts_use, obs_ts"
   ]
  },
  {
   "cell_type": "code",
   "execution_count": null,
   "id": "9ff0db4a-36fc-49f8-aa94-9ec2cdef3e3b",
   "metadata": {
    "scrolled": true,
    "tags": []
   },
   "outputs": [],
   "source": [
    "%%time\n",
    "# contingency, results = skill(smyle,smyle_time,obs.threshold)\n",
    "sedi_score = skill(smyle,smyle_time,obs.threshold)"
   ]
  },
  {
   "cell_type": "code",
   "execution_count": null,
   "id": "17f04398-ea1c-408c-b53e-0aed145e9b66",
   "metadata": {
    "scrolled": true
   },
   "outputs": [],
   "source": [
    "%%time\n",
    "sedi_bootstrap = []\n",
    "# for i in range(1000):\n",
    "for i in range(1000):\n",
    "    print(i)\n",
    "    sedi_score = skill(smyle,smyle_time,obs.threshold)\n",
    "    sedi_score.expand_dims('bootstrap')\n",
    "    sedi_score['bootstrap'] = i\n",
    "    sedi_bootstrap.append(sedi_score)"
   ]
  },
  {
   "cell_type": "code",
   "execution_count": null,
   "id": "8215f06c-0244-454e-b94b-fcaad88559da",
   "metadata": {},
   "outputs": [],
   "source": [
    "# 100 times, 10 members\n",
    "tmp = xr.concat(sedi_bootstrap,'bootstrap')\n",
    "tmp.quantile(.995,dim='bootstrap').plot(vmin=-1,vmax=1,cmap='coolwarm')"
   ]
  },
  {
   "cell_type": "code",
   "execution_count": null,
   "id": "dfaa30f2-41df-4da4-a4b2-75190b5e2ce5",
   "metadata": {},
   "outputs": [],
   "source": [
    "tmp.quantile(.975,dim='bootstrap').sel(lat=10.5,lon=-150.5)#.mean()"
   ]
  },
  {
   "cell_type": "code",
   "execution_count": null,
   "id": "a984093c-c221-41e9-befb-eed5c370e103",
   "metadata": {},
   "outputs": [],
   "source": [
    "tmp.to_netcdf('./' + var + '.signficance.lead.nc')"
   ]
  },
  {
   "cell_type": "code",
   "execution_count": null,
   "id": "b0a4ca67-4c78-4420-966c-aecf9e10d833",
   "metadata": {},
   "outputs": [],
   "source": [
    "tmp.quantile(.995,dim='bootstrap').sel(lat=10.5,lon=-150.5)#.mean()"
   ]
  }
 ],
 "metadata": {
  "kernelspec": {
   "display_name": "Python [conda env:.conda-smyle-analysis-2]",
   "language": "python",
   "name": "conda-env-.conda-smyle-analysis-2-py"
  },
  "language_info": {
   "codemirror_mode": {
    "name": "ipython",
    "version": 3
   },
   "file_extension": ".py",
   "mimetype": "text/x-python",
   "name": "python",
   "nbconvert_exporter": "python",
   "pygments_lexer": "ipython3",
   "version": "3.8.0"
  }
 },
 "nbformat": 4,
 "nbformat_minor": 5
}
