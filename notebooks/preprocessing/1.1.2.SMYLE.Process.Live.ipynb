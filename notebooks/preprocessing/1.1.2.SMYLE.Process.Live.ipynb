{
 "cells": [
  {
   "cell_type": "markdown",
   "id": "8f202d07-bccc-4890-a74b-69f19b5887f3",
   "metadata": {},
   "source": [
    "# 1.1: Process SMYLE"
   ]
  },
  {
   "cell_type": "code",
   "execution_count": null,
   "id": "1b487fa8-fdf4-4527-84df-cbd32ace063a",
   "metadata": {},
   "outputs": [],
   "source": [
    "%load_ext autoreload\n",
    "%autoreload 2\n",
    "import xarray as xr \n",
    "import numpy as np  \n",
    "import cftime\n",
    "import copy\n",
    "import scipy.stats\n",
    "from scipy import signal\n",
    "import matplotlib.pyplot as plt\n",
    "import cartopy.crs as ccrs\n",
    "%matplotlib inline\n",
    "\n",
    "from SMYLEutils import calendar_utils as cal\n",
    "from SMYLEutils import stat_utils as stat\n",
    "from SMYLEutils import mapplot_utils as maps\n",
    "from SMYLEutils import colorbar_utils as cbars\n",
    "from SMYLEutils import io_utils as io"
   ]
  },
  {
   "cell_type": "code",
   "execution_count": null,
   "id": "866ed971-8b5d-460b-a028-2eb88e470035",
   "metadata": {},
   "outputs": [],
   "source": [
    "import dask\n",
    "from dask.distributed import wait\n",
    "dask.__version__"
   ]
  },
  {
   "cell_type": "markdown",
   "id": "0b931c97-ff20-442f-9b82-673177962508",
   "metadata": {
    "tags": []
   },
   "source": [
    "## Create Dask"
   ]
  },
  {
   "cell_type": "code",
   "execution_count": null,
   "id": "b19bdd88-fca6-410d-94b4-3dfc90e2b6fb",
   "metadata": {},
   "outputs": [],
   "source": [
    "cluster.close()\n",
    "client.close()"
   ]
  },
  {
   "cell_type": "code",
   "execution_count": null,
   "id": "bc8054bb-04ef-45f3-9651-721250937d2a",
   "metadata": {},
   "outputs": [],
   "source": [
    "def get_ClusterClient():\n",
    "    import dask\n",
    "    from dask_jobqueue import PBSCluster\n",
    "    from dask.distributed import Client\n",
    "    cluster = PBSCluster(\n",
    "        cores=3,\n",
    "        memory='300GB',\n",
    "        processes=1,\n",
    "        queue='casper',\n",
    "        resource_spec='select=1:ncpus=1:mem=10GB',\n",
    "        project='p93300070',\n",
    "        walltime='05:00:00',\n",
    "        interface='mgt',)\n",
    "\n",
    "    dask.config.set({\n",
    "        'distributed.dashboard.link':\n",
    "        'https://jupyterhub.hpc.ucar.edu/stable/user/{USER}/proxy/{port}/status'\n",
    "    })\n",
    "    client = Client(cluster)\n",
    "    return cluster, client"
   ]
  },
  {
   "cell_type": "code",
   "execution_count": null,
   "id": "8b0d61b5-5f68-4d17-b952-b026ebd61a4c",
   "metadata": {
    "scrolled": true
   },
   "outputs": [],
   "source": [
    "cluster, client = get_ClusterClient()\n",
    "cluster.scale(30)"
   ]
  },
  {
   "cell_type": "markdown",
   "id": "6a61df5a-9cdd-40b7-a2af-45e6e81dbefc",
   "metadata": {},
   "source": [
    "## Read in POP monthly data\n",
    "- The data loading steps can take ~30 minutes\n",
    "- Chosen field is returned as a dask array with leading dimensions of Y (initialization year), M (ensemble member), and L (lead month)."
   ]
  },
  {
   "cell_type": "code",
   "execution_count": null,
   "id": "5681e150-dd54-4fce-9572-e34ddf68741c",
   "metadata": {},
   "outputs": [],
   "source": [
    "def preprocessor(ds0,nlead,field):\n",
    "    \"\"\" This preprocessor is applied on an individual timeseries file basis. Edit this appropriately\n",
    "    for a your analysis to speed up processing. \n",
    "    \"\"\"\n",
    "    ds0 = cal.time_set_mid(ds0,'time')\n",
    "    \n",
    "    # # select the depth of your choosing\n",
    "    d0 = ds0[field].sel(z_t=0,method='nearest').isel(time=slice(0, nlead))\n",
    "    # d0 = ds0[field].isel(time=slice(0, nlead))\n",
    "\n",
    "    d0 = d0.assign_coords(L=(\"time\", np.arange(d0.sizes[\"time\"])+1))\n",
    "    d0 = d0.swap_dims({\"time\": \"L\"})\n",
    "    d0 = d0.to_dataset(name=field)\n",
    "    d0 = d0.reset_coords([\"time\"])\n",
    "    d0[\"time\"] = d0.time.expand_dims(\"Y\")\n",
    "    return d0   "
   ]
  },
  {
   "cell_type": "code",
   "execution_count": null,
   "id": "2fd061a4-26d0-49a9-8a8b-850309f18c11",
   "metadata": {},
   "outputs": [],
   "source": [
    "var = 'co3_sat_arag' # \n",
    "depth = 'surface'\n",
    "time = 'monthly' #"
   ]
  },
  {
   "cell_type": "code",
   "execution_count": null,
   "id": "be8f21b1-1fae-4933-8593-0143e109b551",
   "metadata": {
    "tags": []
   },
   "outputs": [],
   "source": [
    "%%time\n",
    "# SMYLE-Feb CO3 data\n",
    "# process all 20 ensemble members, all start dates from 1970-2018:\n",
    "field = var\n",
    "datadir = '/glade/campaign/cesm/development/espwg/SMYLE/archive/'\n",
    "casename = 'b.e21.BSMYLE.f09_g17.????-MM.EEE'\n",
    "# b.e21.BSMYLE.f09_g17.2023-08.001\n",
    "filetype = '.pop.h.'\n",
    "filetemplate = datadir+casename+'/ocn/proc/tseries/month_1/'+casename+filetype+field+'.*.nc'\n",
    "ens = 20 \n",
    "nlead = 24\n",
    "firstyear = 1970\n",
    "lastyear  = 2020\n",
    "startmonth = 8\n",
    "\n",
    "# chunk = {}\n",
    "# smyle08 = io.get_monthly_data(filetemplate,filetype,ens,nlead,field,firstyear,lastyear,startmonth,preprocessor,chunks=chunk)\n",
    "# smyle08.nbytes/1e9 #GB"
   ]
  },
  {
   "cell_type": "code",
   "execution_count": null,
   "id": "04880374-b422-4ba9-82a0-542275dd4fbd",
   "metadata": {},
   "outputs": [],
   "source": [
    "%%time\n",
    "smyle08 = smyle08.persist()"
   ]
  },
  {
   "cell_type": "code",
   "execution_count": null,
   "id": "7ea4873f-b11f-4d9b-ae51-c7822124f266",
   "metadata": {
    "tags": []
   },
   "outputs": [],
   "source": [
    "smyle08"
   ]
  },
  {
   "cell_type": "code",
   "execution_count": null,
   "id": "664fb171-0c32-429d-bf13-a0e530dcab00",
   "metadata": {},
   "outputs": [],
   "source": [
    "%%time\n",
    "# SMYLE-Feb CO3 data\n",
    "# process all 20 ensemble members, all start dates from 1970-2018:\n",
    "field = var\n",
    "datadir = '/glade/campaign/cesm/development/espwg/SMYLE-realtime/timeseries/'\n",
    "casename = 'b.e21.BSMYLE.f09_g17.????-MM.EEE'\n",
    "# b.e21.BSMYLE.f09_g17.2023-08.001\n",
    "filetype = '.pop.h.'\n",
    "filetemplate = datadir+casename+'/ocn/proc/tseries/month_1/'+casename+filetype+field+'.*.nc'\n",
    "ens = 20 \n",
    "nlead = 24\n",
    "firstyear = 2020\n",
    "lastyear  = 2023\n",
    "startmonth = 8\n",
    "\n",
    "chunk = {}\n",
    "smyle08_2 = io.get_monthly_data(filetemplate,filetype,ens,nlead,field,firstyear,lastyear,startmonth,preprocessor,chunks=chunk)\n",
    "smyle08_2.nbytes/1e9 #GB"
   ]
  },
  {
   "cell_type": "code",
   "execution_count": null,
   "id": "a4edce61-4f1c-403f-bf42-e4878e7205bb",
   "metadata": {},
   "outputs": [],
   "source": [
    "%%time\n",
    "smyle08_2 = smyle08_2.persist()"
   ]
  },
  {
   "cell_type": "code",
   "execution_count": null,
   "id": "97d7b0df-67af-4fa4-a2d3-1c1d2a9e3e0f",
   "metadata": {},
   "outputs": [],
   "source": [
    "# smyle08_2.TEMP.isel(Y=1,L=5,M=4).plot()"
   ]
  },
  {
   "cell_type": "code",
   "execution_count": null,
   "id": "b019565c-fae3-4a6a-b0f0-dcb05e42869b",
   "metadata": {},
   "outputs": [],
   "source": [
    "smyle08_use = xr.concat([smyle08,smyle08_2],dim='Y')"
   ]
  },
  {
   "cell_type": "code",
   "execution_count": null,
   "id": "f3eb02db-4749-4494-ac02-7a36081d8044",
   "metadata": {},
   "outputs": [],
   "source": [
    "%%time\n",
    "smyle08_use = smyle08_use.load()\n",
    "smyle08_time = smyle08_use.time.load()\n",
    "\n",
    "smyle08_use.to_netcdf('/glade/scratch/smogen/SMYLE-Extreme/'+ var +'.' + time + '.' + depth + '.live.nc')\n",
    "smyle08_time.to_netcdf('/glade/scratch/smogen/SMYLE-Extreme/'+ var +'.' + time + '.live.time.nc')"
   ]
  },
  {
   "cell_type": "code",
   "execution_count": null,
   "id": "54645750-f618-4751-a3f4-571ceb2d95f0",
   "metadata": {},
   "outputs": [],
   "source": [
    "smyle08_use"
   ]
  },
  {
   "cell_type": "markdown",
   "id": "64c579ab-5c9d-42c9-9cd2-472f37f68017",
   "metadata": {
    "tags": []
   },
   "source": [
    "# November Initialization 2020-2023"
   ]
  },
  {
   "cell_type": "code",
   "execution_count": null,
   "id": "40309df0-24dc-4ed0-9ac3-56f84a8adaec",
   "metadata": {
    "scrolled": true,
    "tags": []
   },
   "outputs": [],
   "source": [
    "%%time\n",
    "# SMYLE-Feb CO3 data\n",
    "# process all 20 ensemble members, all start dates from 1970-2018:\n",
    "field = var\n",
    "datadir = '/glade/campaign/cesm/development/espwg/SMYLE/archive/'\n",
    "casename = 'b.e21.BSMYLE.f09_g17.????-MM.EEE'\n",
    "# casename = 'b.e21.BSMYLE.f09_g17.????-MM.EEE'\n",
    "# BSMYLE-XT-beta\n",
    "# b.e21.BSMYLE.f09_g17.2023-08.001\n",
    "filetype = '.pop.h.'\n",
    "filetemplate = datadir+casename+'/ocn/proc/tseries/month_1/'+casename+filetype+field+'.*.nc'\n",
    "ens = 20 \n",
    "nlead = 24\n",
    "firstyear = 1970\n",
    "lastyear  = 2020\n",
    "startmonth = 11\n",
    "\n",
    "chunk = {}\n",
    "smyle11 = io.get_monthly_data(filetemplate,filetype,ens,nlead,field,firstyear,lastyear,startmonth,preprocessor,chunks=chunk)\n",
    "smyle11.nbytes/1e9 #GB"
   ]
  },
  {
   "cell_type": "code",
   "execution_count": null,
   "id": "e211801e-f690-4c73-aa4a-3ae8d626eae3",
   "metadata": {},
   "outputs": [],
   "source": [
    "%%time\n",
    "smyle11 = smyle11.persist()"
   ]
  },
  {
   "cell_type": "code",
   "execution_count": null,
   "id": "5c6da257-f740-4427-9990-7cdf4d94b822",
   "metadata": {},
   "outputs": [],
   "source": [
    "%%time\n",
    "print('loading')\n",
    "smyle11_use = smyle11.load()\n",
    "smyle11_time = smyle11.time.load()\n",
    "\n",
    "print('saving')\n",
    "smyle11_use.to_netcdf('/glade/derecho/scratch/smogen/SMYLE-Extreme/'+ var +'.' + time + '.' + depth + '.live11.update.new_run.nc')\n",
    "smyle11_time.to_netcdf('/glade/derecho/scratch/smogen/SMYLE-Extreme/'+ var +'.' + time + '.live11.time.update.new_run.nc')"
   ]
  },
  {
   "cell_type": "code",
   "execution_count": null,
   "id": "d85eaba1-0a49-4846-aa72-baf936af3fe8",
   "metadata": {},
   "outputs": [],
   "source": [
    "del smyle11_use"
   ]
  }
 ],
 "metadata": {
  "kernelspec": {
   "display_name": "Python [conda env:.conda-smyle-analysis]",
   "language": "python",
   "name": "conda-env-.conda-smyle-analysis-py"
  },
  "language_info": {
   "codemirror_mode": {
    "name": "ipython",
    "version": 3
   },
   "file_extension": ".py",
   "mimetype": "text/x-python",
   "name": "python",
   "nbconvert_exporter": "python",
   "pygments_lexer": "ipython3",
   "version": "3.8.0"
  }
 },
 "nbformat": 4,
 "nbformat_minor": 5
}
