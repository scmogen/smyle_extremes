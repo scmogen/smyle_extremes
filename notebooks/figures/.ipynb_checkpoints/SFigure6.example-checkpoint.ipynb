{
 "cells": [
  {
   "cell_type": "markdown",
   "metadata": {},
   "source": [
    "# Example OAX event in FOSI, Obs and SMYLE"
   ]
  },
  {
   "cell_type": "code",
   "execution_count": null,
   "metadata": {},
   "outputs": [],
   "source": [
    "# general use packages\n",
    "%matplotlib inline\n",
    "import matplotlib.pyplot as plt\n",
    "import xarray as xr\n",
    "import pandas as pd\n",
    "import numpy as np\n",
    "\n",
    "# packages for altering time to match up!\n",
    "import sys\n",
    "import cftime\n",
    "\n",
    "# climpred packages\n",
    "import climpred\n",
    "from climpred import HindcastEnsemble\n",
    "from climpred.tutorial import load_dataset\n",
    "from climpred.stats import rm_poly"
   ]
  },
  {
   "cell_type": "code",
   "execution_count": null,
   "metadata": {},
   "outputs": [],
   "source": [
    "import cartopy.crs as ccrs\n",
    "import cartopy.feature as cfeature"
   ]
  },
  {
   "cell_type": "code",
   "execution_count": null,
   "metadata": {},
   "outputs": [],
   "source": [
    "def detrend_linear(dat, dim, deg):\n",
    "    \"\"\" linear detrend dat along the axis dim \"\"\"\n",
    "    params = dat.polyfit(dim=dim, deg=deg)\n",
    "    fit = xr.polyval(dat[dim], params.polyfit_coefficients)\n",
    "    dat = dat-fit\n",
    "    return dat"
   ]
  },
  {
   "cell_type": "code",
   "execution_count": null,
   "metadata": {},
   "outputs": [],
   "source": [
    "ds = xr.open_dataset('/glade/work/smogen/SMYLE-extremes/OceanSODA-ETHZ_GRaCER_v2021a_1982-2020.nc')\n",
    "\n",
    "ds = ds.groupby('time.month') - ds.groupby('time.month').mean()\n",
    "\n",
    "ds_omega = detrend_linear(ds.omega_ar,dim='time',deg=1)\n",
    "ds_temp = detrend_linear(ds.temperature,dim='time',deg=2)\n",
    "\n",
    "level = 0.1\n",
    "obs_omega_thold = ds_omega.quantile(level)\n",
    "\n",
    "level = 0.9\n",
    "obs_temp_thold = ds_temp.quantile(level)\n",
    "\n",
    "omega_extreme = ds_omega.where(ds_omega < obs_omega_thold)\n",
    "temp_extreme = ds_temp.where(ds_temp > obs_temp_thold)"
   ]
  },
  {
   "cell_type": "code",
   "execution_count": null,
   "metadata": {},
   "outputs": [],
   "source": [
    "overlap = (~np.isnan(omega_extreme)).astype('int') + (~np.isnan(temp_extreme)).astype('int')\n",
    "# overlap = overlap.where(overlap > 1)"
   ]
  },
  {
   "cell_type": "code",
   "execution_count": null,
   "metadata": {},
   "outputs": [],
   "source": [
    "# Blob example\n",
    "levels = np.arange(-2,2,0.1)\n",
    "f, ax = plt.subplots(1,1, subplot_kw=dict(projection=ccrs.PlateCarree(central_longitude=180)))\n",
    "im = ds_temp.sel(time='2014-07').squeeze().plot.contourf(ax = ax, levels=levels,cmap='coolwarm',transform = ccrs.PlateCarree(), extend='both',add_colorbar=False)\n",
    "temp_extreme.sel(time='2014-07').squeeze().plot.contourf(ax = ax,hatches=[\"///\"],alpha=0,cmap='coolwarm',transform = ccrs.PlateCarree(),add_colorbar=False)\n",
    "# np.isnan(temp_extreme.sel(time='2014-07').squeeze()).plot.contour(colors='black',alpha=0.7,linewidths=1,transform = ccrs.PlateCarree())\n",
    "\n",
    "ax.set_extent([-170,-110,20,70], crs=ccrs.PlateCarree())\n",
    "\n",
    "ax.add_feature(cfeature.LAND, color='k', zorder=3)\n",
    "\n",
    "plt.colorbar(im)\n",
    "plt.title('')\n",
    "\n",
    "f.savefig('example_mhw.pdf')"
   ]
  },
  {
   "cell_type": "code",
   "execution_count": null,
   "metadata": {},
   "outputs": [],
   "source": [
    "# La Nina example\n",
    "# Blob example\n",
    "levels = np.arange(-0.5,0.5,0.01)\n",
    "\n",
    "f, ax = plt.subplots(1,1, subplot_kw=dict(projection=ccrs.PlateCarree(central_longitude=180)))\n",
    "im = ds_omega.sel(time='2000-01').squeeze().plot.contourf(ax = ax, levels=levels,cmap='coolwarm',transform = ccrs.PlateCarree(), extend='both',add_colorbar=False)\n",
    "# np.isnan(omega_extreme.sel(time='2000-01').squeeze()).plot.contour(colors='black',alpha=0.8,linewidths=1,transform = ccrs.PlateCarree())\n",
    "omega_extreme.sel(time='2000-01').squeeze().plot.contourf(ax = ax,hatches=[\"///\"],alpha=0,cmap='coolwarm',transform = ccrs.PlateCarree(),add_colorbar=False)\n",
    "ax.set_extent([-130,-70,-20,30], crs=ccrs.PlateCarree())\n",
    "ax.add_feature(cfeature.LAND, color='k', zorder=3)\n",
    "plt.title('')\n",
    "plt.colorbar(im)\n",
    "\n",
    "f.savefig('example_oax.pdf')"
   ]
  },
  {
   "cell_type": "markdown",
   "metadata": {},
   "source": [
    "## Look at SMYLE versus obs"
   ]
  },
  {
   "cell_type": "code",
   "execution_count": null,
   "metadata": {},
   "outputs": [],
   "source": [
    "# SMYLE Utility functions\n",
    "from SMYLEutils import io_utils as io\n",
    "from SMYLEutils import calendar_utils as cal\n",
    "from SMYLEutils import stat_utils as stat"
   ]
  },
  {
   "cell_type": "code",
   "execution_count": null,
   "metadata": {
    "tags": []
   },
   "outputs": [],
   "source": [
    "%%time\n",
    "var = 'omega_arag'; depth = 'surface'\n",
    "var2 = 'CO3'\n",
    "smyle08 = xr.open_dataset('/glade/scratch/smogen/SMYLE-Extreme/'+  var + '.monthly.' + depth + '.08.regrid.nc')[var]\n",
    "smyle08_time = xr.open_dataset('/glade/scratch/smogen/SMYLE-Extreme/'+var2+'.monthly.08.time.nc')#.sel(L=slice(1,12))\n",
    "\n",
    "smyle08_anom,smyle08_clim = stat.remove_drift(smyle08,smyle08_time.time,1982,2019)\n",
    "smyle08_anom = detrend_linear(smyle08_anom,'Y')\n",
    "\n",
    "smyle_omega_full = smyle08_anom\n",
    "smye_omega_time_full = smyle08_time"
   ]
  },
  {
   "cell_type": "code",
   "execution_count": null,
   "metadata": {},
   "outputs": [],
   "source": [
    "smyle_omega_extreme = xr.open_dataset('/glade/work/smogen/SMYLE-extremes/thresholds/'+var +  '.monthly.' + depth + '.08.binary.Rolling.full.2.nc')['binary']"
   ]
  },
  {
   "cell_type": "markdown",
   "metadata": {
    "tags": []
   },
   "source": [
    "## Load extremes for hatching"
   ]
  },
  {
   "cell_type": "code",
   "execution_count": null,
   "metadata": {},
   "outputs": [],
   "source": [
    "# rolling \n",
    "# var = 'omega_arag'\n",
    "obs_extremes = xr.open_dataset('/glade/work/smogen/SMYLE-extremes/' + var + '.obs.rolling.thold.Rolling.nc')['threshold']"
   ]
  },
  {
   "cell_type": "code",
   "execution_count": null,
   "metadata": {
    "tags": []
   },
   "outputs": [],
   "source": [
    "obs_extremes = obs_extremes.where(obs_extremes > 0)"
   ]
  },
  {
   "cell_type": "code",
   "execution_count": null,
   "metadata": {},
   "outputs": [],
   "source": [
    "var = 'omega_arag'\n",
    "var2 = 'CO3'\n",
    "depth = 'surface'\n",
    "\n",
    "smyle08_ex = xr.open_dataset('/glade/work/smogen/SMYLE-extremes/thresholds/'+var +  '.monthly.' + depth + '.08.binary.Rolling.full.2.nc')['binary']\n",
    "smyle08_time_ex = xr.open_dataset('/glade/scratch/smogen/SMYLE-Extreme/'+var2+'.monthly.08.time.nc')#.sel(L=slice(1,12))"
   ]
  },
  {
   "cell_type": "code",
   "execution_count": null,
   "metadata": {},
   "outputs": [],
   "source": [
    "smyle08_ex = smyle08_ex.where(smyle08_ex > 0)"
   ]
  },
  {
   "cell_type": "code",
   "execution_count": null,
   "metadata": {},
   "outputs": [],
   "source": [
    "import cartopy.crs as ccrs\n",
    "import cartopy.feature as cfeature"
   ]
  },
  {
   "cell_type": "code",
   "execution_count": null,
   "metadata": {},
   "outputs": [],
   "source": [
    "## Sept. 1999\n",
    "smyle_test = smyle_omega_full.isel(L=1).mean('M')#.isel(M=which_M)\n",
    "smyle_test['Y'] = smyle_test['time']\n",
    "\n",
    "smyle08_test_ex = smyle08_ex.isel(L=1).mean('M')#.isel(M=which_M)\n"
   ]
  },
  {
   "cell_type": "code",
   "execution_count": null,
   "metadata": {
    "tags": []
   },
   "outputs": [],
   "source": [
    "f, ax = plt.subplots(3,2,figsize=(7,8),subplot_kw=dict(projection=ccrs.PlateCarree(central_longitude=180)))\n",
    "\n",
    "which_M = 11\n",
    "levels = np.arange(-0.3,0.35,0.05)\n",
    "\n",
    "## Sept. 1999\n",
    "smyle_test = smyle_omega_full.isel(L=1).mean('M')#.isel(M=which_M)\n",
    "smyle_test['Y'] = smyle_test['time']\n",
    "\n",
    "smyle08_test_ex = smyle08_ex.isel(L=1).fillna(0).mean('M')#.isel(M=which_M)\n",
    "smyle08_test_ex = smyle08_test_ex.where(smyle08_test_ex > 0.5)\n",
    "# smyle08_test_ex['Y'] = smyle08_test_ex['time']\n",
    "\n",
    "ds_omega.sel(time='1999-09').squeeze().plot.contourf(ax = ax[0,0], levels=levels,cmap='coolwarm',transform = ccrs.PlateCarree(), extend='both',add_colorbar=False)\n",
    "obs_extremes.sel(time='1999-09').squeeze().plot.contourf(ax = ax[0,0],hatches=[\"///\"],alpha=0,cmap='coolwarm',transform = ccrs.PlateCarree(),add_colorbar=False)\n",
    "ds_sept_corr = xr.corr(ds_omega.sel(time='1999-09').squeeze(),obs_extremes.sel(time='1999-09').squeeze())\n",
    "ax[0,0].set_title('1999-09 Obs')\n",
    "ax[0,0].set_extent([-180,-70,-20,70], crs=ccrs.PlateCarree())\n",
    "ax[0,0].add_feature(cfeature.LAND, color='k', zorder=3)\n",
    "\n",
    "smyle_test.sel(Y='1999').squeeze().plot.contourf(ax = ax[0,1], levels=levels,cmap='coolwarm',transform = ccrs.PlateCarree(), extend='both',add_colorbar=False)\n",
    "smyle08_test_ex.sel(Y=1999).plot.contourf(ax = ax[0,1],alpha=0,hatches=[\"///\"],cmap='coolwarm',transform = ccrs.PlateCarree(), extend='both',add_colorbar=False)\n",
    "ex_sept_corr = xr.corr(smyle_test.sel(Y='1999').squeeze(),smyle08_test_ex.sel(Y=1999))\n",
    "ax[0,1].set_title('1.5 Lead 1999-09 SMYLE')\n",
    "ax[0,1].set_extent([-180,-70,-20,70], crs=ccrs.PlateCarree())\n",
    "ax[0,1].add_feature(cfeature.LAND, color='k', zorder=3)\n",
    "\n",
    "## Nov. 1999\n",
    "smyle_test = smyle_omega_full.isel(L=3).mean('M')#.isel(M=which_M)\n",
    "smyle_test['Y'] = smyle_test['time']\n",
    "\n",
    "smyle08_test_ex = smyle08_ex.isel(L=3).fillna(0).mean('M')#.isel(M=which_M)\n",
    "smyle08_test_ex = smyle08_test_ex.where(smyle08_test_ex > 0.5)\n",
    "# smyle08_test_ex['Y'] = smyle08_test_ex['time']\n",
    "\n",
    "ds_omega.sel(time='1999-11').squeeze().plot.contourf(ax = ax[1,0], levels=levels,cmap='coolwarm',transform = ccrs.PlateCarree(), extend='both',add_colorbar=False)\n",
    "obs_extremes.sel(time='1999-11').squeeze().plot.contourf(ax = ax[1,0],hatches=[\"///\"],alpha=0,cmap='coolwarm',transform = ccrs.PlateCarree(),add_colorbar=False)\n",
    "ds_nove_corr = xr.corr(ds_omega.sel(time='1999-11').squeeze(),obs_extremes.sel(time='1999-11').squeeze())\n",
    "ax[1,0].set_title('1999-09 Obs')\n",
    "ax[1,0].set_extent([-180,-70,-20,70], crs=ccrs.PlateCarree())\n",
    "ax[1,0].add_feature(cfeature.LAND, color='k', zorder=3)\n",
    "\n",
    "smyle_test.sel(Y='1999').squeeze().plot.contourf(ax = ax[1,1], levels=levels,cmap='coolwarm',transform = ccrs.PlateCarree(), extend='both',add_colorbar=False)\n",
    "smyle08_test_ex.sel(Y=1999).plot.contourf(ax = ax[1,1],alpha=0,hatches=[\"///\"],cmap='coolwarm',transform = ccrs.PlateCarree(), extend='both',add_colorbar=False)\n",
    "ex_nove_corr = xr.corr(smyle_test.sel(Y='1999').squeeze(),smyle08_test_ex.sel(Y=1999))\n",
    "ax[1,1].set_title('3.5 Lead 1999-11 SMYLE')\n",
    "ax[1,1].set_extent([-180,-70,-20,70], crs=ccrs.PlateCarree())\n",
    "ax[1,1].add_feature(cfeature.LAND, color='k', zorder=3)\n",
    "\n",
    "## Jan. 2000\n",
    "smyle_test = smyle_omega_full.isel(L=5).mean('M')#.isel(M=which_M)\n",
    "smyle_test['Y'] = smyle_test['time']\n",
    "\n",
    "smyle08_test_ex = smyle08_ex.isel(L=5).fillna(0).mean('M')#.sel(M=which_M)\n",
    "smyle08_test_ex = smyle08_test_ex.where(smyle08_test_ex > 0.5)\n",
    "# smyle08_test_ex['Y'] = smyle08_test_ex['time']\n",
    "\n",
    "ds_omega.sel(time='2000-01').squeeze().plot.contourf(ax = ax[2,0], levels=levels,cmap='coolwarm',transform = ccrs.PlateCarree(), extend='both',add_colorbar=False)\n",
    "obs_extremes.sel(time='2000-01').squeeze().plot.contourf(ax = ax[2,0],hatches=[\"///\"],alpha=0,cmap='coolwarm',transform = ccrs.PlateCarree(),add_colorbar=False)\n",
    "ds_janu_corr = xr.corr(ds_omega.sel(time='2000-01').squeeze(),obs_extremes.sel(time='2000-01').squeeze())\n",
    "ax[2,0].set_title('2000-01 Obs')\n",
    "ax[2,0].set_extent([-180,-70,-20,70], crs=ccrs.PlateCarree())\n",
    "ax[2,0].add_feature(cfeature.LAND, color='k', zorder=3)\n",
    "\n",
    "im = smyle_test.sel(Y='2000').squeeze().plot.contourf(ax = ax[2,1], levels=levels,cmap='coolwarm',transform = ccrs.PlateCarree(), extend='both',add_colorbar=False)\n",
    "smyle08_test_ex.sel(Y=2000).plot.contourf(ax = ax[2,1],alpha=0,hatches=[\"///\"],cmap='coolwarm',transform = ccrs.PlateCarree(), extend='both',add_colorbar=False)\n",
    "ex_janu_corr = xr.corr(smyle_test.sel(Y='2000').squeeze(),smyle08_test_ex.sel(Y=2000))\n",
    "ax[2,1].set_title('5.5 Lead 2000-01 SMYLE')\n",
    "ax[2,1].set_extent([-180,-70,-20,70], crs=ccrs.PlateCarree())\n",
    "ax[2,1].add_feature(cfeature.LAND, color='k', zorder=3)\n",
    "\n",
    "# f.suptitle('Sample $\\Omega_{arag}$ Forecast')\n",
    "\n",
    "f.subplots_adjust(right=0.8)\n",
    "cbar_ax = f.add_axes([0.83, 0.25, 0.025, 0.50])\n",
    "cbar = f.colorbar(im, cax=cbar_ax, ticks=[-0.3,-0.2,-0.1,0,0.1,0.2,0.3])\n",
    "cbar.ax.tick_params(labelsize=8)\n",
    "cbar.set_label('$\\Omega_{arag} anomaly$', rotation=270,fontsize=10)\n",
    "\n",
    "f.savefig('./figures/Figure1.example.pdf')\n",
    "# f.savefig('./figures/Figure1.example.eps')"
   ]
  },
  {
   "cell_type": "code",
   "execution_count": null,
   "metadata": {},
   "outputs": [],
   "source": []
  }
 ],
 "metadata": {
  "kernelspec": {
   "display_name": "Python 3",
   "language": "python",
   "name": "python3"
  },
  "language_info": {
   "codemirror_mode": {
    "name": "ipython",
    "version": 3
   },
   "file_extension": ".py",
   "mimetype": "text/x-python",
   "name": "python",
   "nbconvert_exporter": "python",
   "pygments_lexer": "ipython3",
   "version": "3.8.3"
  }
 },
 "nbformat": 4,
 "nbformat_minor": 5
}
