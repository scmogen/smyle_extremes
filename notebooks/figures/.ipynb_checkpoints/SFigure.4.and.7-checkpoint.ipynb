{
 "cells": [
  {
   "cell_type": "markdown",
   "id": "1c77e866-0fac-4590-af3d-2165821b03c0",
   "metadata": {},
   "source": [
    "# Timeseries of the Pacific with obs (+ extremes), FOSI (+ extremes) and a few SMYLE initializations with extremes"
   ]
  },
  {
   "cell_type": "code",
   "execution_count": null,
   "id": "39a2609a-901c-4a04-9293-0b45568a3c35",
   "metadata": {},
   "outputs": [],
   "source": [
    "### GENERAL SETUP\n",
    "%matplotlib inline  \n",
    "# this enables plotting within notebook\n",
    "\n",
    "#import modules\n",
    "import numpy as np\n",
    "import pandas as pd\n",
    "import matplotlib.pyplot as plt\n",
    "import xarray as xr\n",
    "import numpy as np   # basic math library  you will type np.$STUFF  e.g., np.cos(1)\n",
    "import numpy.linalg as LA\n",
    "from matplotlib.gridspec import GridSpec\n",
    "import timeit\n",
    "import cartopy.crs as ccrs\n",
    "import datetime\n",
    "import scipy.stats as stats # imports stats functions https://docs.scipy.org/doc/scipy/reference/stats.html\n",
    "import cartopy.feature as cfeature"
   ]
  },
  {
   "cell_type": "code",
   "execution_count": null,
   "id": "4763c02a-cedd-458a-9dc6-2b9ee9dc8952",
   "metadata": {},
   "outputs": [],
   "source": [
    "# SMYLE Utility functions\n",
    "from SMYLEutils import io_utils as io\n",
    "from SMYLEutils import calendar_utils as cal\n",
    "from SMYLEutils import stat_utils as stat"
   ]
  },
  {
   "cell_type": "code",
   "execution_count": null,
   "id": "6e0cc034-88d2-442c-9689-9afeb716efb6",
   "metadata": {},
   "outputs": [],
   "source": [
    "def detrend_second(dat, dim):\n",
    "    \"\"\" linear detrend dat along the axis dim \"\"\"\n",
    "    params = dat.polyfit(dim=dim, deg=1)\n",
    "    fit = xr.polyval(dat[dim], params.polyfit_coefficients)\n",
    "    dat = dat-fit\n",
    "    return dat"
   ]
  },
  {
   "cell_type": "code",
   "execution_count": null,
   "id": "d3d7442b-163f-4c8b-8518-77c3606526f2",
   "metadata": {},
   "outputs": [],
   "source": [
    "var = 'omega_arag'\n",
    "var2 = 'CO3'"
   ]
  },
  {
   "cell_type": "markdown",
   "id": "9b3f12fb-c509-4465-8b64-ec893858aa14",
   "metadata": {},
   "source": [
    "## Example climatology figure"
   ]
  },
  {
   "cell_type": "code",
   "execution_count": null,
   "id": "c209ce5d-237b-4191-8917-ad440871eedf",
   "metadata": {},
   "outputs": [],
   "source": [
    "depth = \"surface\"\n",
    "time = \"monthly\"\n",
    "\n",
    "var = \"omega\"\n",
    "omega = xr.open_dataset('/glade/work/smogen/SMYLE-extremes/FOSI/'+ var +'.' + time + '.' + depth + '.trend.regrid.nc')[var]\n",
    "omega['time'] = pd.date_range(\"1958-01\", \"2020-12\", freq=\"MS\")\n",
    "\n",
    "var = \"omega_residual\"\n",
    "omega_res = xr.open_dataset('/glade/work/smogen/SMYLE-extremes/FOSI/'+ var +'.' + time + '.' + depth + '.trend.regrid.nc')[var]\n",
    "omega_res['time'] = pd.date_range(\"1958-01\", \"2020-12\", freq=\"MS\")\n",
    "\n",
    "var = \"omega_temp\"\n",
    "omega_temp = xr.open_dataset('/glade/work/smogen/SMYLE-extremes/FOSI/'+ var +'.' + time + '.' + depth + '.trend.regrid.nc')[var]\n",
    "omega_temp['time'] = pd.date_range(\"1958-01\", \"2020-12\", freq=\"MS\")\n",
    "\n",
    "var = \"H\"\n",
    "H = xr.open_dataset('/glade/work/smogen/SMYLE-extremes/FOSI/'+ var +'.' + time + '.' + depth + '.trend.regrid.nc')[var]\n",
    "H['time'] = pd.date_range(\"1958-01\", \"2020-12\", freq=\"MS\")\n",
    "\n",
    "var = \"H_residual\"\n",
    "H_res = xr.open_dataset('/glade/work/smogen/SMYLE-extremes/FOSI/'+ var +'.' + time + '.' + depth + '.trend.regrid.nc')[var]\n",
    "H_res['time'] = pd.date_range(\"1958-01\", \"2020-12\", freq=\"MS\")\n",
    "\n",
    "var = \"H_temp\"\n",
    "H_temp = xr.open_dataset('/glade/work/smogen/SMYLE-extremes/FOSI/'+ var +'.' + time + '.' + depth + '.trend.regrid.nc')[var]\n",
    "H_temp['time'] = pd.date_range(\"1958-01\", \"2020-12\", freq=\"MS\")"
   ]
  },
  {
   "cell_type": "code",
   "execution_count": null,
   "id": "47805a2a-311f-474d-80dc-3930657a6c4a",
   "metadata": {},
   "outputs": [],
   "source": [
    "def nino34_climo(data):\n",
    "    weights = np.cos(np.deg2rad(data.lat))\n",
    "    dat = detrend_second(data,'time')\n",
    "    tmp = dat.sel(lat=slice(-5,5),lon=slice(210 - 360,270 - 360)).weighted(weights).mean(('lat','lon'))\n",
    "    tmp = tmp.groupby('time.month').mean()\n",
    "    return tmp"
   ]
  },
  {
   "cell_type": "code",
   "execution_count": null,
   "id": "fad6fc07-b955-453f-839f-4e5bce079a9a",
   "metadata": {},
   "outputs": [],
   "source": [
    "f, ax = plt.subplots(1,1,figsize=(10,4))\n",
    "\n",
    "nino34_climo(omega).plot(color='k',label='Detrended $\\Omega_{arag}$',linewidth=3)\n",
    "nino34_climo(omega_res).plot(color='blue',label='Detrended $\\Omega_{arag,nonthermal}$',linewidth=3)\n",
    "nino34_climo(omega_temp).plot(color='red',label='Detrended $\\Omega_{arag,thermal}$',linewidth=3)\n",
    "# (nino34_climo(H_temp) + nino34_climo(H_res)).plot(color='red',label='Detrended $\\Delta [H^+]$')\n",
    "\n",
    "plt.axhline(0,color='k',)\n",
    "\n",
    "plt.ylim(-0.14,0.14)\n",
    "plt.grid()\n",
    "plt.legend()\n",
    "plt.show()\n",
    "\n",
    "f, ax = plt.subplots(1,1,figsize=(10,4))\n",
    "\n",
    "nino34_climo(H).plot(color='k',label='Detrended $[H^+]$',linewidth=3)\n",
    "nino34_climo(H_res).plot(color='blue',label='Detrended $[H^+]_{nonthermal}$',linewidth=3)\n",
    "nino34_climo(H_temp).plot(color='red',label='Detrended $[H^+]_{thermal}$',linewidth=3)\n",
    "# (nino34_climo(H_temp) + nino34_climo(H_res)).plot(color='red',label='Detrended $\\Delta [H^+]$')\n",
    "\n",
    "plt.axhline(0,color='k',)\n",
    "\n",
    "plt.ylim(-4.5e-10,4.5e-10)\n",
    "plt.grid()\n",
    "plt.legend()"
   ]
  },
  {
   "cell_type": "code",
   "execution_count": null,
   "id": "e028a18e-6b16-4eae-805d-fd92c837020a",
   "metadata": {},
   "outputs": [],
   "source": [
    "depth = \"surface\"\n",
    "time = \"monthly\"\n",
    "\n",
    "var = \"omega\"\n",
    "omega_obs = xr.open_dataset('/glade/work/smogen/SMYLE-extremes/FOSI/'+ var +'.' + time + '.' + depth + '.trend.regrid.obs.nc')[var]\n",
    "\n",
    "var = \"omega_residual\"\n",
    "omega_res_obs = xr.open_dataset('/glade/work/smogen/SMYLE-extremes/FOSI/'+ var +'.' + time + '.' + depth + '.trend.regrid.obs.nc')[var]\n",
    "\n",
    "var = \"omega_temp\"\n",
    "omega_temp_obs = xr.open_dataset('/glade/work/smogen/SMYLE-extremes/FOSI/'+ var +'.' + time + '.' + depth + '.trend.regrid.obs.nc')[var]\n",
    "\n",
    "var = \"H\"\n",
    "H_obs = xr.open_dataset('/glade/work/smogen/SMYLE-extremes/FOSI/'+ var +'.' + time + '.' + depth + '.trend.regrid.obs.nc')[var]\n",
    "\n",
    "var = \"H_residual\"\n",
    "H_res_obs = xr.open_dataset('/glade/work/smogen/SMYLE-extremes/FOSI/'+ var +'.' + time + '.' + depth + '.trend.regrid.obs.nc')[var]\n",
    "\n",
    "var = \"H_temp\"\n",
    "H_temp_obs = xr.open_dataset('/glade/work/smogen/SMYLE-extremes/FOSI/'+ var +'.' + time + '.' + depth + '.trend.regrid.obs.nc')[var]"
   ]
  },
  {
   "cell_type": "code",
   "execution_count": null,
   "id": "b7ad89bd-a52f-4929-9d4e-674dadb5be5d",
   "metadata": {},
   "outputs": [],
   "source": [
    "f, ax = plt.subplots(1,1,figsize=(10,4))\n",
    "\n",
    "nino34_climo(omega_obs).plot(color='k',label='Detrended $\\Omega_{arag}$',linewidth=3)\n",
    "nino34_climo(omega_res_obs).plot(color='blue',label='Detrended $\\Omega_{arag,nonthermal}$',linewidth=3)\n",
    "nino34_climo(omega_temp_obs).plot(color='red',label='Detrended $\\Omega_{arag,thermal}$',linewidth=3)\n",
    "# (nino34_climo(H_temp) + nino34_climo(H_res)).plot(color='red',label='Detrended $\\Delta [H^+]$')\n",
    "\n",
    "plt.axhline(0,color='k',)\n",
    "\n",
    "plt.ylim(-0.14,0.14)\n",
    "plt.grid()\n",
    "plt.legend()\n",
    "plt.show()\n",
    "\n",
    "f, ax = plt.subplots(1,1,figsize=(10,4))\n",
    "\n",
    "nino34_climo(H_obs).plot(color='k',label='Detrended $[H^+]$',linewidth=3)\n",
    "nino34_climo(H_res_obs).plot(color='blue',label='Detrended $[H^+]_{nonthermal}$',linewidth=3)\n",
    "nino34_climo(H_temp_obs).plot(color='red',label='Detrended $[H^+]_{thermal}$',linewidth=3)\n",
    "# (nino34_climo(H_temp) + nino34_climo(H_res)).plot(color='red',label='Detrended $\\Delta [H^+]$')\n",
    "\n",
    "plt.axhline(0,color='k',)\n",
    "\n",
    "plt.ylim(-4.5e-10,4.5e-10)\n",
    "plt.grid()\n",
    "plt.legend()"
   ]
  },
  {
   "cell_type": "code",
   "execution_count": null,
   "id": "1b79361f-2df0-400d-a314-6ac44c229f81",
   "metadata": {},
   "outputs": [],
   "source": [
    "f, ax = plt.subplots(1,1,figsize=(10,3))\n",
    "\n",
    "nino34_climo(H).plot(color='k',label='FOSI $[H^+]$',linewidth=3)\n",
    "nino34_climo(H_res).plot(color='blue',label='FOSI $[H^+]_{nonthermal}$',linewidth=3)\n",
    "nino34_climo(H_temp).plot(color='red',label='FOSI $[H^+]_{thermal}$',linewidth=3)\n",
    "# (nino34_climo(H_temp) + nino34_climo(H_res)).plot(color='red',label='Detrended $\\Delta [H^+]$')\n",
    "\n",
    "nino34_climo(H_obs).plot(color='k',label='Obs $[H^+]$',linewidth=3,linestyle='--')\n",
    "nino34_climo(H_res_obs).plot(color='blue',label='Obs $[H^+]_{nonthermal}$',linewidth=3,linestyle='--')\n",
    "nino34_climo(H_temp_obs).plot(color='red',label='Obs $[H^+]_{thermal}$',linewidth=3,linestyle='--')\n",
    "# (nino34_climo(H_temp) + nino34_climo(H_res)).plot(color='red',label='Detrended $\\Delta [H^+]$')\n",
    "\n",
    "plt.axhline(0,color='k',)\n",
    "\n",
    "plt.ylim(-4.95e-10,4.95e-10)\n",
    "plt.xlim(1,12)\n",
    "plt.grid()\n",
    "# plt.legend()\n",
    "\n",
    "f.savefig('./figures/H.climo.decompose.pdf',transparent=True)"
   ]
  },
  {
   "cell_type": "code",
   "execution_count": null,
   "id": "b7e1e9b9-fd20-48a5-985c-b4d8d458b730",
   "metadata": {},
   "outputs": [],
   "source": [
    "f, ax = plt.subplots(1,1,figsize=(10,3))\n",
    "\n",
    "nino34_climo(omega).plot(color='k',label='FOSI $\\Omega_{arag}$',linewidth=3)\n",
    "nino34_climo(omega_res).plot(color='blue',label='FOSI $\\Omega_{arag,nonthermal}$',linewidth=3)\n",
    "nino34_climo(omega_temp).plot(color='red',label='FOSI $\\Omega_{arag,thermal}$',linewidth=3)\n",
    "# (nino34_climo(H_temp) + nino34_climo(H_res)).plot(color='red',label='Detrended $\\Delta [H^+]$')\n",
    "\n",
    "nino34_climo(omega_obs).plot(color='k',label='Obs $\\Omega_{arag}$',linewidth=3,linestyle='--')\n",
    "nino34_climo(omega_res_obs).plot(color='blue',label='Obs $\\Omega_{arag,nonthermal}$',linewidth=3,linestyle='--')\n",
    "nino34_climo(omega_temp_obs).plot(color='red',label='Obs $\\Omega_{arag,thermal}$',linewidth=3,linestyle='--')\n",
    "# (nino34_climo(H_temp) + nino34_climo(H_res)).plot(color='red',label='Detrended $\\Delta [H^+]$')\n",
    "\n",
    "plt.axhline(0,color='k',)\n",
    "\n",
    "plt.ylim(-0.16,0.16)\n",
    "plt.xlim(1,12)\n",
    "\n",
    "plt.grid()\n",
    "# plt.legend()\n",
    "f.savefig('./figures/omega.climo.decompose.pdf',transparent=True)"
   ]
  },
  {
   "cell_type": "markdown",
   "id": "c1e33dce-95d4-497f-ac7a-39c43a3e10aa",
   "metadata": {},
   "source": [
    "## Example TS figure"
   ]
  },
  {
   "cell_type": "code",
   "execution_count": null,
   "id": "03ee808c-a08e-4f0c-a3f5-28c2c3cb5c68",
   "metadata": {
    "scrolled": true
   },
   "outputs": [],
   "source": [
    "var = 'omega_ar'\n",
    "obs = xr.open_dataset('/glade/work/smogen/SMYLE-extremes/OceanSODA-ETHZ_GRaCER_v2021a_1982-2020.nc')[var]\n",
    "# remove climatology\n",
    "obs = obs.groupby('time.month') - obs.groupby('time.month').mean()\n",
    "# remove trend\n",
    "obs = detrend_second(obs,'time')\n",
    "\n",
    "var = 'omega_arag'\n",
    "obs_ex = xr.open_dataset('/glade/work/smogen/SMYLE-extremes/' + var + '.obs.rolling.thold.Rolling.nc')"
   ]
  },
  {
   "cell_type": "code",
   "execution_count": null,
   "id": "f58387d5-bf44-400c-bcf5-4972ad03fe8a",
   "metadata": {},
   "outputs": [],
   "source": [
    "obs.isel(time=0).plot()"
   ]
  },
  {
   "cell_type": "code",
   "execution_count": null,
   "id": "f01d1d04-33f2-4be7-9574-60f20e6cd85d",
   "metadata": {},
   "outputs": [],
   "source": [
    "# FOSI\n",
    "ds = xr.open_dataset('/glade/work/smogen/SMYLE-extremes/FOSI/' + var + '.monthly.surface.regrid.nc')[var]\n",
    "ds = ds.where(ds>0)\n",
    "ds['time'] = pd.date_range(\"1958-01\", \"2020-12\", freq=\"MS\")\n",
    "\n",
    "ds = ds.groupby('time.month') - ds.groupby('time.month').mean()\n",
    "ds = detrend_second(ds,'time')\n",
    "\n",
    "ds_ex = xr.open_dataset('/glade/work/smogen/SMYLE-extremes/' + var + '.fosi.rolling.thold.Rolling.nc')['threshold']"
   ]
  },
  {
   "cell_type": "code",
   "execution_count": null,
   "id": "0ced069e-b46b-4a40-86f9-6b70c7624927",
   "metadata": {},
   "outputs": [],
   "source": [
    "year1 = '2006'\n",
    "year2 = '2012'\n",
    "lat = 0.5\n",
    "lon = -138.5"
   ]
  },
  {
   "cell_type": "code",
   "execution_count": null,
   "id": "1f1bb6ad-55bf-468d-907e-44aa9fffb0f2",
   "metadata": {},
   "outputs": [],
   "source": [
    "ds.sel(time=slice(year1,year2)).sel(lon = lon,lat = lat).plot(color='k')\n",
    "ds_ex.sel(time=slice(year1,year2)).sel(lon = lon,lat = lat).plot(color='red')\n",
    "plt.ylim(-0.8,0.8)\n",
    "\n",
    "obs.sel(time=slice(year1,year2)).sel(lon = lon,lat = lat).plot(color='k',linestyle='--')\n",
    "obs_ex.sel(time=slice(year1,year2)).sel(lon = lon,lat = lat)['threshold'].plot(color='darkorange',linestyle='--')\n"
   ]
  },
  {
   "cell_type": "code",
   "execution_count": null,
   "id": "d87ee510-49f0-456e-b6fe-491db3a45e50",
   "metadata": {},
   "outputs": [],
   "source": [
    "# SMYLE\n",
    "# init = '02'\n",
    "# smyle02 = xr.open_dataset('/glade/derecho/scratch/smogen/SMYLE-Extreme/'+var + '.monthly.surface.' + init + '.regrid.nc')[var]\n",
    "# smyle02_time = xr.open_dataset('/glade/derecho/scratch/smogen/SMYLE-Extreme/'+var2+'.monthly.' + init + '.time.nc')\n",
    "# smyle02 = smyle02.drop('time')\n",
    "\n",
    "# init = '05'\n",
    "# smyle05 = xr.open_dataset('/glade/derecho/scratch/smogen/SMYLE-Extreme/'+var + '.monthly.surface.' + init + '.regrid.nc')[var]\n",
    "# smyle05_time = xr.open_dataset('/glade/derecho/scratch/smogen/SMYLE-Extreme/'+var2+'.monthly.' + init + '.time.nc')\n",
    "# smyle05 = smyle05.drop('time')\n",
    "\n",
    "# init = '08'\n",
    "# smyle08 = xr.open_dataset('/glade/derecho/scratch/smogen/SMYLE-Extreme/'+var + '.monthly.surface.' + init + '.regrid.nc')[var]\n",
    "# smyle08_time = xr.open_dataset('/glade/derecho/scratch/smogen/SMYLE-Extreme/'+var2+'.monthly.' + init + '.time.nc')\n",
    "# smyle08 = smyle08.drop('time')\n",
    "\n"
   ]
  },
  {
   "cell_type": "code",
   "execution_count": null,
   "id": "d7e3e4bc-ccc1-4c92-80ca-f2b9ed5cfaf8",
   "metadata": {},
   "outputs": [],
   "source": [
    "%%time\n",
    "init = '11'\n",
    "smyle11 = xr.open_dataset('/glade/derecho/scratch/smogen/SMYLE-Extreme/'+var + '.monthly.surface.' + init + '.regrid.nc')[var]\n",
    "smyle11_time = xr.open_dataset('/glade/derecho/scratch/smogen/SMYLE-Extreme/'+var2+'.monthly.' + init + '.time.nc')\n",
    "smyle11 = smyle11.drop('time')\n",
    "\n",
    "# %%time\n",
    "# remove climatological drift from the data\n",
    "smyle11_anom,smyle11_clim = stat.remove_drift(smyle11,smyle11_time,1970,2020)\n",
    "smyle11_anom = detrend_second(smyle11_anom.time,'Y')"
   ]
  },
  {
   "cell_type": "code",
   "execution_count": null,
   "id": "0ec4cf4f-6799-4fca-a17b-86538d39cef2",
   "metadata": {},
   "outputs": [],
   "source": [
    "%%time\n",
    "init = '11'\n",
    "smyle11 = xr.open_dataset('/glade/derecho/scratch/smogen/SMYLE-Extreme/'+var + '.monthly.surface.' + init + '.regrid.nc')[var]\n",
    "smyle11_time = xr.open_dataset('/glade/derecho/scratch/smogen/SMYLE-Extreme/'+var2+'.monthly.' + init + '.time.nc')\n",
    "smyle11 = smyle11.drop('time')\n",
    "\n",
    "# %%time\n",
    "# remove climatological drift from the data\n",
    "smyle11_anom,smyle11_clim = stat.remove_drift(smyle11,smyle11_time,1970,2020)\n",
    "smyle11_anom = detrend_second(smyle11_anom.time,'Y')"
   ]
  },
  {
   "cell_type": "code",
   "execution_count": null,
   "id": "e55de169-23c5-45e4-bfa0-3b8c9a113bea",
   "metadata": {},
   "outputs": [],
   "source": [
    "smyle11_anom_2006 = smyle11_anom.sel(Y=2006)\n",
    "smyle11_anom_2006 = smyle11_anom_2006.rename({'L':'time'})\n",
    "smyle11_anom_2006['time'] = pd.date_range('2006-11','2008-10',freq='MS')\n",
    "\n",
    "smyle11_anom_2009 = smyle11_anom.sel(Y=2009)\n",
    "smyle11_anom_2009 = smyle11_anom_2009.rename({'L':'time'})\n",
    "smyle11_anom_2009['time'] = pd.date_range('2009-11','2011-10',freq='MS')\n",
    "\n",
    "smyle11_anom_2010 = smyle11_anom.sel(Y=2010)\n",
    "smyle11_anom_2010 = smyle11_anom_2010.rename({'L':'time'})\n",
    "smyle11_anom_2010['time'] = pd.date_range('2010-11','2012-10',freq='MS')\n",
    "\n",
    "smyle11_anom_2012 = smyle11_anom.sel(Y=2012)\n",
    "smyle11_anom_2012 = smyle11_anom_2012.rename({'L':'time'})\n",
    "smyle11_anom_2012['time'] = pd.date_range('2012-11','2014-10',freq='MS')\n",
    "\n",
    "smyle11_anom_2013 = smyle11_anom.sel(Y=2013)\n",
    "smyle11_anom_2013 = smyle11_anom_2013.rename({'L':'time'})\n",
    "smyle11_anom_2013['time'] = pd.date_range('2013-11','2015-10',freq='MS')"
   ]
  },
  {
   "cell_type": "code",
   "execution_count": null,
   "id": "2aa819f4-55c6-43eb-83fd-6376843a6cb3",
   "metadata": {},
   "outputs": [],
   "source": [
    "# smyle11_ex = xr.open_dataset('/glade/derecho/scratch/smogen/SMYLE-Extreme/thresholds/smyle11.' + var + '.thold.Rolling.full.2.nc')\n",
    "smyle11_ex = xr.open_dataset('/glade/work/smogen/SMYLE-extremes/thresholds/'+var +  '.monthly.surface.11.binary.Rolling.full.2.nc')\n",
    "\n",
    "smyle11_ex_2006 = smyle11_ex.sel(Y=2006)\n",
    "smyle11_ex_2006 = smyle11_ex_2006.rename({'L':'time'})\n",
    "smyle11_ex_2006['time'] = pd.date_range('2006-11','2008-10',freq='MS')\n",
    "\n",
    "smyle11_ex_2009 = smyle11_ex.sel(Y=2009)\n",
    "smyle11_ex_2009 = smyle11_ex_2009.rename({'L':'time'})\n",
    "smyle11_ex_2009['time'] = pd.date_range('2009-11','2011-10',freq='MS')\n",
    "\n",
    "smyle11_ex_2010 = smyle11_ex.sel(Y=2010)\n",
    "smyle11_ex_2010 = smyle11_ex_2010.rename({'L':'time'})\n",
    "smyle11_ex_2010['time'] = pd.date_range('2010-11','2012-10',freq='MS')\n",
    "\n",
    "smyle11_ex_2013 = smyle11_ex.sel(Y=2013)\n",
    "smyle11_ex_2013 = smyle11_ex_2013.rename({'L':'time'})\n",
    "smyle11_ex_2013['time'] = pd.date_range('2013-11','2015-10',freq='MS')"
   ]
  },
  {
   "cell_type": "code",
   "execution_count": null,
   "id": "a05db8d8-73f3-49c2-b12a-2837e10ce42d",
   "metadata": {},
   "outputs": [],
   "source": [
    "ds_ex.sel(time=slice(year1,year2)).sel(lon = lon,lat = lat).where(ds_ex.sel(time=slice(year1,year2)).sel(lon = lon,lat = lat) > 0).dropna('time')"
   ]
  },
  {
   "cell_type": "code",
   "execution_count": null,
   "id": "9545dc61-ebcc-4df4-bdd3-0f363193a5c4",
   "metadata": {},
   "outputs": [],
   "source": [
    "tmp.time[i].values"
   ]
  },
  {
   "cell_type": "code",
   "execution_count": null,
   "id": "544b5459-28ba-4793-824d-6de313c9a6d8",
   "metadata": {
    "scrolled": true
   },
   "outputs": [],
   "source": [
    "f, ax = plt.subplots(1,1,figsize=(12,3))\n",
    "\n",
    "ds.sel(time=slice(year1,year2)).sel(lon = lon,lat = lat).plot(color='k', label = 'Reconstruction')\n",
    "# ds_ex.sel(time=slice(year1,year2)).sel(lon = lon,lat = lat).plot(color='red')\n",
    "tmp = ds_ex.sel(time=slice(year1,year2)).sel(lon = lon,lat = lat).where(ds_ex.sel(time=slice(year1,year2)).sel(lon = lon,lat = lat) > 0).dropna('time')\n",
    "# plt.scatter(tmp.time,tmp)\n",
    "\n",
    "# plt.axvline('2010-01')\n",
    "xcoord1 = tmp.time.dt.year.values\n",
    "xcoord2 = tmp.time.dt.month.values\n",
    "for i in range(len(xcoord1)):\n",
    "    # plt.axvline(x= str(xcoord1[i]) + '-' + str(xcoord2[i]))\n",
    "    plt.axvline(tmp.time[i].values,color='red',alpha=0.2,linewidth=7)\n",
    "# plt.axvline(tmp.time[i].values,color='red',alpha=0.2,label='Reconstruction Extreme')\n",
    "\n",
    "smyle11_anom_2006.sel(lon = lon,lat = lat).mean('M').plot(color='grey', label = 'CESM SMYLE')\n",
    "one = (smyle11_anom_2006.sel(lon = lon,lat = lat).mean('M') + smyle11_anom_2006.sel(lon = lon,lat = lat).std('M'))\n",
    "two = (smyle11_anom_2006.sel(lon = lon,lat = lat).mean('M') - smyle11_anom_2006.sel(lon = lon,lat = lat).std('M'))\n",
    "plt.fill_between(one.time, one,two,color='grey',alpha=0.2)\n",
    "# (~np.isnan(smyle11_ex_2009.binary.sel(lon = lon,lat = lat).mean('M').where(smyle11_ex_2009.binary.sel(lon = lon,lat = lat).mean('M') > 0.5))).plot(color='red',linestyle='--')\n",
    "\n",
    "(smyle11_anom_2009.sel(lon = lon,lat = lat).mean('M') + 0.01).plot(ax=ax,color='grey')\n",
    "one = (smyle11_anom_2009.sel(lon = lon,lat = lat).mean('M') + smyle11_anom_2009.sel(lon = lon,lat = lat).std('M'))\n",
    "two = (smyle11_anom_2009.sel(lon = lon,lat = lat).mean('M') - smyle11_anom_2009.sel(lon = lon,lat = lat).std('M'))\n",
    "plt.fill_between(one.time, (one + 0.01),(two + 0.01),color='grey',alpha=0.2)\n",
    "# (~np.isnan(smyle11_ex_2009.binary.sel(lon = lon,lat = lat).mean('M').where(smyle11_ex_2009.binary.sel(lon = lon,lat = lat).mean('M') > 0.5))).plot(color='red',linestyle='--')\n",
    "# plt.legend(loc = 'upper left')\n",
    "\n",
    "# ax2 = ax.twinx()\n",
    "# (smyle11_ex_2006.binary.sel(lon =  lon,lat = lat).mean('M') * 100).plot(ax=ax2,color='red',linestyle='--', label= 'CESM SMYLE % Extremes')\n",
    "# (smyle11_ex_2009.binary.sel(lon = lon,lat = lat).mean('M') * 100).plot(ax=ax2,color='red',linestyle='--')\n",
    "# ax2.set_ylabel('% of extreme members',color='red')\n",
    "# ax2.tick_params(labelcolor='red')\n",
    "# ax2.set_ylim(1,70)\n",
    "\n",
    "plt.xlim('2006','2012')\n",
    "plt.ylim(-0.3,0.3)\n",
    "ax.set_ylabel('$\\Omega_{arag}$ anomaly')\n",
    "\n",
    "plt.title('')\n",
    "# f.suptitle('Example of extremes in CESM SMYLE and SMYLE FOSI')\n",
    "\n",
    "plt.grid(which='major')\n",
    "\n",
    "f.savefig('./figures/Review.TS.1.pdf',transparent=True)"
   ]
  },
  {
   "cell_type": "code",
   "execution_count": null,
   "id": "6e6c44a7-e84b-407a-9a86-cfeccdb2e891",
   "metadata": {
    "scrolled": true
   },
   "outputs": [],
   "source": [
    "f, ax = plt.subplots(1,1,figsize=(12,1.5),frameon=False)\n",
    "\n",
    "tmp = ds_ex.sel(time=slice(year1,year2)).sel(lon = lon,lat = lat).where(ds_ex.sel(time=slice(year1,year2)).sel(lon = lon,lat = lat) > 0).dropna('time')\n",
    "# plt.scatter(tmp.time,tmp)\n",
    "\n",
    "# plt.axvline('2010-01')\n",
    "# xcoord1 = tmp.time.dt.year.values\n",
    "# xcoord2 = tmp.time.dt.month.values\n",
    "# for i in range(len(xcoord1)):\n",
    "#     # plt.axvline(x= str(xcoord1[i]) + '-' + str(xcoord2[i]))\n",
    "#     plt.axvline(tmp.time[i].values,color='red',alpha=0.2,linewidth=7)\n",
    "\n",
    "ax2 = ax.twinx()\n",
    "\n",
    "(smyle11_ex_2006.binary.sel(lon =  lon,lat = lat).mean('M') * 100).plot(ax=ax2,color='red',linestyle='--', label= 'CESM SMYLE % Extremes')\n",
    "(smyle11_ex_2009.binary.sel(lon = lon,lat = lat).mean('M') * 100).plot(ax=ax2,color='red',linestyle='--')\n",
    "\n",
    "ax2.bar(smyle11_ex_2006.time, (smyle11_ex_2006.binary.sel(lon =  lon,lat = lat).mean('M') * 100),width = pd.Timedelta(weeks=3.6),color='red')\n",
    "ax2.bar(smyle11_ex_2009.time, (smyle11_ex_2009.binary.sel(lon =  lon,lat = lat).mean('M') * 100),width = pd.Timedelta(weeks=3.6),color='red')\n",
    "\n",
    "ax2.set_ylabel('% of extreme members',color='red')\n",
    "ax2.tick_params(labelcolor='red')\n",
    "ax2.set_ylim(0.5,100)\n",
    "plt.xlim('2006','2012')\n",
    "plt.title('')\n",
    "\n",
    "# ax2.spines['top'].set_visible(False)\n",
    "ax.set_frame_on(False)\n",
    "ax2.set_frame_on(False)\n",
    "\n",
    "f.savefig('./figures/Review.TS.2.pdf',transparent=True)"
   ]
  },
  {
   "cell_type": "code",
   "execution_count": null,
   "id": "f78890e4-6957-4eb0-9665-9c5652de71f4",
   "metadata": {},
   "outputs": [],
   "source": [
    "pd.time_delta"
   ]
  },
  {
   "cell_type": "code",
   "execution_count": null,
   "id": "6678f47f-82ad-45bc-9cd2-06cd5ac89726",
   "metadata": {},
   "outputs": [],
   "source": [
    "# smyle11_anom_2010.sel(lon = lon,lat = lat).mean('M').plot(color='grey')\n",
    "# (smyle11_anom_2010.sel(lon = lon,lat = lat).mean('M') + smyle11_anom_2010.sel(lon = lon,lat = lat).std('M')).plot(color='grey',alpha=0.5)\n",
    "# (smyle11_anom_2010.sel(lon = lon,lat = lat).mean('M') - smyle11_anom_2010.sel(lon = lon,lat = lat).std('M')).plot(color='grey',alpha=0.5)\n",
    "# (~np.isnan(smyle11_ex_2010.binary.sel(lon = lon,lat = lat).mean('M').where(smyle11_ex_2010.binary.sel(lon = lon,lat = lat).mean('M') > 0.5))).plot(color='red',linestyle='--')\n",
    "\n",
    "\n",
    "# smyle11_anom_2013.sel(lon = lon,lat = lat).mean('M').plot(color='grey')\n",
    "# (smyle11_anom_2013.sel(lon = lon,lat = lat).mean('M') + smyle11_anom_2013.sel(lon = lon,lat = lat).std('M')).plot(color='grey',alpha=0.5)\n",
    "# (smyle11_anom_2013.sel(lon = lon,lat = lat).mean('M') - smyle11_anom_2013.sel(lon = lon,lat = lat).std('M')).plot(color='grey',alpha=0.5)\n",
    "# # (~np.isnan(smyle11_ex_2013.binary.sel(lon = lon,lat = lat).mean('M').where(smyle11_ex_2013.binary.sel(lon = lon,lat = lat).mean('M') > 0.5))).plot(color='red',linestyle='--')\n",
    "# smyle11_ex_2013.binary.sel(lon = lon,lat = lat).mean('M').plot(color='red',linestyle='--')\n",
    "\n",
    "# smyle11_anom_2012.sel(lon = lon,lat = lat).mean('M').plot()\n",
    "# smyle11_anom_2013.sel(lon = lon,lat = lat).mean('M').plot()\n"
   ]
  }
 ],
 "metadata": {
  "kernelspec": {
   "display_name": "Python [conda env:.conda-smyle-analysis-2]",
   "language": "python",
   "name": "conda-env-.conda-smyle-analysis-2-py"
  },
  "language_info": {
   "codemirror_mode": {
    "name": "ipython",
    "version": 3
   },
   "file_extension": ".py",
   "mimetype": "text/x-python",
   "name": "python",
   "nbconvert_exporter": "python",
   "pygments_lexer": "ipython3",
   "version": "3.8.0"
  }
 },
 "nbformat": 4,
 "nbformat_minor": 5
}
