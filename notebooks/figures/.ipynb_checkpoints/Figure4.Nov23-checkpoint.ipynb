{
 "cells": [
  {
   "cell_type": "markdown",
   "metadata": {},
   "source": [
    "## Forecast of 2024 MHW and OAX"
   ]
  },
  {
   "cell_type": "code",
   "execution_count": null,
   "metadata": {},
   "outputs": [],
   "source": [
    "# general use packages\n",
    "%matplotlib inline\n",
    "import matplotlib.pyplot as plt\n",
    "import xarray as xr\n",
    "import pandas as pd\n",
    "import numpy as np\n",
    "\n",
    "import regionmask\n",
    "import geopandas as gp\n",
    "import cartopy.crs as ccrs\n",
    "import cartopy.feature as cfeature\n",
    "\n",
    "# SMYLE Utility functions\n",
    "from SMYLEutils import io_utils as io\n",
    "from SMYLEutils import calendar_utils as cal\n",
    "from SMYLEutils import stat_utils as stat"
   ]
  },
  {
   "cell_type": "code",
   "execution_count": null,
   "metadata": {},
   "outputs": [],
   "source": [
    "# from @GlacialMeg\n",
    "\n",
    "import matplotlib as mpl\n",
    "# Font style and size\n",
    "plt.rcParams['font.family'] = 'Arial'         # Font\n",
    "plt.rcParams['font.size'] = 10                # General font size unless set below\n",
    "plt.rcParams['axes.labelsize'] = 11           # Axes labels font size\n",
    "plt.rcParams['figure.titlesize'] = 12         # Title font size\n",
    "plt.rcParams['figure.titleweight'] = 'bold'   # Bold title\n",
    "plt.rcParams['axes.labelweight'] = 'bold'     # Bold axes labels\n",
    "    \n",
    "# Axes and ticks parameters\n",
    "plt.rcParams['axes.linewidth'] = 1            # Width of axes border\n",
    "plt.rcParams['xtick.direction'] = 'in'        # Make x ticks go in\n",
    "plt.rcParams['ytick.direction'] = 'in'        # Make y ticks go in\n",
    "plt.rcParams['xtick.major.size'] = 5          # Set x tick length \n",
    "plt.rcParams['ytick.major.size'] = 5          # Set y tick length\n",
    "plt.rcParams['xtick.major.width'] = 1         # Set x tick width \n",
    "plt.rcParams['ytick.major.width'] = 1         # Set y tick width\n",
    "\n",
    "# Line style\n",
    "plt.rcParams['lines.linewidth'] = 1           # Set line widths on plots\n",
    "plt.rcParams['lines.linestyle'] = '-'         # Set line styles on plots\n",
    "\n",
    "# Math text font characteristics\n",
    "plt.rcParams['mathtext.fontset'] = 'cm'       # Choose font for math text\n",
    "plt.rcParams['mathtext.default'] = 'regular'  # Make math text not bold or italic\n",
    "# mathtext.FontConstantsBase.sup1 = 0.4         # Move superscript text to a better height\n",
    "\n",
    "# For showing plots on GitHub\n",
    "%matplotlib inline\n",
    "plt.rcParams['figure.dpi']= 100"
   ]
  },
  {
   "cell_type": "code",
   "execution_count": null,
   "metadata": {},
   "outputs": [],
   "source": [
    "# mhw_forecast = xr.open_dataset('/glade/work/smogen/SMYLE-extremes/thresholds/TEMP.monthly.surface.binary.Rolling.live11.update.detrend.use.nc')['binary'].sel(Y=2023)\n",
    "mhw_forecast = xr.open_dataset('/glade/work/smogen/SMYLE-extremes/thresholds/TEMP.monthly.surface.binary.Rolling.live11.update.detrend.new_run.nc')['binary'].sel(Y=2023)\n",
    "mhw_forecast_prob = mhw_forecast.sum('M') / 20 * 100\n",
    "mhw_forecast_prob['L'] = pd.date_range('2023-11','2025-10',freq='MS')\n",
    "mhw_forecast_prob = mhw_forecast_prob.where(mhw_forecast_prob.lat < 65)"
   ]
  },
  {
   "cell_type": "code",
   "execution_count": null,
   "metadata": {},
   "outputs": [],
   "source": [
    "mhw_forecast_tr = xr.open_dataset('/glade/work/smogen/SMYLE-extremes/thresholds/TEMP.monthly.surface.binary.Rolling.live11.update.trend.nc')['binary'].sel(Y=2023)\n",
    "mhw_forecast_prob_tr = mhw_forecast_tr.sum('M') / 20 * 100\n",
    "mhw_forecast_prob_tr['L'] = pd.date_range('2023-11','2025-10',freq='MS')\n",
    "mhw_forecast_prob_tr = mhw_forecast_prob_tr.where(mhw_forecast_prob_tr.lat < 65)"
   ]
  },
  {
   "cell_type": "code",
   "execution_count": null,
   "metadata": {},
   "outputs": [],
   "source": [
    "mhw_forecast_detr = xr.open_dataset('/glade/work/smogen/SMYLE-extremes/thresholds/TEMP.monthly.surface.binary.Rolling.live11.update.trend.nc')['binary'].sel(Y=2023)\n",
    "mhw_forecast_prob_detr = mhw_forecast_detr.sum('M') / 20 * 100\n",
    "mhw_forecast_prob_detr['L'] = pd.date_range('2023-11','2025-10',freq='MS')\n",
    "mhw_forecast_prob_detr = mhw_forecast_prob_detr.where(mhw_forecast_prob_detr.lat < 65)"
   ]
  },
  {
   "cell_type": "code",
   "execution_count": null,
   "metadata": {},
   "outputs": [],
   "source": [
    "(mhw_forecast_prob_tr - mhw_forecast_prob_detr).isel(L=10).plot()"
   ]
  },
  {
   "cell_type": "code",
   "execution_count": null,
   "metadata": {},
   "outputs": [],
   "source": [
    "levels = np.arange(0,105,5)\n",
    "f, ax = plt.subplots(5,2,figsize=(14,18),subplot_kw=dict(projection=ccrs.PlateCarree(central_longitude=180)))\n",
    "\n",
    "lead = [1,4,7,10,13]\n",
    "\n",
    "for i in range(5):\n",
    "    (mhw_forecast_prob_tr).isel(L=lead[i]).plot(ax=ax[i,0],levels=levels,extend='max',transform = ccrs.PlateCarree(),cmap='Reds',add_colorbar=False)\n",
    "    # ds_temp.isel(L=lead[i]).where(ds_temp.isel(L=lead[i]) < 0).plot.contourf(ax=ax[i,0],transform = ccrs.PlateCarree(),alpha=0,hatches=['....'],add_colorbar=False)\n",
    "    # ax[i,0].add_feature(cfeature.LAND, color='k', zorder=3)\n",
    "    # # ax[i,0].set_title(str(lead[i] + 0.5) + ' months after initialization',fontsize=15)\n",
    "    # ax[i,0].set_title(str(mhw_forecast_prob.isel(L=lead[i]).L.dt.year.values) + '-' + str(mhw_forecast_prob.isel(L=lead[i]).L.dt.month.values),fontsize=15)\n",
    "\n",
    "for i in range(5):\n",
    "    im = mhw_forecast_prob_detr.isel(L=lead[i]).plot(ax=ax[i,1],levels=levels,extend='max',transform = ccrs.PlateCarree(),cmap='Reds',add_colorbar=False)\n",
    "#     # ds_omega.isel(L=lead[i]).where(ds_omega.isel(L=lead[i]) < 0).plot.contourf(ax=ax[i,1],transform = ccrs.PlateCarree(),alpha=0,hatches=['....'],add_colorbar=False)\n",
    "#     # ax[i,1].add_feature(cfeature.LAND, color='k', zorder=3)\n",
    "#     # # ax[i,1].set_title(str(lead[i] + 0.5) + ' months after initialization',fontsize=15)\n",
    "#     # ax[i,1].set_title(str(omega_forecast_prob.isel(L=lead[i]).L.dt.year.values) + '-' + str(omega_forecast_prob.isel(L=lead[i]).L.dt.month.values),fontsize=15)\n",
    "# f.suptitle('MHW, OAX (omega)')\n",
    "\n",
    "# f.subplots_adjust(right=0.8)\n",
    "# cbar_ax = f.add_axes([0.85, 0.25, 0.025, 0.50])\n",
    "# cbar = f.colorbar(im, cax=cbar_ax, ticks=[0,50,100])\n",
    "# cbar.ax.tick_params(labelsize=10)\n",
    "# cbar.set_label('% chance extreme', rotation=270,fontsize=14)"
   ]
  },
  {
   "cell_type": "code",
   "execution_count": null,
   "metadata": {},
   "outputs": [],
   "source": [
    "# omega_forecast = xr.open_dataset('/glade/work/smogen/SMYLE-extremes/thresholds/omega_arag.monthly.surface.binary.Rolling.live11.update.detrend.use.nc')['binary'].sel(Y=2023)\n",
    "omega_forecast = xr.open_dataset('/glade/work/smogen/SMYLE-extremes/thresholds/omega_arag.monthly.surface.binary.Rolling.live11.update.detrend.new_run.nc')['binary'].sel(Y=2023)\n",
    "omega_forecast_prob = omega_forecast.sum('M') / 20 * 100\n",
    "omega_forecast_prob['L'] = pd.date_range('2023-11','2025-10',freq='MS')\n",
    "omega_forecast_prob = omega_forecast_prob.where(mhw_forecast_prob.lat < 65)"
   ]
  },
  {
   "cell_type": "code",
   "execution_count": null,
   "metadata": {},
   "outputs": [],
   "source": [
    "# h_forecast = xr.open_dataset('/glade/work/smogen/SMYLE-extremes/thresholds/H+.monthly.surface.binary.Rolling.live.nc')['binary'].sel(Y=2023)\n",
    "# h_forecast_prob = h_forecast.sum('M') / 20 * 100\n",
    "# h_forecast_prob['L'] = pd.date_range('2023-11','2025-10',freq='MS')\n",
    "# h_forecast_prob = h_forecast_prob.where(mhw_forecast_prob.lat < 65)\n"
   ]
  },
  {
   "cell_type": "code",
   "execution_count": null,
   "metadata": {},
   "outputs": [],
   "source": [
    "def detrend_linear(dat, dim):\n",
    "    \"\"\" linear detrend dat along the axis dim \"\"\"\n",
    "    params = dat.polyfit(dim=dim, deg=1)\n",
    "    fit = xr.polyval(dat[dim], params.polyfit_coefficients)\n",
    "    dat = dat-fit\n",
    "    return dat"
   ]
  },
  {
   "cell_type": "code",
   "execution_count": null,
   "metadata": {},
   "outputs": [],
   "source": [
    "## calculate nino3.4\n",
    "\n",
    "var = 'TEMP'; var2 = 'TEMP'\n",
    "depth = 'surface'\n",
    "init = '11'\n",
    "\n",
    "smyle = xr.open_dataset('/glade/derecho/scratch/smogen/SMYLE-Extreme/'+var + '.monthly.' + depth + '.live11.regrid.update.nc')[var]\n",
    "smyle_time = xr.open_dataset('/glade/derecho/scratch/smogen/SMYLE-Extreme/'+var2+'.monthly.live11.time.update.nc')\n",
    "smyle = smyle.drop('time')\n",
    "\n",
    "smyle_anom,smyle_clim = stat.remove_drift(smyle,smyle_time,1990,2020)\n",
    "# smyle_anom = detrend_linear(smyle_anom.time,'Y')\n",
    "smyle_anom = smyle_anom.time"
   ]
  },
  {
   "cell_type": "code",
   "execution_count": null,
   "metadata": {},
   "outputs": [],
   "source": [
    "var = 'TEMP' # 'omega_arag', 'PH', 'pCO2SURF', 'DIC', 'SALT', 'TEMP', 'ALK', 'pH_3D', 'photoC_TOT_zint_100m'\n",
    "depth = 'surface' # '100m', '300m', '1000m'\n",
    "time = 'monthly'\n",
    "\n",
    "temp = xr.open_dataset('/glade/work/smogen/SMYLE-extremes/FOSI/'+ var +'.' + time + '.' + depth + '.regrid.nc')[var]\n",
    "\n",
    "temp['time'] = pd.date_range(\"1958-01\", \"2020-12\", freq=\"MS\")\n",
    "\n",
    "temp = temp.sel(lat=slice(-5,5),lon=slice(190 - 360,240 - 360)).weighted(np.cos(np.deg2rad(temp.lat))).mean(dim=('lat','lon'))"
   ]
  },
  {
   "cell_type": "code",
   "execution_count": null,
   "metadata": {
    "scrolled": true
   },
   "outputs": [],
   "source": [
    "temp = temp.isel(time=slice(0,-2))"
   ]
  },
  {
   "cell_type": "code",
   "execution_count": null,
   "metadata": {
    "tags": []
   },
   "outputs": [],
   "source": [
    "nino34 = smyle_anom.sel(lat=slice(-5,5),lon=slice(190 - 360,240 - 360))\n",
    "nino34 = nino34.weighted(np.cos(np.deg2rad(nino34.lat))).mean(dim=('lat','lon'))\n",
    "\n",
    "nino34 = nino34.sel(Y=2023)\n",
    "nino34['L'] = pd.date_range('11-2023','10-2025',freq='MS')\n",
    "nino34 = nino34.rename({'L':'time'})\n",
    "\n",
    "nino34_std = nino34.std('M')# / np.sqrt(20)\n",
    "nino34 = nino34.mean('M')\n",
    "\n",
    "\n",
    "# nino34 = nino34.rolling(time=3,center=True,min_periods=2)\n",
    "# nino34 = nino34.mean()\n",
    "\n",
    "# nino34_std = nino34_std.rolling(time=3,center=True,min_periods=2)\n",
    "# nino34_std = nino34_std.mean()"
   ]
  },
  {
   "cell_type": "code",
   "execution_count": null,
   "metadata": {},
   "outputs": [],
   "source": [
    "# # from https://origin.cpc.ncep.noaa.gov/products/analysis_monitoring/ensostuff/ONI_v5.php\n",
    "# ONI_time = pd.date_range('2023-11','2024-01',freq='MS')\n",
    "# ONI = np.array([1.9,2.0,1.8])\n",
    "\n",
    "# from: https://stateoftheocean.osmc.noaa.gov/sur/pac/nino34.php\n",
    "nino34_2 = xr.open_dataset('nino34.324.nc')"
   ]
  },
  {
   "cell_type": "code",
   "execution_count": null,
   "metadata": {},
   "outputs": [],
   "source": [
    "nino34_2['NINO34'].plot()"
   ]
  },
  {
   "cell_type": "code",
   "execution_count": null,
   "metadata": {},
   "outputs": [],
   "source": [
    "f,ax = plt.subplots(figsize=(7,2))\n",
    "nino34.plot(color='k')\n",
    "# plt.plot(ONI_time,ONI,color='red')\n",
    "nino34_2['NINO34'].plot()\n",
    "plt.ylim(-2,3)\n",
    "plt.xlim('2023-11','2025-10')\n",
    "plt.grid()\n",
    "plt.title('SMYLE Nov. Nino3.4 SSTa')\n",
    "plt.ylabel('SSTa')"
   ]
  },
  {
   "cell_type": "markdown",
   "metadata": {},
   "source": [
    "## Load skill significance (for masking)"
   ]
  },
  {
   "cell_type": "code",
   "execution_count": null,
   "metadata": {},
   "outputs": [],
   "source": [
    "var = 'TEMP'\n",
    "ds_temp = xr.open_dataset('/glade/work/smogen/SMYLE-extremes/results/MergedInits.obs.' + var + '.all_metrics.nc')\n",
    "ds_temp = ds_temp['sedi']\n",
    "\n",
    "var = 'omega_arag'\n",
    "# ds_omega = xr.open_dataset('/glade/work/smogen/SMYLE-extremes/results/MergedInits.obs.' + var + '.all_metrics.nc')\n",
    "# ds_omega = ds_omega['sedi']\n",
    "ds_omega = xr.open_dataset('/glade/work/smogen/SMYLE-extremes/results/MergedInits.obs.' + var + '.full.nc')\n",
    "ds_omega = ds_omega['skill']\n"
   ]
  },
  {
   "cell_type": "code",
   "execution_count": null,
   "metadata": {},
   "outputs": [],
   "source": [
    "temp_sig = xr.open_dataset('/glade/work/smogen/SMYLE-extremes/notebooks/1.0.process.smyle/TEMP.signficance.1lead.nc')['skill']\n",
    "omega_sig = xr.open_dataset('/glade/work/smogen/SMYLE-extremes/notebooks/1.0.process.smyle/omega_arag.signficance.1lead.nc')['skill']\n",
    "\n",
    "temp_sig = temp_sig.quantile(0.975,'bootstrap').drop('L').squeeze()\n",
    "omega_sig = omega_sig.quantile(0.975,'bootstrap').drop('L').squeeze()"
   ]
  },
  {
   "cell_type": "code",
   "execution_count": null,
   "metadata": {},
   "outputs": [],
   "source": [
    "ds_omega = ds_omega.where(ds_omega > omega_sig)\n",
    "ds_temp = ds_temp.where(ds_temp > temp_sig)"
   ]
  },
  {
   "cell_type": "code",
   "execution_count": null,
   "metadata": {},
   "outputs": [],
   "source": [
    "ds_omega['L'] = omega_forecast_prob.L\n",
    "ds_temp['L'] = mhw_forecast_prob.L\n",
    "# ds_temp = ds_omega['L'] = omega_forecast_prob.L\n",
    "# .where(ds_temp < temp_sig)"
   ]
  },
  {
   "cell_type": "code",
   "execution_count": null,
   "metadata": {
    "scrolled": true
   },
   "outputs": [],
   "source": [
    "# mask_omega = ~np.isnan(ds_omega)\n",
    "# mask_temp = ~np.isnan(ds_temp)\n",
    "\n",
    "mask_omega = (ds_omega)\n",
    "mask_temp = (ds_temp)"
   ]
  },
  {
   "cell_type": "markdown",
   "metadata": {},
   "source": [
    "## Figure"
   ]
  },
  {
   "cell_type": "code",
   "execution_count": null,
   "metadata": {},
   "outputs": [],
   "source": [
    "import matplotlib.pyplot as plt\n",
    "import matplotlib.colors as colors\n",
    "import numpy as np\n",
    "\n",
    "def truncate_colormap(cmap, minval=0.0, maxval=1.0, n=100):\n",
    "    new_cmap = colors.LinearSegmentedColormap.from_list(\n",
    "        'trunc({n},{a:.2f},{b:.2f})'.format(n=cmap.name, a=minval, b=maxval),\n",
    "        cmap(np.linspace(minval, maxval, n)))\n",
    "    return new_cmap\n"
   ]
  },
  {
   "cell_type": "code",
   "execution_count": null,
   "metadata": {},
   "outputs": [],
   "source": [
    "new_cmap = truncate_colormap(plt.get_cmap('CMRmap'), 0.1, 0.90)"
   ]
  },
  {
   "cell_type": "code",
   "execution_count": null,
   "metadata": {},
   "outputs": [],
   "source": [
    "mhw_forecast_prob2 = mhw_forecast_prob#.sel(lat=slice(-60.5,60.5))\n",
    "omega_forecast_prob2 = omega_forecast_prob#.sel(lat=slice(-60.5,60.5))"
   ]
  },
  {
   "cell_type": "code",
   "execution_count": null,
   "metadata": {},
   "outputs": [],
   "source": [
    "levels = np.arange(0,101,10)\n",
    "f, ax = plt.subplots(5,2,figsize=(10,13),subplot_kw=dict(projection=ccrs.PlateCarree(central_longitude=180)))\n",
    "\n",
    "lead = [1,4,7,10,13]\n",
    "\n",
    "for i in range(5):\n",
    "    mhw_forecast_prob2.where(~np.isnan(mask_temp)).isel(L=lead[i]).plot(ax=ax[i,0],levels=levels,transform = ccrs.PlateCarree(),extend='max',cmap=new_cmap,add_colorbar=False)\n",
    "    ax[i,0].add_feature(cfeature.LAND, color='k', zorder=3)\n",
    "    # ax[i,0].set_title(str(mhw_forecast_prob.isel(L=lead[i]).L.dt.year.values) + '-' + str(mhw_forecast_prob.isel(L=lead[i]).L.dt.month.values),fontsize=15)\n",
    "    ax[i,0].set_title('')\n",
    "    \n",
    "for i in range(5):\n",
    "    im = omega_forecast_prob2.where(~np.isnan(mask_omega)).isel(L=lead[i]).plot(ax=ax[i,1],levels=levels,transform = ccrs.PlateCarree(),extend='max',cmap=new_cmap,add_colorbar=False)\n",
    "    ax[i,1].add_feature(cfeature.LAND, color='k', zorder=3)\n",
    "    # ax[i,1].set_title(str(omega_forecast_prob.isel(L=lead[i]).L.dt.year.values) + '-' + str(omega_forecast_prob.isel(L=lead[i]).L.dt.month.values),fontsize=15)\n",
    "    ax[i,1].set_title('')\n",
    "\n",
    "# f.subplots_adjust(right=0.8)\n",
    "# cbar_ax = f.add_axes([0.85, 0.25, 0.025, 0.50])\n",
    "# cbar = f.colorbar(im, cax=cbar_ax, ticks=[0,50,100])\n",
    "# cbar.ax.tick_params(labelsize=10)\n",
    "# cbar.set_label('% chance extreme', rotation=270,fontsize=14)\n",
    "\n",
    "plt.subplots_adjust(hspace=0.01,wspace=0.01)\n",
    "# plt.tight_layout()\n",
    "\n",
    "f.savefig('./figures/Figure7.maps.11.update.zoomed60.final.pdf',transparent=True)\n",
    "# # # f.savefig('./figures/Figure7.maps.11.eps')\n",
    "f.savefig('./figures/Figure7.maps.11.update.zoomed60.final.png',dpi=1000)"
   ]
  },
  {
   "cell_type": "code",
   "execution_count": null,
   "metadata": {},
   "outputs": [],
   "source": [
    "nino34_plot = nino34#.isel(time=slice(0,12))\n",
    "zeros = xr.zeros_like(nino34_plot)\n",
    "ones = xr.zeros_like(nino34_plot) + 1\n",
    "two = xr.zeros_like(nino34_plot) + 2\n",
    "\n",
    "plt.subplots(1,1,figsize=(3,18))\n",
    "\n",
    "plt.plot(nino34_plot,nino34_plot.time,linewidth=4,color='k')\n",
    "plt.plot(nino34_2['NINO34'],nino34_2['NINO34'].TIME,linewidth=4,color='dimgrey',linestyle='--')\n",
    "\n",
    "# plt.annotate(\"o\", (nino34_plot[8], nino34_plot.time[8]),size=20)\n",
    "\n",
    "# plt.fill_betweenx(nino34_plot.time,-1.5,-2,color='blue',alpha=0.5)\n",
    "plt.fill_betweenx(nino34_plot.time,-1,-1.5,color='blue',alpha=0.3)\n",
    "plt.fill_betweenx(nino34_plot.time,-0.5,-1,color='blue',alpha=0.1)\n",
    "plt.fill_betweenx(nino34_plot.time,0.5,1,color='red',alpha=0.1)\n",
    "plt.fill_betweenx(nino34_plot.time,1,1.5,color='red',alpha=0.3)\n",
    "plt.fill_betweenx(nino34_plot.time,1.5,2,color='red',alpha=0.5)\n",
    "plt.fill_betweenx(nino34_plot.time,2,3,color='red',alpha=0.7)\n",
    "\n",
    "plt.axvline(0,color='k',linewidth=0.2)\n",
    "\n",
    "plt.plot(nino34_plot,nino34_plot.time,linewidth=4,color='k')\n",
    "plt.fill_betweenx(nino34_plot.time,nino34_plot - nino34_std, nino34_plot + nino34_std,color='k',alpha=0.2)\n",
    "\n",
    "# plt.scatter(nino34_plot[2] + 0.2,nino34_plot.time[2],marker='o',alpha=1,color='k')\n",
    "\n",
    "plt.ylim('2023-11','2025-01')\n",
    "plt.xlim(-1.5,3)\n",
    "\n",
    "# plt.axhline('2023-09',color='k',linestyle='--')\n",
    "plt.scatter(nino34_plot.sel(time='2023-12'),'2023-12',marker='o',alpha=1,color='k',s=100)\n",
    "# plt.axhline('2023-12',color='k',linestyle='--')\n",
    "plt.scatter(nino34_plot.sel(time='2024-03'),'2024-03',marker='o',alpha=1,color='k',s=100)\n",
    "# plt.axhline('2024-03',color='k',linestyle='--')\n",
    "plt.scatter(nino34_plot.sel(time='2024-06'),'2024-06',marker='o',alpha=1,color='k',s=100)\n",
    "# plt.axhline('2024-07',color='k',linestyle='--')\n",
    "plt.scatter(nino34_plot.sel(time='2024-09'),'2024-09',marker='o',alpha=1,color='k',s=100)\n",
    "# plt.axhline('2024-11',color='k',linestyle='--')\n",
    "plt.scatter(nino34_plot.sel(time='2024-12'),'2024-12',marker='o',alpha=1,color='k',s=100)\n",
    "\n",
    "plt.xticks(fontsize=18)\n",
    "plt.yticks(fontsize=18)\n",
    "\n",
    "plt.gca().invert_yaxis()\n",
    "\n",
    "plt.xlabel('SST Anomaly ($^oC$)',fontsize=15)\n",
    "plt.ylabel('Time',fontsize=18)\n",
    "\n",
    "plt.rcParams[\"figure.figsize\"] = (20,15)\n",
    "\n",
    "plt.savefig('./figures/Figure7.nino.11.update.final.pdf')\n",
    "plt.savefig('./figures/Figure7.nino.11.update.final.png',dpi=600)"
   ]
  },
  {
   "cell_type": "code",
   "execution_count": null,
   "metadata": {},
   "outputs": [],
   "source": []
  }
 ],
 "metadata": {
  "kernelspec": {
   "display_name": "Python 3",
   "language": "python",
   "name": "python3"
  },
  "language_info": {
   "codemirror_mode": {
    "name": "ipython",
    "version": 3
   },
   "file_extension": ".py",
   "mimetype": "text/x-python",
   "name": "python",
   "nbconvert_exporter": "python",
   "pygments_lexer": "ipython3",
   "version": "3.8.3"
  }
 },
 "nbformat": 4,
 "nbformat_minor": 5
}
