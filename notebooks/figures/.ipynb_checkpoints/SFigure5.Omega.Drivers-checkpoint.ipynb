{
 "cells": [
  {
   "cell_type": "markdown",
   "id": "42e5ffc3-4af5-4a47-8290-99d0ec1e8a73",
   "metadata": {},
   "source": [
    "# Drivers of $\\Omega_{arag}$ extremes in SMYLE FOSI:\n",
    "(1) look at the change in CO3 with varying DIC, Alk, T, S - what is dominant?\n",
    "\n",
    "    (a) Define relationships between these variables and CO3\n",
    "    (b) Isolate CO3 to periods when $\\Omega_{arag}$ is extreme\n",
    "    (c) Calculate the relative change to CO3 from each variable - what is the largest contributor?\n",
    "\n",
    "(2) If DIC is dominant, look at the tendency terms during events"
   ]
  },
  {
   "cell_type": "code",
   "execution_count": null,
   "id": "bbca5539-418f-49b6-89f7-361f1cabbc39",
   "metadata": {},
   "outputs": [],
   "source": [
    "%load_ext autoreload\n",
    "%autoreload 2\n",
    "import xarray as xr \n",
    "import numpy as np  \n",
    "import cftime\n",
    "import copy\n",
    "import scipy.stats\n",
    "from scipy import signal\n",
    "from functools import partial\n",
    "import glob\n",
    "import dask\n",
    "import matplotlib.pyplot as plt\n",
    "import pandas as pd\n",
    "%matplotlib inline\n",
    "\n",
    "import esmtools as esmtools\n",
    "\n",
    "# ! pip install PyCO2SYS\n",
    "import PyCO2SYS as pyco2"
   ]
  },
  {
   "cell_type": "markdown",
   "id": "fa0ba17f-02a4-4456-8db5-0058d1a5c72c",
   "metadata": {},
   "source": [
    "## (1) Use PyCO2SYS to determine the relationships"
   ]
  },
  {
   "cell_type": "markdown",
   "id": "4832a070-82e3-4693-9a31-e99e4f559e64",
   "metadata": {},
   "source": [
    "### (a)"
   ]
  },
  {
   "cell_type": "code",
   "execution_count": null,
   "id": "25942805-9997-4708-99d7-816e762330dc",
   "metadata": {},
   "outputs": [],
   "source": [
    "var = \"CO3\"\n",
    "depth = \"surface\"\n",
    "time = \"monthly\"\n",
    "\n",
    "# open the data!\n",
    "ds = xr.open_dataset('/glade/work/smogen/SMYLE-extremes/FOSI/'+ var +'.' + time + '.' + depth + '.regrid.nc')[var]\n",
    "ds['time'] = pd.date_range(\"1958-01\", \"2020-12\", freq=\"MS\")"
   ]
  },
  {
   "cell_type": "code",
   "execution_count": null,
   "id": "a432970b-b6e5-4c10-aa1a-ba30ac21927a",
   "metadata": {},
   "outputs": [],
   "source": [
    "var = \"TEMP\"\n",
    "depth = \"surface\"\n",
    "time = \"monthly\"\n",
    "# open the data!\n",
    "ds_t = xr.open_dataset('/glade/work/smogen/SMYLE-extremes/FOSI/'+ var +'.' + time + '.' + depth + '.regrid.nc')[var]\n",
    "ds_t['time'] = pd.date_range(\"1958-01\", \"2020-12\", freq=\"MS\")"
   ]
  },
  {
   "cell_type": "code",
   "execution_count": null,
   "id": "9d147c56-70f1-467a-a42d-b0e3f75192b2",
   "metadata": {
    "scrolled": true
   },
   "outputs": [],
   "source": [
    "var = \"SALT\"\n",
    "depth = \"surface\"\n",
    "time = \"monthly\"\n",
    "# open the data!\n",
    "ds_s = xr.open_dataset('/glade/work/smogen/SMYLE-extremes/FOSI/'+ var +'.' + time + '.' + depth + '.regrid.nc')[var].isel(z_t=0)\n",
    "ds_s['time'] = pd.date_range(\"1958-01\", \"2020-12\", freq=\"MS\")"
   ]
  },
  {
   "cell_type": "code",
   "execution_count": null,
   "id": "211d2c0d-053a-4cc0-a461-8e040f4fc80b",
   "metadata": {},
   "outputs": [],
   "source": [
    "var = \"DIC\"\n",
    "depth = \"surface\"\n",
    "time = \"monthly\"\n",
    "# open the data!\n",
    "ds_dic = xr.open_dataset('/glade/work/smogen/SMYLE-extremes/FOSI/'+ var +'.' + time + '.' + depth + '.regrid.nc')[var]\n",
    "ds_dic['time'] = pd.date_range(\"1958-01\", \"2020-12\", freq=\"MS\")"
   ]
  },
  {
   "cell_type": "code",
   "execution_count": null,
   "id": "0edbac4b-7d6d-429a-b140-3262052fbf5a",
   "metadata": {},
   "outputs": [],
   "source": [
    "var = \"ALK\"\n",
    "depth = \"surface\"\n",
    "time = \"monthly\"\n",
    "# open the data!\n",
    "ds_alk = xr.open_dataset('/glade/work/smogen/SMYLE-extremes/FOSI/'+ var +'.' + time + '.' + depth + '.regrid.nc')[var].isel(z_t=0)\n",
    "ds_alk['time'] = pd.date_range(\"1958-01\", \"2020-12\", freq=\"MS\")"
   ]
  },
  {
   "cell_type": "code",
   "execution_count": null,
   "id": "bc79cc81-5dbc-4f23-9084-64ff9e74cf78",
   "metadata": {},
   "outputs": [],
   "source": [
    "# set up background values for Alkalinity, DIC, Salinity\n",
    "ALK = 2280\n",
    "DIC = 2040\n",
    "SAL = 34\n",
    "T = 20"
   ]
  },
  {
   "cell_type": "code",
   "execution_count": null,
   "id": "3a0ed90e-2081-45a9-8609-6641941365c1",
   "metadata": {},
   "outputs": [],
   "source": [
    "# T\n",
    "T_range = np.arange(0, 30, 0.1)\n",
    "s = T_range.size;\n",
    "tmp = []\n",
    "\n",
    "for i in range (1,s):\n",
    "    A = pyco2.CO2SYS_nd(ALK,DIC,1,2,SAL,T_range[i],T_range[i],5,0,1,10,1);\n",
    "    tmp.append(A['carbonate'])\n",
    "\n",
    "pH_sst = np.array(tmp)\n",
    "\n",
    "from scipy.stats import linregress\n",
    "\n",
    "m, b, r, p, err = linregress(T_range[0:299],pH_sst) \n",
    "\n",
    "print(m,b)\n",
    "\n",
    "vals_t = m * T_range + b\n",
    "\n",
    "ds_t_signal = ds_t * m + b\n",
    "ds_t_residual = ds - ds_t_signal"
   ]
  },
  {
   "cell_type": "code",
   "execution_count": null,
   "id": "c7ef7087-3503-41c3-9f88-197c6feb648e",
   "metadata": {},
   "outputs": [],
   "source": [
    "plt.plot(vals_t, T_range)"
   ]
  },
  {
   "cell_type": "code",
   "execution_count": null,
   "id": "551a0df7-b37d-433c-b79c-862e0d2fe24f",
   "metadata": {},
   "outputs": [],
   "source": [
    "# S\n",
    "s_range = np.arange(28, 38, 0.1)\n",
    "tmp = []\n",
    "\n",
    "for i in range (1,s_range.size):\n",
    "    A = pyco2.CO2SYS_nd(ALK,DIC,1,2,s_range[i],T,T,5,0,1,10,1);\n",
    "    tmp.append(A['carbonate'])\n",
    "\n",
    "pH_sst = np.array(tmp)\n",
    "\n",
    "from scipy.stats import linregress\n",
    "\n",
    "m, b, r, p, err = linregress(s_range[0:-1],pH_sst) \n",
    "\n",
    "print(m,b)\n",
    "\n",
    "vals_t = m * s_range + b\n",
    "\n",
    "ds_s_signal = ds_s * m + b\n",
    "ds_s_residual = ds - ds_s_signal"
   ]
  },
  {
   "cell_type": "code",
   "execution_count": null,
   "id": "0607bb93-7d67-434f-a830-5cab21a80052",
   "metadata": {},
   "outputs": [],
   "source": [
    "plt.plot(vals_t, s_range)"
   ]
  },
  {
   "cell_type": "code",
   "execution_count": null,
   "id": "56b5a3a5-477f-4cb9-a1d1-71331c5719de",
   "metadata": {},
   "outputs": [],
   "source": [
    "# S\n",
    "dic_range = np.arange(1800, 2500, 1)\n",
    "tmp = []\n",
    "\n",
    "for i in range (1,dic_range.size):\n",
    "    A = pyco2.CO2SYS_nd(ALK,dic_range[i],1,2,SAL,T,T,5,0,1,10,1);\n",
    "    tmp.append(A['carbonate'])\n",
    "\n",
    "pH_sst = np.array(tmp)\n",
    "\n",
    "from scipy.stats import linregress\n",
    "\n",
    "m, b, r, p, err = linregress(dic_range[0:-1],pH_sst) \n",
    "\n",
    "print(m,b)\n",
    "\n",
    "vals_t = m * dic_range + b\n",
    "\n",
    "ds_dic_signal = ds_dic * m + b\n",
    "ds_dic_residual = ds - ds_dic_signal"
   ]
  },
  {
   "cell_type": "code",
   "execution_count": null,
   "id": "339f0d44-4bc0-459f-b26f-d88b1ccb65fa",
   "metadata": {},
   "outputs": [],
   "source": [
    "plt.plot(vals_t, dic_range)"
   ]
  },
  {
   "cell_type": "code",
   "execution_count": null,
   "id": "511d3ce5-c80a-4e8a-a6c1-5de9ea4d6634",
   "metadata": {},
   "outputs": [],
   "source": [
    "# S\n",
    "alk_range = np.arange(1800, 2500, 1)\n",
    "tmp = []\n",
    "\n",
    "for i in range (1,alk_range.size):\n",
    "    A = pyco2.CO2SYS_nd(alk_range[i],DIC,1,2,SAL,T,T,5,0,1,10,1);\n",
    "    tmp.append(A['carbonate'])\n",
    "\n",
    "pH_sst = np.array(tmp)\n",
    "\n",
    "from scipy.stats import linregress\n",
    "\n",
    "m, b, r, p, err = linregress(alk_range[0:-1],pH_sst) \n",
    "\n",
    "print(m,b)\n",
    "\n",
    "vals_t = m * alk_range + b\n",
    "\n",
    "ds_alk_signal = ds_alk * m + b\n",
    "ds_alk_residual = ds - ds_alk_signal"
   ]
  },
  {
   "cell_type": "code",
   "execution_count": null,
   "id": "a55e7a5c-b3db-4a3c-aece-eb3a80203a2d",
   "metadata": {},
   "outputs": [],
   "source": [
    "plt.plot(vals_t, alk_range)"
   ]
  },
  {
   "cell_type": "markdown",
   "id": "80d9c6c9-5949-4b9a-a896-3e0f07708b1f",
   "metadata": {},
   "source": [
    "### (b) isolate these to where $\\Omega_{arag}$ is extreme"
   ]
  },
  {
   "cell_type": "code",
   "execution_count": null,
   "id": "26fa8dea-e52c-4c8b-91dd-20ce3008e315",
   "metadata": {},
   "outputs": [],
   "source": [
    "extreme = xr.open_dataset('/glade/work/smogen/SMYLE-extremes/omega_arag.fosi.rolling.thold.Rolling.nc')['threshold']\n",
    "extreme = extreme.where(extreme.lat < 65)"
   ]
  },
  {
   "cell_type": "code",
   "execution_count": null,
   "id": "be8390de-9433-4f20-b526-b00c687c458f",
   "metadata": {},
   "outputs": [],
   "source": [
    "extreme.isel(time=0).plot()"
   ]
  },
  {
   "cell_type": "code",
   "execution_count": null,
   "id": "b735b2cb-81b8-43dd-b091-981d90062b15",
   "metadata": {},
   "outputs": [],
   "source": [
    "ds_ext = ds.where(extreme == 1)"
   ]
  },
  {
   "cell_type": "code",
   "execution_count": null,
   "id": "0714e0dc-f7a0-44df-b96c-82ef1417a7da",
   "metadata": {},
   "outputs": [],
   "source": [
    "ds_t_signal_ext = ds_t_signal.where(extreme == 1)"
   ]
  },
  {
   "cell_type": "code",
   "execution_count": null,
   "id": "37710ee4-6d49-4429-b6b5-15496881386d",
   "metadata": {},
   "outputs": [],
   "source": [
    "ds_s_signal_ext = ds_s_signal.where(extreme == 1)"
   ]
  },
  {
   "cell_type": "code",
   "execution_count": null,
   "id": "19274dd1-a48a-4c56-a089-9749712f97fe",
   "metadata": {},
   "outputs": [],
   "source": [
    "ds_dic_signal_ext = ds_dic_signal.where(extreme == 1)"
   ]
  },
  {
   "cell_type": "code",
   "execution_count": null,
   "id": "5b2ee30e-3cc6-486d-8a43-a5d412b16936",
   "metadata": {},
   "outputs": [],
   "source": [
    "ds_alk_signal_ext = ds_alk_signal.where(extreme == 1)"
   ]
  },
  {
   "cell_type": "markdown",
   "id": "b4be2915-618a-4cde-be89-24b7dda573f9",
   "metadata": {},
   "source": [
    "### (c) the relative change from each variable\n",
    "\n",
    "- high alk = high co3\n",
    "- high dic = low co3\n",
    "- high t = high co3\n",
    "- high s = low co3"
   ]
  },
  {
   "cell_type": "code",
   "execution_count": null,
   "id": "4772a151-9a0f-409c-a3b0-038a62021207",
   "metadata": {},
   "outputs": [],
   "source": [
    "import cartopy.crs as ccrs\n",
    "import cartopy.feature as cfeature"
   ]
  },
  {
   "cell_type": "markdown",
   "id": "a1a29644-7460-487e-99fe-06cc8e82850e",
   "metadata": {},
   "source": [
    "## so now we will look at the tendency terms"
   ]
  },
  {
   "cell_type": "code",
   "execution_count": null,
   "id": "c4509058-69e1-4039-9b2d-e826ded20649",
   "metadata": {},
   "outputs": [],
   "source": [
    "# conversion =  1/1000 * 1/100 * 60*60*24 # mmol to mol ; cm to m ; s to day"
   ]
  },
  {
   "cell_type": "code",
   "execution_count": null,
   "id": "00330277-bac7-4b8d-a4e8-f8ae2d758252",
   "metadata": {},
   "outputs": [],
   "source": [
    "var = \"DIC\" # units = mmol/m^3\n",
    "depth = \"surface\"\n",
    "time = \"monthly\"\n",
    "# open the data!\n",
    "ds_dic = xr.open_dataset('/glade/work/smogen/SMYLE-extremes/FOSI/'+ var +'.' + time + '.' + depth + '.regrid.nc')[var]\n",
    "ds_dic['time'] = pd.date_range(\"1958-01\", \"2020-12\", freq=\"MS\")"
   ]
  },
  {
   "cell_type": "code",
   "execution_count": null,
   "id": "9947abd7-8803-44be-8ca9-fed39d6ae64b",
   "metadata": {},
   "outputs": [],
   "source": [
    "var = \"FG_CO2\" # units = mmol/m^3 cm/s\n",
    "depth = \"surface\"\n",
    "time = \"monthly\"\n",
    "\n",
    "# open the data!\n",
    "fg_co2 = xr.open_dataset('/glade/work/smogen/SMYLE-extremes/FOSI/'+ var +'.' + time + '.' + depth + '.regrid.nc')[var]\n",
    "fg_co2['time'] = pd.date_range(\"1958-01\", \"2020-12\", freq=\"MS\")\n",
    "# fg_co2 = fg_co2 * conversion"
   ]
  },
  {
   "cell_type": "code",
   "execution_count": null,
   "id": "eab1c47b-68f8-4f0e-817e-639a0b2d05b6",
   "metadata": {},
   "outputs": [],
   "source": [
    "var = \"Jint_100m_DIC\" # units = mmol/m^3 cm/s\n",
    "depth = \"surface\"\n",
    "time = \"monthly\"\n",
    "\n",
    "# open the data!\n",
    "jint = xr.open_dataset('/glade/work/smogen/SMYLE-extremes/FOSI/'+ var +'.' + time + '.' + depth + '.regrid.nc')[var]\n",
    "jint['time'] = pd.date_range(\"1958-01\", \"2020-12\", freq=\"MS\")\n",
    "# jint = jint * conversion"
   ]
  },
  {
   "cell_type": "code",
   "execution_count": null,
   "id": "846b040c-ed8e-4b43-9283-bcbfac7afc3c",
   "metadata": {},
   "outputs": [],
   "source": [
    "var = \"tend_zint_100m_DIC\" # units = mmol/m^3 cm/s\n",
    "depth = \"surface\"\n",
    "time = \"monthly\"\n",
    "\n",
    "# open the data!\n",
    "tend = xr.open_dataset('/glade/work/smogen/SMYLE-extremes/FOSI/'+ var +'.' + time + '.' + depth + '.regrid.nc')[var]\n",
    "tend['time'] = pd.date_range(\"1958-01\", \"2020-12\", freq=\"MS\")\n",
    "# tend = tend * conversion"
   ]
  },
  {
   "cell_type": "code",
   "execution_count": null,
   "id": "5f7c8d6e-c6cc-4e48-88af-7306960dacd1",
   "metadata": {},
   "outputs": [],
   "source": [
    "ds_dic = ds_dic.where(ds_dic > 0)\n",
    "\n",
    "tend = tend.where(ds_dic > 0)\n",
    "jint = jint.where(ds_dic > 0)\n",
    "fg_co2 = fg_co2.where(ds_dic > 0)"
   ]
  },
  {
   "cell_type": "code",
   "execution_count": null,
   "id": "9c4611d7-092e-4d63-8713-c8a8344b77b6",
   "metadata": {},
   "outputs": [],
   "source": [
    "circ = (tend - jint - fg_co2)"
   ]
  },
  {
   "cell_type": "code",
   "execution_count": null,
   "id": "90b8fcf8-1cf9-427e-a4a1-7f55b1932e7a",
   "metadata": {},
   "outputs": [],
   "source": [
    "dic_ex = ds_dic.where(extreme == 1)\n",
    "\n",
    "tend_ex = tend.where(extreme == 1)\n",
    "\n",
    "circ_ex = circ.where(extreme == 1)\n",
    "fg_co2_ex = fg_co2.where(extreme == 1)\n",
    "jint_ex = jint.where(extreme == 1)"
   ]
  },
  {
   "cell_type": "markdown",
   "id": "db64b3d3-c973-497b-bbd8-d177c4ecfc30",
   "metadata": {},
   "source": [
    "### Correlation"
   ]
  },
  {
   "cell_type": "code",
   "execution_count": null,
   "id": "4ef54240-ce27-4b18-9362-7edfbd900f3d",
   "metadata": {},
   "outputs": [],
   "source": [
    "tend_circ = xr.corr(tend, circ, dim='time')\n",
    "tend_fg = xr.corr(tend, fg_co2, dim='time')\n",
    "tend_jint = xr.corr(tend, jint, dim='time')\n",
    "\n",
    "f, ax = plt.subplots(1,3, figsize = (9,2),subplot_kw=dict(projection=ccrs.PlateCarree(central_longitude=180)))\n",
    "\n",
    "tend_circ.plot(ax=ax[0],transform = ccrs.PlateCarree())\n",
    "ax[0].set_title('$Circulation_{component}$')\n",
    "\n",
    "tend_fg.plot(ax=ax[1],transform = ccrs.PlateCarree())\n",
    "ax[1].set_title('$Air-Sea Flux_{component}$')\n",
    "\n",
    "tend_jint.plot(ax=ax[2],transform = ccrs.PlateCarree())\n",
    "ax[2].set_title('$Biological_{component}$')\n",
    "\n",
    "f.suptitle('Correlation (r) of $DIC_{tendency}$ and drivers at all times')\n",
    "plt.tight_layout()"
   ]
  },
  {
   "cell_type": "code",
   "execution_count": null,
   "id": "d08f0d20-1b8d-4017-b31f-abb2c3714ac8",
   "metadata": {},
   "outputs": [],
   "source": [
    "tend_circ = xr.corr(ds_dic, circ, dim='time')\n",
    "tend_fg = xr.corr(ds_dic, fg_co2, dim='time')\n",
    "tend_jint = xr.corr(ds_dic, jint, dim='time')\n",
    "\n",
    "f, ax = plt.subplots(1,3, figsize = (9,2),subplot_kw=dict(projection=ccrs.PlateCarree(central_longitude=180)))\n",
    "\n",
    "tend_circ.plot(ax=ax[0],transform = ccrs.PlateCarree())\n",
    "ax[0].set_title('$Circulation_{component}$')\n",
    "\n",
    "tend_fg.plot(ax=ax[1],transform = ccrs.PlateCarree())\n",
    "ax[1].set_title('$Air-Sea Flux_{component}$')\n",
    "\n",
    "tend_jint.plot(ax=ax[2],transform = ccrs.PlateCarree())\n",
    "ax[2].set_title('$Biological_{component}$')\n",
    "\n",
    "f.suptitle('Correlation (r) of $DIC$ and drivers at all times')\n",
    "plt.tight_layout()"
   ]
  },
  {
   "cell_type": "code",
   "execution_count": null,
   "id": "61befcd2-2e46-4efc-8300-18b932ac66da",
   "metadata": {},
   "outputs": [],
   "source": [
    "tend_circ = xr.corr(tend_ex, circ_ex, dim='time')\n",
    "tend_fg = xr.corr(tend_ex, fg_co2_ex, dim='time')\n",
    "tend_jint = xr.corr(tend_ex, jint_ex, dim='time')\n",
    "\n",
    "f, ax = plt.subplots(1,3, figsize = (9,2),subplot_kw=dict(projection=ccrs.PlateCarree(central_longitude=180)))\n",
    "\n",
    "tend_circ.plot(ax=ax[0],transform = ccrs.PlateCarree())\n",
    "ax[0].set_title('$Circulation_{component}$')\n",
    "\n",
    "tend_fg.plot(ax=ax[1],transform = ccrs.PlateCarree())\n",
    "ax[1].set_title('$Air-Sea Flux_{component}$')\n",
    "\n",
    "tend_jint.plot(ax=ax[2],transform = ccrs.PlateCarree())\n",
    "ax[2].set_title('$Biological_{component}$')\n",
    "\n",
    "f.suptitle('Correlation (r) of $DIC_{tendency}$ and drivers during OAX ($\\Omega_{arag}$)')\n",
    "plt.tight_layout()"
   ]
  },
  {
   "cell_type": "code",
   "execution_count": null,
   "id": "f093680b-8099-42fa-ad96-be87c935f970",
   "metadata": {},
   "outputs": [],
   "source": [
    "dic_circ = xr.corr(dic_ex, circ_ex, dim='time')\n",
    "dic_fg = xr.corr(dic_ex, fg_co2_ex, dim='time')\n",
    "dic_jint = xr.corr(dic_ex, jint_ex, dim='time')\n",
    "\n",
    "f, ax = plt.subplots(1,3, figsize = (9,2),subplot_kw=dict(projection=ccrs.PlateCarree(central_longitude=180)))\n",
    "\n",
    "dic_circ.plot(ax=ax[0],transform = ccrs.PlateCarree())\n",
    "ax[0].set_title('$Circulation_{component}$')\n",
    "\n",
    "dic_fg.plot(ax=ax[1],transform = ccrs.PlateCarree())\n",
    "ax[1].set_title('$Air-Sea Flux_{component}$')\n",
    "\n",
    "dic_jint.plot(ax=ax[2],transform = ccrs.PlateCarree())\n",
    "ax[2].set_title('$Biological_{component}$')\n",
    "\n",
    "f.suptitle('Correlation (r) of $DIC$ and drivers during OAX ($\\Omega_{arag}$)')\n",
    "plt.tight_layout()"
   ]
  },
  {
   "cell_type": "markdown",
   "id": "1e85480b-a0b1-4ea3-af13-349131b677e4",
   "metadata": {
    "jp-MarkdownHeadingCollapsed": true
   },
   "source": [
    "## Magnitude of components"
   ]
  },
  {
   "cell_type": "code",
   "execution_count": null,
   "id": "b753ca7b-4a0b-49ce-8c98-3f2cc02cdd02",
   "metadata": {},
   "outputs": [],
   "source": [
    "f, ax = plt.subplots(1,1, subplot_kw=dict(projection=ccrs.PlateCarree(central_longitude=180)))\n",
    "ds_dic.mean('time').plot(ax=ax,transform = ccrs.PlateCarree(), cmap='Reds', vmin=1800, vmax = 2500)"
   ]
  },
  {
   "cell_type": "code",
   "execution_count": null,
   "id": "a290efaf-918f-45d7-945d-0d61e3f3ae21",
   "metadata": {},
   "outputs": [],
   "source": [
    "f, ax = plt.subplots(1,4, figsize = (12,2),subplot_kw=dict(projection=ccrs.PlateCarree(central_longitude=180)))\n",
    "\n",
    "tend.mean('time').plot(ax=ax[0],transform = ccrs.PlateCarree(),vmin=-0.01,vmax=0.01,cmap='coolwarm')\n",
    "ax[0].set_title('$Tendency$')\n",
    "\n",
    "circ.mean('time').plot(ax=ax[1],transform = ccrs.PlateCarree(),vmin=-0.01,vmax=0.01,cmap='coolwarm')\n",
    "ax[1].set_title('$Circulation_{component}$')\n",
    "\n",
    "fg_co2.mean('time').plot(ax=ax[2],transform = ccrs.PlateCarree(),vmin=-0.01,vmax=0.01,cmap='coolwarm')\n",
    "ax[2].set_title('$Air-Sea Flux_{component}$')\n",
    "\n",
    "jint.mean('time').plot(ax=ax[3],transform = ccrs.PlateCarree(),vmin=-0.01,vmax=0.01,cmap='coolwarm')\n",
    "ax[3].set_title('$Biological_{component}$')\n",
    "\n",
    "f.suptitle('Magnitude of $DIC$ drivers at all times')\n",
    "plt.tight_layout()"
   ]
  },
  {
   "cell_type": "code",
   "execution_count": null,
   "id": "7bf23194-f68c-4f3e-a784-9a39bfd812f8",
   "metadata": {},
   "outputs": [],
   "source": [
    "f, ax = plt.subplots(1,1, subplot_kw=dict(projection=ccrs.PlateCarree(central_longitude=180)))\n",
    "dic_ex.mean('time').plot(ax=ax,transform = ccrs.PlateCarree(), cmap='Reds', vmin=1800, vmax = 2500)"
   ]
  },
  {
   "cell_type": "code",
   "execution_count": null,
   "id": "5a205e7d-61da-49c5-ac0b-52174a696b69",
   "metadata": {},
   "outputs": [],
   "source": [
    "f, ax = plt.subplots(1,4, figsize = (12,2),subplot_kw=dict(projection=ccrs.PlateCarree(central_longitude=180)))\n",
    "\n",
    "tend_ex.mean('time').plot(ax=ax[0],transform = ccrs.PlateCarree(),vmin=-0.01,vmax=0.01,cmap='coolwarm')\n",
    "ax[0].set_title('$Tendency$')\n",
    "\n",
    "circ_ex.mean('time').plot(ax=ax[1],transform = ccrs.PlateCarree(),vmin=-0.01,vmax=0.01,cmap='coolwarm')\n",
    "ax[1].set_title('$Circulation_{component}$')\n",
    "\n",
    "fg_co2_ex.mean('time').plot(ax=ax[2],transform = ccrs.PlateCarree(),vmin=-0.01,vmax=0.01,cmap='coolwarm')\n",
    "ax[2].set_title('$Air-Sea Flux_{component}$')\n",
    "\n",
    "jint_ex.mean('time').plot(ax=ax[3],transform = ccrs.PlateCarree(),vmin=-0.01,vmax=0.01,cmap='coolwarm')\n",
    "ax[3].set_title('$Biological_{component}$')\n",
    "\n",
    "f.suptitle('Magnitude of $DIC$ drivers during OAX ($\\Omega_{arag}$)')\n",
    "plt.tight_layout()"
   ]
  },
  {
   "cell_type": "code",
   "execution_count": null,
   "id": "8b6f8d52-6063-4a77-9638-603aa65f201e",
   "metadata": {},
   "outputs": [],
   "source": [
    "#  change between normal and extremes\n",
    "f, ax = plt.subplots(1,4, figsize = (12,2),subplot_kw=dict(projection=ccrs.PlateCarree(central_longitude=180)))\n",
    "\n",
    "(tend_ex.mean('time') - tend.mean('time')).plot(ax=ax[0],transform = ccrs.PlateCarree(),vmin=-0.01,vmax=0.01,cmap='coolwarm')\n",
    "ax[0].set_title('$Tendency$')\n",
    "\n",
    "(circ_ex.mean('time') - circ.mean('time')).plot(ax=ax[1],transform = ccrs.PlateCarree(),vmin=-0.01,vmax=0.01,cmap='coolwarm')\n",
    "ax[1].set_title('$Circulation_{component}$')\n",
    "\n",
    "(fg_co2_ex.mean('time') - fg_co2.mean('time')).plot(ax=ax[2],transform = ccrs.PlateCarree(),vmin=-0.01,vmax=0.01,cmap='coolwarm')\n",
    "ax[2].set_title('$Air-Sea Flux_{component}$')\n",
    "\n",
    "(jint_ex.mean('time') - jint.mean('time')).plot(ax=ax[3],transform = ccrs.PlateCarree(),vmin=-0.01,vmax=0.01,cmap='coolwarm')\n",
    "ax[3].set_title('$Biological_{component}$')\n",
    "\n",
    "f.suptitle('($\\Delta$) (or, how much more important is a term during OAX)')\n",
    "plt.tight_layout()"
   ]
  },
  {
   "cell_type": "markdown",
   "id": "f6706f17-da7a-4d56-a206-b05c688f5044",
   "metadata": {},
   "source": [
    "## Paper Figure\n",
    " need to run everything above!"
   ]
  },
  {
   "cell_type": "code",
   "execution_count": null,
   "id": "4ec27cb0-87a4-4a84-93d1-3310848134c5",
   "metadata": {},
   "outputs": [],
   "source": [
    "# drivers of changes in CO3 during OAX relative to all times\n",
    "f, ax = plt.subplots(1,4, figsize = (16,10),subplot_kw=dict(projection=ccrs.PlateCarree(central_longitude=180)))\n",
    "\n",
    "(ds_t_signal_ext.mean('time') - (ds_t_signal.where(ds_dic_signal_ext.mean('time') > 0)).mean('time')).plot(ax=ax[0],transform = ccrs.PlateCarree(), vmin=-5, vmax=5, cmap='coolwarm', extend='both',add_colorbar=False)\n",
    "ax[0].set_title('$T_{component}$')\n",
    "ax[0].add_feature(cfeature.LAND, color='k', zorder=3)\n",
    "\n",
    "(ds_s_signal_ext.mean('time') - ds_s_signal.where(ds_dic_signal_ext.mean('time') > 0)).mean('time').plot(ax=ax[1],transform = ccrs.PlateCarree(), vmin=-5, vmax=5, cmap='coolwarm', extend='both',add_colorbar=False)\n",
    "ax[1].set_title('$S_{component}$')\n",
    "ax[1].add_feature(cfeature.LAND, color='k', zorder=3)\n",
    "\n",
    "(ds_dic_signal_ext.mean('time') - ds_dic_signal.where(ds_dic_signal_ext.mean('time') > 0).mean('time')).plot(ax=ax[2],transform = ccrs.PlateCarree(), vmin=-5, vmax=5, cmap='coolwarm', extend='both',add_colorbar=False)\n",
    "ax[2].set_title('$DIC_{component}$')\n",
    "ax[2].add_feature(cfeature.LAND, color='k', zorder=3)\n",
    "\n",
    "im = (ds_alk_signal_ext.where(ds_dic_signal_ext.mean('time') > 0) - ds_alk_signal.where(ds_dic_signal_ext.mean('time') > 0)).mean('time').plot(ax=ax[3],transform = ccrs.PlateCarree(), vmin=-5, vmax=5, cmap='coolwarm', extend='both',add_colorbar=False)\n",
    "ax[3].set_title('$Alk_{component}$')\n",
    "ax[3].add_feature(cfeature.LAND, color='k', zorder=3)\n",
    "\n",
    "# f.suptitle('How much more does a given component of $CO_3$ matter during OAX')\n",
    "plt.tight_layout()\n",
    "\n",
    "f.subplots_adjust(right=0.8)\n",
    "cbar_ax = f.add_axes([0.81, 0.425, 0.015, 0.15])\n",
    "cbar = f.colorbar(im, cax=cbar_ax, ticks=[-5, 0, 5],extend='both')\n",
    "cbar.ax.tick_params(labelsize=7)\n",
    "\n",
    "f.savefig('./figures/CO3.drivers.R1.pdf')"
   ]
  },
  {
   "cell_type": "code",
   "execution_count": null,
   "id": "f9d054ee-6511-4965-b2ce-91debaa14113",
   "metadata": {},
   "outputs": [],
   "source": [
    "# drivers of changes in DIC during OAX relative to all times\n",
    "f, ax = plt.subplots(1,4, figsize = (16,10),subplot_kw=dict(projection=ccrs.PlateCarree(central_longitude=180)))\n",
    "\n",
    "((tend_ex.mean('time') - tend.mean('time'))).plot(ax=ax[0],transform = ccrs.PlateCarree(),vmin=-0.01,vmax=0.01,cmap='coolwarm', extend='both',add_colorbar=False)\n",
    "ax[0].set_title('$Tendency$')\n",
    "ax[0].add_feature(cfeature.LAND, color='k', zorder=3)\n",
    "\n",
    "(circ_ex.mean('time') - circ.mean('time')).plot(ax=ax[1],transform = ccrs.PlateCarree(),vmin=-0.01,vmax=0.01,cmap='coolwarm', extend='both',add_colorbar=False)\n",
    "ax[1].set_title('$Circulation_{component}$')\n",
    "ax[1].add_feature(cfeature.LAND, color='k', zorder=3)\n",
    "\n",
    "(fg_co2_ex.mean('time') - fg_co2.mean('time')).plot(ax=ax[2],transform = ccrs.PlateCarree(),vmin=-0.01,vmax=0.01,cmap='coolwarm', extend='both',add_colorbar=False)\n",
    "ax[2].set_title('$Air-Sea Flux_{component}$')\n",
    "ax[2].add_feature(cfeature.LAND, color='k', zorder=3)\n",
    "\n",
    "im = (jint_ex.mean('time') - jint.mean('time')).plot(ax=ax[3],transform = ccrs.PlateCarree(),vmin=-0.01,vmax=0.01,cmap='coolwarm', extend='both',add_colorbar=False)\n",
    "ax[3].set_title('$Biological_{component}$')\n",
    "ax[3].add_feature(cfeature.LAND, color='k', zorder=3)\n",
    "\n",
    "# f.suptitle('How much more does a given component of $CO_3$ matter during OAX')\n",
    "plt.tight_layout()\n",
    "\n",
    "f.subplots_adjust(right=0.8)\n",
    "cbar_ax = f.add_axes([0.81, 0.425, 0.015, 0.15])\n",
    "cbar = f.colorbar(im, cax=cbar_ax, ticks=[-0.01, 0, 0.01],extend='both')\n",
    "cbar.ax.tick_params(labelsize=7)\n",
    "\n",
    "f.savefig('./figures/DIC.drivers.R1.pdf')"
   ]
  },
  {
   "cell_type": "code",
   "execution_count": null,
   "id": "33f62af2-bafb-454e-a0d4-7a90f723621f",
   "metadata": {},
   "outputs": [],
   "source": [
    "# f, ax = plt.subplots(1,3, figsize = (12,10),subplot_kw=dict(projection=ccrs.PlateCarree(central_longitude=180)))\n",
    "\n",
    "# tend.where(tend.lat < 65).mean('time').plot(ax=ax[0],transform = ccrs.PlateCarree(),vmin=-0.005,vmax=0.005,cmap='coolwarm', extend='both',add_colorbar=False)\n",
    "# ax[0].set_title('Mean $DIC_{Tendency}$')\n",
    "# ax[0].add_feature(cfeature.LAND, color='k', zorder=3)\n",
    "\n",
    "# tend_ex.mean('time').plot(ax=ax[1],transform = ccrs.PlateCarree(),vmin=-0.005,vmax=0.005,cmap='coolwarm', extend='both',add_colorbar=False)\n",
    "# ax[1].set_title('Mean $DIC_{Tendency}$ (OAX)')\n",
    "# ax[1].add_feature(cfeature.LAND, color='k', zorder=3)\n",
    "\n",
    "# im = (-(tend.mean('time') - tend_ex.mean('time'))).plot(ax=ax[2],transform = ccrs.PlateCarree(),vmin=-0.005,vmax=0.005,cmap='coolwarm', extend='both',add_colorbar=False)\n",
    "# ax[2].set_title('$\\Delta_{Tendency}$')\n",
    "# ax[2].add_feature(cfeature.LAND, color='k', zorder=3)\n",
    "\n",
    "# plt.tight_layout()\n",
    "\n",
    "# f.subplots_adjust(right=0.8)\n",
    "# cbar_ax = f.add_axes([0.81, 0.425, 0.025, 0.15])\n",
    "# cbar = f.colorbar(im, cax=cbar_ax, ticks=[-5e-3, 0, 0.005],extend='both')\n",
    "# cbar.ax.tick_params(labelsize=7)\n",
    "# # cbar.set_label('Forecast Skill Gain (SEDI)', rotation=270,fontsize=18)\n",
    "\n",
    "# # plt.colorbar(im,extend='both')"
   ]
  },
  {
   "cell_type": "code",
   "execution_count": null,
   "id": "3147e05e-2edc-4efb-9d33-6607cd3ddadd",
   "metadata": {},
   "outputs": [],
   "source": [
    "# f, ax = plt.subplots(1,3, figsize = (12,10),subplot_kw=dict(projection=ccrs.PlateCarree(central_longitude=180)))\n",
    "\n",
    "# circ.where(tend.lat < 65).mean('time').plot(ax=ax[0],transform = ccrs.PlateCarree(),vmin=-0.005,vmax=0.005,cmap='coolwarm', extend='both',add_colorbar=False)\n",
    "# ax[0].set_title('Mean $DIC_{circulation}$')\n",
    "# ax[0].add_feature(cfeature.LAND, color='k', zorder=3)\n",
    "\n",
    "# circ_ex.mean('time').plot(ax=ax[1],transform = ccrs.PlateCarree(),vmin=-0.005,vmax=0.005,cmap='coolwarm', extend='both',add_colorbar=False)\n",
    "# ax[1].set_title('Mean $DIC_{circulation}$ (OAX)')\n",
    "# ax[1].add_feature(cfeature.LAND, color='k', zorder=3)\n",
    "\n",
    "# im = (-(circ.mean('time') - circ_ex.mean('time'))).plot(ax=ax[2],transform = ccrs.PlateCarree(),vmin=-0.005,vmax=0.005,cmap='coolwarm', extend='both',add_colorbar=False)\n",
    "# ax[2].set_title('$\\Delta_{circulation}$')\n",
    "# ax[2].add_feature(cfeature.LAND, color='k', zorder=3)\n",
    "\n",
    "# plt.tight_layout()\n",
    "\n",
    "# f.subplots_adjust(right=0.8)\n",
    "# cbar_ax = f.add_axes([0.81, 0.425, 0.025, 0.15])\n",
    "# cbar = f.colorbar(im, cax=cbar_ax, ticks=[-5e-3, 0, 0.005],extend='both')\n",
    "# cbar.ax.tick_params(labelsize=7)"
   ]
  },
  {
   "cell_type": "code",
   "execution_count": null,
   "id": "8e52da7b-ee9a-4cec-afb5-a3f4d550124b",
   "metadata": {},
   "outputs": [],
   "source": []
  },
  {
   "cell_type": "code",
   "execution_count": null,
   "id": "192c3c28-71f2-458d-8d7b-4e662579d3fe",
   "metadata": {},
   "outputs": [],
   "source": []
  },
  {
   "cell_type": "code",
   "execution_count": null,
   "id": "babbde6a-1da4-4f64-a7fe-1c12e5c90974",
   "metadata": {},
   "outputs": [],
   "source": []
  }
 ],
 "metadata": {
  "kernelspec": {
   "display_name": "Python [conda env:.conda-smyle-analysis-2]",
   "language": "python",
   "name": "conda-env-.conda-smyle-analysis-2-py"
  },
  "language_info": {
   "codemirror_mode": {
    "name": "ipython",
    "version": 3
   },
   "file_extension": ".py",
   "mimetype": "text/x-python",
   "name": "python",
   "nbconvert_exporter": "python",
   "pygments_lexer": "ipython3",
   "version": "3.8.0"
  }
 },
 "nbformat": 4,
 "nbformat_minor": 5
}
