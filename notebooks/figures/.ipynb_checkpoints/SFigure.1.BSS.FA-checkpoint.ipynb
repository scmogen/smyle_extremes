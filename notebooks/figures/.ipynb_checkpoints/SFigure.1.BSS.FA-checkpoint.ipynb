{
 "cells": [
  {
   "cell_type": "markdown",
   "id": "0786bc73-494e-4d15-9d08-16467e441fa9",
   "metadata": {},
   "source": [
    "# Plot SMYLE FA and BSS results"
   ]
  },
  {
   "cell_type": "code",
   "execution_count": null,
   "id": "82f803ca-b829-415b-95b4-84def23fecf6",
   "metadata": {},
   "outputs": [],
   "source": [
    "# from @GlacialMeg\n",
    "\n",
    "import matplotlib as mpl\n",
    "# Font style and size\n",
    "plt.rcParams['font.family'] = 'Arial'         # Font\n",
    "plt.rcParams['font.size'] = 10                # General font size unless set below\n",
    "plt.rcParams['axes.labelsize'] = 11           # Axes labels font size\n",
    "plt.rcParams['figure.titlesize'] = 12         # Title font size\n",
    "plt.rcParams['figure.titleweight'] = 'bold'   # Bold title\n",
    "plt.rcParams['axes.labelweight'] = 'bold'     # Bold axes labels\n",
    "    \n",
    "# Axes and ticks parameters\n",
    "plt.rcParams['axes.linewidth'] = 1            # Width of axes border\n",
    "plt.rcParams['xtick.direction'] = 'in'        # Make x ticks go in\n",
    "plt.rcParams['ytick.direction'] = 'in'        # Make y ticks go in\n",
    "plt.rcParams['xtick.major.size'] = 5          # Set x tick length \n",
    "plt.rcParams['ytick.major.size'] = 5          # Set y tick length\n",
    "plt.rcParams['xtick.major.width'] = 1         # Set x tick width \n",
    "plt.rcParams['ytick.major.width'] = 1         # Set y tick width\n",
    "\n",
    "# Line style\n",
    "plt.rcParams['lines.linewidth'] = 1           # Set line widths on plots\n",
    "plt.rcParams['lines.linestyle'] = '-'         # Set line styles on plots\n",
    "\n",
    "# Math text font characteristics\n",
    "plt.rcParams['mathtext.fontset'] = 'cm'       # Choose font for math text\n",
    "plt.rcParams['mathtext.default'] = 'regular'  # Make math text not bold or italic\n",
    "# mathtext.FontConstantsBase.sup1 = 0.4         # Move superscript text to a better height\n",
    "\n",
    "# For showing plots on GitHub\n",
    "%matplotlib inline\n",
    "plt.rcParams['figure.dpi']= 100"
   ]
  },
  {
   "cell_type": "code",
   "execution_count": null,
   "id": "d5959c08-9dc9-43d8-a958-b6038a7e8cb4",
   "metadata": {},
   "outputs": [],
   "source": [
    "levels = np.arange(-1,1.1,0.1) # SEDI and BSS"
   ]
  },
  {
   "cell_type": "code",
   "execution_count": null,
   "id": "c9a8271a-a2aa-44dd-b942-00840e2f7519",
   "metadata": {},
   "outputs": [],
   "source": [
    "var = 'TEMP'\n",
    "ds_TEMP = xr.open_dataset('/glade/work/smogen/SMYLE-extremes/results/MergedInits.obs.' + var + '.all_metrics.nc')\n",
    "ds_TEMP = ds_TEMP.rename({'sedi':'SEDI','bss':'BSS','fa':'FA'})\n",
    "\n",
    "var = 'omega_arag'\n",
    "ds_omega = xr.open_dataset('/glade/work/smogen/SMYLE-extremes/results/MergedInits.obs.' + var + '.full.nc')\n",
    "\n",
    "var = 'H+'\n",
    "ds_H = xr.open_dataset('/glade/work/smogen/SMYLE-extremes/results/MergedInits.obs.' + var + '.all_metrics.nc')\n",
    "ds_H = ds_H.rename({'sedi':'SEDI','bss':'BSS','fa':'FA'})"
   ]
  },
  {
   "cell_type": "code",
   "execution_count": null,
   "id": "7c3da768-a917-42ae-bf0d-376bfc7faaaa",
   "metadata": {},
   "outputs": [],
   "source": [
    "f, ax = plt.subplots(3,3,figsize=(16,8),subplot_kw=dict(projection=ccrs.PlateCarree(central_longitude=180)))\n",
    "\n",
    "# lead = [2,4,7,11]\n",
    "metric = ['SEDI','FA','BSS']\n",
    "levels = [np.arange(-1,1.1,0.1), np.arange(0.64,1.01,0.01), np.arange(-1,1.1,0.1)]\n",
    "lead = 4\n",
    "\n",
    "\n",
    "for i in range(3):\n",
    "    im_sedi = ds_TEMP[metric[i]].sel(L=lead).plot(ax=ax[i,0],levels=levels[i],extend='neither',transform = ccrs.PlateCarree(),cmap='coolwarm', add_colorbar=False)\n",
    "    ax[i,0].add_feature(cfeature.LAND, color='k', zorder=3)\n",
    "    ax[i,0].set_title('')\n",
    "\n",
    "for i in range(3):\n",
    "    ds_omega[metric[i]].sel(L=lead).plot(ax=ax[i,1],levels=levels[i],extend='neither',transform = ccrs.PlateCarree(),cmap='coolwarm', add_colorbar=False)\n",
    "    ax[i,1].add_feature(cfeature.LAND, color='k', zorder=3)\n",
    "    ax[i,1].set_title('')\n",
    "\n",
    "for i in range(3):\n",
    "    ds_H[metric[i]].sel(L=lead).plot(ax=ax[i,2],levels=levels[i],extend='neither',transform = ccrs.PlateCarree(),cmap='coolwarm', add_colorbar=False)\n",
    "    ax[i,2].add_feature(cfeature.LAND, color='k', zorder=3)\n",
    "    ax[i,2].set_title('')\n",
    "\n",
    "im_fa = ds_H[metric[1]].sel(L=lead).plot(ax=ax[1,2],levels=levels[1],extend='neither',transform = ccrs.PlateCarree(),cmap='coolwarm', add_colorbar=False)\n",
    "ax[1,2].set_title('')\n",
    "\n",
    "ax[0,0].set_title('MHW')\n",
    "ax[0,1].set_title('OAX ($\\Omega_{arag}$)')\n",
    "ax[0,2].set_title('MHW (H$^+$)')\n",
    "\n",
    "f.subplots_adjust(right=0.8)\n",
    "\n",
    "cbar_ax = f.add_axes([0.82, 0.667, 0.025, 0.2])\n",
    "cbar = f.colorbar(im_sedi, cax=cbar_ax, ticks=[-1,0,1])\n",
    "cbar.set_label('SEDI', rotation=270,fontsize=14)\n",
    "\n",
    "cbar_ax = f.add_axes([0.82, 0.395, 0.025, 0.2])\n",
    "cbar = f.colorbar(im_fa, cax=cbar_ax, ticks=[0.64,0.84,1])\n",
    "cbar.set_label('FA', rotation=270,fontsize=14)\n",
    "\n",
    "cbar_ax = f.add_axes([0.82, 0.125, 0.025, 0.2])\n",
    "cbar = f.colorbar(im_sedi, cax=cbar_ax, ticks=[-1,0,1])\n",
    "cbar.set_label('BSS', rotation=270,fontsize=14)\n",
    "\n",
    "\n",
    "# f.suptitle('MHW, OAX (omega), OAX (H+)')\n",
    "# plt.tight_layout\n",
    "# f.savefig('./figures/Supplemental.BrierSkillScore.pdf')"
   ]
  },
  {
   "cell_type": "code",
   "execution_count": null,
   "id": "f79dfe5f-4861-4e7f-bd18-78f9f6d019f3",
   "metadata": {},
   "outputs": [],
   "source": []
  }
 ],
 "metadata": {
  "kernelspec": {
   "display_name": "Python [conda env:.conda-smyle-analysis-2]",
   "language": "python",
   "name": "conda-env-.conda-smyle-analysis-2-py"
  },
  "language_info": {
   "codemirror_mode": {
    "name": "ipython",
    "version": 3
   },
   "file_extension": ".py",
   "mimetype": "text/x-python",
   "name": "python",
   "nbconvert_exporter": "python",
   "pygments_lexer": "ipython3",
   "version": "3.8.0"
  }
 },
 "nbformat": 4,
 "nbformat_minor": 5
}
