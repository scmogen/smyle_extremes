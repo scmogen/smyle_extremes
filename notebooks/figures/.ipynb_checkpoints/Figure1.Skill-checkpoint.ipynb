{
 "cells": [
  {
   "cell_type": "markdown",
   "id": "e9dceb7b-4168-429a-bcb3-665af2ecff4a",
   "metadata": {},
   "source": [
    "# Plot SMYLE SEDI results"
   ]
  },
  {
   "cell_type": "code",
   "execution_count": null,
   "id": "f5b767bc-6275-408f-a4cb-eb1071c2fde8",
   "metadata": {},
   "outputs": [],
   "source": [
    "%load_ext autoreload\n",
    "%autoreload 2\n",
    "import xarray as xr \n",
    "import numpy as np  \n",
    "import cftime\n",
    "import copy\n",
    "import scipy.stats\n",
    "from scipy import signal\n",
    "from functools import partial\n",
    "import glob\n",
    "import dask\n",
    "import matplotlib.pyplot as plt\n",
    "%matplotlib inline\n",
    "\n",
    "import esmtools as esmtools\n",
    "\n",
    "import cartopy.crs as ccrs\n",
    "import cartopy.feature as cfeature\n",
    "\n",
    "\n",
    "import geopandas as gp"
   ]
  },
  {
   "cell_type": "code",
   "execution_count": null,
   "id": "3b977ba0-11c2-4912-85e9-2f3928db457c",
   "metadata": {},
   "outputs": [],
   "source": [
    "# from @GlacialMeg\n",
    "\n",
    "import matplotlib as mpl\n",
    "# Font style and size\n",
    "plt.rcParams['font.family'] = 'Arial'         # Font\n",
    "plt.rcParams['font.size'] = 10                # General font size unless set below\n",
    "plt.rcParams['axes.labelsize'] = 11           # Axes labels font size\n",
    "plt.rcParams['figure.titlesize'] = 12         # Title font size\n",
    "plt.rcParams['figure.titleweight'] = 'bold'   # Bold title\n",
    "plt.rcParams['axes.labelweight'] = 'bold'     # Bold axes labels\n",
    "    \n",
    "# Axes and ticks parameters\n",
    "plt.rcParams['axes.linewidth'] = 1            # Width of axes border\n",
    "plt.rcParams['xtick.direction'] = 'in'        # Make x ticks go in\n",
    "plt.rcParams['ytick.direction'] = 'in'        # Make y ticks go in\n",
    "plt.rcParams['xtick.major.size'] = 5          # Set x tick length \n",
    "plt.rcParams['ytick.major.size'] = 5          # Set y tick length\n",
    "plt.rcParams['xtick.major.width'] = 1         # Set x tick width \n",
    "plt.rcParams['ytick.major.width'] = 1         # Set y tick width\n",
    "\n",
    "# Line style\n",
    "plt.rcParams['lines.linewidth'] = 1           # Set line widths on plots\n",
    "plt.rcParams['lines.linestyle'] = '-'         # Set line styles on plots\n",
    "\n",
    "# Math text font characteristics\n",
    "plt.rcParams['mathtext.fontset'] = 'cm'       # Choose font for math text\n",
    "plt.rcParams['mathtext.default'] = 'regular'  # Make math text not bold or italic\n",
    "# mathtext.FontConstantsBase.sup1 = 0.4         # Move superscript text to a better height\n",
    "\n",
    "# For showing plots on GitHub\n",
    "%matplotlib inline\n",
    "plt.rcParams['figure.dpi']= 100"
   ]
  },
  {
   "cell_type": "code",
   "execution_count": null,
   "id": "1b967f20-639c-4bbe-a5da-de69c845f36d",
   "metadata": {},
   "outputs": [],
   "source": [
    "levels = np.arange(-1,1.1,0.1) # SEDI and BSS\n",
    "# levels = np.arange(0.64,1.01,0.01) # FA\n",
    "metric = 'sedi' # sedi, fa, bss\n",
    "name = 'SEDI' # SEDI, Forecast Accuracy, BSS"
   ]
  },
  {
   "cell_type": "code",
   "execution_count": null,
   "id": "ab653339-9619-43fc-a7e7-e0a8a6595729",
   "metadata": {},
   "outputs": [],
   "source": [
    "var = 'TEMP'\n",
    "ds_TEMP = xr.open_dataset('/glade/work/smogen/SMYLE-extremes/results/MergedInits.obs.' + var + '.all_metrics.nc')\n",
    "ds_TEMP = ds_TEMP[metric]\n",
    "\n",
    "var = 'omega_arag'\n",
    "# ds_omega = xr.open_dataset('/glade/work/smogen/SMYLE-extremes/results/MergedInits.obs.' + var + '.all_metrics.nc')\n",
    "ds_omega = xr.open_dataset('/glade/work/smogen/SMYLE-extremes/results/MergedInits.obs.' + var + '.full.nc')\n",
    "# ds_omega = ds_omega[metric]\n",
    "ds_omega = ds_omega['skill']\n",
    "\n",
    "var = 'H+'\n",
    "ds_H = xr.open_dataset('/glade/work/smogen/SMYLE-extremes/results/MergedInits.obs.' + var + '.all_metrics.nc')\n",
    "ds_H = ds_H[metric]"
   ]
  },
  {
   "cell_type": "code",
   "execution_count": null,
   "id": "36c6c47d-51f1-4dac-95ab-3dc3cfb7ab84",
   "metadata": {},
   "outputs": [],
   "source": [
    "temp_sig = xr.open_dataset('/glade/work/smogen/SMYLE-extremes/notebooks/1.0.process.smyle/TEMP.signficance.1lead.nc')['skill']\n",
    "H_sig = xr.open_dataset('/glade/work/smogen/SMYLE-extremes/notebooks/1.0.process.smyle/H+.signficance.1lead.nc')['skill']\n",
    "omega_sig = xr.open_dataset('/glade/work/smogen/SMYLE-extremes/notebooks/1.0.process.smyle/omega_arag.signficance.1lead.nc')['skill']\n",
    "\n",
    "temp_sig = temp_sig.quantile(0.975,'bootstrap').drop('L').squeeze()\n",
    "H_sig = H_sig.quantile(0.975,'bootstrap').drop('L').squeeze()\n",
    "omega_sig = omega_sig.quantile(0.975,'bootstrap').drop('L').squeeze()"
   ]
  },
  {
   "cell_type": "code",
   "execution_count": null,
   "id": "ad01224a-d78e-4d31-8cc6-1141cd939da1",
   "metadata": {},
   "outputs": [],
   "source": [
    "f, ax = plt.subplots(4,2,figsize=(11,10),subplot_kw=dict(projection=ccrs.PlateCarree(central_longitude=180)))\n",
    "# f, ax = plt.subplots(4,3,figsize=(17,11),subplot_kw=dict(projection=ccrs.PlateCarree(central_longitude=180)))\n",
    "# f, ax = plt.subplots(4,3,subplot_kw=dict(projection=ccrs.PlateCarree(central_longitude=180)))\n",
    "\n",
    "lead = [2,4,7,11]\n",
    "\n",
    "for i in range(4): # range(4):\n",
    "    ds_TEMP.sel(L=lead[i]).plot(ax=ax[i,0],levels=levels,extend='neither',transform = ccrs.PlateCarree(),cmap='coolwarm',add_colorbar=False)\n",
    "    ds_TEMP.isel(L=lead[i]).where(ds_TEMP.isel(L=lead[i]) < temp_sig).plot.contourf(ax=ax[i,0],transform = ccrs.PlateCarree(),alpha=0,hatches=['....'],add_colorbar=False)\n",
    "    ax[i,0].add_feature(cfeature.LAND, color='k', zorder=3)\n",
    "    ax[i,0].set_title(str(lead[i]-0.5) + ' months after initialization',fontsize=15)\n",
    "    ax[i,0].set_title(' ',fontsize=5)\n",
    "\n",
    "for i in range(4):\n",
    "    ds_omega.sel(L=lead[i]).plot(ax=ax[i,1],levels=levels,extend='neither',transform = ccrs.PlateCarree(),cmap='coolwarm',add_colorbar=False)\n",
    "    ds_omega.isel(L=lead[i]).where(ds_omega.isel(L=lead[i]) < omega_sig).plot.contourf(ax=ax[i,1],transform = ccrs.PlateCarree(),alpha=0,hatches=['....'],add_colorbar=False)\n",
    "    ax[i,1].add_feature(cfeature.LAND, color='k', zorder=3)\n",
    "    # ax[i,1].set_title(str(lead[i]-0.5) + ' months after initialization',fontsize=15)\n",
    "    ax[i,1].set_title(' ',fontsize=5)\n",
    "    \n",
    "# for i in range(4):\n",
    "#     im = ds_H.sel(L=lead[i]).plot(ax=ax[i,2],levels=levels,extend='neither',transform = ccrs.PlateCarree(),cmap='coolwarm',add_colorbar=False)\n",
    "#     ds_H.isel(L=lead[i]).where(ds_H.isel(L=lead[i]) < H_sig).plot.contourf(ax=ax[i,2],transform = ccrs.PlateCarree(),alpha=0,hatches=['....'],add_colorbar=False)\n",
    "#     ax[i,2].add_feature(cfeature.LAND, color='k', zorder=3)\n",
    "#     ax[i,2].set_title(str(lead[i]-0.5) + ' months after initialization',fontsize=15)\n",
    "#     ax[i,2].set_title(' ',fontsize=5)\n",
    "\n",
    "# plt.tight_layout()\n",
    "\n",
    "# f.subplots_adjust(right=0.8)\n",
    "# cbar_ax = f.add_axes([0.85, 0.12, 0.025, 0.75])\n",
    "# cbar = f.colorbar(im, cax=cbar_ax, ticks=[-1,-0.5, 0, 0.5, 1])\n",
    "# cbar.ax.tick_params(labelsize=15)\n",
    "# cbar.set_label('Forecast Skill (SEDI)', rotation=270,fontsize=18)\n",
    "\n",
    "# f.suptitle('MHW, OAX (omega), OAX (H+)')\n",
    "plt.subplots_adjust(hspace=0.05,wspace=0.05)\n",
    "\n",
    "f.savefig('./figures/SEDI.cesm_talk.png',dpi=1000)"
   ]
  }
 ],
 "metadata": {
  "kernelspec": {
   "display_name": "Python [conda env:.conda-smyle-analysis-2]",
   "language": "python",
   "name": "conda-env-.conda-smyle-analysis-2-py"
  },
  "language_info": {
   "codemirror_mode": {
    "name": "ipython",
    "version": 3
   },
   "file_extension": ".py",
   "mimetype": "text/x-python",
   "name": "python",
   "nbconvert_exporter": "python",
   "pygments_lexer": "ipython3",
   "version": "3.8.0"
  }
 },
 "nbformat": 4,
 "nbformat_minor": 5
}
