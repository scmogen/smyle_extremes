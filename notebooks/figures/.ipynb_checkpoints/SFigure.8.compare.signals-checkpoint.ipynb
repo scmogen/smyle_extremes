{
 "cells": [
  {
   "cell_type": "markdown",
   "metadata": {},
   "source": [
    "# Compare strength of signals"
   ]
  },
  {
   "cell_type": "code",
   "execution_count": null,
   "metadata": {},
   "outputs": [],
   "source": [
    "# general use packages\n",
    "%matplotlib inline\n",
    "import matplotlib.pyplot as plt\n",
    "import xarray as xr\n",
    "import pandas as pd\n",
    "import numpy as np\n",
    "\n",
    "import regionmask\n",
    "import geopandas as gp\n",
    "import cartopy.crs as ccrs\n",
    "import cartopy.feature as cfeature"
   ]
  },
  {
   "cell_type": "code",
   "execution_count": null,
   "metadata": {},
   "outputs": [],
   "source": [
    "def detrend(dat, dim, deg):\n",
    "    \"\"\" linear detrend dat along the axis dim \"\"\"\n",
    "    params = dat.polyfit(dim=dim, deg=deg)\n",
    "    fit = xr.polyval(dat[dim], params.polyfit_coefficients)\n",
    "    dat = dat-fit\n",
    "    return dat, fit, params"
   ]
  },
  {
   "cell_type": "code",
   "execution_count": null,
   "metadata": {},
   "outputs": [],
   "source": [
    "var = \"TEMP\"\n",
    "deg = 2\n",
    "level = 0.9"
   ]
  },
  {
   "cell_type": "code",
   "execution_count": null,
   "metadata": {},
   "outputs": [],
   "source": [
    "# load in FOSI\n",
    "ds = xr.open_dataset('/glade/work/smogen/SMYLE-extremes/FOSI/' + var + '.monthly.surface.regrid.nc')[var]\n",
    "ds['time'] = pd.date_range(\"1958-01\", \"2020-12\", freq=\"MS\")"
   ]
  },
  {
   "cell_type": "markdown",
   "metadata": {},
   "source": [
    "## Seasonal climatology (amplitude? or standard deviation?)"
   ]
  },
  {
   "cell_type": "code",
   "execution_count": null,
   "metadata": {},
   "outputs": [],
   "source": [
    "# calculate amplitude of seasonal cycle\n",
    "max = ds.groupby('time.month').mean().max('month')\n",
    "min = ds.groupby('time.month').mean().min('month')"
   ]
  },
  {
   "cell_type": "code",
   "execution_count": null,
   "metadata": {},
   "outputs": [],
   "source": [
    "seas_climo = ds.groupby('time.month').mean()\n",
    "seas_climo_std = ds.groupby('time.month').std()"
   ]
  },
  {
   "cell_type": "code",
   "execution_count": null,
   "metadata": {},
   "outputs": [],
   "source": [
    "seas_amp = max - min\n",
    "seas_std = seas_climo.std('month')"
   ]
  },
  {
   "cell_type": "code",
   "execution_count": null,
   "metadata": {},
   "outputs": [],
   "source": [
    "# deseason\n",
    "ds_deseas = ds.groupby('time.month') - ds.groupby('time.month').mean()"
   ]
  },
  {
   "cell_type": "code",
   "execution_count": null,
   "metadata": {},
   "outputs": [],
   "source": [
    "seas_amp.plot(vmin = 0, vmax=3)\n",
    "plt.show()\n",
    "seas_std.plot(vmin = 0, vmax=3)"
   ]
  },
  {
   "cell_type": "markdown",
   "metadata": {},
   "source": [
    "## trend (per decade)"
   ]
  },
  {
   "cell_type": "code",
   "execution_count": null,
   "metadata": {},
   "outputs": [],
   "source": [
    "# Calculate trend\n",
    "ds_detr, fit, params = detrend(ds_deseas, 'time', deg)\n",
    "\n",
    "trend = fit[-1] - fit[0]"
   ]
  },
  {
   "cell_type": "code",
   "execution_count": null,
   "metadata": {},
   "outputs": [],
   "source": [
    "(trend / 63 * 10).plot()"
   ]
  },
  {
   "cell_type": "markdown",
   "metadata": {},
   "source": [
    "## interannual variability (standard deviation)"
   ]
  },
  {
   "cell_type": "code",
   "execution_count": null,
   "metadata": {},
   "outputs": [],
   "source": [
    "# interannual variability\n",
    "interannual_var =  ds_detr.groupby('time.year').mean().std('year')\n",
    "\n",
    "interannual_var.plot()"
   ]
  },
  {
   "cell_type": "markdown",
   "metadata": {},
   "source": [
    "## Extremes"
   ]
  },
  {
   "cell_type": "code",
   "execution_count": null,
   "metadata": {},
   "outputs": [],
   "source": [
    "# # magnitude of extremes\n",
    "# fosi_extremes = xr.open_dataset('/glade/work/smogen/SMYLE-extremes/' + var + '.fosi.rolling.thold.Rolling.nc')['threshold']\n",
    "# fosi_extremes\n",
    "\n",
    "threshold = xr.open_dataset('/glade/work/smogen/SMYLE-extremes/' + var + '.fosi.rolling.thold.Rolling.' + str(level) + '.reviewer.nc')['__xarray_dataarray_variable__']"
   ]
  },
  {
   "cell_type": "code",
   "execution_count": null,
   "metadata": {},
   "outputs": [],
   "source": [
    "threshold_var = (threshold.mean('month') - ds_detr.groupby('time.month').mean().mean('month'))#.plot(vmin=0,vmax=2,extend='max')"
   ]
  },
  {
   "cell_type": "markdown",
   "metadata": {},
   "source": [
    "## Figure"
   ]
  },
  {
   "cell_type": "code",
   "execution_count": null,
   "metadata": {},
   "outputs": [],
   "source": [
    "# ## plot omega_arag\n",
    "# # trend, interannual standard deviation, amplitude of seasonal cycle, extremes magnitude\n",
    "# f, ax = plt.subplots(4,1,subplot_kw=dict(projection=ccrs.PlateCarree(central_longitude=180)),figsize=(6,10))\n",
    "\n",
    "# (trend/63 * 10).plot(ax=ax[0],transform = ccrs.PlateCarree(), cmap = 'BuPu_r', vmin = -0.2, vmax = 0.0,extend='min')\n",
    "# ax[0].add_feature(cfeature.LAND, color='k', zorder=3)\n",
    "# ax[0].set_title('Trend (per decade)')\n",
    "\n",
    "# (interannual_var).plot(ax=ax[2],transform = ccrs.PlateCarree(),cmap = 'BuPu',vmin=-0,vmax=0.2,extend='max')\n",
    "# ax[2].add_feature(cfeature.LAND, color='k', zorder=3)\n",
    "# ax[2].set_title('Stand. Dev. of Interannual Cycle')\n",
    "\n",
    "# (seas_std).plot(ax=ax[1],transform = ccrs.PlateCarree(),cmap = 'BuPu',vmin=-0,vmax=0.2,extend='max')\n",
    "# ax[1].add_feature(cfeature.LAND, color='k', zorder=3)\n",
    "# ax[1].set_title('Stand. Dev. of Seasonal Cycle')\n",
    "\n",
    "# (threshold_var).plot(ax=ax[3],transform = ccrs.PlateCarree(),cmap = 'BuPu_r',vmin=-0.2,vmax=0,extend='min')\n",
    "# ax[3].add_feature(cfeature.LAND, color='k', zorder=3)\n",
    "# ax[3].set_title('Average Threshold Anomaly')\n",
    "\n",
    "# f.savefig(var + '.compare_magnitude.pdf')"
   ]
  },
  {
   "cell_type": "code",
   "execution_count": null,
   "metadata": {},
   "outputs": [],
   "source": [
    "## plot temperature\n",
    "# trend, interannual standard deviation, amplitude of seasonal cycle, extremes magnitude\n",
    "f, ax = plt.subplots(4,1,subplot_kw=dict(projection=ccrs.PlateCarree(central_longitude=180)),figsize=(6,10))\n",
    "\n",
    "(trend/63 * 10).plot(ax=ax[0],transform = ccrs.PlateCarree(), cmap = 'BuPu', vmin = -0, vmax = 3,extend='max')\n",
    "ax[0].add_feature(cfeature.LAND, color='k', zorder=3)\n",
    "ax[0].set_title('Trend (per decade)')\n",
    "\n",
    "\n",
    "(seas_std).plot(ax=ax[1],transform = ccrs.PlateCarree(),cmap = 'BuPu',vmin=-0,vmax=3,extend='max')\n",
    "ax[1].add_feature(cfeature.LAND, color='k', zorder=3)\n",
    "ax[1].set_title('Stand. Dev. of Seasonal Cycle')\n",
    "\n",
    "(interannual_var).plot(ax=ax[2],transform = ccrs.PlateCarree(),cmap = 'BuPu',vmin=-0,vmax=3,extend='max')\n",
    "ax[2].add_feature(cfeature.LAND, color='k', zorder=3)\n",
    "ax[2].set_title('Stand. Dev. of Interannual Cycle')\n",
    "\n",
    "(threshold_var).plot(ax=ax[3],transform = ccrs.PlateCarree(),cmap = 'BuPu',vmin=0,vmax=3,extend='max')\n",
    "ax[3].add_feature(cfeature.LAND, color='k', zorder=3)\n",
    "ax[3].set_title('Average Threshold Anomaly')\n",
    "\n",
    "f.savefig(var + '.compare_magnitude.pdf')"
   ]
  },
  {
   "cell_type": "code",
   "execution_count": null,
   "metadata": {},
   "outputs": [],
   "source": []
  }
 ],
 "metadata": {
  "kernelspec": {
   "display_name": "Python 3",
   "language": "python",
   "name": "python3"
  },
  "language_info": {
   "codemirror_mode": {
    "name": "ipython",
    "version": 3
   },
   "file_extension": ".py",
   "mimetype": "text/x-python",
   "name": "python",
   "nbconvert_exporter": "python",
   "pygments_lexer": "ipython3",
   "version": "3.8.3"
  }
 },
 "nbformat": 4,
 "nbformat_minor": 5
}
