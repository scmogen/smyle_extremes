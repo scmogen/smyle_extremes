{
 "cells": [
  {
   "cell_type": "markdown",
   "metadata": {},
   "source": [
    "# Intensity and Duration in FOSI/Obs"
   ]
  },
  {
   "cell_type": "code",
   "execution_count": null,
   "metadata": {},
   "outputs": [],
   "source": [
    "# general use packages\n",
    "%matplotlib inline\n",
    "import matplotlib.pyplot as plt\n",
    "import xarray as xr\n",
    "import pandas as pd\n",
    "import numpy as np\n",
    "\n",
    "import regionmask\n",
    "import geopandas as gp\n",
    "import cartopy.crs as ccrs\n",
    "import cartopy.feature as cfeature"
   ]
  },
  {
   "cell_type": "code",
   "execution_count": null,
   "metadata": {},
   "outputs": [],
   "source": [
    "# from @GlacialMeg\n",
    "\n",
    "import matplotlib as mpl\n",
    "# Font style and size\n",
    "plt.rcParams['font.family'] = 'Arial'         # Font\n",
    "plt.rcParams['font.size'] = 10                # General font size unless set below\n",
    "plt.rcParams['axes.labelsize'] = 11           # Axes labels font size\n",
    "plt.rcParams['figure.titlesize'] = 12         # Title font size\n",
    "plt.rcParams['figure.titleweight'] = 'bold'   # Bold title\n",
    "plt.rcParams['axes.labelweight'] = 'bold'     # Bold axes labels\n",
    "    \n",
    "# Axes and ticks parameters\n",
    "plt.rcParams['axes.linewidth'] = 1            # Width of axes border\n",
    "plt.rcParams['xtick.direction'] = 'in'        # Make x ticks go in\n",
    "plt.rcParams['ytick.direction'] = 'in'        # Make y ticks go in\n",
    "plt.rcParams['xtick.major.size'] = 5          # Set x tick length \n",
    "plt.rcParams['ytick.major.size'] = 5          # Set y tick length\n",
    "plt.rcParams['xtick.major.width'] = 1         # Set x tick width \n",
    "plt.rcParams['ytick.major.width'] = 1         # Set y tick width\n",
    "\n",
    "# Line style\n",
    "plt.rcParams['lines.linewidth'] = 1           # Set line widths on plots\n",
    "plt.rcParams['lines.linestyle'] = '-'         # Set line styles on plots\n",
    "\n",
    "# Math text font characteristics\n",
    "plt.rcParams['mathtext.fontset'] = 'cm'       # Choose font for math text\n",
    "plt.rcParams['mathtext.default'] = 'regular'  # Make math text not bold or italic\n",
    "# mathtext.FontConstantsBase.sup1 = 0.4         # Move superscript text to a better height\n",
    "\n",
    "# For showing plots on GitHub\n",
    "%matplotlib inline\n",
    "plt.rcParams['figure.dpi']= 100"
   ]
  },
  {
   "cell_type": "code",
   "execution_count": null,
   "metadata": {},
   "outputs": [],
   "source": [
    "def detrend_linear(dat, dim):\n",
    "    \"\"\" linear detrend dat along the axis dim \"\"\"\n",
    "    params = dat.polyfit(dim=dim, deg=1)\n",
    "    fit = xr.polyval(dat[dim], params.polyfit_coefficients)\n",
    "    dat = dat-fit\n",
    "    return dat"
   ]
  },
  {
   "cell_type": "markdown",
   "metadata": {
    "jp-MarkdownHeadingCollapsed": true,
    "tags": []
   },
   "source": [
    "## Obs and FOSI"
   ]
  },
  {
   "cell_type": "markdown",
   "metadata": {
    "tags": []
   },
   "source": [
    "### process here (no rolling)"
   ]
  },
  {
   "cell_type": "code",
   "execution_count": null,
   "metadata": {},
   "outputs": [],
   "source": [
    "obs = xr.open_dataset('/glade/work/smogen/SMYLE-extremes/OceanSODA-ETHZ_GRaCER_v2021a_1982-2020.nc')"
   ]
  },
  {
   "cell_type": "code",
   "execution_count": null,
   "metadata": {},
   "outputs": [],
   "source": [
    "fosi_omega = xr.open_dataset('/glade/work/smogen/SMYLE-extremes/FOSI/omega_arag.monthly.surface.regrid.nc')['omega_arag']\n",
    "fosi_temp = xr.open_dataset('/glade/work/smogen/SMYLE-extremes/FOSI/TEMP.monthly.surface.regrid.nc')['TEMP']\n",
    "fosi_h = xr.open_dataset('/glade/work/smogen/SMYLE-extremes/FOSI/pH_3D.monthly.surface.regrid.nc')['pH_3D']; fosi_h = 10**(-fosi_h)"
   ]
  },
  {
   "cell_type": "code",
   "execution_count": null,
   "metadata": {},
   "outputs": [],
   "source": [
    "fosi_omega['time'] = pd.date_range(\"1958-01\", \"2020-12\", freq=\"MS\")\n",
    "fosi_temp['time'] = pd.date_range(\"1958-01\", \"2020-12\", freq=\"MS\")\n",
    "fosi_h['time'] = pd.date_range(\"1958-01\", \"2020-12\", freq=\"MS\")"
   ]
  },
  {
   "cell_type": "code",
   "execution_count": null,
   "metadata": {},
   "outputs": [],
   "source": [
    "obs_omega = obs.omega_ar\n",
    "obs_temp = obs.temperature\n",
    "obs_h = 10**(-obs.ph_total)"
   ]
  },
  {
   "cell_type": "code",
   "execution_count": null,
   "metadata": {},
   "outputs": [],
   "source": [
    "obs_omega, fosi_omega = xr.align(obs_omega, fosi_omega)\n",
    "obs_temp, fosi_temp = xr.align(obs_temp, fosi_temp)\n",
    "obs_h, fosi_h = xr.align(obs_h, fosi_h)"
   ]
  },
  {
   "cell_type": "code",
   "execution_count": null,
   "metadata": {},
   "outputs": [],
   "source": [
    "mask = np.isnan(obs_omega.isel(time=0))#obs_omega.isel(time=0).where(obs_omega.isel(time=0)==np.NaN,obs_omega.isel(time=0))\n",
    "mask = mask.drop('time')"
   ]
  },
  {
   "cell_type": "code",
   "execution_count": null,
   "metadata": {},
   "outputs": [],
   "source": [
    "fosi_omega = fosi_omega.where(mask == 0, np.NaN)\n",
    "fosi_temp = fosi_temp.where(mask == 0, np.NaN)\n",
    "fosi_h = fosi_h.where(mask == 0, np.NaN)"
   ]
  },
  {
   "cell_type": "markdown",
   "metadata": {
    "jp-MarkdownHeadingCollapsed": true,
    "tags": []
   },
   "source": [
    "### remove climatology and trend"
   ]
  },
  {
   "cell_type": "code",
   "execution_count": null,
   "metadata": {},
   "outputs": [],
   "source": [
    "def detrend_linear(dat, dim):\n",
    "    \"\"\" linear detrend dat along the axis dim \"\"\"\n",
    "    params = dat.polyfit(dim=dim, deg=1)\n",
    "    fit = xr.polyval(dat[dim], params.polyfit_coefficients)\n",
    "    dat = dat-fit\n",
    "    return dat"
   ]
  },
  {
   "cell_type": "code",
   "execution_count": null,
   "metadata": {},
   "outputs": [],
   "source": [
    "# climatology\n",
    "fosi_omega = fosi_omega.groupby('time.month') - fosi_omega.groupby('time.month').mean()\n",
    "fosi_temp = fosi_temp.groupby('time.month') - fosi_temp.groupby('time.month').mean()\n",
    "fosi_h = fosi_h.groupby('time.month') - fosi_h.groupby('time.month').mean()\n",
    "\n",
    "obs_omega = obs_omega.groupby('time.month') - obs_omega.groupby('time.month').mean()\n",
    "obs_temp = obs_temp.groupby('time.month') - obs_temp.groupby('time.month').mean()\n",
    "obs_h = obs_h.groupby('time.month') - obs_h.groupby('time.month').mean()"
   ]
  },
  {
   "cell_type": "code",
   "execution_count": null,
   "metadata": {},
   "outputs": [],
   "source": [
    "# trend\n",
    "fosi_omega = detrend_linear(fosi_omega,'time')\n",
    "fosi_temp = detrend_linear(fosi_temp,'time')\n",
    "fosi_h = detrend_linear(fosi_h,'time')\n",
    "\n",
    "obs_omega = detrend_linear(obs_omega,'time')\n",
    "obs_temp = detrend_linear(obs_temp,'time')\n",
    "obs_h = detrend_linear(obs_h,'time')"
   ]
  },
  {
   "cell_type": "markdown",
   "metadata": {
    "tags": []
   },
   "source": [
    "## define extremes (no rolling)"
   ]
  },
  {
   "cell_type": "code",
   "execution_count": null,
   "metadata": {},
   "outputs": [],
   "source": [
    "# level = 0.1\n",
    "# obs_omega_thold = obs_omega.quantile(level)\n",
    "# fosi_omega_thold = fosi_omega.quantile(level)\n",
    "\n",
    "# obs_omega_extreme = obs_omega.where(obs_omega < obs_omega_thold)\n",
    "# fosi_omega_extreme = obs_omega.where(fosi_omega < fosi_omega_thold)\n",
    "\n",
    "# obs_omega_extreme = ~np.isnan(obs_omega_extreme)\n",
    "# fosi_omega_extreme = ~np.isnan(fosi_omega_extreme)\n",
    "\n",
    "# level = 0.9\n",
    "# obs_temp_thold = obs_temp.quantile(level)\n",
    "# fosi_temp_thold = fosi_temp.quantile(level)\n",
    "\n",
    "# obs_temp_extreme = obs_temp.where(obs_temp > obs_temp_thold)\n",
    "# fosi_temp_extreme = obs_temp.where(fosi_temp > fosi_temp_thold)\n",
    "\n",
    "# obs_temp_extreme = ~np.isnan(obs_temp_extreme)\n",
    "# fosi_temp_extreme = ~np.isnan(fosi_temp_extreme)\n",
    "\n",
    "# level = 0.9\n",
    "# obs_h_thold = obs_h.quantile(level)\n",
    "# fosi_h_thold = fosi_h.quantile(level)\n",
    "\n",
    "# obs_h_extreme = obs_h.where(obs_h > obs_h_thold)\n",
    "# fosi_h_extreme = obs_h.where(fosi_h > fosi_h_thold)\n",
    "\n",
    "# obs_h_extreme = ~np.isnan(obs_h_extreme)\n",
    "# fosi_h_extreme = ~np.isnan(fosi_h_extreme)"
   ]
  },
  {
   "cell_type": "code",
   "execution_count": null,
   "metadata": {},
   "outputs": [],
   "source": [
    "# rolling \n",
    "var='omega_arag'\n",
    "obs_extremes = xr.open_dataset('/glade/work/smogen/SMYLE-extremes/' + var + '.obs.rolling.thold.Rolling.nc')['threshold']"
   ]
  },
  {
   "cell_type": "markdown",
   "metadata": {
    "tags": []
   },
   "source": [
    "## Load SMYLE"
   ]
  },
  {
   "cell_type": "code",
   "execution_count": null,
   "metadata": {},
   "outputs": [],
   "source": [
    "# obs_pac = obs_omega_extreme.sel(lat=0.5,lon=-130.5).astype(int)"
   ]
  },
  {
   "cell_type": "code",
   "execution_count": null,
   "metadata": {},
   "outputs": [],
   "source": [
    "var = 'omega_arag'\n",
    "var2 = 'CO3'\n",
    "depth = 'surface'\n",
    "# init = '05'\n",
    "\n",
    "smyle02 = xr.open_dataset('/glade/work/smogen/SMYLE-extremes/thresholds/'+var +  '.monthly.' + depth + '.02.binary.Rolling.full.2.nc')['binary']\n",
    "smyle02_time = xr.open_dataset('/glade/scratch/smogen/SMYLE-Extreme/'+var2+'.monthly.02.time.nc')#.sel(L=slice(1,12))\n",
    "\n",
    "smyle05 = xr.open_dataset('/glade/work/smogen/SMYLE-extremes/thresholds/'+var +  '.monthly.' + depth + '.05.binary.Rolling.full.2.nc')['binary']\n",
    "smyle05_time = xr.open_dataset('/glade/scratch/smogen/SMYLE-Extreme/'+var2+'.monthly.05.time.nc')#.sel(L=slice(1,12))\n",
    "\n",
    "smyle08 = xr.open_dataset('/glade/work/smogen/SMYLE-extremes/thresholds/'+var +  '.monthly.' + depth + '.08.binary.Rolling.full.2.nc')['binary']\n",
    "smyle08_time = xr.open_dataset('/glade/scratch/smogen/SMYLE-Extreme/'+var2+'.monthly.08.time.nc')#.sel(L=slice(1,12))\n",
    "\n",
    "smyle11 = xr.open_dataset('/glade/work/smogen/SMYLE-extremes/thresholds/'+var +  '.monthly.' + depth + '.11.binary.Rolling.full.2.nc')['binary']\n",
    "smyle11_time = xr.open_dataset('/glade/scratch/smogen/SMYLE-Extreme/'+var2+'.monthly.11.time.nc')#.sel(L=slice(1,12))\n",
    "\n",
    "smyle02 = smyle02.expand_dims(\"init\"); smyle02_time  = smyle02_time.expand_dims(\"init\")\n",
    "smyle05 = smyle05.expand_dims(\"init\"); smyle05_time  = smyle05_time.expand_dims(\"init\")\n",
    "smyle08 = smyle08.expand_dims(\"init\"); smyle08_time  = smyle08_time.expand_dims(\"init\")\n",
    "smyle11 = smyle11.expand_dims(\"init\"); smyle11_time  = smyle11_time.expand_dims(\"init\")\n",
    "\n",
    "smyle02['init'] = ['02']; smyle02_time['init'] = ['02']\n",
    "smyle05['init'] = ['05']; smyle05_time['init'] = ['05']\n",
    "smyle08['init'] = ['08']; smyle08_time['init'] = ['08']\n",
    "smyle11['init'] = ['11']; smyle11_time['init'] = ['11']\n",
    "\n",
    "smyle = xr.concat([smyle02,smyle05,smyle08,smyle11],'init')\n",
    "smyle_time = xr.concat([smyle02_time,smyle05_time,smyle08_time,smyle11_time],'init')"
   ]
  },
  {
   "cell_type": "code",
   "execution_count": null,
   "metadata": {},
   "outputs": [],
   "source": [
    "# smyle_avg = smyle.mean('M')"
   ]
  },
  {
   "cell_type": "code",
   "execution_count": null,
   "metadata": {},
   "outputs": [],
   "source": [
    "obs_extremes.time.dt.year[-1]"
   ]
  },
  {
   "cell_type": "code",
   "execution_count": null,
   "metadata": {},
   "outputs": [],
   "source": [
    "smyle = smyle.sel(Y = slice(obs_extremes.time.dt.year[0], obs_extremes.time.dt.year[-1]))"
   ]
  },
  {
   "cell_type": "code",
   "execution_count": null,
   "metadata": {},
   "outputs": [],
   "source": [
    "smyle.isel(L=0,M=0,Y=0,init=0).plot()"
   ]
  },
  {
   "cell_type": "code",
   "execution_count": null,
   "metadata": {},
   "outputs": [],
   "source": [
    "plt.plot(smyle.sel(Y=1995,lat=0.5,lon=-120.5).sel(init='02').isel(M=1).values)\n",
    "\n",
    "plt.plot(obs_extremes.sel(time=slice('1995-02','1997-01'),lat=0.5,lon=-120.5))"
   ]
  },
  {
   "cell_type": "markdown",
   "metadata": {},
   "source": [
    "## mask"
   ]
  },
  {
   "cell_type": "code",
   "execution_count": null,
   "metadata": {},
   "outputs": [],
   "source": [
    "mask = xr.open_dataset('/glade/work/smogen/SMYLE-extremes/OceanSODA-ETHZ_GRaCER_v2021a_1982-2020.nc')['temperature'].isel(time=0).drop('time')\n",
    "mask = mask.where(mask.lat < 65)"
   ]
  },
  {
   "cell_type": "code",
   "execution_count": null,
   "metadata": {},
   "outputs": [],
   "source": [
    "obs_extremes = obs_extremes.where(np.isnan(mask) == 0, np.NaN)"
   ]
  },
  {
   "cell_type": "code",
   "execution_count": null,
   "metadata": {
    "tags": []
   },
   "outputs": [],
   "source": [
    "smyle = smyle.where(np.isnan(mask) == 0, np.NaN)"
   ]
  },
  {
   "cell_type": "markdown",
   "metadata": {
    "tags": []
   },
   "source": [
    "## For duration"
   ]
  },
  {
   "cell_type": "code",
   "execution_count": null,
   "metadata": {},
   "outputs": [],
   "source": [
    "smyle_use = smyle#.isel(M=1,init=0)"
   ]
  },
  {
   "cell_type": "code",
   "execution_count": null,
   "metadata": {},
   "outputs": [],
   "source": [
    "%%time\n",
    "#what dimension do I do the diff over?\n",
    "event_boundaries_smyle = smyle_use.astype(int).diff(dim='L')\n",
    "\n",
    "distinct_event_count_smyle = (event_boundaries_smyle == -1).sum(dim=('L','Y','M','init'))\n",
    "# distinct_event_count_smyle = (event_boundaries_smyle == -1).sum(dim=('L','Y','init'))\n",
    "# distinct_event_count_smyle = (event_boundaries_smyle == -1).sum(dim=('L','Y'))\n",
    "\n",
    "avg_length_smyle = smyle.astype(int).sum(('L','M','Y','init')) / distinct_event_count_smyle#.where(distinct_event_count_smyle > 0, np.NaN)\n",
    "# avg_length_smyle = smyle_use.astype(int).sum(('L','Y','init')) / distinct_event_count_smyle#.where(distinct_event_count_smyle > 0, np.NaN)\n",
    "# avg_length_smyle = smyle_use.astype(int).sum(('L','Y')) / distinct_event_count_smyle#.where(distinct_event_count_smyle > 0, np.NaN)\n",
    "\n"
   ]
  },
  {
   "cell_type": "code",
   "execution_count": null,
   "metadata": {},
   "outputs": [],
   "source": [
    "(smyle.astype(int).sum(('L','M','Y','init')) / distinct_event_count_smyle).plot()"
   ]
  },
  {
   "cell_type": "code",
   "execution_count": null,
   "metadata": {},
   "outputs": [],
   "source": [
    "distinct_event_count_smyle.plot()"
   ]
  },
  {
   "cell_type": "code",
   "execution_count": null,
   "metadata": {},
   "outputs": [],
   "source": [
    "avg_length_smyle.plot(vmax=7)"
   ]
  },
  {
   "cell_type": "code",
   "execution_count": null,
   "metadata": {},
   "outputs": [],
   "source": [
    "distinct_event_count_smyle.plot()"
   ]
  },
  {
   "cell_type": "code",
   "execution_count": null,
   "metadata": {},
   "outputs": [],
   "source": [
    "length_smyle = len(event_boundaries_smyle.L) * len(event_boundaries_smyle.Y) * len(event_boundaries_smyle.M) * len(event_boundaries_smyle.init)\n",
    "# length_smyle = len(event_boundaries_smyle.L) + len(event_boundaries_smyle.Y) + len(event_boundaries_smyle.M) + len(event_boundaries_smyle.init)\n",
    "# length_smyle = len(event_boundaries_smyle.L) + len(event_boundaries_smyle.Y) + len(event_boundaries_smyle.init)"
   ]
  },
  {
   "cell_type": "code",
   "execution_count": null,
   "metadata": {},
   "outputs": [],
   "source": [
    "length_smyle"
   ]
  },
  {
   "cell_type": "code",
   "execution_count": null,
   "metadata": {},
   "outputs": [],
   "source": [
    "above_zero = obs_extremes > 0\n",
    "\n",
    "# Find when the mask transitions from True to False or vice versa\n",
    "event_boundaries = above_zero.astype(int).diff(dim='time')\n",
    "\n",
    "# Count the number of distinct events\n",
    "distinct_event_count = (event_boundaries == -1).sum(dim='time')\n",
    "distinct_event_count\n",
    "\n",
    "avg_length = above_zero.sum('time') / (distinct_event_count)#.where(distinct_event_count > 0, np.NaN)"
   ]
  },
  {
   "cell_type": "code",
   "execution_count": null,
   "metadata": {},
   "outputs": [],
   "source": [
    "(avg_length).plot()"
   ]
  },
  {
   "cell_type": "code",
   "execution_count": null,
   "metadata": {},
   "outputs": [],
   "source": [
    "# Find the slope and intercept of the best fit line\n",
    "slope, intercept = np.polyfit(np.arange(0,100), np.arange(0,100), 1)\n",
    "\n",
    "# Create a list of values in the best fit line\n",
    "abline_values = [slope * i + intercept for i in np.arange(0,100)]"
   ]
  },
  {
   "cell_type": "code",
   "execution_count": null,
   "metadata": {},
   "outputs": [],
   "source": [
    "avg_length.plot()\n",
    "plt.show()\n",
    "# avg_length_smyle.plot()\n",
    "# plt.show()"
   ]
  },
  {
   "cell_type": "code",
   "execution_count": null,
   "metadata": {},
   "outputs": [],
   "source": [
    "f,ax = plt.subplots(1,1)\n",
    "plt.grid(zorder=0)\n",
    "plt.scatter(avg_length_smyle.stack(lat_lon=('lat', 'lon')), avg_length.stack(lat_lon=('lat', 'lon')),color='grey',s=5,zorder=4)\n",
    "plt.plot(abline_values,abline_values,'--',color='black',linewidth=1,zorder=1)\n",
    "plt.xlim(0,10)\n",
    "plt.ylim(0,10)\n",
    "plt.xlabel('predicted duration (months)')\n",
    "plt.ylabel('observed duration (months)')\n",
    "\n",
    "corr = xr.corr(avg_length, avg_length_smyle)\n",
    "plt.title(var + ': r = ' + str(np.round(corr.values,2)))\n",
    "\n",
    "# # f.savefig('./figures/' + var + '.duration.pdf')"
   ]
  },
  {
   "cell_type": "code",
   "execution_count": null,
   "metadata": {},
   "outputs": [],
   "source": [
    "f,ax = plt.subplots(1,1)\n",
    "plt.grid(zorder=0)\n",
    "plt.scatter(distinct_event_count_smyle.stack(lat_lon=('lat', 'lon'))/length_smyle, distinct_event_count.stack(lat_lon=('lat', 'lon'))/468,color='grey',s=5,zorder=4)\n",
    "plt.plot(abline_values,abline_values,'--',color='black',linewidth=1,zorder=1)\n",
    "plt.xlim(0,0.16)\n",
    "plt.ylim(0,0.16)\n",
    "plt.xlabel('predicted number of extremes')\n",
    "plt.ylabel('observed number of extremes')\n",
    "\n",
    "corr = xr.corr(distinct_event_count, distinct_event_count_smyle)\n",
    "plt.title(var + ': r = ' + str(np.round(corr.values,2)))\n",
    "\n",
    "f.savefig('./figures/' + var + '.number.pdf')"
   ]
  },
  {
   "cell_type": "markdown",
   "metadata": {},
   "source": [
    "## Intensity"
   ]
  },
  {
   "cell_type": "code",
   "execution_count": null,
   "metadata": {},
   "outputs": [],
   "source": [
    "var = 'ph_total'\n",
    "ds = xr.open_dataset('/glade/work/smogen/SMYLE-extremes/OceanSODA-ETHZ_GRaCER_v2021a_1982-2020.nc')[var]\n",
    "ds = 10**(-ds)\n",
    "\n",
    "ds = ds.groupby('time.month') - ds.groupby('time.month').mean()\n",
    "\n",
    "ds_detr = detrend_linear(ds,dim='time')"
   ]
  },
  {
   "cell_type": "code",
   "execution_count": null,
   "metadata": {},
   "outputs": [],
   "source": [
    "ds_detr = ds_detr.where(np.isnan(mask) == 0, np.NaN)"
   ]
  },
  {
   "cell_type": "code",
   "execution_count": null,
   "metadata": {
    "tags": []
   },
   "outputs": [],
   "source": [
    "# %%time\n",
    "# # SMYLE Utility functions\n",
    "# from SMYLEutils import io_utils as io\n",
    "# from SMYLEutils import calendar_utils as cal\n",
    "# from SMYLEutils import stat_utils as stat\n",
    "# # # create and save SMYLE combined for all inits\n",
    "\n",
    "# var = 'pH_3D'\n",
    "# var2 = 'pH_3D' # var\n",
    "# depth = 'surface'\n",
    "\n",
    "# smyle02 = xr.open_dataset('/glade/scratch/smogen/SMYLE-Extreme/'+var+  '.monthly.' + depth + '.02.regrid.nc')[var]\n",
    "# smyle02_time = xr.open_dataset('/glade/scratch/smogen/SMYLE-Extreme/'+var2+'.monthly.02.time.nc')\n",
    "# smyle02 = smyle02.drop('time')\n",
    "# smyle02 = smyle02.sel(L=slice(1,12))\n",
    "\n",
    "# smyle05 = xr.open_dataset('/glade/scratch/smogen/SMYLE-Extreme/'+var+  '.monthly.' + depth + '.05.regrid.nc')[var]\n",
    "# smyle05_time = xr.open_dataset('/glade/scratch/smogen/SMYLE-Extreme/'+var2+'.monthly.05.time.nc')\n",
    "# smyle05 = smyle05.drop('time')\n",
    "# smyle05 = smyle05.sel(L=slice(1,12))\n",
    "\n",
    "# smyle08 = xr.open_dataset('/glade/scratch/smogen/SMYLE-Extreme/'+var +  '.monthly.' + depth + '.08.regrid.nc')[var]\n",
    "# smyle08_time = xr.open_dataset('/glade/scratch/smogen/SMYLE-Extreme/'+var2+'.monthly.08.time.nc')\n",
    "# smyle08 = smyle08.drop('time')\n",
    "# smyle08 = smyle08.sel(L=slice(1,12))\n",
    "\n",
    "# smyle11 = xr.open_dataset('/glade/scratch/smogen/SMYLE-Extreme/'+var +  '.monthly.' + depth + '.11.regrid.nc')[var]\n",
    "# smyle11_time = xr.open_dataset('/glade/scratch/smogen/SMYLE-Extreme/'+var2+'.monthly.11.time.nc')\n",
    "# smyle11 = smyle11.drop('time')\n",
    "# smyle11 = smyle11.sel(L=slice(1,12))\n",
    "\n",
    "# smyle02 = 10**(-smyle02)\n",
    "# smyle05 = 10**(-smyle05)\n",
    "# smyle08 = 10**(-smyle08)\n",
    "# smyle11 = 10**(-smyle11)\n",
    "\n",
    "# print('deseasoning')\n",
    "# # %%time\n",
    "# smyle02_anom,smyle02_clim = stat.remove_drift(smyle02,smyle02_time,1982,2023)\n",
    "# smyle05_anom,smyle05_clim = stat.remove_drift(smyle05,smyle05_time,1982,2023)\n",
    "# smyle08_anom,smyle08_clim = stat.remove_drift(smyle08,smyle08_time,1982,2023)\n",
    "# smyle11_anom,smyle11_clim = stat.remove_drift(smyle11,smyle11_time,1982,2023)\n",
    "\n",
    "# print('detrending')\n",
    "# # %%time\n",
    "# smyle02_anom = detrend_linear(smyle02_anom.time,'Y')\n",
    "# smyle05_anom = detrend_linear(smyle05_anom.time,'Y')\n",
    "# smyle08_anom = detrend_linear(smyle08_anom.time,'Y')\n",
    "# smyle11_anom = detrend_linear(smyle11_anom.time,'Y')\n",
    "\n",
    "# # del smyle, smyle_time\n",
    "# # del smyle02_anom, smyle05_anom, smyle08_anom, smyle11_anom, smyle02, smyle05, smyle08, smyle11\n",
    "\n",
    "# print('combining')\n",
    "# # %%time\n",
    "# smyle02_anom = smyle02_anom.expand_dims(\"init\"); smyle02_time  = smyle02_time.expand_dims(\"init\")\n",
    "# smyle05_anom = smyle05_anom.expand_dims(\"init\"); smyle05_time  = smyle05_time.expand_dims(\"init\")\n",
    "# smyle08_anom = smyle08_anom.expand_dims(\"init\"); smyle08_time  = smyle08_time.expand_dims(\"init\")\n",
    "# smyle11_anom = smyle11_anom.expand_dims(\"init\"); smyle11_time  = smyle11_time.expand_dims(\"init\")\n",
    "\n",
    "# smyle = xr.concat([smyle02_anom,smyle05_anom,smyle08_anom,smyle11_anom],'init')\n",
    "# smyle_time = xr.concat([smyle02_time,smyle05_time,smyle08_time,smyle11_time],'init')\n",
    "\n",
    "# smyle['init'] = smyle['init']\n",
    "\n",
    "# # print('converting')\n",
    "# # smyle = 10**(-smyle)\n",
    "\n",
    "# var = 'H+'\n",
    "# smyle.to_netcdf('/glade/scratch/smogen/SMYLE-Extreme/'+var +  '.monthly.' + depth + '.all_init.regrid3.nc')\n",
    "# smyle_time.to_netcdf('/glade/scratch/smogen/SMYLE-Extreme/'+var +  '.monthly.' + depth + '.all_init.time3.nc')\n",
    "\n",
    "# # smyle.isel(M=0,L=0,init=0,Y=20).plot()"
   ]
  },
  {
   "cell_type": "code",
   "execution_count": null,
   "metadata": {},
   "outputs": [],
   "source": [
    "# open smyle data\n",
    "var = 'H+'\n",
    "smyle_ds = xr.open_dataset('/glade/scratch/smogen/SMYLE-Extreme/'+var +  '.monthly.' + depth + '.all_init.regrid3.nc')['__xarray_dataarray_variable__']\n",
    "smyle_ds_time = xr.open_dataset('/glade/scratch/smogen/SMYLE-Extreme/'+var +  '.monthly.' + depth + '.all_init.time3.nc')['time']\n"
   ]
  },
  {
   "cell_type": "code",
   "execution_count": null,
   "metadata": {},
   "outputs": [],
   "source": [
    "smyle_ds['init'] = smyle['init'].values\n",
    "smyle_ds_time['init'] = smyle_time['init'].values"
   ]
  },
  {
   "cell_type": "code",
   "execution_count": null,
   "metadata": {},
   "outputs": [],
   "source": [
    "smyle_ds = smyle_ds.where(np.isnan(mask) == 0, np.NaN)"
   ]
  },
  {
   "cell_type": "code",
   "execution_count": null,
   "metadata": {},
   "outputs": [],
   "source": [
    "smyle_ds = smyle_ds.sel(Y = slice(obs_extremes.time.dt.year[0], obs_extremes.time.dt.year[-1]))"
   ]
  },
  {
   "cell_type": "code",
   "execution_count": null,
   "metadata": {},
   "outputs": [],
   "source": [
    "smyle_ds.isel(init=0,Y=30,M=0,L=0).plot()"
   ]
  },
  {
   "cell_type": "code",
   "execution_count": null,
   "metadata": {},
   "outputs": [],
   "source": [
    "smyle.isel(init=0,Y=30,M=0,L=0).plot()"
   ]
  },
  {
   "cell_type": "code",
   "execution_count": null,
   "metadata": {},
   "outputs": [],
   "source": [
    "smyle_ds_ex = smyle_ds.where(smyle > 0)"
   ]
  },
  {
   "cell_type": "code",
   "execution_count": null,
   "metadata": {},
   "outputs": [],
   "source": [
    "smyle_ds_ex.sel(Y=1990).isel(L=0,M=0,init=1).plot()"
   ]
  },
  {
   "cell_type": "code",
   "execution_count": null,
   "metadata": {},
   "outputs": [],
   "source": [
    "obs_ds_ex = ds_detr.where(obs_extremes > 0)"
   ]
  },
  {
   "cell_type": "code",
   "execution_count": null,
   "metadata": {},
   "outputs": [],
   "source": [
    "obs_ds_ex.isel(time=101).plot()"
   ]
  },
  {
   "cell_type": "code",
   "execution_count": null,
   "metadata": {},
   "outputs": [],
   "source": [
    "weights = np.cos(np.deg2rad(obs_ds_ex.lat))"
   ]
  },
  {
   "cell_type": "code",
   "execution_count": null,
   "metadata": {},
   "outputs": [],
   "source": [
    "obs_ds_ex_avg = obs_ds_ex.weighted(weights).mean(('lat','lon'))"
   ]
  },
  {
   "cell_type": "code",
   "execution_count": null,
   "metadata": {},
   "outputs": [],
   "source": [
    "smyle_ds_ex_avg = smyle_ds_ex.weighted(weights).mean(('lat','lon'))"
   ]
  },
  {
   "cell_type": "code",
   "execution_count": null,
   "metadata": {},
   "outputs": [],
   "source": [
    "obs_ds_ex_time = obs_ds_ex.mean('time')"
   ]
  },
  {
   "cell_type": "code",
   "execution_count": null,
   "metadata": {},
   "outputs": [],
   "source": [
    "obs_ds_ex.max('time').plot()"
   ]
  },
  {
   "cell_type": "code",
   "execution_count": null,
   "metadata": {},
   "outputs": [],
   "source": [
    "smyle_ds_ex_time = smyle_ds_ex.mean((\"L\",'M',\"Y\",\"init\"))"
   ]
  },
  {
   "cell_type": "code",
   "execution_count": null,
   "metadata": {},
   "outputs": [],
   "source": [
    "smyle_ds_ex.isel(init=0,Y=10,M=10,L=1).plot()"
   ]
  },
  {
   "cell_type": "code",
   "execution_count": null,
   "metadata": {},
   "outputs": [],
   "source": [
    "# Find the slope and intercept of the best fit line\n",
    "slope, intercept = np.polyfit(np.arange(0,100), np.arange(0,100), 1)\n",
    "\n",
    "# Create a list of values in the best fit line\n",
    "abline_values = [slope * i + intercept for i in np.arange(0,100)]"
   ]
  },
  {
   "cell_type": "code",
   "execution_count": null,
   "metadata": {},
   "outputs": [],
   "source": [
    "smyle_ds_ex_time.sel(lat=0.5,lon=-130.5)"
   ]
  },
  {
   "cell_type": "code",
   "execution_count": null,
   "metadata": {},
   "outputs": [],
   "source": [
    "f,ax = plt.subplots(1,1)\n",
    "plt.grid(zorder=0)\n",
    "plt.scatter(abs(smyle_ds_ex_time.stack(lat_lon=('lat', 'lon'))), abs(obs_ds_ex_time.stack(lat_lon=('lat', 'lon'))),color='grey',s=5,zorder=4)\n",
    "plt.plot(abline_values,abline_values,'--',color='black',linewidth=1,zorder=1)\n",
    "plt.xlim(0,0.5e-9)\n",
    "plt.ylim(0,0.5e-9)\n",
    "plt.xlabel('predicted intensity')\n",
    "plt.ylabel('observed intensity')\n",
    "\n",
    "corr = xr.corr(smyle_ds_ex_time, obs_ds_ex_time)\n",
    "plt.title(var + ': r = ' + str(np.round(corr.values,2)))\n",
    "\n",
    "f.savefig('./figures/' + var + '.intensity.pdf')"
   ]
  },
  {
   "cell_type": "code",
   "execution_count": null,
   "metadata": {},
   "outputs": [],
   "source": [
    "obs_ds_ex_time.plot()\n",
    "plt.show()\n",
    "\n",
    "smyle_ds_ex_time.plot()\n",
    "plt.show()"
   ]
  },
  {
   "cell_type": "markdown",
   "metadata": {},
   "source": [
    "## Do Forecasts predict OAX before the initial appearance of one?"
   ]
  },
  {
   "cell_type": "code",
   "execution_count": null,
   "metadata": {},
   "outputs": [],
   "source": [
    "# use SMYLE and observed extremes\n"
   ]
  },
  {
   "cell_type": "markdown",
   "metadata": {
    "tags": []
   },
   "source": [
    "## old stuff"
   ]
  },
  {
   "cell_type": "markdown",
   "metadata": {
    "tags": []
   },
   "source": [
    "### avg. length method 1 - different, going with method 2 (easier)"
   ]
  },
  {
   "cell_type": "code",
   "execution_count": null,
   "metadata": {},
   "outputs": [],
   "source": [
    "# test case \n",
    "tmp = event_boundaries.sel(lat=10.5,lon=-150.5).where(event_boundaries.sel(lat=10.5,lon=-150.5) != 0).dropna('time')\n",
    "\n",
    "time_1 = tmp.where(tmp == 1).dropna('time')\n",
    "time_neg1 = tmp.where(tmp == -1).dropna('time')\n",
    "\n",
    "count = -(time_1.time.values - time_neg1.time.values).astype('timedelta64[M]').astype(int)\n",
    "\n",
    "count.mean()\n",
    "count.sum() / len(time_neg1)\n",
    "\n",
    "count\n",
    "\n",
    "if count[0] < 0:\n",
    "    avg_length = (len(event_boundaries.time) + count.sum()) / len(time_neg1)\n",
    "else: \n",
    "    avg_length = count.sum() / len(time_neg1)"
   ]
  },
  {
   "cell_type": "code",
   "execution_count": null,
   "metadata": {},
   "outputs": [],
   "source": [
    "len(time_neg1)"
   ]
  },
  {
   "cell_type": "code",
   "execution_count": null,
   "metadata": {},
   "outputs": [],
   "source": [
    "count.sum() / len(count)"
   ]
  },
  {
   "cell_type": "code",
   "execution_count": null,
   "metadata": {},
   "outputs": [],
   "source": [
    "len(time_1)"
   ]
  },
  {
   "cell_type": "code",
   "execution_count": null,
   "metadata": {},
   "outputs": [],
   "source": [
    "print(avg_length)"
   ]
  },
  {
   "cell_type": "code",
   "execution_count": null,
   "metadata": {},
   "outputs": [],
   "source": []
  },
  {
   "cell_type": "code",
   "execution_count": null,
   "metadata": {},
   "outputs": [],
   "source": [
    "# compare\n",
    "tst1 = count\n",
    "tst2 = (above_zero.sel(lat=10.5,lon=-150.5).where(above_zero.sel(lat=10.5,lon=-150.5) > 0, drop=True))\n"
   ]
  },
  {
   "cell_type": "code",
   "execution_count": null,
   "metadata": {},
   "outputs": [],
   "source": [
    "count.sum()"
   ]
  },
  {
   "cell_type": "code",
   "execution_count": null,
   "metadata": {},
   "outputs": [],
   "source": [
    "tst2.sum()"
   ]
  },
  {
   "cell_type": "code",
   "execution_count": null,
   "metadata": {},
   "outputs": [],
   "source": [
    "# len(event_boundaries.time) + count.sum()"
   ]
  },
  {
   "cell_type": "code",
   "execution_count": null,
   "metadata": {},
   "outputs": [],
   "source": [
    "tst2.sum()"
   ]
  },
  {
   "cell_type": "markdown",
   "metadata": {
    "tags": []
   },
   "source": [
    "### avg length method 2 - use this!"
   ]
  },
  {
   "cell_type": "code",
   "execution_count": null,
   "metadata": {},
   "outputs": [],
   "source": [
    "above_zero.sel(lat=0.5,lon=-150.5).where(above_zero.sel(lat=0.5,lon=-150.5) > 0, drop=True)"
   ]
  },
  {
   "cell_type": "code",
   "execution_count": null,
   "metadata": {},
   "outputs": [],
   "source": [
    "above_zero.sel(lat=10.5,lon=-150.5).where(above_zero.sel(lat=10.5,lon=-150.5) > 0, drop=True).sum()"
   ]
  },
  {
   "cell_type": "code",
   "execution_count": null,
   "metadata": {},
   "outputs": [],
   "source": [
    "len(above_zero.sel(lat=10.5,lon=-150.5).where(above_zero.sel(lat=10.5,lon=-150.5) > 0, drop=True))"
   ]
  },
  {
   "cell_type": "code",
   "execution_count": null,
   "metadata": {},
   "outputs": [],
   "source": [
    "len(above_zero.sel(lat=10.5,lon=-150.5).where(above_zero.sel(lat=10.5,lon=-150.5) > 0, drop=True)) / distinct_event_count.sel(lat=10.5,lon=-150.5)\n"
   ]
  },
  {
   "cell_type": "code",
   "execution_count": null,
   "metadata": {},
   "outputs": [],
   "source": [
    "(above_zero.sel(lat=10.5,lon=-150.5).where(above_zero.sel(lat=10.5,lon=-150.5) > 0, drop=True)).sum() / distinct_event_count.sel(lat=10.5,lon=-150.5)\n"
   ]
  },
  {
   "cell_type": "code",
   "execution_count": null,
   "metadata": {},
   "outputs": [],
   "source": [
    "avg_length2 = (above_zero.sum('time') / distinct_event_count).sel(lat=0.5,lon=-150.5)"
   ]
  },
  {
   "cell_type": "code",
   "execution_count": null,
   "metadata": {},
   "outputs": [],
   "source": []
  }
 ],
 "metadata": {
  "kernelspec": {
   "display_name": "Python 3",
   "language": "python",
   "name": "python3"
  },
  "language_info": {
   "codemirror_mode": {
    "name": "ipython",
    "version": 3
   },
   "file_extension": ".py",
   "mimetype": "text/x-python",
   "name": "python",
   "nbconvert_exporter": "python",
   "pygments_lexer": "ipython3",
   "version": "3.8.3"
  }
 },
 "nbformat": 4,
 "nbformat_minor": 5
}
