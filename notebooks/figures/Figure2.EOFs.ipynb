{
 "cells": [
  {
   "cell_type": "markdown",
   "id": "12b02f15-a476-41dd-a581-862aef885d05",
   "metadata": {},
   "source": [
    "# 1st EOF in the tropical Pacific for FOSI"
   ]
  },
  {
   "cell_type": "code",
   "execution_count": null,
   "id": "4d32ae85-cdcf-477d-9b96-840022131bae",
   "metadata": {},
   "outputs": [],
   "source": [
    "### GENERAL SETUP\n",
    "%matplotlib inline  \n",
    "# this enables plotting within notebook\n",
    "\n",
    "#import modules\n",
    "import numpy as np\n",
    "import pandas as pd\n",
    "import matplotlib.pyplot as plt\n",
    "import xarray as xr\n",
    "import numpy as np   # basic math library  you will type np.$STUFF  e.g., np.cos(1)\n",
    "import numpy.linalg as LA\n",
    "from matplotlib.gridspec import GridSpec\n",
    "import timeit\n",
    "import cartopy.crs as ccrs\n",
    "import datetime\n",
    "import scipy.stats as stats # imports stats functions https://docs.scipy.org/doc/scipy/reference/stats.html\n",
    "import cartopy.feature as cfeature"
   ]
  },
  {
   "cell_type": "code",
   "execution_count": null,
   "id": "f82923ea-42c8-41b1-993a-4cac438d7223",
   "metadata": {},
   "outputs": [],
   "source": [
    "# from @GlacialMeg\n",
    "\n",
    "import matplotlib as mpl\n",
    "# Font style and size\n",
    "plt.rcParams['font.family'] = 'Arial'         # Font\n",
    "plt.rcParams['font.size'] = 10                # General font size unless set below\n",
    "plt.rcParams['axes.labelsize'] = 11           # Axes labels font size\n",
    "plt.rcParams['figure.titlesize'] = 12         # Title font size\n",
    "plt.rcParams['figure.titleweight'] = 'bold'   # Bold title\n",
    "plt.rcParams['axes.labelweight'] = 'bold'     # Bold axes labels\n",
    "    \n",
    "# Axes and ticks parameters\n",
    "plt.rcParams['axes.linewidth'] = 1            # Width of axes border\n",
    "plt.rcParams['xtick.direction'] = 'in'        # Make x ticks go in\n",
    "plt.rcParams['ytick.direction'] = 'in'        # Make y ticks go in\n",
    "plt.rcParams['xtick.major.size'] = 5          # Set x tick length \n",
    "plt.rcParams['ytick.major.size'] = 5          # Set y tick length\n",
    "plt.rcParams['xtick.major.width'] = 1         # Set x tick width \n",
    "plt.rcParams['ytick.major.width'] = 1         # Set y tick width\n",
    "\n",
    "# Line style\n",
    "plt.rcParams['lines.linewidth'] = 1           # Set line widths on plots\n",
    "plt.rcParams['lines.linestyle'] = '-'         # Set line styles on plots\n",
    "\n",
    "# Math text font characteristics\n",
    "plt.rcParams['mathtext.fontset'] = 'cm'       # Choose font for math text\n",
    "plt.rcParams['mathtext.default'] = 'regular'  # Make math text not bold or italic\n",
    "# mathtext.FontConstantsBase.sup1 = 0.4         # Move superscript text to a better height\n",
    "\n",
    "# For showing plots on GitHub\n",
    "%matplotlib inline\n",
    "plt.rcParams['figure.dpi']= 100"
   ]
  },
  {
   "cell_type": "code",
   "execution_count": null,
   "id": "df810784-2398-41de-919d-7d40d7e57cb9",
   "metadata": {},
   "outputs": [],
   "source": [
    "# wd = '/glade/work/smogen/SMYLE-extremes/notebooks/1.0.process.smyle/eof/'\n",
    "wd = '/glade/work/smogen/SMYLE-extremes/notebooks/1.0.process.smyle/eof/use/'"
   ]
  },
  {
   "cell_type": "code",
   "execution_count": null,
   "id": "64848777-2d78-47d1-b22a-cee4e0aa03a1",
   "metadata": {},
   "outputs": [],
   "source": [
    "# Nino3.4\n",
    "ds = xr.open_dataset('/glade/work/smogen/SMYLE-extremes/FOSI/TEMP.monthly.surface.regrid.nc')['TEMP']\n",
    "ds['time'] = pd.date_range(\"1958-01\", \"2020-12\", freq=\"MS\")\n",
    "ds = ds.sel(lat=slice(-5,5),lon=slice(210 - 360,270 - 360))\n",
    "ds = ds.weighted(np.cos(np.deg2rad(ds.lat))).mean(dim=('lat','lon'))\n",
    "ds = ds.groupby('time.month') - ds.groupby('time.month').mean()"
   ]
  },
  {
   "cell_type": "markdown",
   "id": "51099275-7ce2-41b5-8dd2-1337f0cbcca6",
   "metadata": {},
   "source": [
    "## Compare PCs"
   ]
  },
  {
   "cell_type": "code",
   "execution_count": null,
   "id": "1a6f4d58-87b0-4590-80a8-4c5caf6f758a",
   "metadata": {},
   "outputs": [],
   "source": [
    "var = 'TEMP'\n",
    "pc_temp = xr.open_dataset(wd + var + '.principal_components.final.nc')['__xarray_dataarray_variable__']\n",
    "\n",
    "var = 'omega'\n",
    "pc_omega = xr.open_dataset(wd + var + '.principal_components.final.nc')['__xarray_dataarray_variable__']\n",
    "\n",
    "var = 'omega_residual'\n",
    "pc_omegares = xr.open_dataset(wd + var + '.principal_components.final.nc')['__xarray_dataarray_variable__']\n",
    "\n",
    "var = 'H'\n",
    "pc_ph = xr.open_dataset(wd + var + '.principal_components.final.nc')['__xarray_dataarray_variable__']\n",
    "\n",
    "var = 'H_residual'\n",
    "pc_phres = xr.open_dataset(wd + var + '.principal_components.final.nc')['__xarray_dataarray_variable__']\n",
    "\n",
    "var = 'H_temp'\n",
    "pc_phtemp = xr.open_dataset(wd + var + '.principal_components.final.nc')['__xarray_dataarray_variable__']\n",
    "\n",
    "var = 'SSH'\n",
    "pc_ssh = xr.open_dataset(wd + var + '.principal_components.final.nc')#['__xarray_dataarray_variable__']\n",
    "pc_ssh = pc_ssh.rename({'__xarray_dataarray_variable__':'SSH'}); pc_ssh =pc_ssh.SSH"
   ]
  },
  {
   "cell_type": "code",
   "execution_count": null,
   "id": "156cc159-bb30-4bcc-ae2c-d4cddbdc75f7",
   "metadata": {
    "scrolled": true
   },
   "outputs": [],
   "source": [
    "f, ax = plt.subplots(1,1,figsize=(10,5))\n",
    "# pc_temp.isel(number=0).plot(color='red',label='SST PC1',linewidth=0.8)\n",
    "# pc_omega.isel(number=0).plot(color='blue',label='$\\Omega_{arag}$ PC1',linewidth=0.8)\n",
    "# pc_ssh.isel(number=0).plot(color='k',label='SSH PC1',linewidth=0.8)\n",
    "\n",
    "pc_phres.isel(number=0).plot(color='navy',label='$H^+$ residual PC1',linewidth=0.8,linestyle='-.')\n",
    "pc_phtemp.isel(number=0).plot(color='navy',label='$H^+$ temperature PC1',linewidth=0.8,linestyle='--')\n",
    "pc_ph.isel(number=0).plot(color='navy',label='$H^+$ original PC1',linewidth=0.8)\n",
    "\n",
    "ds.plot(color='grey',label='Nino3.4',linestyle='--',linewidth=1)\n",
    "plt.legend(loc='upper left')\n",
    "\n",
    "plt.legend(loc='upper right')\n",
    "\n",
    "xr.corr(pc_ssh.isel(number=0),ds)"
   ]
  },
  {
   "cell_type": "code",
   "execution_count": null,
   "id": "4ef7e67b-3e9d-41f8-97b1-61253ba34adb",
   "metadata": {},
   "outputs": [],
   "source": [
    "print('SSH and PC1 of Omega r=' +str(np.round(xr.corr(pc_ssh.isel(number=0),pc_omega.isel(number=0)).values,3)))\n",
    "print('SSH and PC1 of pH_residual r=' +str(np.round(xr.corr(pc_ssh.isel(number=0),pc_phres.isel(number=0)).values,3)))\n",
    "print('PC1 of pH_residual and PC1 of Omega r=' +str(np.round(xr.corr(pc_phres.isel(number=0),pc_omega.isel(number=0)).values,3)))\n",
    "print('PC1 of pH and PC1 of Omega r=' +str(np.round(xr.corr(pc_ph.isel(number=0),pc_omega.isel(number=0)).values,3)))\n",
    "print('PC1 of pH and PC1 of pH residual r=' +str(np.round(xr.corr(pc_ph.isel(number=0),pc_phres.isel(number=0)).values,3)))"
   ]
  },
  {
   "cell_type": "markdown",
   "id": "6a09f7c1-6de8-4b43-9d41-31332c3f1900",
   "metadata": {},
   "source": [
    "## Compare EOFs\n",
    "we know that the first EOF is basically ENSO - how correlated are they with eachother though?"
   ]
  },
  {
   "cell_type": "code",
   "execution_count": null,
   "id": "2e22aad7-e048-4d97-aa18-4f46dc648706",
   "metadata": {},
   "outputs": [],
   "source": [
    "var = 'TEMP'\n",
    "eof_temp = xr.open_dataset(wd + var + '.EOFs.final.nc')#['__xarray_dataarray_variable__']\n",
    "eof_temp = eof_temp.rename({'__xarray_dataarray_variable__':'SST'})\n",
    "eof_temp = eof_temp.SST\n",
    "\n",
    "var = 'omega'\n",
    "eof_omega = xr.open_dataset(wd + var + '.EOFs.final.nc')#['__xarray_dataarray_variable__']\n",
    "eof_omega = eof_omega.rename({'__xarray_dataarray_variable__':'$\\Omega_{arag}$'})\n",
    "eof_omega =eof_omega['$\\Omega_{arag}$']\n",
    "\n",
    "var = 'omega_residual'\n",
    "eof_omegares = xr.open_dataset(wd + var + '.EOFs.final.nc')#['__xarray_dataarray_variable__']\n",
    "eof_omegares = eof_omegares.rename({'__xarray_dataarray_variable__':'omega residual'})\n",
    "eof_omegares = eof_omegares['omega residual']\n",
    "\n",
    "var = 'H'\n",
    "eof_ph = xr.open_dataset(wd + var + '.EOFs.final.nc')#['__xarray_dataarray_variable__']\n",
    "eof_ph = eof_ph.rename({'__xarray_dataarray_variable__':'pH'})\n",
    "eof_ph = eof_ph.pH\n",
    "\n",
    "var = 'H_residual'\n",
    "eof_phres = xr.open_dataset(wd + var + '.EOFs.final.nc')#['__xarray_dataarray_variable__']\n",
    "eof_phres = eof_phres.rename({'__xarray_dataarray_variable__':'pH residual'})\n",
    "eof_phres = eof_phres['pH residual']\n",
    "\n",
    "var = 'SSH'\n",
    "eof_ssh = xr.open_dataset(wd + var + '.EOFs.final.nc')#['__xarray_dataarray_variable__']\n",
    "eof_ssh = eof_ssh.rename({'__xarray_dataarray_variable__':'SSH'}); eof_ssh =eof_ssh.SSH"
   ]
  },
  {
   "cell_type": "code",
   "execution_count": null,
   "id": "ece03361-dac4-4b1e-ae44-5d4c61afed33",
   "metadata": {},
   "outputs": [],
   "source": [
    "f, ax = plt.subplots(5,1,figsize=(7,10),subplot_kw=dict(projection=ccrs.PlateCarree(central_longitude=180)))\n",
    "\n",
    "eof_temp.isel(number=0).plot(ax = ax[0],cmap='coolwarm',transform = ccrs.PlateCarree())\n",
    "ax[0].set_title('EOF1: SST')\n",
    "ax[0].add_feature(cfeature.LAND, color='k', zorder=3)\n",
    "\n",
    "eof_ssh.isel(number=0).plot(ax = ax[1],transform = ccrs.PlateCarree(),cmap='coolwarm')\n",
    "ax[1].set_title('EOF1: SSH')\n",
    "ax[1].add_feature(cfeature.LAND, color='k', zorder=3)\n",
    "\n",
    "eof_omega.isel(number=0).plot(ax = ax[2],transform = ccrs.PlateCarree(),cmap='coolwarm')\n",
    "ax[2].set_title('EOF1: $\\Omega_{arag}$')\n",
    "ax[2].add_feature(cfeature.LAND, color='k', zorder=3)\n",
    "\n",
    "eof_omegares.isel(number=0).plot(ax = ax[3],transform = ccrs.PlateCarree(),cmap='coolwarm')\n",
    "ax[3].set_title('EOF1: pH Temperature residual')\n",
    "ax[3].add_feature(cfeature.LAND, color='k', zorder=3)\n",
    "\n",
    "\n",
    "eof_phtemp.isel(number=0).plot(ax = ax[4],transform = ccrs.PlateCarree(),cmap='coolwarm')\n",
    "ax[4].set_title('EOF1: pH Temperature')\n",
    "ax[4].add_feature(cfeature.LAND, color='k', zorder=3)"
   ]
  },
  {
   "cell_type": "markdown",
   "id": "6fce4ebb-1857-4449-9996-bed421f2d050",
   "metadata": {},
   "source": [
    "## Paper Figure Draft"
   ]
  },
  {
   "cell_type": "code",
   "execution_count": null,
   "id": "90f79ade-8fca-4266-9a1d-c6d04c3c1e69",
   "metadata": {},
   "outputs": [],
   "source": [
    "f, ax = plt.subplots(1,1,figsize = (20,3))\n",
    "\n",
    "ds.plot(color='k',label='Nino3.4 Index',linewidth=3,linestyle='--')\n",
    "\n",
    "(-pc_temp).isel(number=0).plot(color='red',label='SST PC1',linewidth=2)\n",
    "# pc_ssh.isel(number=0).plot(color='#7570b3',label='SSH PC1',linewidth=1)\n",
    "(-pc_omega).isel(number=0).plot(color='cornflowerblue',label='$\\Omega_{arag}$ PC1',linewidth=2)\n",
    "(-pc_omegares).isel(number=0).plot(color='cornflowerblue',label='$\\Omega_{arag}$ PC1',linewidth=2,linestyle='--')\n",
    "\n",
    "(-pc_ph).isel(number=0).plot(color='blueviolet',label='pH PC1',linewidth=2)\n",
    "(-pc_phres).isel(number=0).plot(color='blueviolet',label='pH PC1',linewidth=2,linestyle='--')\n",
    "\n",
    "plt.legend(fontsize=14)\n",
    "plt.title('')\n",
    "plt.xlim('1958','2021')\n",
    "\n",
    "plt.ylabel('Anomaly')\n",
    "\n",
    "# f.savefig('./figures/Figure5.PC1.R1.pdf')\n",
    "# f.savefig('./figures/Figure5.PC1.R1.eps')"
   ]
  },
  {
   "cell_type": "code",
   "execution_count": null,
   "id": "01f3e971-9d40-448b-bc47-4a95dd6005bb",
   "metadata": {},
   "outputs": [],
   "source": [
    "f, ax = plt.subplots(1,1,figsize = (10,2))\n",
    "\n",
    "ds.plot(color='k',label='Nino3.4 Index',linewidth=3,linestyle='--')\n",
    "\n",
    "(-pc_temp).isel(number=0).plot(color='red',label='SST PC1',linewidth=2)\n",
    "# pc_ssh.isel(number=0).plot(color='#7570b3',label='SSH PC1',linewidth=1)\n",
    "(-pc_omega).isel(number=0).plot(color='cornflowerblue',label='$\\Omega_{arag}$ PC1',linewidth=2)\n",
    "(-pc_omegares).isel(number=0).plot(color='darkblue',label='$\\Omega_{arag}$ nonthermal PC1',linewidth=2,linestyle='--')\n",
    "\n",
    "# (-pc_ph).isel(number=0).plot(color='blueviolet',label='pH PC1',linewidth=2)\n",
    "# (-pc_phres).isel(number=0).plot(color='blueviolet',label='pH PC1',linewidth=2,linestyle='--')\n",
    "\n",
    "# plt.legend(fontsize=14)\n",
    "plt.title('')\n",
    "plt.xlim('1958','2021')\n",
    "plt.ylim(-3.8,3.8)\n",
    "\n",
    "plt.ylabel('Anomaly')\n",
    "\n",
    "f.savefig('./figures/Figure5.PC1.R1.omega.new.pdf')\n",
    "# f.savefig('./figures/Figure5.PC1.R1.omega.eps')"
   ]
  },
  {
   "cell_type": "code",
   "execution_count": null,
   "id": "3f1cbd21-600e-4f28-8e9f-deddd0085bbb",
   "metadata": {},
   "outputs": [],
   "source": [
    "f, ax = plt.subplots(1,1,figsize = (10,2))\n",
    "\n",
    "ds.plot(color='k',label='Nino3.4 Index',linewidth=3,linestyle='--')\n",
    "\n",
    "# (-pc_temp).isel(number=0).plot(color='red',label='SST PC1',linewidth=2)\n",
    "# pc_ssh.isel(number=0).plot(color='#7570b3',label='SSH PC1',linewidth=1)\n",
    "# (-pc_omega).isel(number=0).plot(color='cornflowerblue',label='$\\Omega_{arag}$ PC1',linewidth=2)\n",
    "# (-pc_omegares).isel(number=0).plot(color='darkblue',label='$\\Omega_{arag}$ PC1',linewidth=2,linestyle='--')\n",
    "\n",
    "(-pc_ph).isel(number=0).plot(color='blueviolet',label='[$H^+$] PC1',linewidth=2)\n",
    "(-pc_phres).isel(number=0).plot(color='purple',label='[$H^+$] nonthermal PC1',linewidth=2,linestyle='--')\n",
    "(-pc_phtemp).isel(number=0).plot(color='red',label='[$H^+$] thermal PC1',linewidth=2,linestyle='--')\n",
    "# (-(pc_phres + pc_phtemp).isel(number=0).plot(color='grey',label='[$H^+$] comb PC1',linewidth=2,linestyle='--')\n",
    "\n",
    "# plt.legend(fontsize=14,loc='upper left')\n",
    "plt.title('')\n",
    "plt.xlim('1958','2021')\n",
    "plt.ylim(-3.9,3.9)\n",
    "plt.ylabel('Anomaly')\n",
    "\n",
    "f.savefig('./figures/Figure5.PC1.R1.H.new.pdf')\n",
    "# f.savefig('./figures/Figure5.PC1.R1.H.eps')"
   ]
  },
  {
   "cell_type": "code",
   "execution_count": null,
   "id": "2adb3f6b-a04a-4045-b494-eba6513a2b3c",
   "metadata": {},
   "outputs": [],
   "source": [
    "f, ax = plt.subplots(1,5,figsize=(28,3),subplot_kw=dict(projection=ccrs.PlateCarree(central_longitude=180)))\n",
    "\n",
    "(-eof_temp).isel(number=0).plot(ax = ax[0],cmap='coolwarm',transform = ccrs.PlateCarree(),extend='both',add_colorbar=False)\n",
    "# ax[0].set_title('EOF1: SST')\n",
    "ax[0].add_feature(cfeature.LAND, color='k', zorder=3)\n",
    "\n",
    "# eof_ssh.isel(number=0).plot(ax = ax[1,0],transform = ccrs.PlateCarree(),cmap='coolwarm')\n",
    "# ax[1,0].set_title('EOF1: SSH')\n",
    "# ax[1,0].add_feature(cfeature.LAND, color='k', zorder=3)\n",
    "\n",
    "(-eof_omega).isel(number=0).plot(ax = ax[1],transform = ccrs.PlateCarree(),cmap='coolwarm',levels=np.arange(-0.16,0.161,0.01),extend='both',add_colorbar=False)\n",
    "# ax[1].set_title('EOF1: $\\Omega_{arag}$')\n",
    "ax[1].add_feature(cfeature.LAND, color='k', zorder=3)\n",
    "\n",
    "(-eof_omegares).isel(number=0).plot(ax = ax[2],transform = ccrs.PlateCarree(),cmap='coolwarm',levels=np.arange(-0.16,0.161,0.01),extend='both',add_colorbar=False)\n",
    "# ax[2].set_title('EOF1: $\\Omega_{arag}$')\n",
    "ax[2].add_feature(cfeature.LAND, color='k', zorder=3)\n",
    "\n",
    "(-eof_ph).isel(number=0).plot(ax = ax[3],transform = ccrs.PlateCarree(),cmap='coolwarm',levels=np.arange(-4e-10,4.01e-10,1e-12),extend='both',add_colorbar=False)\n",
    "# ax[3].set_title('EOF1: [H+]')\n",
    "ax[3].add_feature(cfeature.LAND, color='k', zorder=3)\n",
    "\n",
    "(-eof_phres).isel(number=0).plot(ax = ax[4],transform = ccrs.PlateCarree(),cmap='coolwarm',levels=np.arange(-4e-10,4.01e-10,1e-12),extend='both',add_colorbar=False)\n",
    "# ax[4].set_title('EOF1: [H+] residual')\n",
    "ax[4].add_feature(cfeature.LAND, color='k', zorder=3)\n",
    "\n",
    "plt.subplots_adjust(wspace=0.15)\n",
    "# plt.tight_layout()\n",
    "\n",
    "f.savefig('./figures/Figure5.EOF1.R1.pdf',transparent=True)\n",
    "# f.savefig('./figures/Figure5.EOF1.R1.eps')"
   ]
  },
  {
   "cell_type": "code",
   "execution_count": null,
   "id": "72b4ec33-b62c-4d02-a3ca-7fe5f47af6e8",
   "metadata": {},
   "outputs": [],
   "source": [
    "f, ax = plt.subplots(1,1,figsize = (20,3))\n",
    "\n",
    "ds.plot(color='k',label='Nino3.4 Index',linewidth=3,linestyle='--')\n",
    "\n",
    "# (-pc_temp).isel(number=0).plot(color='red',label='SST PC1',linewidth=2)\n",
    "# pc_ssh.isel(number=0).plot(color='#7570b3',label='SSH PC1',linewidth=1)\n",
    "# (-pc_omega).isel(number=0).plot(color='cornflowerblue',label='$\\Omega_{arag}$ PC1',linewidth=2)\n",
    "(pc_ph).isel(number=0).plot(color='blueviolet',label='[H+] PC1',linewidth=2)\n",
    "(pc_phres).isel(number=0).plot(color='blueviolet',label='[H+] residual PC1',linewidth=2,linestyle='--')\n",
    "(pc_phtemp).isel(number=0).plot(color='blueviolet',label='[H+] temp PC1',linewidth=2,linestyle='dotted')\n",
    "\n",
    "plt.legend(fontsize=14)\n",
    "plt.title('')\n",
    "plt.xlim('1958','2021')\n",
    "\n",
    "plt.ylabel('Anomaly')\n",
    "\n",
    "# f.savefig('./figures/Figure5.PC1.pdf')\n",
    "# f.savefig('./figures/Figure5.PC1.eps')"
   ]
  },
  {
   "cell_type": "code",
   "execution_count": null,
   "id": "14ddf7c0-b6ed-4b0b-909d-c515a7b5913a",
   "metadata": {},
   "outputs": [],
   "source": [
    "import xskillscore as xs"
   ]
  },
  {
   "cell_type": "code",
   "execution_count": null,
   "id": "f3adf95f-fa3e-42bc-a35a-f9c5d42ca878",
   "metadata": {},
   "outputs": [],
   "source": [
    "print(xr.corr(ds, pc_temp.isel(number=0)).values)\n",
    "print(xr.corr(ds, pc_omega.isel(number=0)).values)\n",
    "print(xr.corr(ds, pc_omegares.isel(number=0)).values)\n",
    "print(xr.corr(ds, pc_ph.isel(number=0)).values)\n",
    "print(xr.corr(ds, pc_phres.isel(number=0)).values)"
   ]
  },
  {
   "cell_type": "code",
   "execution_count": null,
   "id": "b9d4fc22-1a50-419e-8e35-e374e67d5e4b",
   "metadata": {},
   "outputs": [],
   "source": [
    "print([xs.pearson_r_eff_p_value(ds, pc_temp.isel(number=0)).values < 0.05])\n",
    "print([xs.pearson_r_eff_p_value(ds, pc_omega.isel(number=0)).values < 0.05])\n",
    "print([xs.pearson_r_eff_p_value(ds, pc_ph.isel(number=0)).values < 0.05])\n",
    "print([xs.pearson_r_eff_p_value(ds, pc_phres.isel(number=0)).values < 0.05])"
   ]
  },
  {
   "cell_type": "code",
   "execution_count": null,
   "id": "6680dec0-5e97-402f-b52b-c33db9f8df46",
   "metadata": {},
   "outputs": [],
   "source": [
    "print(xr.corr(ds, pc_ph.isel(number=0).shift(time=-9)).values)\n",
    "print([xs.pearson_r_eff_p_value(ds, pc_ph.isel(number=0).shift(time=-9)).values < 0.05])"
   ]
  },
  {
   "cell_type": "code",
   "execution_count": null,
   "id": "bea5ff48-981e-4d2b-8ee1-19006b52275f",
   "metadata": {},
   "outputs": [],
   "source": []
  },
  {
   "cell_type": "code",
   "execution_count": null,
   "id": "e77b803f-2866-4140-b07f-b843348429a2",
   "metadata": {},
   "outputs": [],
   "source": [
    "xs.pearson_r_eff_p_value(ds, pc_ph.isel(number=0)).values"
   ]
  }
 ],
 "metadata": {
  "kernelspec": {
   "display_name": "Python [conda env:.conda-smyle-analysis-2]",
   "language": "python",
   "name": "conda-env-.conda-smyle-analysis-2-py"
  },
  "language_info": {
   "codemirror_mode": {
    "name": "ipython",
    "version": 3
   },
   "file_extension": ".py",
   "mimetype": "text/x-python",
   "name": "python",
   "nbconvert_exporter": "python",
   "pygments_lexer": "ipython3",
   "version": "3.8.0"
  }
 },
 "nbformat": 4,
 "nbformat_minor": 5
}
