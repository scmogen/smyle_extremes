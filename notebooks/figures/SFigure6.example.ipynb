{
 "cells": [
  {
   "cell_type": "markdown",
   "id": "311926f8-46c1-4858-b223-6700c3ae7138",
   "metadata": {},
   "source": [
    "# Figure 1: OAX events in FOSI, Obs and SMYLE"
   ]
  },
  {
   "cell_type": "code",
   "execution_count": null,
   "id": "df493d86-293c-4cd3-8543-9fa3811f62be",
   "metadata": {},
   "outputs": [],
   "source": [
    "# general use packages\n",
    "%matplotlib inline\n",
    "import matplotlib.pyplot as plt\n",
    "import xarray as xr\n",
    "import pandas as pd\n",
    "import numpy as np\n",
    "\n",
    "# packages for altering time to match up!\n",
    "import sys\n",
    "import cftime\n",
    "\n",
    "# climpred packages\n",
    "import climpred\n",
    "from climpred import HindcastEnsemble\n",
    "from climpred.tutorial import load_dataset\n",
    "from climpred.stats import rm_poly"
   ]
  },
  {
   "cell_type": "code",
   "execution_count": null,
   "id": "58479630-db1d-48e5-80dc-af5e4ab3bd3d",
   "metadata": {},
   "outputs": [],
   "source": [
    "import cartopy.crs as ccrs\n",
    "import cartopy.feature as cfeature"
   ]
  },
  {
   "cell_type": "code",
   "execution_count": null,
   "id": "d8bc6c6b-96aa-488f-8bb1-4c8ce19ca624",
   "metadata": {},
   "outputs": [],
   "source": [
    "def detrend_linear(dat, dim, deg):\n",
    "    \"\"\" linear detrend dat along the axis dim \"\"\"\n",
    "    params = dat.polyfit(dim=dim, deg=deg)\n",
    "    fit = xr.polyval(dat[dim], params.polyfit_coefficients)\n",
    "    dat = dat-fit\n",
    "    return dat"
   ]
  },
  {
   "cell_type": "code",
   "execution_count": null,
   "id": "33623548-a6fa-4fcd-8cb4-5037fb145c98",
   "metadata": {},
   "outputs": [],
   "source": [
    "ds = xr.open_dataset('/glade/work/smogen/SMYLE-extremes/OceanSODA-ETHZ_GRaCER_v2021a_1982-2020.nc')\n",
    "\n",
    "ds = ds.groupby('time.month') - ds.groupby('time.month').mean()\n",
    "\n",
    "ds_omega = detrend_linear(ds.omega_ar,dim='time',deg=1)\n",
    "ds_temp = detrend_linear(ds.temperature,dim='time',deg=2)\n",
    "\n",
    "level = 0.1\n",
    "obs_omega_thold = ds_omega.quantile(level)\n",
    "\n",
    "level = 0.9\n",
    "obs_temp_thold = ds_temp.quantile(level)\n",
    "\n",
    "omega_extreme = ds_omega.where(ds_omega < obs_omega_thold)\n",
    "temp_extreme = ds_temp.where(ds_temp > obs_temp_thold)"
   ]
  },
  {
   "cell_type": "code",
   "execution_count": null,
   "id": "709b3eba-8c18-4df1-8366-53d714c913a1",
   "metadata": {},
   "outputs": [],
   "source": [
    "overlap = (~np.isnan(omega_extreme)).astype('int') + (~np.isnan(temp_extreme)).astype('int')\n",
    "# overlap = overlap.where(overlap > 1)"
   ]
  },
  {
   "cell_type": "code",
   "execution_count": null,
   "id": "a6464eff-f518-4cfd-92e1-a1cdd5ae7eca",
   "metadata": {},
   "outputs": [],
   "source": [
    "# Blob example\n",
    "levels = np.arange(-2,2,0.1)\n",
    "f, ax = plt.subplots(1,1, subplot_kw=dict(projection=ccrs.PlateCarree(central_longitude=180)))\n",
    "im = ds_temp.sel(time='2014-07').squeeze().plot.contourf(ax = ax, levels=levels,cmap='coolwarm',transform = ccrs.PlateCarree(), extend='both',add_colorbar=False)\n",
    "temp_extreme.sel(time='2014-07').squeeze().plot.contourf(ax = ax,hatches=[\"///\"],alpha=0,cmap='coolwarm',transform = ccrs.PlateCarree(),add_colorbar=False)\n",
    "# np.isnan(temp_extreme.sel(time='2014-07').squeeze()).plot.contour(colors='black',alpha=0.7,linewidths=1,transform = ccrs.PlateCarree())\n",
    "\n",
    "ax.set_extent([-170,-110,20,70], crs=ccrs.PlateCarree())\n",
    "\n",
    "ax.add_feature(cfeature.LAND, color='k', zorder=3)\n",
    "\n",
    "plt.colorbar(im)\n",
    "plt.title('')\n",
    "\n",
    "f.savefig('example_mhw.pdf')"
   ]
  },
  {
   "cell_type": "code",
   "execution_count": null,
   "id": "7957341b-50b8-448f-b9b1-458f24ffb763",
   "metadata": {},
   "outputs": [],
   "source": [
    "# La Nina example\n",
    "# Blob example\n",
    "levels = np.arange(-0.5,0.5,0.01)\n",
    "\n",
    "f, ax = plt.subplots(1,1, subplot_kw=dict(projection=ccrs.PlateCarree(central_longitude=180)))\n",
    "im = ds_omega.sel(time='2000-01').squeeze().plot.contourf(ax = ax, levels=levels,cmap='coolwarm',transform = ccrs.PlateCarree(), extend='both',add_colorbar=False)\n",
    "# np.isnan(omega_extreme.sel(time='2000-01').squeeze()).plot.contour(colors='black',alpha=0.8,linewidths=1,transform = ccrs.PlateCarree())\n",
    "omega_extreme.sel(time='2000-01').squeeze().plot.contourf(ax = ax,hatches=[\"///\"],alpha=0,cmap='coolwarm',transform = ccrs.PlateCarree(),add_colorbar=False)\n",
    "ax.set_extent([-130,-70,-20,30], crs=ccrs.PlateCarree())\n",
    "ax.add_feature(cfeature.LAND, color='k', zorder=3)\n",
    "plt.title('')\n",
    "plt.colorbar(im)\n",
    "\n",
    "f.savefig('example_oax.pdf')"
   ]
  },
  {
   "cell_type": "markdown",
   "id": "ff4b74b6-d414-4584-b0b5-b17797bd5655",
   "metadata": {},
   "source": [
    "## Look at SMYLE versus obs"
   ]
  },
  {
   "cell_type": "code",
   "execution_count": null,
   "id": "2da40fdf-d1f4-4b19-a8f4-fb465c9e8475",
   "metadata": {},
   "outputs": [],
   "source": [
    "# SMYLE Utility functions\n",
    "from SMYLEutils import io_utils as io\n",
    "from SMYLEutils import calendar_utils as cal\n",
    "from SMYLEutils import stat_utils as stat"
   ]
  },
  {
   "cell_type": "code",
   "execution_count": null,
   "id": "e0288cfd-7440-4570-bd35-af3a76db628c",
   "metadata": {
    "tags": []
   },
   "outputs": [],
   "source": [
    "%%time\n",
    "var = 'omega_arag'; depth = 'surface'\n",
    "var2 = 'CO3'\n",
    "smyle08 = xr.open_dataset('/glade/scratch/smogen/SMYLE-Extreme/'+  var + '.monthly.' + depth + '.08.regrid.nc')[var]\n",
    "smyle08_time = xr.open_dataset('/glade/scratch/smogen/SMYLE-Extreme/'+var2+'.monthly.08.time.nc')#.sel(L=slice(1,12))\n",
    "\n",
    "smyle08_anom,smyle08_clim = stat.remove_drift(smyle08,smyle08_time.time,1982,2019)\n",
    "smyle08_anom = detrend_linear(smyle08_anom,'Y')\n",
    "\n",
    "smyle_omega_full = smyle08_anom\n",
    "smye_omega_time_full = smyle08_time"
   ]
  },
  {
   "cell_type": "code",
   "execution_count": null,
   "id": "089c637f-08dd-4380-baa3-c948ea216423",
   "metadata": {},
   "outputs": [],
   "source": [
    "smyle_omega_extreme = xr.open_dataset('/glade/work/smogen/SMYLE-extremes/thresholds/'+var +  '.monthly.' + depth + '.08.binary.Rolling.full.2.nc')['binary']"
   ]
  },
  {
   "cell_type": "markdown",
   "id": "efe5b81a-0167-4169-b198-4cdc697e5344",
   "metadata": {
    "tags": []
   },
   "source": [
    "## Load extremes for hatching"
   ]
  },
  {
   "cell_type": "code",
   "execution_count": null,
   "id": "74a7a004-1dbd-4607-8058-791fd7316e71",
   "metadata": {},
   "outputs": [],
   "source": [
    "# rolling \n",
    "# var = 'omega_arag'\n",
    "obs_extremes = xr.open_dataset('/glade/work/smogen/SMYLE-extremes/' + var + '.obs.rolling.thold.Rolling.nc')['threshold']"
   ]
  },
  {
   "cell_type": "code",
   "execution_count": null,
   "id": "f0035632-9ad5-4049-ba23-6205123051e6",
   "metadata": {
    "tags": []
   },
   "outputs": [],
   "source": [
    "obs_extremes = obs_extremes.where(obs_extremes > 0)"
   ]
  },
  {
   "cell_type": "code",
   "execution_count": null,
   "id": "b0d405d6-f2d3-42b0-9f8e-350b00b5a24a",
   "metadata": {},
   "outputs": [],
   "source": [
    "var = 'omega_arag'\n",
    "var2 = 'CO3'\n",
    "depth = 'surface'\n",
    "\n",
    "smyle08_ex = xr.open_dataset('/glade/work/smogen/SMYLE-extremes/thresholds/'+var +  '.monthly.' + depth + '.08.binary.Rolling.full.2.nc')['binary']\n",
    "smyle08_time_ex = xr.open_dataset('/glade/scratch/smogen/SMYLE-Extreme/'+var2+'.monthly.08.time.nc')#.sel(L=slice(1,12))"
   ]
  },
  {
   "cell_type": "code",
   "execution_count": null,
   "id": "2cf83a63-53cd-43e3-954b-f3d25bb3416e",
   "metadata": {},
   "outputs": [],
   "source": [
    "smyle08_ex = smyle08_ex.where(smyle08_ex > 0)"
   ]
  },
  {
   "cell_type": "code",
   "execution_count": null,
   "id": "91afddfd-7938-46e9-aaee-d066e5e053d2",
   "metadata": {},
   "outputs": [],
   "source": [
    "import cartopy.crs as ccrs\n",
    "import cartopy.feature as cfeature"
   ]
  },
  {
   "cell_type": "code",
   "execution_count": null,
   "id": "45b4f1a0-c2c0-49fa-b443-6b7202e8e32c",
   "metadata": {},
   "outputs": [],
   "source": [
    "## Sept. 1999\n",
    "smyle_test = smyle_omega_full.isel(L=1).mean('M')#.isel(M=which_M)\n",
    "smyle_test['Y'] = smyle_test['time']\n",
    "\n",
    "smyle08_test_ex = smyle08_ex.isel(L=1).mean('M')#.isel(M=which_M)\n"
   ]
  },
  {
   "cell_type": "code",
   "execution_count": null,
   "id": "21af5f08-551d-4e25-be55-e35fd132f2c2",
   "metadata": {
    "tags": []
   },
   "outputs": [],
   "source": [
    "f, ax = plt.subplots(3,2,figsize=(7,8),subplot_kw=dict(projection=ccrs.PlateCarree(central_longitude=180)))\n",
    "\n",
    "which_M = 11\n",
    "levels = np.arange(-0.3,0.35,0.05)\n",
    "\n",
    "## Sept. 1999\n",
    "smyle_test = smyle_omega_full.isel(L=1).mean('M')#.isel(M=which_M)\n",
    "smyle_test['Y'] = smyle_test['time']\n",
    "\n",
    "smyle08_test_ex = smyle08_ex.isel(L=1).fillna(0).mean('M')#.isel(M=which_M)\n",
    "smyle08_test_ex = smyle08_test_ex.where(smyle08_test_ex > 0.5)\n",
    "# smyle08_test_ex['Y'] = smyle08_test_ex['time']\n",
    "\n",
    "ds_omega.sel(time='1999-09').squeeze().plot.contourf(ax = ax[0,0], levels=levels,cmap='coolwarm',transform = ccrs.PlateCarree(), extend='both',add_colorbar=False)\n",
    "obs_extremes.sel(time='1999-09').squeeze().plot.contourf(ax = ax[0,0],hatches=[\"///\"],alpha=0,cmap='coolwarm',transform = ccrs.PlateCarree(),add_colorbar=False)\n",
    "ds_sept_corr = xr.corr(ds_omega.sel(time='1999-09').squeeze(),obs_extremes.sel(time='1999-09').squeeze())\n",
    "ax[0,0].set_title('1999-09 Obs')\n",
    "ax[0,0].set_extent([-180,-70,-20,70], crs=ccrs.PlateCarree())\n",
    "ax[0,0].add_feature(cfeature.LAND, color='k', zorder=3)\n",
    "\n",
    "smyle_test.sel(Y='1999').squeeze().plot.contourf(ax = ax[0,1], levels=levels,cmap='coolwarm',transform = ccrs.PlateCarree(), extend='both',add_colorbar=False)\n",
    "smyle08_test_ex.sel(Y=1999).plot.contourf(ax = ax[0,1],alpha=0,hatches=[\"///\"],cmap='coolwarm',transform = ccrs.PlateCarree(), extend='both',add_colorbar=False)\n",
    "ex_sept_corr = xr.corr(smyle_test.sel(Y='1999').squeeze(),smyle08_test_ex.sel(Y=1999))\n",
    "ax[0,1].set_title('1.5 Lead 1999-09 SMYLE')\n",
    "ax[0,1].set_extent([-180,-70,-20,70], crs=ccrs.PlateCarree())\n",
    "ax[0,1].add_feature(cfeature.LAND, color='k', zorder=3)\n",
    "\n",
    "## Nov. 1999\n",
    "smyle_test = smyle_omega_full.isel(L=3).mean('M')#.isel(M=which_M)\n",
    "smyle_test['Y'] = smyle_test['time']\n",
    "\n",
    "smyle08_test_ex = smyle08_ex.isel(L=3).fillna(0).mean('M')#.isel(M=which_M)\n",
    "smyle08_test_ex = smyle08_test_ex.where(smyle08_test_ex > 0.5)\n",
    "# smyle08_test_ex['Y'] = smyle08_test_ex['time']\n",
    "\n",
    "ds_omega.sel(time='1999-11').squeeze().plot.contourf(ax = ax[1,0], levels=levels,cmap='coolwarm',transform = ccrs.PlateCarree(), extend='both',add_colorbar=False)\n",
    "obs_extremes.sel(time='1999-11').squeeze().plot.contourf(ax = ax[1,0],hatches=[\"///\"],alpha=0,cmap='coolwarm',transform = ccrs.PlateCarree(),add_colorbar=False)\n",
    "ds_nove_corr = xr.corr(ds_omega.sel(time='1999-11').squeeze(),obs_extremes.sel(time='1999-11').squeeze())\n",
    "ax[1,0].set_title('1999-09 Obs')\n",
    "ax[1,0].set_extent([-180,-70,-20,70], crs=ccrs.PlateCarree())\n",
    "ax[1,0].add_feature(cfeature.LAND, color='k', zorder=3)\n",
    "\n",
    "smyle_test.sel(Y='1999').squeeze().plot.contourf(ax = ax[1,1], levels=levels,cmap='coolwarm',transform = ccrs.PlateCarree(), extend='both',add_colorbar=False)\n",
    "smyle08_test_ex.sel(Y=1999).plot.contourf(ax = ax[1,1],alpha=0,hatches=[\"///\"],cmap='coolwarm',transform = ccrs.PlateCarree(), extend='both',add_colorbar=False)\n",
    "ex_nove_corr = xr.corr(smyle_test.sel(Y='1999').squeeze(),smyle08_test_ex.sel(Y=1999))\n",
    "ax[1,1].set_title('3.5 Lead 1999-11 SMYLE')\n",
    "ax[1,1].set_extent([-180,-70,-20,70], crs=ccrs.PlateCarree())\n",
    "ax[1,1].add_feature(cfeature.LAND, color='k', zorder=3)\n",
    "\n",
    "## Jan. 2000\n",
    "smyle_test = smyle_omega_full.isel(L=5).mean('M')#.isel(M=which_M)\n",
    "smyle_test['Y'] = smyle_test['time']\n",
    "\n",
    "smyle08_test_ex = smyle08_ex.isel(L=5).fillna(0).mean('M')#.sel(M=which_M)\n",
    "smyle08_test_ex = smyle08_test_ex.where(smyle08_test_ex > 0.5)\n",
    "# smyle08_test_ex['Y'] = smyle08_test_ex['time']\n",
    "\n",
    "ds_omega.sel(time='2000-01').squeeze().plot.contourf(ax = ax[2,0], levels=levels,cmap='coolwarm',transform = ccrs.PlateCarree(), extend='both',add_colorbar=False)\n",
    "obs_extremes.sel(time='2000-01').squeeze().plot.contourf(ax = ax[2,0],hatches=[\"///\"],alpha=0,cmap='coolwarm',transform = ccrs.PlateCarree(),add_colorbar=False)\n",
    "ds_janu_corr = xr.corr(ds_omega.sel(time='2000-01').squeeze(),obs_extremes.sel(time='2000-01').squeeze())\n",
    "ax[2,0].set_title('2000-01 Obs')\n",
    "ax[2,0].set_extent([-180,-70,-20,70], crs=ccrs.PlateCarree())\n",
    "ax[2,0].add_feature(cfeature.LAND, color='k', zorder=3)\n",
    "\n",
    "im = smyle_test.sel(Y='2000').squeeze().plot.contourf(ax = ax[2,1], levels=levels,cmap='coolwarm',transform = ccrs.PlateCarree(), extend='both',add_colorbar=False)\n",
    "smyle08_test_ex.sel(Y=2000).plot.contourf(ax = ax[2,1],alpha=0,hatches=[\"///\"],cmap='coolwarm',transform = ccrs.PlateCarree(), extend='both',add_colorbar=False)\n",
    "ex_janu_corr = xr.corr(smyle_test.sel(Y='2000').squeeze(),smyle08_test_ex.sel(Y=2000))\n",
    "ax[2,1].set_title('5.5 Lead 2000-01 SMYLE')\n",
    "ax[2,1].set_extent([-180,-70,-20,70], crs=ccrs.PlateCarree())\n",
    "ax[2,1].add_feature(cfeature.LAND, color='k', zorder=3)\n",
    "\n",
    "# f.suptitle('Sample $\\Omega_{arag}$ Forecast')\n",
    "\n",
    "f.subplots_adjust(right=0.8)\n",
    "cbar_ax = f.add_axes([0.83, 0.25, 0.025, 0.50])\n",
    "cbar = f.colorbar(im, cax=cbar_ax, ticks=[-0.3,-0.2,-0.1,0,0.1,0.2,0.3])\n",
    "cbar.ax.tick_params(labelsize=8)\n",
    "cbar.set_label('$\\Omega_{arag} anomaly$', rotation=270,fontsize=10)\n",
    "\n",
    "f.savefig('./figures/Figure1.example.pdf')\n",
    "# f.savefig('./figures/Figure1.example.eps')"
   ]
  },
  {
   "cell_type": "code",
   "execution_count": null,
   "id": "9b04854b-63f2-4ec6-8fb4-d20137a59c45",
   "metadata": {},
   "outputs": [],
   "source": []
  }
 ],
 "metadata": {
  "kernelspec": {
   "display_name": "Python [conda env:.conda-smyle-analysis-2]",
   "language": "python",
   "name": "conda-env-.conda-smyle-analysis-2-py"
  },
  "language_info": {
   "codemirror_mode": {
    "name": "ipython",
    "version": 3
   },
   "file_extension": ".py",
   "mimetype": "text/x-python",
   "name": "python",
   "nbconvert_exporter": "python",
   "pygments_lexer": "ipython3",
   "version": "3.8.0"
  }
 },
 "nbformat": 4,
 "nbformat_minor": 5
}
