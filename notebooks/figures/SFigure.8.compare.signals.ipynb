{
 "cells": [
  {
   "cell_type": "markdown",
   "id": "1be6571d-4391-4a1b-95e3-5f56f64264ae",
   "metadata": {},
   "source": [
    "# Compare signals"
   ]
  },
  {
   "cell_type": "code",
   "execution_count": null,
   "id": "24dc7e8c-31fb-420c-8ac2-1394076cf727",
   "metadata": {},
   "outputs": [],
   "source": [
    "# general use packages\n",
    "%matplotlib inline\n",
    "import matplotlib.pyplot as plt\n",
    "import xarray as xr\n",
    "import pandas as pd\n",
    "import numpy as np\n",
    "\n",
    "import regionmask\n",
    "import geopandas as gp\n",
    "import cartopy.crs as ccrs\n",
    "import cartopy.feature as cfeature"
   ]
  },
  {
   "cell_type": "code",
   "execution_count": null,
   "id": "49bff635-497b-48a9-ad8f-f30c0366e206",
   "metadata": {},
   "outputs": [],
   "source": [
    "def detrend(dat, dim, deg):\n",
    "    \"\"\" linear detrend dat along the axis dim \"\"\"\n",
    "    params = dat.polyfit(dim=dim, deg=deg)\n",
    "    fit = xr.polyval(dat[dim], params.polyfit_coefficients)\n",
    "    dat = dat-fit\n",
    "    return dat, fit, params"
   ]
  },
  {
   "cell_type": "code",
   "execution_count": null,
   "id": "3b698771-2971-4b70-b4ba-9c3d07aa520c",
   "metadata": {},
   "outputs": [],
   "source": [
    "var = \"TEMP\"\n",
    "deg = 2\n",
    "level = 0.9"
   ]
  },
  {
   "cell_type": "code",
   "execution_count": null,
   "id": "16ac9cfe-05a1-4f1c-9bd0-3689b161112a",
   "metadata": {},
   "outputs": [],
   "source": [
    "# load in FOSI\n",
    "ds = xr.open_dataset('/glade/work/smogen/SMYLE-extremes/FOSI/' + var + '.monthly.surface.regrid.nc')[var]\n",
    "ds['time'] = pd.date_range(\"1958-01\", \"2020-12\", freq=\"MS\")"
   ]
  },
  {
   "cell_type": "markdown",
   "id": "be98189c-64b1-443b-a28f-3ef50099df4b",
   "metadata": {},
   "source": [
    "## Seasonal climatology (amplitude? or standard deviation?)"
   ]
  },
  {
   "cell_type": "code",
   "execution_count": null,
   "id": "3deb5bf8-a519-4133-9e12-2658ea86d2d1",
   "metadata": {},
   "outputs": [],
   "source": [
    "# calculate amplitude of seasonal cycle\n",
    "max = ds.groupby('time.month').mean().max('month')\n",
    "min = ds.groupby('time.month').mean().min('month')"
   ]
  },
  {
   "cell_type": "code",
   "execution_count": null,
   "id": "4d5cf91f-8195-4e65-ae41-cca6682e37b1",
   "metadata": {},
   "outputs": [],
   "source": [
    "seas_climo = ds.groupby('time.month').mean()\n",
    "seas_climo_std = ds.groupby('time.month').std()"
   ]
  },
  {
   "cell_type": "code",
   "execution_count": null,
   "id": "d262d247-fa97-4b15-be91-3a707534cb75",
   "metadata": {},
   "outputs": [],
   "source": [
    "seas_amp = max - min\n",
    "seas_std = seas_climo.std('month')"
   ]
  },
  {
   "cell_type": "code",
   "execution_count": null,
   "id": "1ac572ab-0210-49d1-9d5a-99038156b6a9",
   "metadata": {},
   "outputs": [],
   "source": [
    "# deseason\n",
    "ds_deseas = ds.groupby('time.month') - ds.groupby('time.month').mean()"
   ]
  },
  {
   "cell_type": "code",
   "execution_count": null,
   "id": "e67ea932-f605-4687-a374-c6a8065ee1f0",
   "metadata": {},
   "outputs": [],
   "source": [
    "seas_amp.plot(vmin = 0, vmax=3)\n",
    "plt.show()\n",
    "seas_std.plot(vmin = 0, vmax=3)"
   ]
  },
  {
   "cell_type": "markdown",
   "id": "e92fbf72-d817-452c-920f-069905b0319e",
   "metadata": {},
   "source": [
    "## trend (per decade)"
   ]
  },
  {
   "cell_type": "code",
   "execution_count": null,
   "id": "0a23ed0f-7e69-42a5-91a0-28af41726e77",
   "metadata": {},
   "outputs": [],
   "source": [
    "# Calculate trend\n",
    "ds_detr, fit, params = detrend(ds_deseas, 'time', deg)\n",
    "\n",
    "trend = fit[-1] - fit[0]"
   ]
  },
  {
   "cell_type": "code",
   "execution_count": null,
   "id": "284a7dd3-a664-4ca6-8cec-5591d995d935",
   "metadata": {},
   "outputs": [],
   "source": [
    "(trend / 63 * 10).plot()"
   ]
  },
  {
   "cell_type": "markdown",
   "id": "bf8e5b54-8e80-4e91-9fb5-1d408b68cb95",
   "metadata": {},
   "source": [
    "## interannual variability (standard deviation)"
   ]
  },
  {
   "cell_type": "code",
   "execution_count": null,
   "id": "f85c0aaf-fcb6-4c45-bebd-c6a3af8680a2",
   "metadata": {},
   "outputs": [],
   "source": [
    "# interannual variability\n",
    "interannual_var =  ds_detr.groupby('time.year').mean().std('year')\n",
    "\n",
    "interannual_var.plot()"
   ]
  },
  {
   "cell_type": "markdown",
   "id": "abd32032-68d4-42e3-911e-b84f157eb905",
   "metadata": {},
   "source": [
    "## Extremes"
   ]
  },
  {
   "cell_type": "code",
   "execution_count": null,
   "id": "7bfef7fd-0480-46bf-9375-3ac58dd19673",
   "metadata": {},
   "outputs": [],
   "source": [
    "# # magnitude of extremes\n",
    "# fosi_extremes = xr.open_dataset('/glade/work/smogen/SMYLE-extremes/' + var + '.fosi.rolling.thold.Rolling.nc')['threshold']\n",
    "# fosi_extremes\n",
    "\n",
    "threshold = xr.open_dataset('/glade/work/smogen/SMYLE-extremes/' + var + '.fosi.rolling.thold.Rolling.' + str(level) + '.reviewer.nc')['__xarray_dataarray_variable__']"
   ]
  },
  {
   "cell_type": "code",
   "execution_count": null,
   "id": "2aa2c455-67aa-4f90-a981-c46627276973",
   "metadata": {},
   "outputs": [],
   "source": [
    "threshold_var = (threshold.mean('month') - ds_detr.groupby('time.month').mean().mean('month'))#.plot(vmin=0,vmax=2,extend='max')"
   ]
  },
  {
   "cell_type": "markdown",
   "id": "4fa269c3-f5e5-4d26-9348-855c446dbf57",
   "metadata": {},
   "source": [
    "## Figure"
   ]
  },
  {
   "cell_type": "code",
   "execution_count": null,
   "id": "c82ba90f-a93e-43fe-830d-315b7cc92f84",
   "metadata": {},
   "outputs": [],
   "source": [
    "# ## plot omega_arag\n",
    "# # trend, interannual standard deviation, amplitude of seasonal cycle, extremes magnitude\n",
    "# f, ax = plt.subplots(4,1,subplot_kw=dict(projection=ccrs.PlateCarree(central_longitude=180)),figsize=(6,10))\n",
    "\n",
    "# (trend/63 * 10).plot(ax=ax[0],transform = ccrs.PlateCarree(), cmap = 'BuPu_r', vmin = -0.2, vmax = 0.0,extend='min')\n",
    "# ax[0].add_feature(cfeature.LAND, color='k', zorder=3)\n",
    "# ax[0].set_title('Trend (per decade)')\n",
    "\n",
    "# (interannual_var).plot(ax=ax[2],transform = ccrs.PlateCarree(),cmap = 'BuPu',vmin=-0,vmax=0.2,extend='max')\n",
    "# ax[2].add_feature(cfeature.LAND, color='k', zorder=3)\n",
    "# ax[2].set_title('Stand. Dev. of Interannual Cycle')\n",
    "\n",
    "# (seas_std).plot(ax=ax[1],transform = ccrs.PlateCarree(),cmap = 'BuPu',vmin=-0,vmax=0.2,extend='max')\n",
    "# ax[1].add_feature(cfeature.LAND, color='k', zorder=3)\n",
    "# ax[1].set_title('Stand. Dev. of Seasonal Cycle')\n",
    "\n",
    "# (threshold_var).plot(ax=ax[3],transform = ccrs.PlateCarree(),cmap = 'BuPu_r',vmin=-0.2,vmax=0,extend='min')\n",
    "# ax[3].add_feature(cfeature.LAND, color='k', zorder=3)\n",
    "# ax[3].set_title('Average Threshold Anomaly')\n",
    "\n",
    "# f.savefig(var + '.compare_magnitude.pdf')"
   ]
  },
  {
   "cell_type": "code",
   "execution_count": null,
   "id": "4f674bb8-cf99-49e2-a7c4-740f4d3e98d8",
   "metadata": {},
   "outputs": [],
   "source": [
    "## plot temperature\n",
    "# trend, interannual standard deviation, amplitude of seasonal cycle, extremes magnitude\n",
    "f, ax = plt.subplots(4,1,subplot_kw=dict(projection=ccrs.PlateCarree(central_longitude=180)),figsize=(6,10))\n",
    "\n",
    "(trend/63 * 10).plot(ax=ax[0],transform = ccrs.PlateCarree(), cmap = 'BuPu', vmin = -0, vmax = 3,extend='max')\n",
    "ax[0].add_feature(cfeature.LAND, color='k', zorder=3)\n",
    "ax[0].set_title('Trend (per decade)')\n",
    "\n",
    "\n",
    "(seas_std).plot(ax=ax[1],transform = ccrs.PlateCarree(),cmap = 'BuPu',vmin=-0,vmax=3,extend='max')\n",
    "ax[1].add_feature(cfeature.LAND, color='k', zorder=3)\n",
    "ax[1].set_title('Stand. Dev. of Seasonal Cycle')\n",
    "\n",
    "(interannual_var).plot(ax=ax[2],transform = ccrs.PlateCarree(),cmap = 'BuPu',vmin=-0,vmax=3,extend='max')\n",
    "ax[2].add_feature(cfeature.LAND, color='k', zorder=3)\n",
    "ax[2].set_title('Stand. Dev. of Interannual Cycle')\n",
    "\n",
    "(threshold_var).plot(ax=ax[3],transform = ccrs.PlateCarree(),cmap = 'BuPu',vmin=0,vmax=3,extend='max')\n",
    "ax[3].add_feature(cfeature.LAND, color='k', zorder=3)\n",
    "ax[3].set_title('Average Threshold Anomaly')\n",
    "\n",
    "f.savefig(var + '.compare_magnitude.pdf')"
   ]
  },
  {
   "cell_type": "code",
   "execution_count": null,
   "id": "2d95dfff-e5a1-4907-8c39-fc098152b236",
   "metadata": {},
   "outputs": [],
   "source": []
  }
 ],
 "metadata": {
  "kernelspec": {
   "display_name": "Python [conda env:.conda-smyle-analysis]",
   "language": "python",
   "name": "conda-env-.conda-smyle-analysis-py"
  },
  "language_info": {
   "codemirror_mode": {
    "name": "ipython",
    "version": 3
   },
   "file_extension": ".py",
   "mimetype": "text/x-python",
   "name": "python",
   "nbconvert_exporter": "python",
   "pygments_lexer": "ipython3",
   "version": "3.8.0"
  }
 },
 "nbformat": 4,
 "nbformat_minor": 5
}
