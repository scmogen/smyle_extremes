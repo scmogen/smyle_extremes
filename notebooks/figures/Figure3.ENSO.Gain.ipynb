{
 "cells": [
  {
   "cell_type": "markdown",
   "id": "86dac0f7-145b-48ba-95e3-dc13f2c1f4ac",
   "metadata": {},
   "source": [
    "## Plot Skill difference between ENSO strong and ENSO neutral"
   ]
  },
  {
   "cell_type": "code",
   "execution_count": null,
   "id": "0d855c31-5855-4190-a6c2-3c74c3df6040",
   "metadata": {},
   "outputs": [],
   "source": [
    "# general use packages\n",
    "%matplotlib inline\n",
    "import matplotlib.pyplot as plt\n",
    "import xarray as xr\n",
    "import pandas as pd\n",
    "import numpy as np\n",
    "\n",
    "import regionmask\n",
    "import geopandas as gp\n",
    "import cartopy.crs as ccrs\n",
    "import cartopy.feature as cfeature"
   ]
  },
  {
   "cell_type": "code",
   "execution_count": null,
   "id": "332e5933-6b79-4642-8f18-2427fb934cdd",
   "metadata": {},
   "outputs": [],
   "source": [
    "# from @GlacialMeg\n",
    "\n",
    "import matplotlib as mpl\n",
    "# Font style and size\n",
    "plt.rcParams['font.family'] = 'Arial'         # Font\n",
    "plt.rcParams['font.size'] = 10                # General font size unless set below\n",
    "plt.rcParams['axes.labelsize'] = 11           # Axes labels font size\n",
    "plt.rcParams['figure.titlesize'] = 12         # Title font size\n",
    "plt.rcParams['figure.titleweight'] = 'bold'   # Bold title\n",
    "plt.rcParams['axes.labelweight'] = 'bold'     # Bold axes labels\n",
    "    \n",
    "# Axes and ticks parameters\n",
    "plt.rcParams['axes.linewidth'] = 1            # Width of axes border\n",
    "plt.rcParams['xtick.direction'] = 'in'        # Make x ticks go in\n",
    "plt.rcParams['ytick.direction'] = 'in'        # Make y ticks go in\n",
    "plt.rcParams['xtick.major.size'] = 5          # Set x tick length \n",
    "plt.rcParams['ytick.major.size'] = 5          # Set y tick length\n",
    "plt.rcParams['xtick.major.width'] = 1         # Set x tick width \n",
    "plt.rcParams['ytick.major.width'] = 1         # Set y tick width\n",
    "\n",
    "# Line style\n",
    "plt.rcParams['lines.linewidth'] = 1           # Set line widths on plots\n",
    "plt.rcParams['lines.linestyle'] = '-'         # Set line styles on plots\n",
    "\n",
    "# Math text font characteristics\n",
    "plt.rcParams['mathtext.fontset'] = 'cm'       # Choose font for math text\n",
    "plt.rcParams['mathtext.default'] = 'regular'  # Make math text not bold or italic\n",
    "# mathtext.FontConstantsBase.sup1 = 0.4         # Move superscript text to a better height\n",
    "\n",
    "# For showing plots on GitHub\n",
    "%matplotlib inline\n",
    "plt.rcParams['figure.dpi']= 100"
   ]
  },
  {
   "cell_type": "code",
   "execution_count": null,
   "id": "4a9dd8ff-6ff4-4380-8798-f98fc595346e",
   "metadata": {},
   "outputs": [],
   "source": [
    "str_omega = xr.open_dataset('/glade/derecho/scratch/smogen/SMYLE-Extreme/results/MergedInits.obs.omega_arag.full.strong.FOSI.nc')\n",
    "# str_omega = str_omega.fillna(0)\n",
    "wea_omega = xr.open_dataset('/glade/derecho/scratch/smogen/SMYLE-Extreme/results/MergedInits.obs.omega_arag.full.weak.FOSI.nc')\n",
    "# wea_omega = wea_omega.fillna(0)\n",
    "\n",
    "omega_diff = str_omega - wea_omega"
   ]
  },
  {
   "cell_type": "code",
   "execution_count": null,
   "id": "6046e617-39ab-4052-83fe-7a417f86ebd7",
   "metadata": {},
   "outputs": [],
   "source": [
    "str_temp = xr.open_dataset('/glade/derecho/scratch/smogen/SMYLE-Extreme/results/MergedInits.obs.TEMP.full.strong.FOSI.nc')\n",
    "# str_temp = str_temp.fillna(0)\n",
    "wea_temp = xr.open_dataset('/glade/derecho/scratch/smogen/SMYLE-Extreme/results/MergedInits.obs.TEMP.full.weak.FOSI.nc')\n",
    "# wea_temp = wea_temp.fillna(0)\n",
    "\n",
    "temp_diff = str_temp - wea_temp"
   ]
  },
  {
   "cell_type": "code",
   "execution_count": null,
   "id": "12b4b3d3-d9e7-44c4-9e76-34b7a18cc0f8",
   "metadata": {},
   "outputs": [],
   "source": [
    "str_H = xr.open_dataset('/glade/derecho/scratch/smogen/SMYLE-Extreme/results/MergedInits.obs.H+.full.strong.FOSI.nc')\n",
    "# str_H = str_H.fillna(0)\n",
    "wea_H = xr.open_dataset('/glade/derecho/scratch/smogen/SMYLE-Extreme/results/MergedInits.obs.H+.full.weak.FOSI.nc')\n",
    "# wea_H = wea_H.fillna(0)\n",
    "\n",
    "H_diff = str_H - wea_H"
   ]
  },
  {
   "cell_type": "code",
   "execution_count": null,
   "id": "c231d29e-f48a-4385-bbbf-98212857ea35",
   "metadata": {},
   "outputs": [],
   "source": [
    "ds = xr.open_dataset('/glade/work/smogen/SMYLE-extremes/OceanSODA-ETHZ_GRaCER_v2021a_1982-2020.nc')['temperature'].isel(time=0).drop('time')\n",
    "mask = ds.where(ds.lat < 65)"
   ]
  },
  {
   "cell_type": "code",
   "execution_count": null,
   "id": "db88e518-d49c-44ac-a38e-120a873e9473",
   "metadata": {},
   "outputs": [],
   "source": [
    "temp_diff = temp_diff.where(np.isnan(mask) == 0, np.NaN)\n",
    "omega_diff = omega_diff.where(np.isnan(mask) == 0, np.NaN)\n",
    "H_diff = H_diff.where(np.isnan(mask) == 0, np.NaN)"
   ]
  },
  {
   "cell_type": "code",
   "execution_count": null,
   "id": "7a1fea5c-dce3-4857-a701-150570472e8e",
   "metadata": {},
   "outputs": [],
   "source": [
    "levels = np.arange(-0.75,0.76,0.1) # SEDI and BSS"
   ]
  },
  {
   "cell_type": "code",
   "execution_count": null,
   "id": "e06f1677-26b6-4c8b-b32c-65b0febe56b8",
   "metadata": {},
   "outputs": [],
   "source": [
    "f, ax = plt.subplots(4,3,figsize=(10,7),subplot_kw=dict(projection=ccrs.PlateCarree(central_longitude=180)))\n",
    "# f, ax = plt.subplots(4,3,figsize=(17,11),subplot_kw=dict(projection=ccrs.PlateCarree(central_longitude=180)))\n",
    "# f, ax = plt.subplots(4,3,subplot_kw=dict(projection=ccrs.PlateCarree(central_longitude=180)))\n",
    "\n",
    "lead = [2,4,7,11]\n",
    "\n",
    "for i in range(4): # range(4):\n",
    "    temp_diff.skill.sel(L=lead[i]).plot(ax=ax[i,0],levels=levels,extend='both',transform = ccrs.PlateCarree(),cmap='coolwarm',add_colorbar=False)\n",
    "    ax[i,0].add_feature(cfeature.LAND, color='k', zorder=3)\n",
    "    ax[i,0].set_title(str(lead[i]-0.5) + ' months after initialization',fontsize=15)\n",
    "    ax[i,0].set_title(' ',fontsize=5)\n",
    "\n",
    "for i in range(4):\n",
    "    omega_diff.skill.sel(L=lead[i]).plot(ax=ax[i,1],levels=levels,extend='both',transform = ccrs.PlateCarree(),cmap='coolwarm',add_colorbar=False)\n",
    "    ax[i,1].add_feature(cfeature.LAND, color='k', zorder=3)\n",
    "    # ax[i,1].set_title(str(lead[i]-0.5) + ' months after initialization',fontsize=15)\n",
    "    ax[i,1].set_title(' ',fontsize=5)\n",
    "    \n",
    "for i in range(4):\n",
    "    im = H_diff.skill.sel(L=lead[i]).plot(ax=ax[i,2],levels=levels,extend='both',transform = ccrs.PlateCarree(),cmap='coolwarm',add_colorbar=False)\n",
    "    ax[i,2].add_feature(cfeature.LAND, color='k', zorder=3)\n",
    "    ax[i,2].set_title(str(lead[i]-0.5) + ' months after initialization',fontsize=15)\n",
    "    ax[i,2].set_title(' ',fontsize=5)\n",
    "\n",
    "# plt.tight_layout()\n",
    "\n",
    "# f.subplots_adjust(right=0.8)\n",
    "# cbar_ax = f.add_axes([0.85, 0.12, 0.025, 0.75])\n",
    "# cbar = f.colorbar(im, cax=cbar_ax, ticks=[-1,-0.5, 0, 0.5, 1])\n",
    "# cbar.ax.tick_params(labelsize=15)\n",
    "# cbar.set_label('Forecast Skill (SEDI)', rotation=270,fontsize=18)\n",
    "\n",
    "# f.suptitle('MHW, OAX (omega), OAX (H+)')\n",
    "plt.subplots_adjust(hspace=0.05,wspace=0.05)\n",
    "\n",
    "# f.savefig('./figures/Figure4.SEDI.Index.sig.Revised.pdf',transparent=True)\n",
    "f.savefig('./figures/Figure4.SEDI.Index.ENSO.Revised.png',dpi=1000)"
   ]
  },
  {
   "cell_type": "code",
   "execution_count": null,
   "id": "6f077970-bb6e-4f8c-bacc-ccf05b52041f",
   "metadata": {},
   "outputs": [],
   "source": [
    "nino_omega = xr.open_dataset('/glade/scratch/smogen/SMYLE-Extreme/results/MergedInits.obs.omega_arag.full.strong.nino.nc')\n",
    "# str_omega = str_omega.fillna(0)\n",
    "nina_omega = xr.open_dataset('/glade/scratch/smogen/SMYLE-Extreme/results/MergedInits.obs.omega_arag.full.strong.nina.nc')\n",
    "# wea_omega = wea_omega.fillna(0)\n",
    "\n",
    "omega_diff = nino_omega - nina_omega"
   ]
  },
  {
   "cell_type": "code",
   "execution_count": null,
   "id": "b49898e0-6fb0-4ab0-86fd-4dc89e931a32",
   "metadata": {
    "scrolled": true
   },
   "outputs": [],
   "source": [
    "nina_omega.skill.isel(L=1).plot()"
   ]
  },
  {
   "cell_type": "code",
   "execution_count": null,
   "id": "c943bb84-6823-49ed-a396-f35a68dff241",
   "metadata": {},
   "outputs": [],
   "source": [
    "nino_temp = xr.open_dataset('/glade/scratch/smogen/SMYLE-Extreme/results/MergedInits.obs.TEMP.full.strong.nino.nc')\n",
    "# str_omega = str_omega.fillna(0)\n",
    "nina_temp = xr.open_dataset('/glade/scratch/smogen/SMYLE-Extreme/results/MergedInits.obs.TEMP.full.strong.nina.nc')\n",
    "# wea_omega = wea_omega.fillna(0)\n",
    "\n",
    "temp_diff = nino_temp - nina_temp"
   ]
  },
  {
   "cell_type": "code",
   "execution_count": null,
   "id": "53087514-8c28-44a4-be05-1601db803079",
   "metadata": {
    "scrolled": true
   },
   "outputs": [],
   "source": [
    "levels = np.arange(-1,1.1,0.1)\n",
    "f, ax = plt.subplots(4,2,figsize=(11,11),subplot_kw=dict(projection=ccrs.PlateCarree(central_longitude=180)))\n",
    "\n",
    "lead = [2,4,7,11]\n",
    "\n",
    "for i in range(4):\n",
    "    temp_diff.skill.sel(L=lead[i]).plot(ax=ax[i,0],levels=levels,extend='both',transform = ccrs.PlateCarree(),cmap='coolwarm',add_colorbar=False)\n",
    "    ax[i,0].add_feature(cfeature.LAND, color='k', zorder=3)\n",
    "    ax[i,0].set_title(str(lead[i]-0.5) + ' months after initialization',fontsize=15)\n",
    "\n",
    "for i in range(4):\n",
    "    im = omega_diff.skill.sel(L=lead[i]).plot(ax=ax[i,1],levels=levels,extend='both',transform = ccrs.PlateCarree(),cmap='coolwarm',add_colorbar=False)\n",
    "    ax[i,1].add_feature(cfeature.LAND, color='k', zorder=3)\n",
    "    ax[i,1].set_title(str(lead[i]-0.5) + ' months after initialization',fontsize=15)\n",
    "    \n",
    "f.suptitle('El Nino Inits - La Nina Inits')\n",
    "\n",
    "f.subplots_adjust(right=0.8)\n",
    "cbar_ax = f.add_axes([0.85, 0.25, 0.025, 0.50])\n",
    "cbar = f.colorbar(im, cax=cbar_ax, ticks=[-1,0,1])\n",
    "cbar.ax.tick_params(labelsize=15)\n",
    "cbar.set_label('Gain from El Niño', rotation=270,fontsize=18)\n",
    "\n",
    "\n",
    "# plt.tight_layout()\n",
    "\n"
   ]
  },
  {
   "cell_type": "code",
   "execution_count": null,
   "id": "e098a25e-41f0-485d-a882-337fe6857fb1",
   "metadata": {},
   "outputs": [],
   "source": []
  }
 ],
 "metadata": {
  "kernelspec": {
   "display_name": "Python [conda env:.conda-smyle-analysis-2]",
   "language": "python",
   "name": "conda-env-.conda-smyle-analysis-2-py"
  },
  "language_info": {
   "codemirror_mode": {
    "name": "ipython",
    "version": 3
   },
   "file_extension": ".py",
   "mimetype": "text/x-python",
   "name": "python",
   "nbconvert_exporter": "python",
   "pygments_lexer": "ipython3",
   "version": "3.8.0"
  }
 },
 "nbformat": 4,
 "nbformat_minor": 5
}
