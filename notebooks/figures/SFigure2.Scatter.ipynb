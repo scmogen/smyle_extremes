{
 "cells": [
  {
   "cell_type": "markdown",
   "id": "71b7f0d4-9407-41d2-8199-a955862af951",
   "metadata": {},
   "source": [
    "# Figure 3: Intensity and Duration in FOSI/Obs"
   ]
  },
  {
   "cell_type": "code",
   "execution_count": null,
   "id": "62cf4843-5d59-4a19-86d4-5e0704fa3259",
   "metadata": {},
   "outputs": [],
   "source": [
    "# general use packages\n",
    "%matplotlib inline\n",
    "import matplotlib.pyplot as plt\n",
    "import xarray as xr\n",
    "import pandas as pd\n",
    "import numpy as np\n",
    "\n",
    "import regionmask\n",
    "import geopandas as gp\n",
    "import cartopy.crs as ccrs\n",
    "import cartopy.feature as cfeature"
   ]
  },
  {
   "cell_type": "code",
   "execution_count": null,
   "id": "62503e67-27fb-42dd-a82c-ceef689055ce",
   "metadata": {},
   "outputs": [],
   "source": [
    "# from @GlacialMeg\n",
    "\n",
    "import matplotlib as mpl\n",
    "# Font style and size\n",
    "plt.rcParams['font.family'] = 'Arial'         # Font\n",
    "plt.rcParams['font.size'] = 10                # General font size unless set below\n",
    "plt.rcParams['axes.labelsize'] = 11           # Axes labels font size\n",
    "plt.rcParams['figure.titlesize'] = 12         # Title font size\n",
    "plt.rcParams['figure.titleweight'] = 'bold'   # Bold title\n",
    "plt.rcParams['axes.labelweight'] = 'bold'     # Bold axes labels\n",
    "    \n",
    "# Axes and ticks parameters\n",
    "plt.rcParams['axes.linewidth'] = 1            # Width of axes border\n",
    "plt.rcParams['xtick.direction'] = 'in'        # Make x ticks go in\n",
    "plt.rcParams['ytick.direction'] = 'in'        # Make y ticks go in\n",
    "plt.rcParams['xtick.major.size'] = 5          # Set x tick length \n",
    "plt.rcParams['ytick.major.size'] = 5          # Set y tick length\n",
    "plt.rcParams['xtick.major.width'] = 1         # Set x tick width \n",
    "plt.rcParams['ytick.major.width'] = 1         # Set y tick width\n",
    "\n",
    "# Line style\n",
    "plt.rcParams['lines.linewidth'] = 1           # Set line widths on plots\n",
    "plt.rcParams['lines.linestyle'] = '-'         # Set line styles on plots\n",
    "\n",
    "# Math text font characteristics\n",
    "plt.rcParams['mathtext.fontset'] = 'cm'       # Choose font for math text\n",
    "plt.rcParams['mathtext.default'] = 'regular'  # Make math text not bold or italic\n",
    "# mathtext.FontConstantsBase.sup1 = 0.4         # Move superscript text to a better height\n",
    "\n",
    "# For showing plots on GitHub\n",
    "%matplotlib inline\n",
    "plt.rcParams['figure.dpi']= 100"
   ]
  },
  {
   "cell_type": "code",
   "execution_count": null,
   "id": "f632210d-643d-4f44-89b2-91aeab372608",
   "metadata": {},
   "outputs": [],
   "source": [
    "def detrend_linear(dat, dim):\n",
    "    \"\"\" linear detrend dat along the axis dim \"\"\"\n",
    "    params = dat.polyfit(dim=dim, deg=1)\n",
    "    fit = xr.polyval(dat[dim], params.polyfit_coefficients)\n",
    "    dat = dat-fit\n",
    "    return dat"
   ]
  },
  {
   "cell_type": "markdown",
   "id": "1bb81f0e-4e25-4a8c-9809-83f47d4c84b9",
   "metadata": {
    "jp-MarkdownHeadingCollapsed": true,
    "tags": []
   },
   "source": [
    "## Obs and FOSI"
   ]
  },
  {
   "cell_type": "markdown",
   "id": "f037cc7c-49c2-48c1-a378-63b657fc02f0",
   "metadata": {
    "tags": []
   },
   "source": [
    "### process here (no rolling)"
   ]
  },
  {
   "cell_type": "code",
   "execution_count": null,
   "id": "9af1584f-ecad-4905-ad9c-7c20f99a9372",
   "metadata": {},
   "outputs": [],
   "source": [
    "obs = xr.open_dataset('/glade/work/smogen/SMYLE-extremes/OceanSODA-ETHZ_GRaCER_v2021a_1982-2020.nc')"
   ]
  },
  {
   "cell_type": "code",
   "execution_count": null,
   "id": "1bcb2095-a664-416e-bc15-98c9f24f3412",
   "metadata": {},
   "outputs": [],
   "source": [
    "fosi_omega = xr.open_dataset('/glade/work/smogen/SMYLE-extremes/FOSI/omega_arag.monthly.surface.regrid.nc')['omega_arag']\n",
    "fosi_temp = xr.open_dataset('/glade/work/smogen/SMYLE-extremes/FOSI/TEMP.monthly.surface.regrid.nc')['TEMP']\n",
    "fosi_h = xr.open_dataset('/glade/work/smogen/SMYLE-extremes/FOSI/pH_3D.monthly.surface.regrid.nc')['pH_3D']; fosi_h = 10**(-fosi_h)"
   ]
  },
  {
   "cell_type": "code",
   "execution_count": null,
   "id": "7d3b335e-fcf0-4136-8fe4-cd63f1860e5e",
   "metadata": {},
   "outputs": [],
   "source": [
    "fosi_omega['time'] = pd.date_range(\"1958-01\", \"2020-12\", freq=\"MS\")\n",
    "fosi_temp['time'] = pd.date_range(\"1958-01\", \"2020-12\", freq=\"MS\")\n",
    "fosi_h['time'] = pd.date_range(\"1958-01\", \"2020-12\", freq=\"MS\")"
   ]
  },
  {
   "cell_type": "code",
   "execution_count": null,
   "id": "fc87b9f8-8c20-4379-856e-0b4a306e0feb",
   "metadata": {},
   "outputs": [],
   "source": [
    "obs_omega = obs.omega_ar\n",
    "obs_temp = obs.temperature\n",
    "obs_h = 10**(-obs.ph_total)"
   ]
  },
  {
   "cell_type": "code",
   "execution_count": null,
   "id": "6fd49b06-afc6-4722-97d1-dd918b11940e",
   "metadata": {},
   "outputs": [],
   "source": [
    "obs_omega, fosi_omega = xr.align(obs_omega, fosi_omega)\n",
    "obs_temp, fosi_temp = xr.align(obs_temp, fosi_temp)\n",
    "obs_h, fosi_h = xr.align(obs_h, fosi_h)"
   ]
  },
  {
   "cell_type": "code",
   "execution_count": null,
   "id": "55ce7d47-97df-4c50-9f3e-99192b6db589",
   "metadata": {},
   "outputs": [],
   "source": [
    "mask = np.isnan(obs_omega.isel(time=0))#obs_omega.isel(time=0).where(obs_omega.isel(time=0)==np.NaN,obs_omega.isel(time=0))\n",
    "mask = mask.drop('time')"
   ]
  },
  {
   "cell_type": "code",
   "execution_count": null,
   "id": "e4e47053-d045-4032-a150-99d58dd12b97",
   "metadata": {},
   "outputs": [],
   "source": [
    "fosi_omega = fosi_omega.where(mask == 0, np.NaN)\n",
    "fosi_temp = fosi_temp.where(mask == 0, np.NaN)\n",
    "fosi_h = fosi_h.where(mask == 0, np.NaN)"
   ]
  },
  {
   "cell_type": "markdown",
   "id": "46bf3d90-7c22-461e-a1b5-2442e155935e",
   "metadata": {
    "jp-MarkdownHeadingCollapsed": true,
    "tags": []
   },
   "source": [
    "### remove climatology and trend"
   ]
  },
  {
   "cell_type": "code",
   "execution_count": null,
   "id": "94b894db-82a8-4347-96d6-484385d7d007",
   "metadata": {},
   "outputs": [],
   "source": [
    "def detrend_linear(dat, dim):\n",
    "    \"\"\" linear detrend dat along the axis dim \"\"\"\n",
    "    params = dat.polyfit(dim=dim, deg=1)\n",
    "    fit = xr.polyval(dat[dim], params.polyfit_coefficients)\n",
    "    dat = dat-fit\n",
    "    return dat"
   ]
  },
  {
   "cell_type": "code",
   "execution_count": null,
   "id": "21dd9f0d-a70b-4f54-9bec-bb0956aee4f0",
   "metadata": {},
   "outputs": [],
   "source": [
    "# climatology\n",
    "fosi_omega = fosi_omega.groupby('time.month') - fosi_omega.groupby('time.month').mean()\n",
    "fosi_temp = fosi_temp.groupby('time.month') - fosi_temp.groupby('time.month').mean()\n",
    "fosi_h = fosi_h.groupby('time.month') - fosi_h.groupby('time.month').mean()\n",
    "\n",
    "obs_omega = obs_omega.groupby('time.month') - obs_omega.groupby('time.month').mean()\n",
    "obs_temp = obs_temp.groupby('time.month') - obs_temp.groupby('time.month').mean()\n",
    "obs_h = obs_h.groupby('time.month') - obs_h.groupby('time.month').mean()"
   ]
  },
  {
   "cell_type": "code",
   "execution_count": null,
   "id": "a2fea67c-42a4-429b-9a11-6b50fea16866",
   "metadata": {},
   "outputs": [],
   "source": [
    "# trend\n",
    "fosi_omega = detrend_linear(fosi_omega,'time')\n",
    "fosi_temp = detrend_linear(fosi_temp,'time')\n",
    "fosi_h = detrend_linear(fosi_h,'time')\n",
    "\n",
    "obs_omega = detrend_linear(obs_omega,'time')\n",
    "obs_temp = detrend_linear(obs_temp,'time')\n",
    "obs_h = detrend_linear(obs_h,'time')"
   ]
  },
  {
   "cell_type": "markdown",
   "id": "8c053b40-772d-47aa-9d8b-eea0751068e9",
   "metadata": {
    "tags": []
   },
   "source": [
    "## define extremes (no rolling)"
   ]
  },
  {
   "cell_type": "code",
   "execution_count": null,
   "id": "e2df3cb7-6fe6-4ab3-8705-ae5288af72a8",
   "metadata": {},
   "outputs": [],
   "source": [
    "# level = 0.1\n",
    "# obs_omega_thold = obs_omega.quantile(level)\n",
    "# fosi_omega_thold = fosi_omega.quantile(level)\n",
    "\n",
    "# obs_omega_extreme = obs_omega.where(obs_omega < obs_omega_thold)\n",
    "# fosi_omega_extreme = obs_omega.where(fosi_omega < fosi_omega_thold)\n",
    "\n",
    "# obs_omega_extreme = ~np.isnan(obs_omega_extreme)\n",
    "# fosi_omega_extreme = ~np.isnan(fosi_omega_extreme)\n",
    "\n",
    "# level = 0.9\n",
    "# obs_temp_thold = obs_temp.quantile(level)\n",
    "# fosi_temp_thold = fosi_temp.quantile(level)\n",
    "\n",
    "# obs_temp_extreme = obs_temp.where(obs_temp > obs_temp_thold)\n",
    "# fosi_temp_extreme = obs_temp.where(fosi_temp > fosi_temp_thold)\n",
    "\n",
    "# obs_temp_extreme = ~np.isnan(obs_temp_extreme)\n",
    "# fosi_temp_extreme = ~np.isnan(fosi_temp_extreme)\n",
    "\n",
    "# level = 0.9\n",
    "# obs_h_thold = obs_h.quantile(level)\n",
    "# fosi_h_thold = fosi_h.quantile(level)\n",
    "\n",
    "# obs_h_extreme = obs_h.where(obs_h > obs_h_thold)\n",
    "# fosi_h_extreme = obs_h.where(fosi_h > fosi_h_thold)\n",
    "\n",
    "# obs_h_extreme = ~np.isnan(obs_h_extreme)\n",
    "# fosi_h_extreme = ~np.isnan(fosi_h_extreme)"
   ]
  },
  {
   "cell_type": "code",
   "execution_count": null,
   "id": "acecdc3a-d17a-4427-a19b-362cbd1d5eab",
   "metadata": {},
   "outputs": [],
   "source": [
    "# rolling \n",
    "var='omega_arag'\n",
    "obs_extremes = xr.open_dataset('/glade/work/smogen/SMYLE-extremes/' + var + '.obs.rolling.thold.Rolling.nc')['threshold']"
   ]
  },
  {
   "cell_type": "markdown",
   "id": "8a5f6ec9-7fdb-48bb-8a4b-f51183fb82c2",
   "metadata": {
    "tags": []
   },
   "source": [
    "## Load SMYLE"
   ]
  },
  {
   "cell_type": "code",
   "execution_count": null,
   "id": "5eacc408-ee96-4dce-93cd-5cfa91ff8aa3",
   "metadata": {},
   "outputs": [],
   "source": [
    "# obs_pac = obs_omega_extreme.sel(lat=0.5,lon=-130.5).astype(int)"
   ]
  },
  {
   "cell_type": "code",
   "execution_count": null,
   "id": "87eeafd4-5f4b-4f23-a5eb-237e8cb780b5",
   "metadata": {},
   "outputs": [],
   "source": [
    "var = 'omega_arag'\n",
    "var2 = 'CO3'\n",
    "depth = 'surface'\n",
    "# init = '05'\n",
    "\n",
    "smyle02 = xr.open_dataset('/glade/work/smogen/SMYLE-extremes/thresholds/'+var +  '.monthly.' + depth + '.02.binary.Rolling.full.2.nc')['binary']\n",
    "smyle02_time = xr.open_dataset('/glade/scratch/smogen/SMYLE-Extreme/'+var2+'.monthly.02.time.nc')#.sel(L=slice(1,12))\n",
    "\n",
    "smyle05 = xr.open_dataset('/glade/work/smogen/SMYLE-extremes/thresholds/'+var +  '.monthly.' + depth + '.05.binary.Rolling.full.2.nc')['binary']\n",
    "smyle05_time = xr.open_dataset('/glade/scratch/smogen/SMYLE-Extreme/'+var2+'.monthly.05.time.nc')#.sel(L=slice(1,12))\n",
    "\n",
    "smyle08 = xr.open_dataset('/glade/work/smogen/SMYLE-extremes/thresholds/'+var +  '.monthly.' + depth + '.08.binary.Rolling.full.2.nc')['binary']\n",
    "smyle08_time = xr.open_dataset('/glade/scratch/smogen/SMYLE-Extreme/'+var2+'.monthly.08.time.nc')#.sel(L=slice(1,12))\n",
    "\n",
    "smyle11 = xr.open_dataset('/glade/work/smogen/SMYLE-extremes/thresholds/'+var +  '.monthly.' + depth + '.11.binary.Rolling.full.2.nc')['binary']\n",
    "smyle11_time = xr.open_dataset('/glade/scratch/smogen/SMYLE-Extreme/'+var2+'.monthly.11.time.nc')#.sel(L=slice(1,12))\n",
    "\n",
    "smyle02 = smyle02.expand_dims(\"init\"); smyle02_time  = smyle02_time.expand_dims(\"init\")\n",
    "smyle05 = smyle05.expand_dims(\"init\"); smyle05_time  = smyle05_time.expand_dims(\"init\")\n",
    "smyle08 = smyle08.expand_dims(\"init\"); smyle08_time  = smyle08_time.expand_dims(\"init\")\n",
    "smyle11 = smyle11.expand_dims(\"init\"); smyle11_time  = smyle11_time.expand_dims(\"init\")\n",
    "\n",
    "smyle02['init'] = ['02']; smyle02_time['init'] = ['02']\n",
    "smyle05['init'] = ['05']; smyle05_time['init'] = ['05']\n",
    "smyle08['init'] = ['08']; smyle08_time['init'] = ['08']\n",
    "smyle11['init'] = ['11']; smyle11_time['init'] = ['11']\n",
    "\n",
    "smyle = xr.concat([smyle02,smyle05,smyle08,smyle11],'init')\n",
    "smyle_time = xr.concat([smyle02_time,smyle05_time,smyle08_time,smyle11_time],'init')"
   ]
  },
  {
   "cell_type": "code",
   "execution_count": null,
   "id": "6150f720-857b-45dd-9556-b9f61e4908f1",
   "metadata": {},
   "outputs": [],
   "source": [
    "# smyle_avg = smyle.mean('M')"
   ]
  },
  {
   "cell_type": "code",
   "execution_count": null,
   "id": "942cbb2f-f103-4c33-a88b-2620ec81b30b",
   "metadata": {},
   "outputs": [],
   "source": [
    "obs_extremes.time.dt.year[-1]"
   ]
  },
  {
   "cell_type": "code",
   "execution_count": null,
   "id": "1278d634-7af6-424f-8594-4a000b486070",
   "metadata": {},
   "outputs": [],
   "source": [
    "smyle = smyle.sel(Y = slice(obs_extremes.time.dt.year[0], obs_extremes.time.dt.year[-1]))"
   ]
  },
  {
   "cell_type": "code",
   "execution_count": null,
   "id": "8094882c-5747-4f93-ad2a-0c94bd637b4f",
   "metadata": {},
   "outputs": [],
   "source": [
    "smyle.isel(L=0,M=0,Y=0,init=0).plot()"
   ]
  },
  {
   "cell_type": "code",
   "execution_count": null,
   "id": "a612bb7c-b6bb-46eb-8b5a-1f20ab5a9951",
   "metadata": {},
   "outputs": [],
   "source": [
    "plt.plot(smyle.sel(Y=1995,lat=0.5,lon=-120.5).sel(init='02').isel(M=1).values)\n",
    "\n",
    "plt.plot(obs_extremes.sel(time=slice('1995-02','1997-01'),lat=0.5,lon=-120.5))"
   ]
  },
  {
   "cell_type": "markdown",
   "id": "526f08d0-6e2d-4027-8f60-ed7262a916ec",
   "metadata": {},
   "source": [
    "## mask"
   ]
  },
  {
   "cell_type": "code",
   "execution_count": null,
   "id": "57b6253c-2bb4-434b-b219-dd40696ec3b3",
   "metadata": {},
   "outputs": [],
   "source": [
    "mask = xr.open_dataset('/glade/work/smogen/SMYLE-extremes/OceanSODA-ETHZ_GRaCER_v2021a_1982-2020.nc')['temperature'].isel(time=0).drop('time')\n",
    "mask = mask.where(mask.lat < 65)"
   ]
  },
  {
   "cell_type": "code",
   "execution_count": null,
   "id": "37cc71a2-21f7-447f-aa63-8c73bd7e4c78",
   "metadata": {},
   "outputs": [],
   "source": [
    "obs_extremes = obs_extremes.where(np.isnan(mask) == 0, np.NaN)"
   ]
  },
  {
   "cell_type": "code",
   "execution_count": null,
   "id": "7873d813-a0ce-4e85-a543-43d3ea6b3898",
   "metadata": {
    "tags": []
   },
   "outputs": [],
   "source": [
    "smyle = smyle.where(np.isnan(mask) == 0, np.NaN)"
   ]
  },
  {
   "cell_type": "markdown",
   "id": "2492ea13-3f23-4939-b453-b5d07cefc905",
   "metadata": {
    "tags": []
   },
   "source": [
    "## For duration"
   ]
  },
  {
   "cell_type": "code",
   "execution_count": null,
   "id": "91cefe7c-c718-496b-bfff-799b7c66c251",
   "metadata": {},
   "outputs": [],
   "source": [
    "smyle_use = smyle#.isel(M=1,init=0)"
   ]
  },
  {
   "cell_type": "code",
   "execution_count": null,
   "id": "0bf408f4-5767-43a4-affe-0c8f02c7a482",
   "metadata": {},
   "outputs": [],
   "source": [
    "%%time\n",
    "#what dimension do I do the diff over?\n",
    "event_boundaries_smyle = smyle_use.astype(int).diff(dim='L')\n",
    "\n",
    "distinct_event_count_smyle = (event_boundaries_smyle == -1).sum(dim=('L','Y','M','init'))\n",
    "# distinct_event_count_smyle = (event_boundaries_smyle == -1).sum(dim=('L','Y','init'))\n",
    "# distinct_event_count_smyle = (event_boundaries_smyle == -1).sum(dim=('L','Y'))\n",
    "\n",
    "avg_length_smyle = smyle.astype(int).sum(('L','M','Y','init')) / distinct_event_count_smyle#.where(distinct_event_count_smyle > 0, np.NaN)\n",
    "# avg_length_smyle = smyle_use.astype(int).sum(('L','Y','init')) / distinct_event_count_smyle#.where(distinct_event_count_smyle > 0, np.NaN)\n",
    "# avg_length_smyle = smyle_use.astype(int).sum(('L','Y')) / distinct_event_count_smyle#.where(distinct_event_count_smyle > 0, np.NaN)\n",
    "\n"
   ]
  },
  {
   "cell_type": "code",
   "execution_count": null,
   "id": "bfc16f1f-5220-4b66-ada7-3c4ad8374b82",
   "metadata": {},
   "outputs": [],
   "source": [
    "(smyle.astype(int).sum(('L','M','Y','init')) / distinct_event_count_smyle).plot()"
   ]
  },
  {
   "cell_type": "code",
   "execution_count": null,
   "id": "26534c18-bfcb-432a-a397-da712debaae3",
   "metadata": {},
   "outputs": [],
   "source": [
    "distinct_event_count_smyle.plot()"
   ]
  },
  {
   "cell_type": "code",
   "execution_count": null,
   "id": "91e23ce6-ca8c-41cb-bc49-e0ce7d2ea8f1",
   "metadata": {},
   "outputs": [],
   "source": [
    "avg_length_smyle.plot(vmax=7)"
   ]
  },
  {
   "cell_type": "code",
   "execution_count": null,
   "id": "f4752e98-452e-44b5-a93b-e205c408d191",
   "metadata": {},
   "outputs": [],
   "source": [
    "distinct_event_count_smyle.plot()"
   ]
  },
  {
   "cell_type": "code",
   "execution_count": null,
   "id": "05f7ed06-bb2d-4336-b121-3ec43bb7f079",
   "metadata": {},
   "outputs": [],
   "source": [
    "length_smyle = len(event_boundaries_smyle.L) * len(event_boundaries_smyle.Y) * len(event_boundaries_smyle.M) * len(event_boundaries_smyle.init)\n",
    "# length_smyle = len(event_boundaries_smyle.L) + len(event_boundaries_smyle.Y) + len(event_boundaries_smyle.M) + len(event_boundaries_smyle.init)\n",
    "# length_smyle = len(event_boundaries_smyle.L) + len(event_boundaries_smyle.Y) + len(event_boundaries_smyle.init)"
   ]
  },
  {
   "cell_type": "code",
   "execution_count": null,
   "id": "1b74e284-fea1-4a7e-9e39-578fdfe20673",
   "metadata": {},
   "outputs": [],
   "source": [
    "length_smyle"
   ]
  },
  {
   "cell_type": "code",
   "execution_count": null,
   "id": "82f782b6-d61a-4583-95d9-c55559083035",
   "metadata": {},
   "outputs": [],
   "source": [
    "above_zero = obs_extremes > 0\n",
    "\n",
    "# Find when the mask transitions from True to False or vice versa\n",
    "event_boundaries = above_zero.astype(int).diff(dim='time')\n",
    "\n",
    "# Count the number of distinct events\n",
    "distinct_event_count = (event_boundaries == -1).sum(dim='time')\n",
    "distinct_event_count\n",
    "\n",
    "avg_length = above_zero.sum('time') / (distinct_event_count)#.where(distinct_event_count > 0, np.NaN)"
   ]
  },
  {
   "cell_type": "code",
   "execution_count": null,
   "id": "96fd503a-967a-437e-b20b-30e448dfc1f7",
   "metadata": {},
   "outputs": [],
   "source": [
    "(avg_length).plot()"
   ]
  },
  {
   "cell_type": "code",
   "execution_count": null,
   "id": "0d0d9511-fd2f-4fcc-8b03-246ce57e8e8f",
   "metadata": {},
   "outputs": [],
   "source": [
    "# Find the slope and intercept of the best fit line\n",
    "slope, intercept = np.polyfit(np.arange(0,100), np.arange(0,100), 1)\n",
    "\n",
    "# Create a list of values in the best fit line\n",
    "abline_values = [slope * i + intercept for i in np.arange(0,100)]"
   ]
  },
  {
   "cell_type": "code",
   "execution_count": null,
   "id": "5ba41788-bb8c-4c34-bc74-4950d18d5fe6",
   "metadata": {},
   "outputs": [],
   "source": [
    "avg_length.plot()\n",
    "plt.show()\n",
    "# avg_length_smyle.plot()\n",
    "# plt.show()"
   ]
  },
  {
   "cell_type": "code",
   "execution_count": null,
   "id": "3f50aa59-9331-4afa-9050-eb20a4a383dd",
   "metadata": {},
   "outputs": [],
   "source": [
    "f,ax = plt.subplots(1,1)\n",
    "plt.grid(zorder=0)\n",
    "plt.scatter(avg_length_smyle.stack(lat_lon=('lat', 'lon')), avg_length.stack(lat_lon=('lat', 'lon')),color='grey',s=5,zorder=4)\n",
    "plt.plot(abline_values,abline_values,'--',color='black',linewidth=1,zorder=1)\n",
    "plt.xlim(0,10)\n",
    "plt.ylim(0,10)\n",
    "plt.xlabel('predicted duration (months)')\n",
    "plt.ylabel('observed duration (months)')\n",
    "\n",
    "corr = xr.corr(avg_length, avg_length_smyle)\n",
    "plt.title(var + ': r = ' + str(np.round(corr.values,2)))\n",
    "\n",
    "# # f.savefig('./figures/' + var + '.duration.pdf')"
   ]
  },
  {
   "cell_type": "code",
   "execution_count": null,
   "id": "54e82ea0-99dd-4162-969b-50e60c07c928",
   "metadata": {},
   "outputs": [],
   "source": [
    "f,ax = plt.subplots(1,1)\n",
    "plt.grid(zorder=0)\n",
    "plt.scatter(distinct_event_count_smyle.stack(lat_lon=('lat', 'lon'))/length_smyle, distinct_event_count.stack(lat_lon=('lat', 'lon'))/468,color='grey',s=5,zorder=4)\n",
    "plt.plot(abline_values,abline_values,'--',color='black',linewidth=1,zorder=1)\n",
    "plt.xlim(0,0.16)\n",
    "plt.ylim(0,0.16)\n",
    "plt.xlabel('predicted number of extremes')\n",
    "plt.ylabel('observed number of extremes')\n",
    "\n",
    "corr = xr.corr(distinct_event_count, distinct_event_count_smyle)\n",
    "plt.title(var + ': r = ' + str(np.round(corr.values,2)))\n",
    "\n",
    "f.savefig('./figures/' + var + '.number.pdf')"
   ]
  },
  {
   "cell_type": "markdown",
   "id": "4a1a3a55-7a57-429d-9534-7d5ba7556044",
   "metadata": {},
   "source": [
    "## Intensity"
   ]
  },
  {
   "cell_type": "code",
   "execution_count": null,
   "id": "d9c0f963-bb33-440d-a767-d893ef2924ee",
   "metadata": {},
   "outputs": [],
   "source": [
    "var = 'ph_total'\n",
    "ds = xr.open_dataset('/glade/work/smogen/SMYLE-extremes/OceanSODA-ETHZ_GRaCER_v2021a_1982-2020.nc')[var]\n",
    "ds = 10**(-ds)\n",
    "\n",
    "ds = ds.groupby('time.month') - ds.groupby('time.month').mean()\n",
    "\n",
    "ds_detr = detrend_linear(ds,dim='time')"
   ]
  },
  {
   "cell_type": "code",
   "execution_count": null,
   "id": "2718f567-21e8-4ee1-9a7b-946321c7dded",
   "metadata": {},
   "outputs": [],
   "source": [
    "ds_detr = ds_detr.where(np.isnan(mask) == 0, np.NaN)"
   ]
  },
  {
   "cell_type": "code",
   "execution_count": null,
   "id": "ba2d83bc-b2b5-444c-b682-f2634eef72e8",
   "metadata": {
    "tags": []
   },
   "outputs": [],
   "source": [
    "# %%time\n",
    "# # SMYLE Utility functions\n",
    "# from SMYLEutils import io_utils as io\n",
    "# from SMYLEutils import calendar_utils as cal\n",
    "# from SMYLEutils import stat_utils as stat\n",
    "# # # create and save SMYLE combined for all inits\n",
    "\n",
    "# var = 'pH_3D'\n",
    "# var2 = 'pH_3D' # var\n",
    "# depth = 'surface'\n",
    "\n",
    "# smyle02 = xr.open_dataset('/glade/scratch/smogen/SMYLE-Extreme/'+var+  '.monthly.' + depth + '.02.regrid.nc')[var]\n",
    "# smyle02_time = xr.open_dataset('/glade/scratch/smogen/SMYLE-Extreme/'+var2+'.monthly.02.time.nc')\n",
    "# smyle02 = smyle02.drop('time')\n",
    "# smyle02 = smyle02.sel(L=slice(1,12))\n",
    "\n",
    "# smyle05 = xr.open_dataset('/glade/scratch/smogen/SMYLE-Extreme/'+var+  '.monthly.' + depth + '.05.regrid.nc')[var]\n",
    "# smyle05_time = xr.open_dataset('/glade/scratch/smogen/SMYLE-Extreme/'+var2+'.monthly.05.time.nc')\n",
    "# smyle05 = smyle05.drop('time')\n",
    "# smyle05 = smyle05.sel(L=slice(1,12))\n",
    "\n",
    "# smyle08 = xr.open_dataset('/glade/scratch/smogen/SMYLE-Extreme/'+var +  '.monthly.' + depth + '.08.regrid.nc')[var]\n",
    "# smyle08_time = xr.open_dataset('/glade/scratch/smogen/SMYLE-Extreme/'+var2+'.monthly.08.time.nc')\n",
    "# smyle08 = smyle08.drop('time')\n",
    "# smyle08 = smyle08.sel(L=slice(1,12))\n",
    "\n",
    "# smyle11 = xr.open_dataset('/glade/scratch/smogen/SMYLE-Extreme/'+var +  '.monthly.' + depth + '.11.regrid.nc')[var]\n",
    "# smyle11_time = xr.open_dataset('/glade/scratch/smogen/SMYLE-Extreme/'+var2+'.monthly.11.time.nc')\n",
    "# smyle11 = smyle11.drop('time')\n",
    "# smyle11 = smyle11.sel(L=slice(1,12))\n",
    "\n",
    "# smyle02 = 10**(-smyle02)\n",
    "# smyle05 = 10**(-smyle05)\n",
    "# smyle08 = 10**(-smyle08)\n",
    "# smyle11 = 10**(-smyle11)\n",
    "\n",
    "# print('deseasoning')\n",
    "# # %%time\n",
    "# smyle02_anom,smyle02_clim = stat.remove_drift(smyle02,smyle02_time,1982,2023)\n",
    "# smyle05_anom,smyle05_clim = stat.remove_drift(smyle05,smyle05_time,1982,2023)\n",
    "# smyle08_anom,smyle08_clim = stat.remove_drift(smyle08,smyle08_time,1982,2023)\n",
    "# smyle11_anom,smyle11_clim = stat.remove_drift(smyle11,smyle11_time,1982,2023)\n",
    "\n",
    "# print('detrending')\n",
    "# # %%time\n",
    "# smyle02_anom = detrend_linear(smyle02_anom.time,'Y')\n",
    "# smyle05_anom = detrend_linear(smyle05_anom.time,'Y')\n",
    "# smyle08_anom = detrend_linear(smyle08_anom.time,'Y')\n",
    "# smyle11_anom = detrend_linear(smyle11_anom.time,'Y')\n",
    "\n",
    "# # del smyle, smyle_time\n",
    "# # del smyle02_anom, smyle05_anom, smyle08_anom, smyle11_anom, smyle02, smyle05, smyle08, smyle11\n",
    "\n",
    "# print('combining')\n",
    "# # %%time\n",
    "# smyle02_anom = smyle02_anom.expand_dims(\"init\"); smyle02_time  = smyle02_time.expand_dims(\"init\")\n",
    "# smyle05_anom = smyle05_anom.expand_dims(\"init\"); smyle05_time  = smyle05_time.expand_dims(\"init\")\n",
    "# smyle08_anom = smyle08_anom.expand_dims(\"init\"); smyle08_time  = smyle08_time.expand_dims(\"init\")\n",
    "# smyle11_anom = smyle11_anom.expand_dims(\"init\"); smyle11_time  = smyle11_time.expand_dims(\"init\")\n",
    "\n",
    "# smyle = xr.concat([smyle02_anom,smyle05_anom,smyle08_anom,smyle11_anom],'init')\n",
    "# smyle_time = xr.concat([smyle02_time,smyle05_time,smyle08_time,smyle11_time],'init')\n",
    "\n",
    "# smyle['init'] = smyle['init']\n",
    "\n",
    "# # print('converting')\n",
    "# # smyle = 10**(-smyle)\n",
    "\n",
    "# var = 'H+'\n",
    "# smyle.to_netcdf('/glade/scratch/smogen/SMYLE-Extreme/'+var +  '.monthly.' + depth + '.all_init.regrid3.nc')\n",
    "# smyle_time.to_netcdf('/glade/scratch/smogen/SMYLE-Extreme/'+var +  '.monthly.' + depth + '.all_init.time3.nc')\n",
    "\n",
    "# # smyle.isel(M=0,L=0,init=0,Y=20).plot()"
   ]
  },
  {
   "cell_type": "code",
   "execution_count": null,
   "id": "32815cbd-f54f-4ea5-b449-c8b2878a93a0",
   "metadata": {},
   "outputs": [],
   "source": [
    "# open smyle data\n",
    "var = 'H+'\n",
    "smyle_ds = xr.open_dataset('/glade/scratch/smogen/SMYLE-Extreme/'+var +  '.monthly.' + depth + '.all_init.regrid3.nc')['__xarray_dataarray_variable__']\n",
    "smyle_ds_time = xr.open_dataset('/glade/scratch/smogen/SMYLE-Extreme/'+var +  '.monthly.' + depth + '.all_init.time3.nc')['time']\n"
   ]
  },
  {
   "cell_type": "code",
   "execution_count": null,
   "id": "a8b9c333-cbdd-4fdf-b2e7-491a0991b56b",
   "metadata": {},
   "outputs": [],
   "source": [
    "smyle_ds['init'] = smyle['init'].values\n",
    "smyle_ds_time['init'] = smyle_time['init'].values"
   ]
  },
  {
   "cell_type": "code",
   "execution_count": null,
   "id": "ae57b383-0af6-492c-9d25-b42a3a98c014",
   "metadata": {},
   "outputs": [],
   "source": [
    "smyle_ds = smyle_ds.where(np.isnan(mask) == 0, np.NaN)"
   ]
  },
  {
   "cell_type": "code",
   "execution_count": null,
   "id": "c12e801d-a558-4a6a-af6d-ba6d172019d8",
   "metadata": {},
   "outputs": [],
   "source": [
    "smyle_ds = smyle_ds.sel(Y = slice(obs_extremes.time.dt.year[0], obs_extremes.time.dt.year[-1]))"
   ]
  },
  {
   "cell_type": "code",
   "execution_count": null,
   "id": "4216bb4b-1ef2-48b8-ad1e-1575ab5a5b65",
   "metadata": {},
   "outputs": [],
   "source": [
    "smyle_ds.isel(init=0,Y=30,M=0,L=0).plot()"
   ]
  },
  {
   "cell_type": "code",
   "execution_count": null,
   "id": "f9a58880-af2f-4fce-99de-305ed300e006",
   "metadata": {},
   "outputs": [],
   "source": [
    "smyle.isel(init=0,Y=30,M=0,L=0).plot()"
   ]
  },
  {
   "cell_type": "code",
   "execution_count": null,
   "id": "dcbaac37-9902-4a70-8a35-92bd4f27c0b4",
   "metadata": {},
   "outputs": [],
   "source": [
    "smyle_ds_ex = smyle_ds.where(smyle > 0)"
   ]
  },
  {
   "cell_type": "code",
   "execution_count": null,
   "id": "2643a80b-5182-4c06-98eb-c9fe4d073198",
   "metadata": {},
   "outputs": [],
   "source": [
    "smyle_ds_ex.sel(Y=1990).isel(L=0,M=0,init=1).plot()"
   ]
  },
  {
   "cell_type": "code",
   "execution_count": null,
   "id": "c3729f87-db9b-411f-bb66-5fe5613f751d",
   "metadata": {},
   "outputs": [],
   "source": [
    "obs_ds_ex = ds_detr.where(obs_extremes > 0)"
   ]
  },
  {
   "cell_type": "code",
   "execution_count": null,
   "id": "07fc2179-5972-452d-8809-7b0e19aca338",
   "metadata": {},
   "outputs": [],
   "source": [
    "obs_ds_ex.isel(time=101).plot()"
   ]
  },
  {
   "cell_type": "code",
   "execution_count": null,
   "id": "cd4c6830-f933-46b4-895d-91f9ae42e71a",
   "metadata": {},
   "outputs": [],
   "source": [
    "weights = np.cos(np.deg2rad(obs_ds_ex.lat))"
   ]
  },
  {
   "cell_type": "code",
   "execution_count": null,
   "id": "5fbdd04b-f19f-4999-ab91-f09d778dd197",
   "metadata": {},
   "outputs": [],
   "source": [
    "obs_ds_ex_avg = obs_ds_ex.weighted(weights).mean(('lat','lon'))"
   ]
  },
  {
   "cell_type": "code",
   "execution_count": null,
   "id": "c2120311-a768-4723-ba88-95df761850da",
   "metadata": {},
   "outputs": [],
   "source": [
    "smyle_ds_ex_avg = smyle_ds_ex.weighted(weights).mean(('lat','lon'))"
   ]
  },
  {
   "cell_type": "code",
   "execution_count": null,
   "id": "5d9bfc70-af43-4dcd-9c2f-85f97adc67bd",
   "metadata": {},
   "outputs": [],
   "source": [
    "obs_ds_ex_time = obs_ds_ex.mean('time')"
   ]
  },
  {
   "cell_type": "code",
   "execution_count": null,
   "id": "0c6d55f1-dfd9-476f-a82e-3907c4b0d63c",
   "metadata": {},
   "outputs": [],
   "source": [
    "obs_ds_ex.max('time').plot()"
   ]
  },
  {
   "cell_type": "code",
   "execution_count": null,
   "id": "afd587d1-f6fc-4932-aa96-5c73b5f38e51",
   "metadata": {},
   "outputs": [],
   "source": [
    "smyle_ds_ex_time = smyle_ds_ex.mean((\"L\",'M',\"Y\",\"init\"))"
   ]
  },
  {
   "cell_type": "code",
   "execution_count": null,
   "id": "b492dd54-7ec0-489e-8ae6-54bd0756f2db",
   "metadata": {},
   "outputs": [],
   "source": [
    "smyle_ds_ex.isel(init=0,Y=10,M=10,L=1).plot()"
   ]
  },
  {
   "cell_type": "code",
   "execution_count": null,
   "id": "a4dd39e5-1321-4de2-83a8-75a2f9a6af14",
   "metadata": {},
   "outputs": [],
   "source": [
    "# Find the slope and intercept of the best fit line\n",
    "slope, intercept = np.polyfit(np.arange(0,100), np.arange(0,100), 1)\n",
    "\n",
    "# Create a list of values in the best fit line\n",
    "abline_values = [slope * i + intercept for i in np.arange(0,100)]"
   ]
  },
  {
   "cell_type": "code",
   "execution_count": null,
   "id": "d89efd5a-9ad0-4ab6-8a0b-a3c17421d68a",
   "metadata": {},
   "outputs": [],
   "source": [
    "smyle_ds_ex_time.sel(lat=0.5,lon=-130.5)"
   ]
  },
  {
   "cell_type": "code",
   "execution_count": null,
   "id": "e7c97937-e244-4ef2-bd6c-3b5acaaa2004",
   "metadata": {},
   "outputs": [],
   "source": [
    "f,ax = plt.subplots(1,1)\n",
    "plt.grid(zorder=0)\n",
    "plt.scatter(abs(smyle_ds_ex_time.stack(lat_lon=('lat', 'lon'))), abs(obs_ds_ex_time.stack(lat_lon=('lat', 'lon'))),color='grey',s=5,zorder=4)\n",
    "plt.plot(abline_values,abline_values,'--',color='black',linewidth=1,zorder=1)\n",
    "plt.xlim(0,0.5e-9)\n",
    "plt.ylim(0,0.5e-9)\n",
    "plt.xlabel('predicted intensity')\n",
    "plt.ylabel('observed intensity')\n",
    "\n",
    "corr = xr.corr(smyle_ds_ex_time, obs_ds_ex_time)\n",
    "plt.title(var + ': r = ' + str(np.round(corr.values,2)))\n",
    "\n",
    "f.savefig('./figures/' + var + '.intensity.pdf')"
   ]
  },
  {
   "cell_type": "code",
   "execution_count": null,
   "id": "9c11fae7-58d8-4988-93cb-6921865c65b8",
   "metadata": {},
   "outputs": [],
   "source": [
    "obs_ds_ex_time.plot()\n",
    "plt.show()\n",
    "\n",
    "smyle_ds_ex_time.plot()\n",
    "plt.show()"
   ]
  },
  {
   "cell_type": "markdown",
   "id": "a11d1a5d-2339-4638-a04f-d311fabdec07",
   "metadata": {},
   "source": [
    "## Do Forecasts predict OAX before the initial appearance of one?"
   ]
  },
  {
   "cell_type": "code",
   "execution_count": null,
   "id": "62aff7ec-1664-4508-a010-16a616216634",
   "metadata": {},
   "outputs": [],
   "source": [
    "# use SMYLE and observed extremes\n"
   ]
  },
  {
   "cell_type": "markdown",
   "id": "815c85e1-3c4b-48c0-a9c5-4aedcff8ea38",
   "metadata": {
    "tags": []
   },
   "source": [
    "## old stuff"
   ]
  },
  {
   "cell_type": "markdown",
   "id": "34b9b3f2-a3dc-4b71-945f-270f44c00442",
   "metadata": {
    "tags": []
   },
   "source": [
    "### avg. length method 1 - different, going with method 2 (easier)"
   ]
  },
  {
   "cell_type": "code",
   "execution_count": null,
   "id": "d9cfa656-f80f-43c1-85ce-bf5ba8faa90e",
   "metadata": {},
   "outputs": [],
   "source": [
    "# test case \n",
    "tmp = event_boundaries.sel(lat=10.5,lon=-150.5).where(event_boundaries.sel(lat=10.5,lon=-150.5) != 0).dropna('time')\n",
    "\n",
    "time_1 = tmp.where(tmp == 1).dropna('time')\n",
    "time_neg1 = tmp.where(tmp == -1).dropna('time')\n",
    "\n",
    "count = -(time_1.time.values - time_neg1.time.values).astype('timedelta64[M]').astype(int)\n",
    "\n",
    "count.mean()\n",
    "count.sum() / len(time_neg1)\n",
    "\n",
    "count\n",
    "\n",
    "if count[0] < 0:\n",
    "    avg_length = (len(event_boundaries.time) + count.sum()) / len(time_neg1)\n",
    "else: \n",
    "    avg_length = count.sum() / len(time_neg1)"
   ]
  },
  {
   "cell_type": "code",
   "execution_count": null,
   "id": "a333c3f9-17e2-478b-b9a1-68b11d55aac4",
   "metadata": {},
   "outputs": [],
   "source": [
    "len(time_neg1)"
   ]
  },
  {
   "cell_type": "code",
   "execution_count": null,
   "id": "a3fc6ee4-3566-40eb-9393-2df41c2a6c0c",
   "metadata": {},
   "outputs": [],
   "source": [
    "count.sum() / len(count)"
   ]
  },
  {
   "cell_type": "code",
   "execution_count": null,
   "id": "ae1e9b53-f77f-47fe-a80f-0d8297846dd9",
   "metadata": {},
   "outputs": [],
   "source": [
    "len(time_1)"
   ]
  },
  {
   "cell_type": "code",
   "execution_count": null,
   "id": "b6869d91-7292-4d29-b7f8-2318337b8d5f",
   "metadata": {},
   "outputs": [],
   "source": [
    "print(avg_length)"
   ]
  },
  {
   "cell_type": "code",
   "execution_count": null,
   "id": "c1ced1d2-29d2-4df6-b069-ef366bb02733",
   "metadata": {},
   "outputs": [],
   "source": []
  },
  {
   "cell_type": "code",
   "execution_count": null,
   "id": "7a6d31f9-f36f-4a54-9b15-e6556321412d",
   "metadata": {},
   "outputs": [],
   "source": [
    "# compare\n",
    "tst1 = count\n",
    "tst2 = (above_zero.sel(lat=10.5,lon=-150.5).where(above_zero.sel(lat=10.5,lon=-150.5) > 0, drop=True))\n"
   ]
  },
  {
   "cell_type": "code",
   "execution_count": null,
   "id": "0677d24e-4cdb-4b82-b9d9-651863878806",
   "metadata": {},
   "outputs": [],
   "source": [
    "count.sum()"
   ]
  },
  {
   "cell_type": "code",
   "execution_count": null,
   "id": "3410c6ae-baaf-4fc7-98ca-3e8914705b56",
   "metadata": {},
   "outputs": [],
   "source": [
    "tst2.sum()"
   ]
  },
  {
   "cell_type": "code",
   "execution_count": null,
   "id": "9b482fb1-4488-4049-aec0-ab0e54513341",
   "metadata": {},
   "outputs": [],
   "source": [
    "# len(event_boundaries.time) + count.sum()"
   ]
  },
  {
   "cell_type": "code",
   "execution_count": null,
   "id": "78e1d7bf-8389-4ceb-8679-8f4df4a27f55",
   "metadata": {},
   "outputs": [],
   "source": [
    "tst2.sum()"
   ]
  },
  {
   "cell_type": "markdown",
   "id": "9fc76591-daf8-41d3-b040-b86ea2fd4780",
   "metadata": {
    "tags": []
   },
   "source": [
    "### avg length method 2 - use this!"
   ]
  },
  {
   "cell_type": "code",
   "execution_count": null,
   "id": "85c4846a-af1b-4cd7-8ae0-5119db5decd4",
   "metadata": {},
   "outputs": [],
   "source": [
    "above_zero.sel(lat=0.5,lon=-150.5).where(above_zero.sel(lat=0.5,lon=-150.5) > 0, drop=True)"
   ]
  },
  {
   "cell_type": "code",
   "execution_count": null,
   "id": "36ded729-fd9d-47d6-abd0-48534d97dcac",
   "metadata": {},
   "outputs": [],
   "source": [
    "above_zero.sel(lat=10.5,lon=-150.5).where(above_zero.sel(lat=10.5,lon=-150.5) > 0, drop=True).sum()"
   ]
  },
  {
   "cell_type": "code",
   "execution_count": null,
   "id": "b4bdd113-988a-4a32-9caa-089fe6686ffe",
   "metadata": {},
   "outputs": [],
   "source": [
    "len(above_zero.sel(lat=10.5,lon=-150.5).where(above_zero.sel(lat=10.5,lon=-150.5) > 0, drop=True))"
   ]
  },
  {
   "cell_type": "code",
   "execution_count": null,
   "id": "ce475335-cab2-4342-8d06-e16018c55f42",
   "metadata": {},
   "outputs": [],
   "source": [
    "len(above_zero.sel(lat=10.5,lon=-150.5).where(above_zero.sel(lat=10.5,lon=-150.5) > 0, drop=True)) / distinct_event_count.sel(lat=10.5,lon=-150.5)\n"
   ]
  },
  {
   "cell_type": "code",
   "execution_count": null,
   "id": "bc75c23c-a1f8-4b9d-80a9-9838f6d0856e",
   "metadata": {},
   "outputs": [],
   "source": [
    "(above_zero.sel(lat=10.5,lon=-150.5).where(above_zero.sel(lat=10.5,lon=-150.5) > 0, drop=True)).sum() / distinct_event_count.sel(lat=10.5,lon=-150.5)\n"
   ]
  },
  {
   "cell_type": "code",
   "execution_count": null,
   "id": "33165bc1-c1fc-4cef-8b66-82b529b6631e",
   "metadata": {},
   "outputs": [],
   "source": [
    "avg_length2 = (above_zero.sum('time') / distinct_event_count).sel(lat=0.5,lon=-150.5)"
   ]
  },
  {
   "cell_type": "code",
   "execution_count": null,
   "id": "41036a73-c8dd-4f7c-87cd-5fa32e9028f7",
   "metadata": {},
   "outputs": [],
   "source": []
  }
 ],
 "metadata": {
  "kernelspec": {
   "display_name": "Python [conda env:.conda-smyle-analysis-2]",
   "language": "python",
   "name": "conda-env-.conda-smyle-analysis-2-py"
  },
  "language_info": {
   "codemirror_mode": {
    "name": "ipython",
    "version": 3
   },
   "file_extension": ".py",
   "mimetype": "text/x-python",
   "name": "python",
   "nbconvert_exporter": "python",
   "pygments_lexer": "ipython3",
   "version": "3.8.0"
  }
 },
 "nbformat": 4,
 "nbformat_minor": 5
}
