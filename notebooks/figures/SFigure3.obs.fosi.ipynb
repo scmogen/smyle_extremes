{
 "cells": [
  {
   "cell_type": "markdown",
   "id": "de7b8e1f-9458-4201-8c1d-cf4f7bf42c51",
   "metadata": {},
   "source": [
    "# Figure 2: Do similar OAX and MHW appear in obs and FOSI?"
   ]
  },
  {
   "cell_type": "code",
   "execution_count": null,
   "id": "68e03334-025d-489a-99e8-4a8d0f494e8a",
   "metadata": {},
   "outputs": [],
   "source": [
    "# general use packages\n",
    "%matplotlib inline\n",
    "import matplotlib.pyplot as plt\n",
    "import xarray as xr\n",
    "import pandas as pd\n",
    "import numpy as np\n",
    "\n",
    "import regionmask\n",
    "import geopandas as gp\n",
    "import cartopy.crs as ccrs\n",
    "import cartopy.feature as cfeature"
   ]
  },
  {
   "cell_type": "markdown",
   "id": "631db03a-05fc-473e-a698-3d5e92a1c812",
   "metadata": {
    "tags": []
   },
   "source": [
    "## not-rolling (calculate here)"
   ]
  },
  {
   "cell_type": "code",
   "execution_count": null,
   "id": "60cfc8a0-9968-4b0f-ab4c-3939ea182ff5",
   "metadata": {},
   "outputs": [],
   "source": [
    "obs = xr.open_dataset('/glade/work/smogen/SMYLE-extremes/OceanSODA-ETHZ_GRaCER_v2021a_1982-2020.nc')"
   ]
  },
  {
   "cell_type": "code",
   "execution_count": null,
   "id": "7d5b930a-7387-49af-8cb8-e6d9acd2e7e0",
   "metadata": {},
   "outputs": [],
   "source": [
    "fosi_omega = xr.open_dataset('/glade/work/smogen/SMYLE-extremes/FOSI/omega_arag.monthly.surface.regrid.nc')['omega_arag']\n",
    "fosi_temp = xr.open_dataset('/glade/work/smogen/SMYLE-extremes/FOSI/TEMP.monthly.surface.regrid.nc')['TEMP']\n",
    "fosi_h = xr.open_dataset('/glade/work/smogen/SMYLE-extremes/FOSI/pH_3D.monthly.surface.regrid.nc')['pH_3D']; fosi_h = 10**(-fosi_h)"
   ]
  },
  {
   "cell_type": "code",
   "execution_count": null,
   "id": "e097e1bf-ffbe-4a05-914d-114770181a8b",
   "metadata": {},
   "outputs": [],
   "source": [
    "fosi_omega['time'] = pd.date_range(\"1958-01\", \"2020-12\", freq=\"MS\")\n",
    "fosi_temp['time'] = pd.date_range(\"1958-01\", \"2020-12\", freq=\"MS\")\n",
    "fosi_h['time'] = pd.date_range(\"1958-01\", \"2020-12\", freq=\"MS\")"
   ]
  },
  {
   "cell_type": "code",
   "execution_count": null,
   "id": "673fc307-396f-4c27-b261-f0ab51f03c28",
   "metadata": {},
   "outputs": [],
   "source": [
    "obs_omega = obs.omega_ar\n",
    "obs_temp = obs.temperature\n",
    "obs_h = 10**(-obs.ph_total)"
   ]
  },
  {
   "cell_type": "code",
   "execution_count": null,
   "id": "12d3ed71-178c-4c8a-be3a-aeeb773c9df4",
   "metadata": {},
   "outputs": [],
   "source": [
    "obs_omega, fosi_omega = xr.align(obs_omega, fosi_omega)\n",
    "obs_temp, fosi_temp = xr.align(obs_temp, fosi_temp)\n",
    "obs_h, fosi_h = xr.align(obs_h, fosi_h)"
   ]
  },
  {
   "cell_type": "code",
   "execution_count": null,
   "id": "868b4b29-a0bc-45c7-9971-7fb364a0af5d",
   "metadata": {},
   "outputs": [],
   "source": [
    "mask = np.isnan(obs_omega.isel(time=0))#obs_omega.isel(time=0).where(obs_omega.isel(time=0)==np.NaN,obs_omega.isel(time=0))\n",
    "mask = mask.drop('time')"
   ]
  },
  {
   "cell_type": "code",
   "execution_count": null,
   "id": "eaee645d-437b-4ac1-a078-eaf538a7d3f1",
   "metadata": {},
   "outputs": [],
   "source": [
    "fosi_omega = fosi_omega.where(mask == 0, np.NaN)\n",
    "fosi_temp = fosi_temp.where(mask == 0, np.NaN)\n",
    "fosi_h = fosi_h.where(mask == 0, np.NaN)"
   ]
  },
  {
   "cell_type": "markdown",
   "id": "1c91dde4-45dc-42cc-a7ce-ae83c362b440",
   "metadata": {},
   "source": [
    "### remove climatology and trend"
   ]
  },
  {
   "cell_type": "code",
   "execution_count": null,
   "id": "a872f79d-ceca-4f80-8cf5-01473878b02e",
   "metadata": {},
   "outputs": [],
   "source": [
    "def detrend_linear(dat, dim):\n",
    "    \"\"\" linear detrend dat along the axis dim \"\"\"\n",
    "    params = dat.polyfit(dim=dim, deg=1)\n",
    "    fit = xr.polyval(dat[dim], params.polyfit_coefficients)\n",
    "    dat = dat-fit\n",
    "    return dat"
   ]
  },
  {
   "cell_type": "code",
   "execution_count": null,
   "id": "4d8045e3-2954-4ef8-8623-82ebc8d4738e",
   "metadata": {
    "tags": []
   },
   "outputs": [],
   "source": [
    "# climatology\n",
    "fosi_omega = fosi_omega.groupby('time.month') - fosi_omega.groupby('time.month').mean()\n",
    "fosi_temp = fosi_temp.groupby('time.month') - fosi_temp.groupby('time.month').mean()\n",
    "fosi_h = fosi_h.groupby('time.month') - fosi_h.groupby('time.month').mean()\n",
    "\n",
    "obs_omega = obs_omega.groupby('time.month') - obs_omega.groupby('time.month').mean()\n",
    "obs_temp = obs_temp.groupby('time.month') - obs_temp.groupby('time.month').mean()\n",
    "obs_h = obs_h.groupby('time.month') - obs_h.groupby('time.month').mean()"
   ]
  },
  {
   "cell_type": "code",
   "execution_count": null,
   "id": "2401f582-cd21-448a-beab-8d4672f552ee",
   "metadata": {},
   "outputs": [],
   "source": [
    "# trend\n",
    "fosi_omega = detrend_linear(fosi_omega,'time')\n",
    "fosi_temp = detrend_linear(fosi_temp,'time')\n",
    "fosi_h = detrend_linear(fosi_h,'time')\n",
    "\n",
    "obs_omega = detrend_linear(obs_omega,'time')\n",
    "obs_temp = detrend_linear(obs_temp,'time')\n",
    "obs_h = detrend_linear(obs_h,'time')"
   ]
  },
  {
   "cell_type": "markdown",
   "id": "658b5f64-b195-408c-bb14-9c2957829962",
   "metadata": {},
   "source": [
    "## Load pre-Defined Extremes"
   ]
  },
  {
   "cell_type": "code",
   "execution_count": null,
   "id": "9ae1b584-ce2e-452a-bc16-0ad2b17d49d7",
   "metadata": {},
   "outputs": [],
   "source": [
    "obs_temp_extreme = xr.open_dataset('/glade/work/smogen/SMYLE-extremes/TEMP.obs.rolling.thold.Rolling.nc')['threshold']\n",
    "obs_omega_extreme = xr.open_dataset('/glade/work/smogen/SMYLE-extremes/omega_arag.obs.rolling.thold.Rolling.nc')['threshold']\n",
    "obs_H_extreme = xr.open_dataset('/glade/work/smogen/SMYLE-extremes/H+.obs.rolling.thold.Rolling.nc')['threshold']\n"
   ]
  },
  {
   "cell_type": "code",
   "execution_count": null,
   "id": "d53a70f0-f275-44f1-8a55-3bbd8e470d81",
   "metadata": {},
   "outputs": [],
   "source": [
    "fosi_temp_extreme = xr.open_dataset('/glade/work/smogen/SMYLE-extremes/TEMP.fosi.rolling.thold.Rolling.nc')['threshold']\n",
    "fosi_omega_extreme = xr.open_dataset('/glade/work/smogen/SMYLE-extremes/omega_arag.fosi.rolling.thold.Rolling.nc')['threshold']\n",
    "fosi_H_extreme = xr.open_dataset('/glade/work/smogen/SMYLE-extremes/H+.fosi.rolling.thold.Rolling.nc')['threshold']\n"
   ]
  },
  {
   "cell_type": "code",
   "execution_count": null,
   "id": "34e86a73-0f0e-452b-a111-87027ea301b9",
   "metadata": {},
   "outputs": [],
   "source": [
    "ds = xr.open_dataset('/glade/work/smogen/SMYLE-extremes/OceanSODA-ETHZ_GRaCER_v2021a_1982-2020.nc')['temperature'].isel(time=0).drop('time')\n",
    "mask = ds.where(ds.lat < 65)"
   ]
  },
  {
   "cell_type": "code",
   "execution_count": null,
   "id": "69e10289-a05e-48d7-9633-2191b68dd8cc",
   "metadata": {},
   "outputs": [],
   "source": [
    "fosi_temp_extreme = fosi_temp_extreme.where(np.isnan(mask) == 0, np.NaN)\n",
    "fosi_omega_extreme = fosi_omega_extreme.where(np.isnan(mask) == 0, np.NaN)\n",
    "fosi_H_extreme = fosi_H_extreme.where(np.isnan(mask) == 0, np.NaN)"
   ]
  },
  {
   "cell_type": "markdown",
   "id": "5e8ab89b-f90d-48e7-8b8a-cef6e33d62d7",
   "metadata": {},
   "source": [
    "## Plot"
   ]
  },
  {
   "cell_type": "code",
   "execution_count": null,
   "id": "d42fe9a8-869f-4d19-a57d-9178e5289ed4",
   "metadata": {},
   "outputs": [],
   "source": [
    "# plot them together!\n",
    "f, ax = plt.subplots(3,1,figsize=(6,8),subplot_kw=dict(projection=ccrs.PlateCarree(central_longitude=180)))\n",
    "\n",
    "xr.corr(obs_temp,fosi_temp,dim='time').plot(ax=ax[0],levels=np.arange(-1,1.1,0.1),extend='neither',transform = ccrs.PlateCarree(),cmap='coolwarm',add_colorbar=False)\n",
    "ax[0].add_feature(cfeature.LAND, color='k', zorder=3)\n",
    "ax[0].set_title('SST',fontsize=15)\n",
    "\n",
    "xr.corr(obs_omega,fosi_omega,dim='time').plot(ax=ax[1],levels=np.arange(-1,1.1,0.1),extend='neither',transform = ccrs.PlateCarree(),cmap='coolwarm',add_colorbar=False)\n",
    "ax[1].add_feature(cfeature.LAND, color='k', zorder=3)\n",
    "ax[1].set_title('$\\Omega_{arag}$',fontsize=15)\n",
    "\n",
    "im = xr.corr(obs_h,fosi_h,dim='time').plot(ax=ax[2],levels=np.arange(-1,1.1,0.1),extend='neither',transform = ccrs.PlateCarree(),cmap='coolwarm',add_colorbar=False)\n",
    "ax[2].add_feature(cfeature.LAND, color='k', zorder=3)\n",
    "ax[2].set_title('H$^+$',fontsize=15)\n",
    "\n",
    "# plt.tight_layout()\n",
    "\n",
    "f.subplots_adjust(right=0.8)\n",
    "cbar_ax = f.add_axes([0.83, 0.2, 0.03, 0.60])\n",
    "cbar = f.colorbar(im, cax=cbar_ax, ticks=[-1,-0.5,0,0.5,1])\n",
    "cbar.ax.tick_params(labelsize=8)\n",
    "cbar.set_label('Correlation Coefficient', rotation=270,fontsize=14)\n",
    "\n",
    "f.savefig('./figures/Review.Obs.FOSI.Correlation.Variability.pdf')"
   ]
  },
  {
   "cell_type": "code",
   "execution_count": null,
   "id": "2405c9b7-433c-4fad-bf3c-d8fceb68619b",
   "metadata": {
    "tags": []
   },
   "outputs": [],
   "source": [
    "# plot them together!\n",
    "f, ax = plt.subplots(3,1,figsize=(6,8),subplot_kw=dict(projection=ccrs.PlateCarree(central_longitude=180)))\n",
    "\n",
    "xr.corr(obs_temp_extreme,fosi_temp_extreme,dim='time').plot(ax=ax[0],levels=np.arange(-1,1.1,0.1),extend='neither',transform = ccrs.PlateCarree(),cmap='coolwarm',add_colorbar=False)\n",
    "ax[0].add_feature(cfeature.LAND, color='k', zorder=3)\n",
    "ax[0].set_title('MHW',fontsize=15)\n",
    "\n",
    "xr.corr(obs_omega_extreme,fosi_omega_extreme,dim='time').plot(ax=ax[1],levels=np.arange(-1,1.1,0.1),extend='neither',transform = ccrs.PlateCarree(),cmap='coolwarm',add_colorbar=False)\n",
    "ax[1].add_feature(cfeature.LAND, color='k', zorder=3)\n",
    "ax[1].set_title('OAX ($\\Omega_{arag}$)',fontsize=15)\n",
    "\n",
    "im = xr.corr(obs_H_extreme,fosi_H_extreme,dim='time').plot(ax=ax[2],levels=np.arange(-1,1.1,0.1),extend='neither',transform = ccrs.PlateCarree(),cmap='coolwarm',add_colorbar=False)\n",
    "ax[2].add_feature(cfeature.LAND, color='k', zorder=3)\n",
    "ax[2].set_title('OAX (H$^+$)',fontsize=15)\n",
    "\n",
    "# plt.tight_layout()\n",
    "\n",
    "f.subplots_adjust(right=0.8)\n",
    "cbar_ax = f.add_axes([0.83, 0.2, 0.03, 0.60])\n",
    "cbar = f.colorbar(im, cax=cbar_ax, ticks=[-1,-0.5,0,0.5,1])\n",
    "cbar.ax.tick_params(labelsize=8)\n",
    "cbar.set_label('Correlation Coefficient', rotation=270,fontsize=14)\n",
    "\n",
    "f.savefig('./figures/Figure2.Obs.FOSI.Correlation.pdf')"
   ]
  },
  {
   "cell_type": "code",
   "execution_count": null,
   "id": "727aaeee-46fb-4354-94fd-a400483b07b6",
   "metadata": {},
   "outputs": [],
   "source": [
    "# MHW and OA (omega)\n",
    "\n",
    "obs_mhw_omega = (obs_temp_extreme.astype('int') + obs_omega_extreme.astype('int'))\n",
    "obs_mhw_omega = ~np.isnan(obs_mhw_omega.where(obs_mhw_omega == 2))\n",
    "\n",
    "fosi_mhw_omega = (fosi_temp_extreme.astype('int') + fosi_omega_extreme.astype('int'))\n",
    "fosi_mhw_omega = ~np.isnan(fosi_mhw_omega.where(fosi_mhw_omega == 2))"
   ]
  },
  {
   "cell_type": "code",
   "execution_count": null,
   "id": "b2d01ac9-7d8d-40aa-bb71-4699036bb222",
   "metadata": {},
   "outputs": [],
   "source": [
    "# MHW and OA (H+)\n",
    "\n",
    "obs_mhw_h = (obs_temp_extreme.astype('int') + obs_h_extreme.astype('int'))\n",
    "obs_mhw_h = ~np.isnan(obs_mhw_h.where(obs_mhw_h == 2))\n",
    "\n",
    "fosi_mhw_h = (fosi_temp_extreme.astype('int') + fosi_h_extreme.astype('int'))\n",
    "fosi_mhw_h = ~np.isnan(fosi_mhw_h.where(fosi_mhw_h == 2))"
   ]
  },
  {
   "cell_type": "code",
   "execution_count": null,
   "id": "beb7ac41-6fef-48e5-8591-c6af3102eec5",
   "metadata": {},
   "outputs": [],
   "source": [
    "# OA compound\n",
    "\n",
    "obs_h_omega = (obs_omega_extreme.astype('int') + obs_h_extreme.astype('int'))\n",
    "obs_h_omega = ~np.isnan(obs_h_omega.where(obs_h_omega == 2))\n",
    "\n",
    "fosi_h_omega = (fosi_omega_extreme.astype('int') + fosi_h_extreme.astype('int'))\n",
    "fosi_h_omega = ~np.isnan(fosi_h_omega.where(fosi_h_omega == 2))"
   ]
  },
  {
   "cell_type": "code",
   "execution_count": null,
   "id": "14dccd1f-877f-4c1b-a8cf-74ac60f2dbd3",
   "metadata": {},
   "outputs": [],
   "source": [
    "# plot them together!\n",
    "f, ax = plt.subplots(3,1,figsize=(6,8),subplot_kw=dict(projection=ccrs.PlateCarree(central_longitude=180)))\n",
    "\n",
    "xr.corr(obs_mhw_omega,fosi_mhw_omega,dim='time').plot(ax=ax[0],levels=np.arange(-1,1.1,0.1),extend='neither',transform = ccrs.PlateCarree(),cmap='coolwarm')\n",
    "ax[0].add_feature(cfeature.LAND, color='k', zorder=3)\n",
    "ax[0].set_title('Correlation of MHW + OAX ($\\Omega_{arag}$): FOSI and Obs.',fontsize=15)\n",
    "\n",
    "xr.corr(obs_mhw_h,fosi_mhw_h,dim='time').plot(ax=ax[1],levels=np.arange(-1,1.1,0.1),extend='neither',transform = ccrs.PlateCarree(),cmap='coolwarm')\n",
    "ax[1].add_feature(cfeature.LAND, color='k', zorder=3)\n",
    "ax[1].set_title('Correlation of MHW and OAX (H$^+$): FOSI and Obs.',fontsize=15)\n",
    "\n",
    "xr.corr(obs_h_omega,fosi_h_omega,dim='time').plot(ax=ax[2],levels=np.arange(-1,1.1,0.1),extend='neither',transform = ccrs.PlateCarree(),cmap='coolwarm')\n",
    "ax[2].add_feature(cfeature.LAND, color='k', zorder=3)\n",
    "ax[2].set_title('Correlation of OAX (H$^+$) and OAX ($\\Omega_{arag}$): FOSI and Obs.',fontsize=15)\n",
    "\n",
    "plt.tight_layout()"
   ]
  },
  {
   "cell_type": "code",
   "execution_count": null,
   "id": "d29e09ee-1023-472c-8a91-a81e3018aebe",
   "metadata": {},
   "outputs": [],
   "source": [
    "obs_mhw_h.isel(time=100).plot()"
   ]
  },
  {
   "cell_type": "code",
   "execution_count": null,
   "id": "45c38200-a4f1-42f4-9665-2f78872e1d53",
   "metadata": {},
   "outputs": [],
   "source": [
    "fosi_mhw_h.sel(lat=-0.5,lon=-140.5).plot()"
   ]
  },
  {
   "cell_type": "code",
   "execution_count": null,
   "id": "4ceb793d-a9c5-4254-9ae3-9c9ce482fe02",
   "metadata": {},
   "outputs": [],
   "source": [
    "var = 'TEMP'\n",
    "var2 = 'TEMP'\n",
    "depth = 'surface'\n",
    "# init = '05'\n",
    "\n",
    "smyle02 = xr.open_dataset('/glade/work/smogen/SMYLE-extremes/thresholds/'+var +  '.monthly.' + depth + '.02.binary.Rolling.full.2.nc')['binary']\n",
    "smyle02_time = xr.open_dataset('/glade/scratch/smogen/SMYLE-Extreme/'+var2+'.monthly.02.time.nc')#.sel(L=slice(1,12))\n",
    "\n",
    "smyle05 = xr.open_dataset('/glade/work/smogen/SMYLE-extremes/thresholds/'+var +  '.monthly.' + depth + '.05.binary.Rolling.full.2.nc')['binary']\n",
    "smyle05_time = xr.open_dataset('/glade/scratch/smogen/SMYLE-Extreme/'+var2+'.monthly.05.time.nc')#.sel(L=slice(1,12))\n",
    "\n",
    "smyle08 = xr.open_dataset('/glade/work/smogen/SMYLE-extremes/thresholds/'+var +  '.monthly.' + depth + '.08.binary.Rolling.full.2.nc')['binary']\n",
    "smyle08_time = xr.open_dataset('/glade/scratch/smogen/SMYLE-Extreme/'+var2+'.monthly.08.time.nc')#.sel(L=slice(1,12))\n",
    "\n",
    "smyle11 = xr.open_dataset('/glade/work/smogen/SMYLE-extremes/thresholds/'+var +  '.monthly.' + depth + '.11.binary.Rolling.full.2.nc')['binary']\n",
    "smyle11_time = xr.open_dataset('/glade/scratch/smogen/SMYLE-Extreme/'+var2+'.monthly.11.time.nc')#.sel(L=slice(1,12))\n",
    "\n",
    "smyle02 = smyle02.expand_dims(\"init\"); smyle02_time  = smyle02_time.expand_dims(\"init\")\n",
    "smyle05 = smyle05.expand_dims(\"init\"); smyle05_time  = smyle05_time.expand_dims(\"init\")\n",
    "smyle08 = smyle08.expand_dims(\"init\"); smyle08_time  = smyle08_time.expand_dims(\"init\")\n",
    "smyle11 = smyle11.expand_dims(\"init\"); smyle11_time  = smyle11_time.expand_dims(\"init\")\n",
    "\n",
    "smyle02['init'] = ['02']; smyle02_time['init'] = ['02']\n",
    "smyle05['init'] = ['05']; smyle05_time['init'] = ['05']\n",
    "smyle08['init'] = ['08']; smyle08_time['init'] = ['08']\n",
    "smyle11['init'] = ['11']; smyle11_time['init'] = ['11']\n",
    "\n",
    "smyle = xr.concat([smyle02,smyle05,smyle08,smyle11],'init')\n",
    "smyle_time = xr.concat([smyle02_time,smyle05_time,smyle08_time,smyle11_time],'init')"
   ]
  },
  {
   "cell_type": "code",
   "execution_count": null,
   "id": "f3bdbc64-65e6-4302-9ea8-0cb857dbca6d",
   "metadata": {},
   "outputs": [],
   "source": [
    "smyle"
   ]
  },
  {
   "cell_type": "code",
   "execution_count": null,
   "id": "233ef516-1d02-4ad8-b866-6b54db8e0941",
   "metadata": {},
   "outputs": [],
   "source": []
  }
 ],
 "metadata": {
  "kernelspec": {
   "display_name": "Python [conda env:.conda-smyle-analysis-2]",
   "language": "python",
   "name": "conda-env-.conda-smyle-analysis-2-py"
  },
  "language_info": {
   "codemirror_mode": {
    "name": "ipython",
    "version": 3
   },
   "file_extension": ".py",
   "mimetype": "text/x-python",
   "name": "python",
   "nbconvert_exporter": "python",
   "pygments_lexer": "ipython3",
   "version": "3.8.0"
  }
 },
 "nbformat": 4,
 "nbformat_minor": 5
}
